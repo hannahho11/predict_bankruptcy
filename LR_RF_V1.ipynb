{
 "cells": [
  {
   "cell_type": "code",
   "execution_count": 1,
   "metadata": {},
   "outputs": [],
   "source": [
    "import pandas as pd\n",
    "import numpy as np\n",
    "from sklearn.metrics import accuracy_score\n",
    "\n",
    "import pandas as pd\n",
    "from sklearn.model_selection import train_test_split\n",
    "from sklearn.metrics import roc_curve, roc_auc_score, f1_score\n",
    "from sklearn.ensemble import RandomForestClassifier\n",
    "from sklearn.ensemble import RandomForestRegressor\n",
    "from sklearn.linear_model import LogisticRegression, LinearRegression, Lasso\n",
    "from sklearn.model_selection import GridSearchCV\n",
    "\n",
    "import numpy as np\n",
    "import matplotlib.pyplot as plt\n",
    "from sklearn.metrics import f1_score\n",
    "from sklearn.metrics import roc_auc_score\n",
    "from sklearn.metrics import classification_report\n",
    "from pandas import Series, DataFrame\n",
    "from sklearn.metrics import confusion_matrix\n",
    "from sklearn.metrics import mean_squared_error\n",
    "from sklearn.metrics import f1_score,recall_score\n",
    "from sklearn.metrics import roc_curve\n",
    "from sklearn.metrics import auc\n",
    "from sklearn.metrics import mean_squared_error\n",
    "import seaborn as sns"
   ]
  },
  {
   "cell_type": "code",
   "execution_count": 2,
   "metadata": {},
   "outputs": [
    {
     "name": "stderr",
     "output_type": "stream",
     "text": [
      "C:\\Users\\Hannah\\Anaconda3\\lib\\site-packages\\IPython\\core\\interactiveshell.py:3058: DtypeWarning: Columns (23,33,37,955,956,957,962,976,977) have mixed types. Specify dtype option on import or set low_memory=False.\n",
      "  interactivity=interactivity, compiler=compiler, result=result)\n"
     ]
    }
   ],
   "source": [
    "# CSV of publically traded healthcare companies as classified by GIC subindustry codes\n",
    "df = pd.read_csv('healthcare_fundamentals_v3.csv') #update w/ latest version\n",
    "\n",
    "#To-DO:\n",
    "#normalize\n",
    "#impute missing values?\n",
    "#add H-measure\n",
    "#customize loss matrix for confusion matrix\n",
    "#rebalance bt weight the loss of each training example based on the proportion of its label"
   ]
  },
  {
   "cell_type": "code",
   "execution_count": 3,
   "metadata": {},
   "outputs": [
    {
     "data": {
      "text/plain": [
       "0         319126.0\n",
       "1         319126.0\n",
       "2         319126.0\n",
       "3         319126.0\n",
       "4         319126.0\n",
       "           ...    \n",
       "14060    1567529.0\n",
       "14061    1138776.0\n",
       "14062    1138776.0\n",
       "14063    1553846.0\n",
       "14064    1553846.0\n",
       "Name: cik, Length: 14065, dtype: float64"
      ]
     },
     "execution_count": 3,
     "metadata": {},
     "output_type": "execute_result"
    }
   ],
   "source": [
    "#list(df.columns) #cusip, gvkey, lpermno, sic\n",
    "df['cik']"
   ]
  },
  {
   "cell_type": "code",
   "execution_count": 4,
   "metadata": {},
   "outputs": [],
   "source": [
    "# Get CIK list from healthcare_fundamentals file\n",
    "cik_list = str(list(df['cik'])).strip('\\'').strip('[').strip(']').split(', ')"
   ]
  },
  {
   "cell_type": "code",
   "execution_count": 5,
   "metadata": {},
   "outputs": [],
   "source": [
    "# Write to txt file to look up relevant companies in Audit Analytics database\n",
    "file = open('healthcare_cik.txt','w')\n",
    "for i in df['cik']:\n",
    "    file.write(str(i))\n",
    "    file.write('\\n')\n",
    "file.close()"
   ]
  },
  {
   "cell_type": "code",
   "execution_count": 6,
   "metadata": {},
   "outputs": [
    {
     "data": {
      "text/plain": [
       "Index(['COMPANY_FKEY', 'BANK_KEY', 'SUBSID_NAME', 'BANKRUPTCY_TYPE',\n",
       "       'LAW_COURT_FKEY', 'COURT_TYPE_CODE', 'COURT_NAME', 'COURT_S_NAME',\n",
       "       'COURT_LOC_STREET', 'COURT_LOC_CITY',\n",
       "       ...\n",
       "       'HIWATER_INCMST_REVFY', 'HIWATER_INCMST_NETINC_QTR_DATE',\n",
       "       'HIWATER_INCMST_NETINC_QTR', 'HIWATER_INCMST_NETINC_TTM_DATE',\n",
       "       'HIWATER_INCMST_NETINC_TTM', 'HIWATER_INCMST_NETINC_FY_DATE',\n",
       "       'HIWATER_INCMST_NETINC_FY', 'NAME_CHANGE_DATE1', 'NAME_CHANGE_DATE2',\n",
       "       'NAME_CHANGE_DATE3'],\n",
       "      dtype='object', length=464)"
      ]
     },
     "execution_count": 6,
     "metadata": {},
     "output_type": "execute_result"
    }
   ],
   "source": [
    "# Bankrupt healthcare companies\n",
    "# TO-DO: filter for public companies\n",
    "df_bankrupt = pd.read_csv('healthcare_bankrupt_audit_analytics_v2.csv')\n",
    "len(df_bankrupt)\n",
    "df_bankrupt.columns"
   ]
  },
  {
   "cell_type": "code",
   "execution_count": 7,
   "metadata": {},
   "outputs": [
    {
     "data": {
      "text/plain": [
       "125"
      ]
     },
     "execution_count": 7,
     "metadata": {},
     "output_type": "execute_result"
    }
   ],
   "source": [
    "df_bankrupt_ch_11 = df_bankrupt[df_bankrupt['BANKRUPTCY_TYPE']==11]\n",
    "len(df_bankrupt_ch_11)"
   ]
  },
  {
   "cell_type": "code",
   "execution_count": 8,
   "metadata": {},
   "outputs": [
    {
     "data": {
      "text/plain": [
       "0    319126.0\n",
       "1    319126.0\n",
       "2    319126.0\n",
       "3    319126.0\n",
       "4    319126.0\n",
       "Name: cik, dtype: float64"
      ]
     },
     "execution_count": 8,
     "metadata": {},
     "output_type": "execute_result"
    }
   ],
   "source": [
    "relevant_columns = df_bankrupt[['COMPANY_FKEY','FILE_DATE']]\n",
    "#list(df_bankrupt.columns)\n",
    "df['cik'][:5]"
   ]
  },
  {
   "cell_type": "code",
   "execution_count": 9,
   "metadata": {},
   "outputs": [
    {
     "data": {
      "text/plain": [
       "0     2034\n",
       "1    19411\n",
       "2    57055\n",
       "3    64892\n",
       "4    69623\n",
       "Name: COMPANY_FKEY, dtype: int64"
      ]
     },
     "execution_count": 9,
     "metadata": {},
     "output_type": "execute_result"
    }
   ],
   "source": [
    "# COMPANY_FKEY is CIK\n",
    "df_bankrupt['COMPANY_FKEY'][:5]"
   ]
  },
  {
   "cell_type": "code",
   "execution_count": 10,
   "metadata": {},
   "outputs": [
    {
     "data": {
      "text/plain": [
       "182"
      ]
     },
     "execution_count": 10,
     "metadata": {},
     "output_type": "execute_result"
    }
   ],
   "source": [
    "df_bankrupt['COMPANY_FKEY'].nunique()"
   ]
  },
  {
   "cell_type": "code",
   "execution_count": 11,
   "metadata": {},
   "outputs": [],
   "source": [
    "#filter for 2000-2010\n",
    "mask = (pd.to_datetime(df_bankrupt['BANK_BEGIN_DATE']).dt.year >1999) &  (pd.to_datetime(df_bankrupt['BANK_BEGIN_DATE']).dt.year < 2011)"
   ]
  },
  {
   "cell_type": "code",
   "execution_count": 12,
   "metadata": {},
   "outputs": [],
   "source": [
    "df_bankrupt_2000 = df_bankrupt[mask]"
   ]
  },
  {
   "cell_type": "code",
   "execution_count": 51,
   "metadata": {},
   "outputs": [
    {
     "data": {
      "text/html": [
       "<div>\n",
       "<style scoped>\n",
       "    .dataframe tbody tr th:only-of-type {\n",
       "        vertical-align: middle;\n",
       "    }\n",
       "\n",
       "    .dataframe tbody tr th {\n",
       "        vertical-align: top;\n",
       "    }\n",
       "\n",
       "    .dataframe thead th {\n",
       "        text-align: right;\n",
       "    }\n",
       "</style>\n",
       "<table border=\"1\" class=\"dataframe\">\n",
       "  <thead>\n",
       "    <tr style=\"text-align: right;\">\n",
       "      <th></th>\n",
       "      <th>COMPANY_FKEY</th>\n",
       "      <th>BANK_KEY</th>\n",
       "      <th>SUBSID_NAME</th>\n",
       "      <th>BANKRUPTCY_TYPE</th>\n",
       "      <th>LAW_COURT_FKEY</th>\n",
       "      <th>COURT_TYPE_CODE</th>\n",
       "      <th>COURT_NAME</th>\n",
       "      <th>COURT_S_NAME</th>\n",
       "      <th>COURT_LOC_STREET</th>\n",
       "      <th>COURT_LOC_CITY</th>\n",
       "      <th>...</th>\n",
       "      <th>HIWATER_INCMST_REVFY</th>\n",
       "      <th>HIWATER_INCMST_NETINC_QTR_DATE</th>\n",
       "      <th>HIWATER_INCMST_NETINC_QTR</th>\n",
       "      <th>HIWATER_INCMST_NETINC_TTM_DATE</th>\n",
       "      <th>HIWATER_INCMST_NETINC_TTM</th>\n",
       "      <th>HIWATER_INCMST_NETINC_FY_DATE</th>\n",
       "      <th>HIWATER_INCMST_NETINC_FY</th>\n",
       "      <th>NAME_CHANGE_DATE1</th>\n",
       "      <th>NAME_CHANGE_DATE2</th>\n",
       "      <th>NAME_CHANGE_DATE3</th>\n",
       "    </tr>\n",
       "  </thead>\n",
       "  <tbody>\n",
       "    <tr>\n",
       "      <th>1</th>\n",
       "      <td>19411</td>\n",
       "      <td>196</td>\n",
       "      <td>NaN</td>\n",
       "      <td>11</td>\n",
       "      <td>148</td>\n",
       "      <td>1</td>\n",
       "      <td>New York Southern Bankruptcy Court</td>\n",
       "      <td>NY SBC</td>\n",
       "      <td>NaN</td>\n",
       "      <td>NaN</td>\n",
       "      <td>...</td>\n",
       "      <td>1.844645e+09</td>\n",
       "      <td>2003-12-31</td>\n",
       "      <td>499948000.0</td>\n",
       "      <td>2004-09-30</td>\n",
       "      <td>567866000.0</td>\n",
       "      <td>2003-12-31</td>\n",
       "      <td>499948000.0</td>\n",
       "      <td>2014-07-01</td>\n",
       "      <td>1996-02-14</td>\n",
       "      <td>NaN</td>\n",
       "    </tr>\n",
       "    <tr>\n",
       "      <th>4</th>\n",
       "      <td>69623</td>\n",
       "      <td>1324</td>\n",
       "      <td>NaN</td>\n",
       "      <td>11</td>\n",
       "      <td>148</td>\n",
       "      <td>1</td>\n",
       "      <td>New York Southern Bankruptcy Court</td>\n",
       "      <td>NY SBC</td>\n",
       "      <td>NaN</td>\n",
       "      <td>NaN</td>\n",
       "      <td>...</td>\n",
       "      <td>NaN</td>\n",
       "      <td>2002-02-28</td>\n",
       "      <td>1370815.0</td>\n",
       "      <td>2002-02-28</td>\n",
       "      <td>1370815.0</td>\n",
       "      <td>2002-02-28</td>\n",
       "      <td>1370815.0</td>\n",
       "      <td>2004-07-20</td>\n",
       "      <td>NaN</td>\n",
       "      <td>NaN</td>\n",
       "    </tr>\n",
       "    <tr>\n",
       "      <th>5</th>\n",
       "      <td>71478</td>\n",
       "      <td>1565</td>\n",
       "      <td>NaN</td>\n",
       "      <td>7</td>\n",
       "      <td>104</td>\n",
       "      <td>1</td>\n",
       "      <td>California Northern Bankruptcy Court</td>\n",
       "      <td>CA NBC</td>\n",
       "      <td>NaN</td>\n",
       "      <td>NaN</td>\n",
       "      <td>...</td>\n",
       "      <td>NaN</td>\n",
       "      <td>2004-12-31</td>\n",
       "      <td>-2214000.0</td>\n",
       "      <td>2005-06-30</td>\n",
       "      <td>-10450000.0</td>\n",
       "      <td>2007-12-31</td>\n",
       "      <td>-4213000.0</td>\n",
       "      <td>2001-11-13</td>\n",
       "      <td>2000-03-31</td>\n",
       "      <td>NaN</td>\n",
       "    </tr>\n",
       "  </tbody>\n",
       "</table>\n",
       "<p>3 rows × 464 columns</p>\n",
       "</div>"
      ],
      "text/plain": [
       "   COMPANY_FKEY  BANK_KEY SUBSID_NAME  BANKRUPTCY_TYPE  LAW_COURT_FKEY  \\\n",
       "1         19411       196         NaN               11             148   \n",
       "4         69623      1324         NaN               11             148   \n",
       "5         71478      1565         NaN                7             104   \n",
       "\n",
       "   COURT_TYPE_CODE                            COURT_NAME COURT_S_NAME  \\\n",
       "1                1    New York Southern Bankruptcy Court       NY SBC   \n",
       "4                1    New York Southern Bankruptcy Court       NY SBC   \n",
       "5                1  California Northern Bankruptcy Court       CA NBC   \n",
       "\n",
       "   COURT_LOC_STREET  COURT_LOC_CITY  ... HIWATER_INCMST_REVFY  \\\n",
       "1               NaN             NaN  ...         1.844645e+09   \n",
       "4               NaN             NaN  ...                  NaN   \n",
       "5               NaN             NaN  ...                  NaN   \n",
       "\n",
       "   HIWATER_INCMST_NETINC_QTR_DATE HIWATER_INCMST_NETINC_QTR  \\\n",
       "1                      2003-12-31               499948000.0   \n",
       "4                      2002-02-28                 1370815.0   \n",
       "5                      2004-12-31                -2214000.0   \n",
       "\n",
       "   HIWATER_INCMST_NETINC_TTM_DATE HIWATER_INCMST_NETINC_TTM  \\\n",
       "1                      2004-09-30               567866000.0   \n",
       "4                      2002-02-28                 1370815.0   \n",
       "5                      2005-06-30               -10450000.0   \n",
       "\n",
       "  HIWATER_INCMST_NETINC_FY_DATE HIWATER_INCMST_NETINC_FY NAME_CHANGE_DATE1  \\\n",
       "1                    2003-12-31              499948000.0        2014-07-01   \n",
       "4                    2002-02-28                1370815.0        2004-07-20   \n",
       "5                    2007-12-31               -4213000.0        2001-11-13   \n",
       "\n",
       "  NAME_CHANGE_DATE2 NAME_CHANGE_DATE3  \n",
       "1        1996-02-14               NaN  \n",
       "4               NaN               NaN  \n",
       "5        2000-03-31               NaN  \n",
       "\n",
       "[3 rows x 464 columns]"
      ]
     },
     "execution_count": 51,
     "metadata": {},
     "output_type": "execute_result"
    }
   ],
   "source": [
    "df_bankrupt_2000[:3]"
   ]
  },
  {
   "cell_type": "code",
   "execution_count": 14,
   "metadata": {},
   "outputs": [
    {
     "data": {
      "text/plain": [
       "1788"
      ]
     },
     "execution_count": 14,
     "metadata": {},
     "output_type": "execute_result"
    }
   ],
   "source": [
    "df_merge = pd.merge(df, df_bankrupt_2000, left_on = 'cik', right_on = 'COMPANY_FKEY', suffixes = ('_fundam', '_bank'), how = 'left')\n",
    "df_merge['cik'].nunique()"
   ]
  },
  {
   "cell_type": "code",
   "execution_count": 15,
   "metadata": {},
   "outputs": [],
   "source": [
    "# df_merge_11 = df_merge[df_merge['BANKRUPTCY_TYPE']==11]\n",
    "# df_merge_11"
   ]
  },
  {
   "cell_type": "code",
   "execution_count": 52,
   "metadata": {},
   "outputs": [
    {
     "data": {
      "text/html": [
       "<div>\n",
       "<style scoped>\n",
       "    .dataframe tbody tr th:only-of-type {\n",
       "        vertical-align: middle;\n",
       "    }\n",
       "\n",
       "    .dataframe tbody tr th {\n",
       "        vertical-align: top;\n",
       "    }\n",
       "\n",
       "    .dataframe thead th {\n",
       "        text-align: right;\n",
       "    }\n",
       "</style>\n",
       "<table border=\"1\" class=\"dataframe\">\n",
       "  <thead>\n",
       "    <tr style=\"text-align: right;\">\n",
       "      <th></th>\n",
       "      <th>GVKEY</th>\n",
       "      <th>LINKPRIM</th>\n",
       "      <th>LIID</th>\n",
       "      <th>LINKTYPE</th>\n",
       "      <th>LPERMNO</th>\n",
       "      <th>LPERMCO</th>\n",
       "      <th>LINKDT</th>\n",
       "      <th>LINKENDDT</th>\n",
       "      <th>datadate</th>\n",
       "      <th>fyear</th>\n",
       "      <th>...</th>\n",
       "      <th>HIWATER_INCMST_NETINC_FY</th>\n",
       "      <th>NAME_CHANGE_DATE1</th>\n",
       "      <th>NAME_CHANGE_DATE2</th>\n",
       "      <th>NAME_CHANGE_DATE3</th>\n",
       "      <th>bankrupted</th>\n",
       "      <th>current_ratio</th>\n",
       "      <th>wc_ta</th>\n",
       "      <th>totaldebt_totalasset</th>\n",
       "      <th>ROA</th>\n",
       "      <th>research_sale</th>\n",
       "    </tr>\n",
       "  </thead>\n",
       "  <tbody>\n",
       "    <tr>\n",
       "      <th>0</th>\n",
       "      <td>1021</td>\n",
       "      <td>P</td>\n",
       "      <td>01</td>\n",
       "      <td>NU</td>\n",
       "      <td>NaN</td>\n",
       "      <td>NaN</td>\n",
       "      <td>03/20/1999</td>\n",
       "      <td>E</td>\n",
       "      <td>06/30/2000</td>\n",
       "      <td>2000.0</td>\n",
       "      <td>...</td>\n",
       "      <td>NaN</td>\n",
       "      <td>NaN</td>\n",
       "      <td>NaN</td>\n",
       "      <td>NaN</td>\n",
       "      <td>0</td>\n",
       "      <td>3.460931</td>\n",
       "      <td>0.482943</td>\n",
       "      <td>0.436768</td>\n",
       "      <td>-0.069607</td>\n",
       "      <td>0.018804</td>\n",
       "    </tr>\n",
       "    <tr>\n",
       "      <th>1</th>\n",
       "      <td>1021</td>\n",
       "      <td>P</td>\n",
       "      <td>01</td>\n",
       "      <td>NU</td>\n",
       "      <td>NaN</td>\n",
       "      <td>NaN</td>\n",
       "      <td>03/20/1999</td>\n",
       "      <td>E</td>\n",
       "      <td>06/30/2001</td>\n",
       "      <td>2001.0</td>\n",
       "      <td>...</td>\n",
       "      <td>NaN</td>\n",
       "      <td>NaN</td>\n",
       "      <td>NaN</td>\n",
       "      <td>NaN</td>\n",
       "      <td>0</td>\n",
       "      <td>3.175550</td>\n",
       "      <td>0.515229</td>\n",
       "      <td>0.464968</td>\n",
       "      <td>-0.201274</td>\n",
       "      <td>0.019001</td>\n",
       "    </tr>\n",
       "    <tr>\n",
       "      <th>2</th>\n",
       "      <td>1021</td>\n",
       "      <td>P</td>\n",
       "      <td>01</td>\n",
       "      <td>NU</td>\n",
       "      <td>NaN</td>\n",
       "      <td>NaN</td>\n",
       "      <td>03/20/1999</td>\n",
       "      <td>E</td>\n",
       "      <td>06/30/2002</td>\n",
       "      <td>2002.0</td>\n",
       "      <td>...</td>\n",
       "      <td>NaN</td>\n",
       "      <td>NaN</td>\n",
       "      <td>NaN</td>\n",
       "      <td>NaN</td>\n",
       "      <td>0</td>\n",
       "      <td>2.393390</td>\n",
       "      <td>0.440382</td>\n",
       "      <td>0.366115</td>\n",
       "      <td>0.010701</td>\n",
       "      <td>0.024892</td>\n",
       "    </tr>\n",
       "  </tbody>\n",
       "</table>\n",
       "<p>3 rows × 1458 columns</p>\n",
       "</div>"
      ],
      "text/plain": [
       "   GVKEY LINKPRIM LIID LINKTYPE  LPERMNO  LPERMCO      LINKDT LINKENDDT  \\\n",
       "0   1021        P   01       NU      NaN      NaN  03/20/1999         E   \n",
       "1   1021        P   01       NU      NaN      NaN  03/20/1999         E   \n",
       "2   1021        P   01       NU      NaN      NaN  03/20/1999         E   \n",
       "\n",
       "     datadate   fyear  ... HIWATER_INCMST_NETINC_FY NAME_CHANGE_DATE1  \\\n",
       "0  06/30/2000  2000.0  ...                      NaN               NaN   \n",
       "1  06/30/2001  2001.0  ...                      NaN               NaN   \n",
       "2  06/30/2002  2002.0  ...                      NaN               NaN   \n",
       "\n",
       "  NAME_CHANGE_DATE2 NAME_CHANGE_DATE3 bankrupted current_ratio     wc_ta  \\\n",
       "0               NaN               NaN          0      3.460931  0.482943   \n",
       "1               NaN               NaN          0      3.175550  0.515229   \n",
       "2               NaN               NaN          0      2.393390  0.440382   \n",
       "\n",
       "  totaldebt_totalasset       ROA research_sale  \n",
       "0             0.436768 -0.069607      0.018804  \n",
       "1             0.464968 -0.201274      0.019001  \n",
       "2             0.366115  0.010701      0.024892  \n",
       "\n",
       "[3 rows x 1458 columns]"
      ]
     },
     "execution_count": 52,
     "metadata": {},
     "output_type": "execute_result"
    }
   ],
   "source": [
    "df_merge[:3]"
   ]
  },
  {
   "cell_type": "code",
   "execution_count": 17,
   "metadata": {},
   "outputs": [],
   "source": [
    "df_test = df_merge[df_merge['cik'] ==815508]"
   ]
  },
  {
   "cell_type": "code",
   "execution_count": 53,
   "metadata": {
    "scrolled": true
   },
   "outputs": [
    {
     "data": {
      "text/html": [
       "<div>\n",
       "<style scoped>\n",
       "    .dataframe tbody tr th:only-of-type {\n",
       "        vertical-align: middle;\n",
       "    }\n",
       "\n",
       "    .dataframe tbody tr th {\n",
       "        vertical-align: top;\n",
       "    }\n",
       "\n",
       "    .dataframe thead th {\n",
       "        text-align: right;\n",
       "    }\n",
       "</style>\n",
       "<table border=\"1\" class=\"dataframe\">\n",
       "  <thead>\n",
       "    <tr style=\"text-align: right;\">\n",
       "      <th></th>\n",
       "      <th>GVKEY</th>\n",
       "      <th>LINKPRIM</th>\n",
       "      <th>LIID</th>\n",
       "      <th>LINKTYPE</th>\n",
       "      <th>LPERMNO</th>\n",
       "      <th>LPERMCO</th>\n",
       "      <th>LINKDT</th>\n",
       "      <th>LINKENDDT</th>\n",
       "      <th>datadate</th>\n",
       "      <th>fyear</th>\n",
       "      <th>...</th>\n",
       "      <th>HIWATER_INCMST_REVFY</th>\n",
       "      <th>HIWATER_INCMST_NETINC_QTR_DATE</th>\n",
       "      <th>HIWATER_INCMST_NETINC_QTR</th>\n",
       "      <th>HIWATER_INCMST_NETINC_TTM_DATE</th>\n",
       "      <th>HIWATER_INCMST_NETINC_TTM</th>\n",
       "      <th>HIWATER_INCMST_NETINC_FY_DATE</th>\n",
       "      <th>HIWATER_INCMST_NETINC_FY</th>\n",
       "      <th>NAME_CHANGE_DATE1</th>\n",
       "      <th>NAME_CHANGE_DATE2</th>\n",
       "      <th>NAME_CHANGE_DATE3</th>\n",
       "    </tr>\n",
       "  </thead>\n",
       "  <tbody>\n",
       "    <tr>\n",
       "      <th>9302</th>\n",
       "      <td>122315</td>\n",
       "      <td>P</td>\n",
       "      <td>01</td>\n",
       "      <td>LC</td>\n",
       "      <td>87057.0</td>\n",
       "      <td>16691.0</td>\n",
       "      <td>07/30/1999</td>\n",
       "      <td>07/21/2009</td>\n",
       "      <td>10/31/2000</td>\n",
       "      <td>2000.0</td>\n",
       "      <td>...</td>\n",
       "      <td>700000.0</td>\n",
       "      <td>2006-10-31</td>\n",
       "      <td>-6281000.0</td>\n",
       "      <td>2009-04-28</td>\n",
       "      <td>-14692330.0</td>\n",
       "      <td>2008-10-28</td>\n",
       "      <td>NaN</td>\n",
       "      <td>NaN</td>\n",
       "      <td>NaN</td>\n",
       "      <td>NaN</td>\n",
       "    </tr>\n",
       "    <tr>\n",
       "      <th>9303</th>\n",
       "      <td>122315</td>\n",
       "      <td>P</td>\n",
       "      <td>01</td>\n",
       "      <td>LC</td>\n",
       "      <td>87057.0</td>\n",
       "      <td>16691.0</td>\n",
       "      <td>07/30/1999</td>\n",
       "      <td>07/21/2009</td>\n",
       "      <td>10/31/2001</td>\n",
       "      <td>2001.0</td>\n",
       "      <td>...</td>\n",
       "      <td>700000.0</td>\n",
       "      <td>2006-10-31</td>\n",
       "      <td>-6281000.0</td>\n",
       "      <td>2009-04-28</td>\n",
       "      <td>-14692330.0</td>\n",
       "      <td>2008-10-28</td>\n",
       "      <td>NaN</td>\n",
       "      <td>NaN</td>\n",
       "      <td>NaN</td>\n",
       "      <td>NaN</td>\n",
       "    </tr>\n",
       "    <tr>\n",
       "      <th>9304</th>\n",
       "      <td>122315</td>\n",
       "      <td>P</td>\n",
       "      <td>01</td>\n",
       "      <td>LC</td>\n",
       "      <td>87057.0</td>\n",
       "      <td>16691.0</td>\n",
       "      <td>07/30/1999</td>\n",
       "      <td>07/21/2009</td>\n",
       "      <td>10/31/2002</td>\n",
       "      <td>2002.0</td>\n",
       "      <td>...</td>\n",
       "      <td>700000.0</td>\n",
       "      <td>2006-10-31</td>\n",
       "      <td>-6281000.0</td>\n",
       "      <td>2009-04-28</td>\n",
       "      <td>-14692330.0</td>\n",
       "      <td>2008-10-28</td>\n",
       "      <td>NaN</td>\n",
       "      <td>NaN</td>\n",
       "      <td>NaN</td>\n",
       "      <td>NaN</td>\n",
       "    </tr>\n",
       "  </tbody>\n",
       "</table>\n",
       "<p>3 rows × 1452 columns</p>\n",
       "</div>"
      ],
      "text/plain": [
       "       GVKEY LINKPRIM LIID LINKTYPE  LPERMNO  LPERMCO      LINKDT   LINKENDDT  \\\n",
       "9302  122315        P   01       LC  87057.0  16691.0  07/30/1999  07/21/2009   \n",
       "9303  122315        P   01       LC  87057.0  16691.0  07/30/1999  07/21/2009   \n",
       "9304  122315        P   01       LC  87057.0  16691.0  07/30/1999  07/21/2009   \n",
       "\n",
       "        datadate   fyear  ... HIWATER_INCMST_REVFY  \\\n",
       "9302  10/31/2000  2000.0  ...             700000.0   \n",
       "9303  10/31/2001  2001.0  ...             700000.0   \n",
       "9304  10/31/2002  2002.0  ...             700000.0   \n",
       "\n",
       "     HIWATER_INCMST_NETINC_QTR_DATE HIWATER_INCMST_NETINC_QTR  \\\n",
       "9302                     2006-10-31                -6281000.0   \n",
       "9303                     2006-10-31                -6281000.0   \n",
       "9304                     2006-10-31                -6281000.0   \n",
       "\n",
       "     HIWATER_INCMST_NETINC_TTM_DATE HIWATER_INCMST_NETINC_TTM  \\\n",
       "9302                     2009-04-28               -14692330.0   \n",
       "9303                     2009-04-28               -14692330.0   \n",
       "9304                     2009-04-28               -14692330.0   \n",
       "\n",
       "     HIWATER_INCMST_NETINC_FY_DATE HIWATER_INCMST_NETINC_FY NAME_CHANGE_DATE1  \\\n",
       "9302                    2008-10-28                      NaN               NaN   \n",
       "9303                    2008-10-28                      NaN               NaN   \n",
       "9304                    2008-10-28                      NaN               NaN   \n",
       "\n",
       "     NAME_CHANGE_DATE2 NAME_CHANGE_DATE3  \n",
       "9302               NaN               NaN  \n",
       "9303               NaN               NaN  \n",
       "9304               NaN               NaN  \n",
       "\n",
       "[3 rows x 1452 columns]"
      ]
     },
     "execution_count": 53,
     "metadata": {},
     "output_type": "execute_result"
    }
   ],
   "source": [
    "df_test[:3]"
   ]
  },
  {
   "cell_type": "code",
   "execution_count": 19,
   "metadata": {},
   "outputs": [],
   "source": [
    "mask = pd.to_datetime(df_merge['datadate']).dt.year + 1 == pd.to_datetime(df_merge['BANK_BEGIN_DATE']).dt.year\n",
    "\n",
    "df_merge['bankrupted'] = np.where(mask, 1,0)"
   ]
  },
  {
   "cell_type": "code",
   "execution_count": 54,
   "metadata": {},
   "outputs": [
    {
     "data": {
      "text/plain": [
       "0    0\n",
       "1    0\n",
       "2    0\n",
       "Name: bankrupted, dtype: int32"
      ]
     },
     "execution_count": 54,
     "metadata": {},
     "output_type": "execute_result"
    }
   ],
   "source": [
    "df_merge['bankrupted'][:3]"
   ]
  },
  {
   "cell_type": "code",
   "execution_count": 21,
   "metadata": {},
   "outputs": [
    {
     "data": {
      "text/html": [
       "<div>\n",
       "<style scoped>\n",
       "    .dataframe tbody tr th:only-of-type {\n",
       "        vertical-align: middle;\n",
       "    }\n",
       "\n",
       "    .dataframe tbody tr th {\n",
       "        vertical-align: top;\n",
       "    }\n",
       "\n",
       "    .dataframe thead th {\n",
       "        text-align: right;\n",
       "    }\n",
       "</style>\n",
       "<table border=\"1\" class=\"dataframe\">\n",
       "  <thead>\n",
       "    <tr style=\"text-align: right;\">\n",
       "      <th></th>\n",
       "      <th>GVKEY</th>\n",
       "      <th>LINKPRIM</th>\n",
       "      <th>LIID</th>\n",
       "      <th>LINKTYPE</th>\n",
       "      <th>LPERMNO</th>\n",
       "      <th>LPERMCO</th>\n",
       "      <th>LINKDT</th>\n",
       "      <th>LINKENDDT</th>\n",
       "      <th>datadate</th>\n",
       "      <th>fyear</th>\n",
       "      <th>...</th>\n",
       "      <th>HIWATER_INCMST_NETINC_QTR_DATE</th>\n",
       "      <th>HIWATER_INCMST_NETINC_QTR</th>\n",
       "      <th>HIWATER_INCMST_NETINC_TTM_DATE</th>\n",
       "      <th>HIWATER_INCMST_NETINC_TTM</th>\n",
       "      <th>HIWATER_INCMST_NETINC_FY_DATE</th>\n",
       "      <th>HIWATER_INCMST_NETINC_FY</th>\n",
       "      <th>NAME_CHANGE_DATE1</th>\n",
       "      <th>NAME_CHANGE_DATE2</th>\n",
       "      <th>NAME_CHANGE_DATE3</th>\n",
       "      <th>bankrupted</th>\n",
       "    </tr>\n",
       "  </thead>\n",
       "  <tbody>\n",
       "    <tr>\n",
       "      <th>373</th>\n",
       "      <td>2903</td>\n",
       "      <td>C</td>\n",
       "      <td>01</td>\n",
       "      <td>LC</td>\n",
       "      <td>22518.0</td>\n",
       "      <td>6193.0</td>\n",
       "      <td>08/04/1993</td>\n",
       "      <td>08/29/2008</td>\n",
       "      <td>03/31/2008</td>\n",
       "      <td>2007.0</td>\n",
       "      <td>...</td>\n",
       "      <td>2005-03-31</td>\n",
       "      <td>589000.0</td>\n",
       "      <td>2002-03-31</td>\n",
       "      <td>1157000.0</td>\n",
       "      <td>2002-03-31</td>\n",
       "      <td>NaN</td>\n",
       "      <td>NaN</td>\n",
       "      <td>NaN</td>\n",
       "      <td>NaN</td>\n",
       "      <td>1</td>\n",
       "    </tr>\n",
       "    <tr>\n",
       "      <th>376</th>\n",
       "      <td>2940</td>\n",
       "      <td>C</td>\n",
       "      <td>01</td>\n",
       "      <td>LC</td>\n",
       "      <td>77854.0</td>\n",
       "      <td>25268.0</td>\n",
       "      <td>08/07/1992</td>\n",
       "      <td>10/08/2002</td>\n",
       "      <td>09/30/2002</td>\n",
       "      <td>2002.0</td>\n",
       "      <td>...</td>\n",
       "      <td>2003-12-31</td>\n",
       "      <td>499948000.0</td>\n",
       "      <td>2004-09-30</td>\n",
       "      <td>567866000.0</td>\n",
       "      <td>2003-12-31</td>\n",
       "      <td>499948000.0</td>\n",
       "      <td>2014-07-01</td>\n",
       "      <td>1996-02-14</td>\n",
       "      <td>NaN</td>\n",
       "      <td>1</td>\n",
       "    </tr>\n",
       "    <tr>\n",
       "      <th>445</th>\n",
       "      <td>3171</td>\n",
       "      <td>P</td>\n",
       "      <td>01</td>\n",
       "      <td>LC</td>\n",
       "      <td>24548.0</td>\n",
       "      <td>5308.0</td>\n",
       "      <td>06/30/1982</td>\n",
       "      <td>07/20/2009</td>\n",
       "      <td>12/31/2008</td>\n",
       "      <td>2008.0</td>\n",
       "      <td>...</td>\n",
       "      <td>2007-06-30</td>\n",
       "      <td>16277000.0</td>\n",
       "      <td>2000-08-31</td>\n",
       "      <td>-2816050.0</td>\n",
       "      <td>2000-08-31</td>\n",
       "      <td>NaN</td>\n",
       "      <td>2004-04-08</td>\n",
       "      <td>NaN</td>\n",
       "      <td>NaN</td>\n",
       "      <td>1</td>\n",
       "    </tr>\n",
       "    <tr>\n",
       "      <th>596</th>\n",
       "      <td>4228</td>\n",
       "      <td>C</td>\n",
       "      <td>01</td>\n",
       "      <td>LC</td>\n",
       "      <td>84799.0</td>\n",
       "      <td>15464.0</td>\n",
       "      <td>05/09/1997</td>\n",
       "      <td>04/09/2001</td>\n",
       "      <td>12/31/2000</td>\n",
       "      <td>2000.0</td>\n",
       "      <td>...</td>\n",
       "      <td>NaN</td>\n",
       "      <td>NaN</td>\n",
       "      <td>NaN</td>\n",
       "      <td>NaN</td>\n",
       "      <td>NaN</td>\n",
       "      <td>NaN</td>\n",
       "      <td>1997-01-14</td>\n",
       "      <td>NaN</td>\n",
       "      <td>NaN</td>\n",
       "      <td>1</td>\n",
       "    </tr>\n",
       "    <tr>\n",
       "      <th>972</th>\n",
       "      <td>7133</td>\n",
       "      <td>C</td>\n",
       "      <td>01</td>\n",
       "      <td>LU</td>\n",
       "      <td>51992.0</td>\n",
       "      <td>6296.0</td>\n",
       "      <td>08/18/1983</td>\n",
       "      <td>05/24/2001</td>\n",
       "      <td>12/31/2000</td>\n",
       "      <td>2000.0</td>\n",
       "      <td>...</td>\n",
       "      <td>2005-12-31</td>\n",
       "      <td>357000.0</td>\n",
       "      <td>2002-12-31</td>\n",
       "      <td>-1278000.0</td>\n",
       "      <td>2002-12-31</td>\n",
       "      <td>NaN</td>\n",
       "      <td>NaN</td>\n",
       "      <td>NaN</td>\n",
       "      <td>NaN</td>\n",
       "      <td>1</td>\n",
       "    </tr>\n",
       "    <tr>\n",
       "      <th>...</th>\n",
       "      <td>...</td>\n",
       "      <td>...</td>\n",
       "      <td>...</td>\n",
       "      <td>...</td>\n",
       "      <td>...</td>\n",
       "      <td>...</td>\n",
       "      <td>...</td>\n",
       "      <td>...</td>\n",
       "      <td>...</td>\n",
       "      <td>...</td>\n",
       "      <td>...</td>\n",
       "      <td>...</td>\n",
       "      <td>...</td>\n",
       "      <td>...</td>\n",
       "      <td>...</td>\n",
       "      <td>...</td>\n",
       "      <td>...</td>\n",
       "      <td>...</td>\n",
       "      <td>...</td>\n",
       "      <td>...</td>\n",
       "      <td>...</td>\n",
       "    </tr>\n",
       "    <tr>\n",
       "      <th>11733</th>\n",
       "      <td>157758</td>\n",
       "      <td>P</td>\n",
       "      <td>01</td>\n",
       "      <td>LC</td>\n",
       "      <td>90128.0</td>\n",
       "      <td>45084.0</td>\n",
       "      <td>04/16/2004</td>\n",
       "      <td>04/28/2008</td>\n",
       "      <td>12/31/2007</td>\n",
       "      <td>2007.0</td>\n",
       "      <td>...</td>\n",
       "      <td>2007-06-30</td>\n",
       "      <td>-1617000.0</td>\n",
       "      <td>2007-06-30</td>\n",
       "      <td>-18960000.0</td>\n",
       "      <td>2007-12-31</td>\n",
       "      <td>-12695000.0</td>\n",
       "      <td>NaN</td>\n",
       "      <td>NaN</td>\n",
       "      <td>NaN</td>\n",
       "      <td>1</td>\n",
       "    </tr>\n",
       "    <tr>\n",
       "      <th>12193</th>\n",
       "      <td>162956</td>\n",
       "      <td>P</td>\n",
       "      <td>01</td>\n",
       "      <td>LC</td>\n",
       "      <td>90945.0</td>\n",
       "      <td>47874.0</td>\n",
       "      <td>10/28/2005</td>\n",
       "      <td>11/03/2008</td>\n",
       "      <td>09/30/2007</td>\n",
       "      <td>2007.0</td>\n",
       "      <td>...</td>\n",
       "      <td>2004-09-30</td>\n",
       "      <td>0.0</td>\n",
       "      <td>2009-09-30</td>\n",
       "      <td>-8061727.0</td>\n",
       "      <td>2009-09-30</td>\n",
       "      <td>0.0</td>\n",
       "      <td>NaN</td>\n",
       "      <td>NaN</td>\n",
       "      <td>NaN</td>\n",
       "      <td>1</td>\n",
       "    </tr>\n",
       "    <tr>\n",
       "      <th>12580</th>\n",
       "      <td>165857</td>\n",
       "      <td>P</td>\n",
       "      <td>01</td>\n",
       "      <td>LC</td>\n",
       "      <td>91074.0</td>\n",
       "      <td>50193.0</td>\n",
       "      <td>01/26/2006</td>\n",
       "      <td>11/20/2009</td>\n",
       "      <td>12/31/2008</td>\n",
       "      <td>2008.0</td>\n",
       "      <td>...</td>\n",
       "      <td>2007-12-31</td>\n",
       "      <td>5466000.0</td>\n",
       "      <td>2007-12-31</td>\n",
       "      <td>-63232000.0</td>\n",
       "      <td>2007-12-31</td>\n",
       "      <td>5466000.0</td>\n",
       "      <td>NaN</td>\n",
       "      <td>NaN</td>\n",
       "      <td>NaN</td>\n",
       "      <td>1</td>\n",
       "    </tr>\n",
       "    <tr>\n",
       "      <th>12608</th>\n",
       "      <td>166200</td>\n",
       "      <td>P</td>\n",
       "      <td>01</td>\n",
       "      <td>LC</td>\n",
       "      <td>91820.0</td>\n",
       "      <td>51809.0</td>\n",
       "      <td>02/02/2007</td>\n",
       "      <td>12/20/2010</td>\n",
       "      <td>12/31/2009</td>\n",
       "      <td>2009.0</td>\n",
       "      <td>...</td>\n",
       "      <td>2005-12-31</td>\n",
       "      <td>0.0</td>\n",
       "      <td>2007-12-31</td>\n",
       "      <td>-59825181.0</td>\n",
       "      <td>2007-12-31</td>\n",
       "      <td>-21654318.0</td>\n",
       "      <td>NaN</td>\n",
       "      <td>NaN</td>\n",
       "      <td>NaN</td>\n",
       "      <td>1</td>\n",
       "    </tr>\n",
       "    <tr>\n",
       "      <th>12820</th>\n",
       "      <td>174743</td>\n",
       "      <td>P</td>\n",
       "      <td>01</td>\n",
       "      <td>LC</td>\n",
       "      <td>91660.0</td>\n",
       "      <td>51548.0</td>\n",
       "      <td>12/20/2006</td>\n",
       "      <td>12/08/2008</td>\n",
       "      <td>12/31/2007</td>\n",
       "      <td>2007.0</td>\n",
       "      <td>...</td>\n",
       "      <td>2006-12-31</td>\n",
       "      <td>0.0</td>\n",
       "      <td>2007-09-30</td>\n",
       "      <td>-24701000.0</td>\n",
       "      <td>2006-12-31</td>\n",
       "      <td>0.0</td>\n",
       "      <td>NaN</td>\n",
       "      <td>NaN</td>\n",
       "      <td>NaN</td>\n",
       "      <td>1</td>\n",
       "    </tr>\n",
       "  </tbody>\n",
       "</table>\n",
       "<p>88 rows × 1453 columns</p>\n",
       "</div>"
      ],
      "text/plain": [
       "        GVKEY LINKPRIM LIID LINKTYPE  LPERMNO  LPERMCO      LINKDT  \\\n",
       "373      2903        C   01       LC  22518.0   6193.0  08/04/1993   \n",
       "376      2940        C   01       LC  77854.0  25268.0  08/07/1992   \n",
       "445      3171        P   01       LC  24548.0   5308.0  06/30/1982   \n",
       "596      4228        C   01       LC  84799.0  15464.0  05/09/1997   \n",
       "972      7133        C   01       LU  51992.0   6296.0  08/18/1983   \n",
       "...       ...      ...  ...      ...      ...      ...         ...   \n",
       "11733  157758        P   01       LC  90128.0  45084.0  04/16/2004   \n",
       "12193  162956        P   01       LC  90945.0  47874.0  10/28/2005   \n",
       "12580  165857        P   01       LC  91074.0  50193.0  01/26/2006   \n",
       "12608  166200        P   01       LC  91820.0  51809.0  02/02/2007   \n",
       "12820  174743        P   01       LC  91660.0  51548.0  12/20/2006   \n",
       "\n",
       "        LINKENDDT    datadate   fyear  ... HIWATER_INCMST_NETINC_QTR_DATE  \\\n",
       "373    08/29/2008  03/31/2008  2007.0  ...                     2005-03-31   \n",
       "376    10/08/2002  09/30/2002  2002.0  ...                     2003-12-31   \n",
       "445    07/20/2009  12/31/2008  2008.0  ...                     2007-06-30   \n",
       "596    04/09/2001  12/31/2000  2000.0  ...                            NaN   \n",
       "972    05/24/2001  12/31/2000  2000.0  ...                     2005-12-31   \n",
       "...           ...         ...     ...  ...                            ...   \n",
       "11733  04/28/2008  12/31/2007  2007.0  ...                     2007-06-30   \n",
       "12193  11/03/2008  09/30/2007  2007.0  ...                     2004-09-30   \n",
       "12580  11/20/2009  12/31/2008  2008.0  ...                     2007-12-31   \n",
       "12608  12/20/2010  12/31/2009  2009.0  ...                     2005-12-31   \n",
       "12820  12/08/2008  12/31/2007  2007.0  ...                     2006-12-31   \n",
       "\n",
       "      HIWATER_INCMST_NETINC_QTR HIWATER_INCMST_NETINC_TTM_DATE  \\\n",
       "373                    589000.0                     2002-03-31   \n",
       "376                 499948000.0                     2004-09-30   \n",
       "445                  16277000.0                     2000-08-31   \n",
       "596                         NaN                            NaN   \n",
       "972                    357000.0                     2002-12-31   \n",
       "...                         ...                            ...   \n",
       "11733                -1617000.0                     2007-06-30   \n",
       "12193                       0.0                     2009-09-30   \n",
       "12580                 5466000.0                     2007-12-31   \n",
       "12608                       0.0                     2007-12-31   \n",
       "12820                       0.0                     2007-09-30   \n",
       "\n",
       "      HIWATER_INCMST_NETINC_TTM HIWATER_INCMST_NETINC_FY_DATE  \\\n",
       "373                   1157000.0                    2002-03-31   \n",
       "376                 567866000.0                    2003-12-31   \n",
       "445                  -2816050.0                    2000-08-31   \n",
       "596                         NaN                           NaN   \n",
       "972                  -1278000.0                    2002-12-31   \n",
       "...                         ...                           ...   \n",
       "11733               -18960000.0                    2007-12-31   \n",
       "12193                -8061727.0                    2009-09-30   \n",
       "12580               -63232000.0                    2007-12-31   \n",
       "12608               -59825181.0                    2007-12-31   \n",
       "12820               -24701000.0                    2006-12-31   \n",
       "\n",
       "      HIWATER_INCMST_NETINC_FY NAME_CHANGE_DATE1 NAME_CHANGE_DATE2  \\\n",
       "373                        NaN               NaN               NaN   \n",
       "376                499948000.0        2014-07-01        1996-02-14   \n",
       "445                        NaN        2004-04-08               NaN   \n",
       "596                        NaN        1997-01-14               NaN   \n",
       "972                        NaN               NaN               NaN   \n",
       "...                        ...               ...               ...   \n",
       "11733              -12695000.0               NaN               NaN   \n",
       "12193                      0.0               NaN               NaN   \n",
       "12580                5466000.0               NaN               NaN   \n",
       "12608              -21654318.0               NaN               NaN   \n",
       "12820                      0.0               NaN               NaN   \n",
       "\n",
       "      NAME_CHANGE_DATE3 bankrupted  \n",
       "373                 NaN          1  \n",
       "376                 NaN          1  \n",
       "445                 NaN          1  \n",
       "596                 NaN          1  \n",
       "972                 NaN          1  \n",
       "...                 ...        ...  \n",
       "11733               NaN          1  \n",
       "12193               NaN          1  \n",
       "12580               NaN          1  \n",
       "12608               NaN          1  \n",
       "12820               NaN          1  \n",
       "\n",
       "[88 rows x 1453 columns]"
      ]
     },
     "execution_count": 21,
     "metadata": {},
     "output_type": "execute_result"
    }
   ],
   "source": [
    "mask = pd.to_datetime(df_merge['datadate']).dt.year + 1 == pd.to_datetime(df_merge['BANK_BEGIN_DATE']).dt.year\n",
    "df_merge[mask]"
   ]
  },
  {
   "cell_type": "code",
   "execution_count": 22,
   "metadata": {},
   "outputs": [
    {
     "data": {
      "text/plain": [
       "1788"
      ]
     },
     "execution_count": 22,
     "metadata": {},
     "output_type": "execute_result"
    }
   ],
   "source": [
    "df_merge['cik'].nunique()"
   ]
  },
  {
   "cell_type": "code",
   "execution_count": 23,
   "metadata": {},
   "outputs": [
    {
     "data": {
      "text/plain": [
       "0        2001\n",
       "1        2002\n",
       "2        2003\n",
       "3        2004\n",
       "4        2005\n",
       "         ... \n",
       "14070    2011\n",
       "14071    2010\n",
       "14072    2011\n",
       "14073    2010\n",
       "14074    2011\n",
       "Name: datadate, Length: 14075, dtype: int64"
      ]
     },
     "execution_count": 23,
     "metadata": {},
     "output_type": "execute_result"
    }
   ],
   "source": [
    "pd.to_datetime(df_merge['datadate']).dt.year + 1"
   ]
  },
  {
   "cell_type": "code",
   "execution_count": 24,
   "metadata": {},
   "outputs": [
    {
     "data": {
      "text/plain": [
       "9302    2009\n",
       "9303    2009\n",
       "9304    2009\n",
       "9305    2009\n",
       "9306    2009\n",
       "9307    2009\n",
       "9308    2009\n",
       "9309    2009\n",
       "9310    2009\n",
       "Name: BANK_BEGIN_DATE, dtype: int64"
      ]
     },
     "execution_count": 24,
     "metadata": {},
     "output_type": "execute_result"
    }
   ],
   "source": [
    "pd.to_datetime(df_test['BANK_BEGIN_DATE']).dt.year"
   ]
  },
  {
   "cell_type": "code",
   "execution_count": 25,
   "metadata": {},
   "outputs": [
    {
     "data": {
      "text/plain": [
       "9302    2009-07-16\n",
       "9303    2009-07-16\n",
       "9304    2009-07-16\n",
       "9305    2009-07-16\n",
       "9306    2009-07-16\n",
       "9307    2009-07-16\n",
       "9308    2009-07-16\n",
       "9309    2009-07-16\n",
       "9310    2009-07-16\n",
       "Name: BANK_BEGIN_DATE, dtype: object"
      ]
     },
     "execution_count": 25,
     "metadata": {},
     "output_type": "execute_result"
    }
   ],
   "source": [
    "df_test['BANK_BEGIN_DATE']"
   ]
  },
  {
   "cell_type": "code",
   "execution_count": 26,
   "metadata": {},
   "outputs": [],
   "source": [
    "# TO-DO: replace w/ Joseph's finratio data\n",
    "# augument different ratio \n",
    "#Current Ratio \n",
    "df_merge['current_ratio']= df_merge['act']/df_merge['lct']\n",
    "# Working capital to Total Asset \n",
    "df_merge['wc_ta']= df_merge['wcap']/df_merge['at']\n",
    "#Debt to Asset Ratio\n",
    "df_merge['totaldebt_totalasset']= df_merge['dt']/df_merge['at']\n",
    "# ROA \n",
    "df_merge['ROA']= df_merge['ni']/df_merge['at']\n",
    "# RD to sales ratio \n",
    "df_merge['research_sale']= df_merge['xrd']/df_merge['sale']"
   ]
  },
  {
   "cell_type": "code",
   "execution_count": 27,
   "metadata": {},
   "outputs": [],
   "source": [
    "work= df_merge[['current_ratio','wc_ta','totaldebt_totalasset','ROA','research_sale','bankrupted','datadate']]"
   ]
  },
  {
   "cell_type": "code",
   "execution_count": 28,
   "metadata": {},
   "outputs": [],
   "source": [
    "work=work.replace([np.inf, -np.inf], np.nan)"
   ]
  },
  {
   "cell_type": "code",
   "execution_count": 29,
   "metadata": {},
   "outputs": [],
   "source": [
    "work=work.dropna()"
   ]
  },
  {
   "cell_type": "code",
   "execution_count": 30,
   "metadata": {},
   "outputs": [],
   "source": [
    "mask_test = pd.to_datetime(work['datadate']).dt.year >=2006\n",
    "train=work[~mask_test]\n",
    "test=work[mask_test]"
   ]
  },
  {
   "cell_type": "code",
   "execution_count": 31,
   "metadata": {},
   "outputs": [],
   "source": [
    "y_train= train['bankrupted']\n",
    "train= train.drop(columns=['bankrupted', 'datadate'])\n"
   ]
  },
  {
   "cell_type": "code",
   "execution_count": 32,
   "metadata": {},
   "outputs": [],
   "source": [
    "x_train= train"
   ]
  },
  {
   "cell_type": "markdown",
   "metadata": {},
   "source": [
    "## Random Forest"
   ]
  },
  {
   "cell_type": "code",
   "execution_count": 33,
   "metadata": {},
   "outputs": [],
   "source": [
    "#random forest\n",
    "from sklearn.ensemble import RandomForestClassifier\n",
    "from sklearn.datasets import make_classification\n",
    "clf = RandomForestClassifier(max_depth=2, random_state=0, class_weight='balanced')\n",
    "\n",
    "rgr=clf.fit(x_train, y_train)"
   ]
  },
  {
   "cell_type": "code",
   "execution_count": 34,
   "metadata": {},
   "outputs": [
    {
     "data": {
      "text/plain": [
       "0.8953387627794143"
      ]
     },
     "execution_count": 34,
     "metadata": {},
     "output_type": "execute_result"
    }
   ],
   "source": [
    "pred_train=rgr.predict(x_train)\n",
    "accuracy_score(pred_train, y_train)"
   ]
  },
  {
   "cell_type": "code",
   "execution_count": 35,
   "metadata": {},
   "outputs": [],
   "source": [
    "y_test= test['bankrupted']\n",
    "test= test.drop(columns=['bankrupted', 'datadate'])\n",
    "x_test= test"
   ]
  },
  {
   "cell_type": "code",
   "execution_count": 36,
   "metadata": {},
   "outputs": [
    {
     "data": {
      "text/plain": [
       "0.8903061224489796"
      ]
     },
     "execution_count": 36,
     "metadata": {},
     "output_type": "execute_result"
    }
   ],
   "source": [
    "pred_test=rgr.predict(x_test)\n",
    "accuracy_score(pred_test, y_test)"
   ]
  },
  {
   "cell_type": "code",
   "execution_count": 37,
   "metadata": {},
   "outputs": [
    {
     "data": {
      "text/plain": [
       "469"
      ]
     },
     "execution_count": 37,
     "metadata": {},
     "output_type": "execute_result"
    }
   ],
   "source": [
    "pred_test.sum()"
   ]
  },
  {
   "cell_type": "code",
   "execution_count": 38,
   "metadata": {},
   "outputs": [
    {
     "data": {
      "text/plain": [
       "array([0, 0, 1, ..., 0, 0, 0], dtype=int64)"
      ]
     },
     "execution_count": 38,
     "metadata": {},
     "output_type": "execute_result"
    }
   ],
   "source": [
    "pred_test"
   ]
  },
  {
   "cell_type": "code",
   "execution_count": 59,
   "metadata": {},
   "outputs": [
    {
     "data": {
      "text/plain": [
       "<matplotlib.axes._subplots.AxesSubplot at 0x1d006b40288>"
      ]
     },
     "execution_count": 59,
     "metadata": {},
     "output_type": "execute_result"
    },
    {
     "data": {
      "image/png": "[encoded data removed]",
      "text/plain": [
       "<Figure size 720x720 with 1 Axes>"
      ]
     },
     "metadata": {
      "needs_background": "light"
     },
     "output_type": "display_data"
    }
   ],
   "source": [
    "feat_importances = pd.Series(rgr.feature_importances_, index=x_train.columns)\n",
    "plt.figure(figsize=(10,10)) \n",
    "feat_importances.sort_values().plot(kind='barh',color='c')\n",
    "#feat_importances.sort_values(ascending=False)"
   ]
  },
  {
   "cell_type": "code",
   "execution_count": 60,
   "metadata": {},
   "outputs": [
    {
     "data": {
      "image/png": "[encoded data removed]",
      "text/plain": [
       "<Figure size 432x288 with 1 Axes>"
      ]
     },
     "metadata": {
      "needs_background": "light"
     },
     "output_type": "display_data"
    }
   ],
   "source": [
    "# UNFINISHED\n",
    "import sklearn.metrics as metrics\n",
    "y_pred_proba = clf.predict_proba(x_test)[::,1]\n",
    "\n",
    "fpr, tpr, threshold = metrics.roc_curve(y_test, y_pred_proba)\n",
    "roc_auc = metrics.auc(fpr, tpr)\n",
    "\n",
    "# AUROC RF\n",
    "# method I: plt\n",
    "import matplotlib.pyplot as plt\n",
    "plt.title('Receiver Operating Characteristic')\n",
    "plt.plot(fpr, tpr, 'b', label = 'AUC = %0.2f' % roc_auc)\n",
    "plt.legend(loc = 'lower right')\n",
    "plt.plot([0, 1], [0, 1],'r--')\n",
    "plt.xlim([0, 1])\n",
    "plt.ylim([0, 1])\n",
    "plt.ylabel('True Positive Rate')\n",
    "plt.xlabel('False Positive Rate')\n",
    "plt.show()"
   ]
  },
  {
   "cell_type": "markdown",
   "metadata": {},
   "source": [
    "## Logistic Regression "
   ]
  },
  {
   "cell_type": "code",
   "execution_count": 40,
   "metadata": {},
   "outputs": [
    {
     "data": {
      "text/plain": [
       "LogisticRegression(C=100000.0, class_weight='balanced', dual=False,\n",
       "                   fit_intercept=True, intercept_scaling=1, l1_ratio=None,\n",
       "                   max_iter=100, multi_class='auto', n_jobs=None, penalty='l2',\n",
       "                   random_state=None, solver='lbfgs', tol=0.0001, verbose=0,\n",
       "                   warm_start=False)"
      ]
     },
     "execution_count": 40,
     "metadata": {},
     "output_type": "execute_result"
    }
   ],
   "source": [
    "from sklearn.linear_model import LogisticRegression\n",
    "logreg = LogisticRegression(C=1e5,class_weight='balanced')\n",
    "\n",
    "# Create an instance of Logistic Regression Classifier and fit the data.\n",
    "logreg.fit(x_train, y_train)"
   ]
  },
  {
   "cell_type": "code",
   "execution_count": 41,
   "metadata": {},
   "outputs": [],
   "source": [
    "y_pred=logreg.predict(x_test)"
   ]
  },
  {
   "cell_type": "code",
   "execution_count": 42,
   "metadata": {},
   "outputs": [
    {
     "data": {
      "text/plain": [
       "0.7200834879406308"
      ]
     },
     "execution_count": 42,
     "metadata": {},
     "output_type": "execute_result"
    }
   ],
   "source": [
    "accuracy_score(y_pred, y_test)"
   ]
  },
  {
   "cell_type": "code",
   "execution_count": 43,
   "metadata": {},
   "outputs": [
    {
     "data": {
      "text/plain": [
       "array([0, 0, 1, ..., 1, 1, 1], dtype=int64)"
      ]
     },
     "execution_count": 43,
     "metadata": {},
     "output_type": "execute_result"
    }
   ],
   "source": [
    "y_pred"
   ]
  },
  {
   "cell_type": "code",
   "execution_count": 44,
   "metadata": {},
   "outputs": [],
   "source": [
    "feature_importance = abs(logreg.coef_[0])\n",
    "feature_importance = 100.0 * (feature_importance / feature_importance.max())\n",
    "sorted_idx = np.argsort(feature_importance)\n",
    "pos = np.arange(sorted_idx.shape[0]) + .5"
   ]
  },
  {
   "cell_type": "code",
   "execution_count": 61,
   "metadata": {},
   "outputs": [
    {
     "data": {
      "image/png": "[encoded data removed]",
      "text/plain": [
       "<Figure size 432x288 with 1 Axes>"
      ]
     },
     "metadata": {
      "needs_background": "light"
     },
     "output_type": "display_data"
    }
   ],
   "source": [
    "featfig = plt.figure()\n",
    "featax = featfig.add_subplot(1, 1, 1)\n",
    "featax.barh(pos, feature_importance[sorted_idx], align='center')\n",
    "featax.set_yticks(pos)\n",
    "featax.set_yticklabels(np.array(x_train.columns)[sorted_idx], fontsize=8)\n",
    "featax.set_xlabel('Relative Feature Importance')\n",
    "\n",
    "plt.tight_layout()   \n",
    "plt.show()"
   ]
  },
  {
   "cell_type": "code",
   "execution_count": 62,
   "metadata": {},
   "outputs": [
    {
     "data": {
      "image/png": "[encoded data removed]",
      "text/plain": [
       "<Figure size 432x288 with 1 Axes>"
      ]
     },
     "metadata": {
      "needs_background": "light"
     },
     "output_type": "display_data"
    }
   ],
   "source": [
    "# UNFINISHED\n",
    "import sklearn.metrics as metrics\n",
    "y_pred_proba = logreg.predict_proba(x_test)[::,1]\n",
    "\n",
    "fpr, tpr, threshold = metrics.roc_curve(y_test, y_pred_proba)\n",
    "roc_auc = metrics.auc(fpr, tpr)\n",
    "\n",
    "# method I: plt\n",
    "import matplotlib.pyplot as plt\n",
    "\n",
    "\n",
    "# AUROC Logreg\n",
    "plt.title('Receiver Operating Characteristic')\n",
    "plt.plot(fpr, tpr, 'b', label = 'AUC = %0.2f' % roc_auc)\n",
    "plt.legend(loc = 'lower right')\n",
    "plt.plot([0, 1], [0, 1],'r--')\n",
    "plt.xlim([0, 1])\n",
    "plt.ylim([0, 1])\n",
    "plt.ylabel('True Positive Rate')\n",
    "plt.xlabel('False Positive Rate')\n",
    "plt.show()"
   ]
  },
  {
   "cell_type": "markdown",
   "metadata": {},
   "source": [
    "## Precision and Recall curve "
   ]
  },
  {
   "cell_type": "code",
   "execution_count": 46,
   "metadata": {},
   "outputs": [],
   "source": [
    "import numpy as np\n",
    "from sklearn.metrics import precision_recall_curve"
   ]
  },
  {
   "cell_type": "code",
   "execution_count": 47,
   "metadata": {},
   "outputs": [],
   "source": [
    "y_score = logreg.decision_function(x_test)"
   ]
  },
  {
   "cell_type": "code",
   "execution_count": 48,
   "metadata": {},
   "outputs": [
    {
     "name": "stdout",
     "output_type": "stream",
     "text": [
      "Average precision-recall score: 0.04\n"
     ]
    }
   ],
   "source": [
    "from sklearn.metrics import average_precision_score\n",
    "average_precision = average_precision_score(y_test, y_score)\n",
    "\n",
    "print('Average precision-recall score: {0:0.2f}'.format(\n",
    "      average_precision))"
   ]
  },
  {
   "cell_type": "markdown",
   "metadata": {},
   "source": [
    "from sklearn.metrics import precision_recall_curve\n",
    "from sklearn.metrics import plot_precision_recall_curve\n",
    "import matplotlib.pyplot as plt\n",
    "\n",
    "disp = plot_precision_recall_curve(logreg, x_test, y_test)\n",
    "disp.ax_.set_title('2-class Precision-Recall curve: '\n",
    "                   'AP={0:0.2f}'.format(average_precision))"
   ]
  },
  {
   "cell_type": "code",
   "execution_count": null,
   "metadata": {},
   "outputs": [],
   "source": []
  }
 ],
 "metadata": {
  "kernelspec": {
   "display_name": "Python 3",
   "language": "python",
   "name": "python3"
  },
  "language_info": {
   "codemirror_mode": {
    "name": "ipython",
    "version": 3
   },
   "file_extension": ".py",
   "mimetype": "text/x-python",
   "name": "python",
   "nbconvert_exporter": "python",
   "pygments_lexer": "ipython3",
   "version": "3.7.4"
  }
 },
 "nbformat": 4,
 "nbformat_minor": 4
}
