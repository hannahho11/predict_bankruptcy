{
 "cells": [
  {
   "cell_type": "code",
<<<<<<< HEAD:eda_v10 (ignore, for slides purpose).ipynb
   "execution_count": 133,
=======
   "execution_count": 1,
>>>>>>> bb6dd412bdac106a200c1069f9942e48670856f0:eda_v4.ipynb
   "metadata": {},
   "outputs": [],
   "source": [
    "import pandas as pd\n",
    "import numpy as np\n",
    "from matplotlib import pyplot as plt\n"
   ]
  },
  {
   "cell_type": "markdown",
   "metadata": {},
   "source": [
    "# Fundamental data preprocessing\n"
   ]
  },
  {
   "cell_type": "code",
<<<<<<< HEAD:eda_v10 (ignore, for slides purpose).ipynb
   "execution_count": 134,
=======
   "execution_count": 2,
>>>>>>> bb6dd412bdac106a200c1069f9942e48670856f0:eda_v4.ipynb
   "metadata": {},
   "outputs": [
    {
     "name": "stderr",
     "output_type": "stream",
     "text": [
      "C:\\Users\\Derrick\\Anaconda2\\lib\\site-packages\\IPython\\core\\interactiveshell.py:3058: DtypeWarning: Columns (23,33,37,955,956,957,962,976,977) have mixed types. Specify dtype option on import or set low_memory=False.\n",
      "  interactivity=interactivity, compiler=compiler, result=result)\n"
     ]
    },
    {
     "data": {
      "text/html": [
       "<div>\n",
       "<style scoped>\n",
       "    .dataframe tbody tr th:only-of-type {\n",
       "        vertical-align: middle;\n",
       "    }\n",
       "\n",
       "    .dataframe tbody tr th {\n",
       "        vertical-align: top;\n",
       "    }\n",
       "\n",
       "    .dataframe thead th {\n",
       "        text-align: right;\n",
       "    }\n",
       "</style>\n",
       "<table border=\"1\" class=\"dataframe\">\n",
       "  <thead>\n",
       "    <tr style=\"text-align: right;\">\n",
       "      <th></th>\n",
       "      <th>cik</th>\n",
       "      <th>GVKEY</th>\n",
       "    </tr>\n",
       "  </thead>\n",
       "  <tbody>\n",
       "    <tr>\n",
       "      <td>0</td>\n",
       "      <td>319126.0</td>\n",
       "      <td>1021</td>\n",
       "    </tr>\n",
       "    <tr>\n",
       "      <td>1</td>\n",
       "      <td>319126.0</td>\n",
       "      <td>1021</td>\n",
       "    </tr>\n",
       "    <tr>\n",
       "      <td>2</td>\n",
       "      <td>319126.0</td>\n",
       "      <td>1021</td>\n",
       "    </tr>\n",
       "    <tr>\n",
       "      <td>3</td>\n",
       "      <td>319126.0</td>\n",
       "      <td>1021</td>\n",
       "    </tr>\n",
       "    <tr>\n",
       "      <td>4</td>\n",
       "      <td>319126.0</td>\n",
       "      <td>1021</td>\n",
       "    </tr>\n",
       "  </tbody>\n",
       "</table>\n",
       "</div>"
      ],
      "text/plain": [
       "        cik  GVKEY\n",
       "0  319126.0   1021\n",
       "1  319126.0   1021\n",
       "2  319126.0   1021\n",
       "3  319126.0   1021\n",
       "4  319126.0   1021"
      ]
     },
<<<<<<< HEAD:eda_v10 (ignore, for slides purpose).ipynb
     "execution_count": 134,
=======
     "execution_count": 2,
>>>>>>> bb6dd412bdac106a200c1069f9942e48670856f0:eda_v4.ipynb
     "metadata": {},
     "output_type": "execute_result"
    }
   ],
   "source": [
    "# CSV of publically traded healthcare companies as classified by GIC subindustry codes\n",
    "df = pd.read_csv('healthcare_fundamentals_v3.csv') #update w/ latest version\n",
    "\n",
    "key_table = df[['cik', 'GVKEY']] #keys to join all databases\n",
    "key_table.head()"
   ]
  },
  {
   "cell_type": "code",
<<<<<<< HEAD:eda_v10 (ignore, for slides purpose).ipynb
   "execution_count": 135,
=======
   "execution_count": 3,
>>>>>>> bb6dd412bdac106a200c1069f9942e48670856f0:eda_v4.ipynb
   "metadata": {},
   "outputs": [
    {
     "name": "stdout",
     "output_type": "stream",
     "text": [
      "Total number of unique companies from 2000 - 2010: 1975\n"
     ]
    }
   ],
   "source": [
    "#all companies in healthcare industry from 2000 - 2010\n",
    "print('Total number of unique companies from 2000 - 2010:',df['GVKEY'].nunique())"
   ]
  },
  {
   "cell_type": "code",
<<<<<<< HEAD:eda_v10 (ignore, for slides purpose).ipynb
   "execution_count": 136,
=======
   "execution_count": 4,
>>>>>>> bb6dd412bdac106a200c1069f9942e48670856f0:eda_v4.ipynb
   "metadata": {},
   "outputs": [
    {
     "name": "stdout",
     "output_type": "stream",
     "text": [
      "5251\n",
      "(14065, 988)\n",
      "(8814, 988)\n"
     ]
    }
   ],
   "source": [
    "#eliminate private companies (ipodate = nan)\n",
    "mask = df['ipodate'].isna()\n",
    "print(mask.sum())\n",
    "print(df.shape)\n",
    "print(df[-mask].shape)\n",
    "df = df[-mask]"
   ]
  },
  {
   "cell_type": "code",
<<<<<<< HEAD:eda_v10 (ignore, for slides purpose).ipynb
   "execution_count": 137,
=======
   "execution_count": 5,
>>>>>>> bb6dd412bdac106a200c1069f9942e48670856f0:eda_v4.ipynb
   "metadata": {},
   "outputs": [
    {
     "name": "stdout",
     "output_type": "stream",
     "text": [
      "Total number of unique public companies from 2000 - 2010: 1175\n"
     ]
    }
   ],
   "source": [
    "#number of public healthcare companies\n",
    "print('Total number of unique public companies from 2000 - 2010:',df['GVKEY'].nunique())"
   ]
  },
  {
   "cell_type": "code",
<<<<<<< HEAD:eda_v10 (ignore, for slides purpose).ipynb
   "execution_count": 138,
=======
   "execution_count": 6,
>>>>>>> bb6dd412bdac106a200c1069f9942e48670856f0:eda_v4.ipynb
   "metadata": {},
   "outputs": [
    {
     "name": "stdout",
     "output_type": "stream",
     "text": [
      "Total number of unique public companies with market cap from 2000 - 2010: 1055\n"
     ]
    }
   ],
   "source": [
    "#eliminate rows with no market cap information\n",
    "mask = df['mkvalt'].isna()\n",
    "df = df[-mask]\n",
    "print('Total number of unique public companies with market cap from 2000 - 2010:',df['GVKEY'].nunique())"
   ]
  },
  {
   "cell_type": "code",
<<<<<<< HEAD:eda_v10 (ignore, for slides purpose).ipynb
   "execution_count": 139,
=======
   "execution_count": 7,
>>>>>>> bb6dd412bdac106a200c1069f9942e48670856f0:eda_v4.ipynb
   "metadata": {},
   "outputs": [],
   "source": [
    "# df['year'] =  pd.to_datetime(df['datadate']).dt.year\n",
    "# mask = df['year'] == 2000\n",
    "\n",
    "# df[mask]['GVKEY'].value_counts()"
   ]
  },
  {
   "cell_type": "code",
<<<<<<< HEAD:eda_v10 (ignore, for slides purpose).ipynb
   "execution_count": 140,
=======
   "execution_count": 8,
>>>>>>> bb6dd412bdac106a200c1069f9942e48670856f0:eda_v4.ipynb
   "metadata": {},
   "outputs": [],
   "source": [
    "df['year'] =  pd.to_datetime(df['datadate']).dt.year\n",
    "df = df.drop_duplicates(['year','GVKEY'])"
   ]
  },
  {
   "cell_type": "code",
<<<<<<< HEAD:eda_v10 (ignore, for slides purpose).ipynb
   "execution_count": 141,
   "metadata": {},
   "outputs": [
    {
     "data": {
      "text/html": [
       "<div>\n",
       "<style scoped>\n",
       "    .dataframe tbody tr th:only-of-type {\n",
       "        vertical-align: middle;\n",
       "    }\n",
       "\n",
       "    .dataframe tbody tr th {\n",
       "        vertical-align: top;\n",
       "    }\n",
       "\n",
       "    .dataframe thead th {\n",
       "        text-align: right;\n",
       "    }\n",
       "</style>\n",
       "<table border=\"1\" class=\"dataframe\">\n",
       "  <thead>\n",
       "    <tr style=\"text-align: right;\">\n",
       "      <th></th>\n",
       "      <th>GVKEY</th>\n",
       "      <th>LINKPRIM</th>\n",
       "      <th>LIID</th>\n",
       "      <th>LINKTYPE</th>\n",
       "      <th>LPERMNO</th>\n",
       "      <th>LPERMCO</th>\n",
       "      <th>LINKDT</th>\n",
       "      <th>LINKENDDT</th>\n",
       "      <th>datadate</th>\n",
       "      <th>fyear</th>\n",
       "      <th>...</th>\n",
       "      <th>sic</th>\n",
       "      <th>spcindcd</th>\n",
       "      <th>spcseccd</th>\n",
       "      <th>spcsrc</th>\n",
       "      <th>state</th>\n",
       "      <th>stko</th>\n",
       "      <th>weburl</th>\n",
       "      <th>dldte</th>\n",
       "      <th>ipodate</th>\n",
       "      <th>year</th>\n",
       "    </tr>\n",
       "  </thead>\n",
       "  <tbody>\n",
       "    <tr>\n",
       "      <td>40</td>\n",
       "      <td>1177</td>\n",
       "      <td>P</td>\n",
       "      <td>01</td>\n",
       "      <td>LC</td>\n",
       "      <td>88845.0</td>\n",
       "      <td>41072.0</td>\n",
       "      <td>12/14/2000</td>\n",
       "      <td>11/30/2018</td>\n",
       "      <td>12/31/2000</td>\n",
       "      <td>2000.0</td>\n",
       "      <td>...</td>\n",
       "      <td>6324</td>\n",
       "      <td>287.0</td>\n",
       "      <td>905.0</td>\n",
       "      <td>B+</td>\n",
       "      <td>CT</td>\n",
       "      <td>0.0</td>\n",
       "      <td>www.aetna.com</td>\n",
       "      <td>11/29/2018</td>\n",
       "      <td>09/24/1968</td>\n",
       "      <td>2000</td>\n",
       "    </tr>\n",
       "    <tr>\n",
       "      <td>41</td>\n",
       "      <td>1177</td>\n",
       "      <td>P</td>\n",
       "      <td>01</td>\n",
       "      <td>LC</td>\n",
       "      <td>88845.0</td>\n",
       "      <td>41072.0</td>\n",
       "      <td>12/14/2000</td>\n",
       "      <td>11/30/2018</td>\n",
       "      <td>12/31/2001</td>\n",
       "      <td>2001.0</td>\n",
       "      <td>...</td>\n",
       "      <td>6324</td>\n",
       "      <td>287.0</td>\n",
       "      <td>905.0</td>\n",
       "      <td>B+</td>\n",
       "      <td>CT</td>\n",
       "      <td>0.0</td>\n",
       "      <td>www.aetna.com</td>\n",
       "      <td>11/29/2018</td>\n",
       "      <td>09/24/1968</td>\n",
       "      <td>2001</td>\n",
       "    </tr>\n",
       "    <tr>\n",
       "      <td>43</td>\n",
       "      <td>1177</td>\n",
       "      <td>J</td>\n",
       "      <td>03</td>\n",
       "      <td>NR</td>\n",
       "      <td>NaN</td>\n",
       "      <td>NaN</td>\n",
       "      <td>06/29/2001</td>\n",
       "      <td>01/31/2006</td>\n",
       "      <td>12/31/2002</td>\n",
       "      <td>2002.0</td>\n",
       "      <td>...</td>\n",
       "      <td>6324</td>\n",
       "      <td>287.0</td>\n",
       "      <td>905.0</td>\n",
       "      <td>B+</td>\n",
       "      <td>CT</td>\n",
       "      <td>0.0</td>\n",
       "      <td>www.aetna.com</td>\n",
       "      <td>11/29/2018</td>\n",
       "      <td>09/24/1968</td>\n",
       "      <td>2002</td>\n",
       "    </tr>\n",
       "    <tr>\n",
       "      <td>45</td>\n",
       "      <td>1177</td>\n",
       "      <td>P</td>\n",
       "      <td>01</td>\n",
       "      <td>LC</td>\n",
       "      <td>88845.0</td>\n",
       "      <td>41072.0</td>\n",
       "      <td>12/14/2000</td>\n",
       "      <td>11/30/2018</td>\n",
       "      <td>12/31/2003</td>\n",
       "      <td>2003.0</td>\n",
       "      <td>...</td>\n",
       "      <td>6324</td>\n",
       "      <td>287.0</td>\n",
       "      <td>905.0</td>\n",
       "      <td>B+</td>\n",
       "      <td>CT</td>\n",
       "      <td>0.0</td>\n",
       "      <td>www.aetna.com</td>\n",
       "      <td>11/29/2018</td>\n",
       "      <td>09/24/1968</td>\n",
       "      <td>2003</td>\n",
       "    </tr>\n",
       "    <tr>\n",
       "      <td>47</td>\n",
       "      <td>1177</td>\n",
       "      <td>P</td>\n",
       "      <td>01</td>\n",
       "      <td>LC</td>\n",
       "      <td>88845.0</td>\n",
       "      <td>41072.0</td>\n",
       "      <td>12/14/2000</td>\n",
       "      <td>11/30/2018</td>\n",
       "      <td>12/31/2004</td>\n",
       "      <td>2004.0</td>\n",
       "      <td>...</td>\n",
       "      <td>6324</td>\n",
       "      <td>287.0</td>\n",
       "      <td>905.0</td>\n",
       "      <td>B+</td>\n",
       "      <td>CT</td>\n",
       "      <td>0.0</td>\n",
       "      <td>www.aetna.com</td>\n",
       "      <td>11/29/2018</td>\n",
       "      <td>09/24/1968</td>\n",
       "      <td>2004</td>\n",
       "    </tr>\n",
       "  </tbody>\n",
       "</table>\n",
       "<p>5 rows × 989 columns</p>\n",
       "</div>"
      ],
      "text/plain": [
       "    GVKEY LINKPRIM LIID LINKTYPE  LPERMNO  LPERMCO      LINKDT   LINKENDDT  \\\n",
       "40   1177        P   01       LC  88845.0  41072.0  12/14/2000  11/30/2018   \n",
       "41   1177        P   01       LC  88845.0  41072.0  12/14/2000  11/30/2018   \n",
       "43   1177        J   03       NR      NaN      NaN  06/29/2001  01/31/2006   \n",
       "45   1177        P   01       LC  88845.0  41072.0  12/14/2000  11/30/2018   \n",
       "47   1177        P   01       LC  88845.0  41072.0  12/14/2000  11/30/2018   \n",
       "\n",
       "      datadate   fyear  ...   sic spcindcd spcseccd spcsrc state stko  \\\n",
       "40  12/31/2000  2000.0  ...  6324    287.0    905.0     B+    CT  0.0   \n",
       "41  12/31/2001  2001.0  ...  6324    287.0    905.0     B+    CT  0.0   \n",
       "43  12/31/2002  2002.0  ...  6324    287.0    905.0     B+    CT  0.0   \n",
       "45  12/31/2003  2003.0  ...  6324    287.0    905.0     B+    CT  0.0   \n",
       "47  12/31/2004  2004.0  ...  6324    287.0    905.0     B+    CT  0.0   \n",
       "\n",
       "           weburl       dldte     ipodate  year  \n",
       "40  www.aetna.com  11/29/2018  09/24/1968  2000  \n",
       "41  www.aetna.com  11/29/2018  09/24/1968  2001  \n",
       "43  www.aetna.com  11/29/2018  09/24/1968  2002  \n",
       "45  www.aetna.com  11/29/2018  09/24/1968  2003  \n",
       "47  www.aetna.com  11/29/2018  09/24/1968  2004  \n",
       "\n",
       "[5 rows x 989 columns]"
      ]
     },
     "execution_count": 141,
     "metadata": {},
     "output_type": "execute_result"
    }
   ],
   "source": [
    "df.head()"
   ]
  },
  {
   "cell_type": "code",
   "execution_count": 142,
=======
   "execution_count": 9,
>>>>>>> bb6dd412bdac106a200c1069f9942e48670856f0:eda_v4.ipynb
   "metadata": {},
   "outputs": [
    {
     "name": "stdout",
     "output_type": "stream",
     "text": [
      "Total number of unique public companies with market cap from 2000 - 2010: 1055\n"
     ]
    }
   ],
   "source": [
    "print('Total number of unique public companies with market cap from 2000 - 2010:',df['GVKEY'].nunique())"
   ]
  },
  {
<<<<<<< HEAD:eda_v10 (ignore, for slides purpose).ipynb
   "cell_type": "code",
   "execution_count": 143,
   "metadata": {},
   "outputs": [
    {
     "data": {
      "text/plain": [
       "<matplotlib.axes._subplots.AxesSubplot at 0x253b503f788>"
      ]
     },
     "execution_count": 143,
     "metadata": {},
     "output_type": "execute_result"
    },
    {
     "data": {
      "image/png": "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\n",
      "text/plain": [
       "<Figure size 720x360 with 1 Axes>"
      ]
     },
     "metadata": {
      "needs_background": "light"
     },
     "output_type": "display_data"
    }
   ],
   "source": [
    "df.groupby('year')[['GVKEY']].count().plot(kind = 'bar', figsize = (10,5), title = 'Number of Public Healthcare Companies by Year')"
   ]
  },
  {
   "cell_type": "code",
   "execution_count": 144,
   "metadata": {},
   "outputs": [
    {
     "data": {
      "text/plain": [
       "330"
      ]
     },
     "execution_count": 144,
     "metadata": {},
     "output_type": "execute_result"
    }
   ],
   "source": [
    "def market_cap_size(df, lower, upper):\n",
    "    \n",
    "    mask = ((df['mkvalt'] >=lower) & (df['mkvalt'] <=upper))\n",
    "    df =df[mask]\n",
    "    \n",
    "    return df\n",
    "\n",
    "\n",
    "#market cap 500M - 1B\n",
    "df500 = market_cap_size(fund_ratio_bank, 500,1000000)\n",
    "df500['GVKEY'].nunique()"
   ]
  },
  {
   "cell_type": "code",
   "execution_count": 145,
   "metadata": {},
   "outputs": [
    {
     "data": {
      "text/html": [
       "<div>\n",
       "<style scoped>\n",
       "    .dataframe tbody tr th:only-of-type {\n",
       "        vertical-align: middle;\n",
       "    }\n",
       "\n",
       "    .dataframe tbody tr th {\n",
       "        vertical-align: top;\n",
       "    }\n",
       "\n",
       "    .dataframe thead th {\n",
       "        text-align: right;\n",
       "    }\n",
       "</style>\n",
       "<table border=\"1\" class=\"dataframe\">\n",
       "  <thead>\n",
       "    <tr style=\"text-align: right;\">\n",
       "      <th></th>\n",
       "      <th>GVKEY</th>\n",
       "    </tr>\n",
       "    <tr>\n",
       "      <th>year</th>\n",
       "      <th></th>\n",
       "    </tr>\n",
       "  </thead>\n",
       "  <tbody>\n",
       "    <tr>\n",
       "      <td>2000</td>\n",
       "      <td>1880</td>\n",
       "    </tr>\n",
       "    <tr>\n",
       "      <td>2001</td>\n",
       "      <td>1870</td>\n",
       "    </tr>\n",
       "    <tr>\n",
       "      <td>2002</td>\n",
       "      <td>1264</td>\n",
       "    </tr>\n",
       "    <tr>\n",
       "      <td>2003</td>\n",
       "      <td>1574</td>\n",
       "    </tr>\n",
       "    <tr>\n",
       "      <td>2004</td>\n",
       "      <td>1814</td>\n",
       "    </tr>\n",
       "    <tr>\n",
       "      <td>2005</td>\n",
       "      <td>1984</td>\n",
       "    </tr>\n",
       "    <tr>\n",
       "      <td>2006</td>\n",
       "      <td>1936</td>\n",
       "    </tr>\n",
       "    <tr>\n",
       "      <td>2007</td>\n",
       "      <td>1908</td>\n",
       "    </tr>\n",
       "    <tr>\n",
       "      <td>2008</td>\n",
       "      <td>1362</td>\n",
       "    </tr>\n",
       "    <tr>\n",
       "      <td>2009</td>\n",
       "      <td>1458</td>\n",
       "    </tr>\n",
       "    <tr>\n",
       "      <td>2010</td>\n",
       "      <td>110</td>\n",
       "    </tr>\n",
       "  </tbody>\n",
       "</table>\n",
       "</div>"
      ],
      "text/plain": [
       "      GVKEY\n",
       "year       \n",
       "2000   1880\n",
       "2001   1870\n",
       "2002   1264\n",
       "2003   1574\n",
       "2004   1814\n",
       "2005   1984\n",
       "2006   1936\n",
       "2007   1908\n",
       "2008   1362\n",
       "2009   1458\n",
       "2010    110"
      ]
     },
     "execution_count": 145,
     "metadata": {},
     "output_type": "execute_result"
    }
   ],
   "source": [
    "df500.groupby('year')[['GVKEY']].count()#.plot(kind = 'bar', figsize = (10,5), title = 'Number of Public Healthcare Companies by Year')"
   ]
  },
  {
=======
>>>>>>> bb6dd412bdac106a200c1069f9942e48670856f0:eda_v4.ipynb
   "cell_type": "markdown",
   "metadata": {},
   "source": [
    "# Read in Bankruptcy Data and Merge with Fundamentals"
   ]
  },
  {
   "cell_type": "code",
<<<<<<< HEAD:eda_v10 (ignore, for slides purpose).ipynb
   "execution_count": 146,
=======
   "execution_count": 10,
>>>>>>> bb6dd412bdac106a200c1069f9942e48670856f0:eda_v4.ipynb
   "metadata": {},
   "outputs": [],
   "source": [
    "# Bankrupt healthcare companies\n",
    "df_bankrupt = pd.read_csv('healthcare_bankrupt_audit_analytics_v2.csv')"
   ]
  },
  {
   "cell_type": "code",
<<<<<<< HEAD:eda_v10 (ignore, for slides purpose).ipynb
   "execution_count": 147,
=======
   "execution_count": 11,
>>>>>>> bb6dd412bdac106a200c1069f9942e48670856f0:eda_v4.ipynb
   "metadata": {},
   "outputs": [
    {
     "name": "stdout",
     "output_type": "stream",
     "text": [
      "Total of: 187 bankruptcy filings\n"
     ]
    }
   ],
   "source": [
    "print('Total of:' ,len(df_bankrupt), \"bankruptcy filings\")"
   ]
  },
  {
   "cell_type": "code",
<<<<<<< HEAD:eda_v10 (ignore, for slides purpose).ipynb
   "execution_count": 148,
=======
   "execution_count": 12,
>>>>>>> bb6dd412bdac106a200c1069f9942e48670856f0:eda_v4.ipynb
   "metadata": {},
   "outputs": [],
   "source": [
    "#create year column\n",
    "df_bankrupt['bankrupt_year'] = pd.to_datetime(df_bankrupt['BANK_BEGIN_DATE']).dt.year\n",
    "\n",
    "#filter for year 2001- 2010\n",
    "mask = (df_bankrupt['bankrupt_year'] >2000) &  (df_bankrupt['bankrupt_year']  < 2011)\n",
    "df_bankrupt = df_bankrupt[mask]\n"
   ]
  },
  {
   "cell_type": "code",
<<<<<<< HEAD:eda_v10 (ignore, for slides purpose).ipynb
   "execution_count": 149,
=======
   "execution_count": 13,
>>>>>>> bb6dd412bdac106a200c1069f9942e48670856f0:eda_v4.ipynb
   "metadata": {},
   "outputs": [
    {
     "name": "stdout",
     "output_type": "stream",
     "text": [
      "Total of: 129 bankruptcy filings between 2001 and 2010\n"
     ]
    }
   ],
   "source": [
    "print('Total of:' ,len(df_bankrupt), \"bankruptcy filings between 2001 and 2010\")"
   ]
  },
  {
   "cell_type": "code",
<<<<<<< HEAD:eda_v10 (ignore, for slides purpose).ipynb
   "execution_count": 150,
=======
   "execution_count": 14,
>>>>>>> bb6dd412bdac106a200c1069f9942e48670856f0:eda_v4.ipynb
   "metadata": {},
   "outputs": [
    {
     "name": "stdout",
     "output_type": "stream",
     "text": [
      "Total of: 82 CH 11 bankruptcy filings between 2001 and 2010\n"
     ]
    }
   ],
   "source": [
    "# Get chapter 11 companies only\n",
    "df_bankrupt= df_bankrupt[df_bankrupt['BANKRUPTCY_TYPE']==11]\n",
    "print('Total of:' ,len(df_bankrupt), \"CH 11 bankruptcy filings between 2001 and 2010\")"
   ]
  },
  {
   "cell_type": "code",
<<<<<<< HEAD:eda_v10 (ignore, for slides purpose).ipynb
   "execution_count": 151,
=======
   "execution_count": 15,
>>>>>>> bb6dd412bdac106a200c1069f9942e48670856f0:eda_v4.ipynb
   "metadata": {},
   "outputs": [
    {
     "data": {
      "text/plain": [
<<<<<<< HEAD:eda_v10 (ignore, for slides purpose).ipynb
       "<matplotlib.axes._subplots.AxesSubplot at 0x253b4ff2548>"
      ]
     },
     "execution_count": 151,
     "metadata": {},
     "output_type": "execute_result"
    },
    {
     "data": {
      "image/png": "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\n",
      "text/plain": [
       "<Figure size 720x360 with 1 Axes>"
      ]
     },
     "metadata": {
      "needs_background": "light"
     },
     "output_type": "display_data"
=======
       "<matplotlib.axes._subplots.AxesSubplot at 0x1ea803102c8>"
      ]
     },
     "execution_count": 15,
     "metadata": {},
     "output_type": "execute_result"
>>>>>>> bb6dd412bdac106a200c1069f9942e48670856f0:eda_v4.ipynb
    }
   ],
   "source": [
    "df_bankrupt['bankrupt_year'].value_counts().sort_index().plot(kind = 'bar', title = 'Number of CH11 Bankruptcies by Year', figsize = (10,5), color = 'teal')"
   ]
  },
  {
   "cell_type": "code",
   "execution_count": 152,
   "metadata": {},
   "outputs": [
    {
     "data": {
      "text/html": [
       "<div>\n",
       "<style scoped>\n",
       "    .dataframe tbody tr th:only-of-type {\n",
       "        vertical-align: middle;\n",
       "    }\n",
       "\n",
       "    .dataframe tbody tr th {\n",
       "        vertical-align: top;\n",
       "    }\n",
       "\n",
       "    .dataframe thead th {\n",
       "        text-align: right;\n",
       "    }\n",
       "</style>\n",
       "<table border=\"1\" class=\"dataframe\">\n",
       "  <thead>\n",
       "    <tr style=\"text-align: right;\">\n",
       "      <th></th>\n",
       "      <th>bankrupt_year</th>\n",
       "    </tr>\n",
       "  </thead>\n",
       "  <tbody>\n",
       "    <tr>\n",
       "      <td>2001</td>\n",
       "      <td>8</td>\n",
       "    </tr>\n",
       "    <tr>\n",
       "      <td>2002</td>\n",
       "      <td>15</td>\n",
       "    </tr>\n",
       "    <tr>\n",
       "      <td>2003</td>\n",
       "      <td>15</td>\n",
       "    </tr>\n",
       "    <tr>\n",
       "      <td>2004</td>\n",
       "      <td>3</td>\n",
       "    </tr>\n",
       "    <tr>\n",
       "      <td>2005</td>\n",
       "      <td>4</td>\n",
       "    </tr>\n",
       "    <tr>\n",
       "      <td>2006</td>\n",
       "      <td>7</td>\n",
       "    </tr>\n",
       "    <tr>\n",
       "      <td>2007</td>\n",
       "      <td>3</td>\n",
       "    </tr>\n",
       "    <tr>\n",
       "      <td>2008</td>\n",
       "      <td>8</td>\n",
       "    </tr>\n",
       "    <tr>\n",
       "      <td>2009</td>\n",
       "      <td>12</td>\n",
       "    </tr>\n",
       "    <tr>\n",
       "      <td>2010</td>\n",
       "      <td>7</td>\n",
       "    </tr>\n",
       "  </tbody>\n",
       "</table>\n",
       "</div>"
      ],
      "text/plain": [
       "      bankrupt_year\n",
       "2001              8\n",
       "2002             15\n",
       "2003             15\n",
       "2004              3\n",
       "2005              4\n",
       "2006              7\n",
       "2007              3\n",
       "2008              8\n",
       "2009             12\n",
       "2010              7"
      ]
     },
     "execution_count": 152,
     "metadata": {},
     "output_type": "execute_result"
    }
   ],
   "source": [
    "pd.DataFrame(df_bankrupt['bankrupt_year'].value_counts().sort_index())"
   ]
  },
  {
   "cell_type": "markdown",
   "metadata": {},
   "source": [
    "# Merge Financial Ratios"
   ]
  },
  {
   "cell_type": "code",
<<<<<<< HEAD:eda_v10 (ignore, for slides purpose).ipynb
   "execution_count": 153,
=======
   "execution_count": 16,
>>>>>>> bb6dd412bdac106a200c1069f9942e48670856f0:eda_v4.ipynb
   "metadata": {},
   "outputs": [
    {
     "data": {
      "text/html": [
       "<div>\n",
       "<style scoped>\n",
       "    .dataframe tbody tr th:only-of-type {\n",
       "        vertical-align: middle;\n",
       "    }\n",
       "\n",
       "    .dataframe tbody tr th {\n",
       "        vertical-align: top;\n",
       "    }\n",
       "\n",
       "    .dataframe thead th {\n",
       "        text-align: right;\n",
       "    }\n",
       "</style>\n",
       "<table border=\"1\" class=\"dataframe\">\n",
       "  <thead>\n",
       "    <tr style=\"text-align: right;\">\n",
       "      <th></th>\n",
       "      <th>cik</th>\n",
       "      <th>GVKEY</th>\n",
       "    </tr>\n",
       "  </thead>\n",
       "  <tbody>\n",
       "    <tr>\n",
       "      <td>0</td>\n",
       "      <td>319126.0</td>\n",
       "      <td>1021</td>\n",
       "    </tr>\n",
       "    <tr>\n",
       "      <td>9</td>\n",
       "      <td>730469.0</td>\n",
       "      <td>1034</td>\n",
       "    </tr>\n",
       "    <tr>\n",
       "      <td>17</td>\n",
       "      <td>1800.0</td>\n",
       "      <td>1078</td>\n",
       "    </tr>\n",
       "    <tr>\n",
       "      <td>28</td>\n",
       "      <td>2034.0</td>\n",
       "      <td>1094</td>\n",
       "    </tr>\n",
       "    <tr>\n",
       "      <td>39</td>\n",
       "      <td>313798.0</td>\n",
       "      <td>1115</td>\n",
       "    </tr>\n",
       "  </tbody>\n",
       "</table>\n",
       "</div>"
      ],
      "text/plain": [
       "         cik  GVKEY\n",
       "0   319126.0   1021\n",
       "9   730469.0   1034\n",
       "17    1800.0   1078\n",
       "28    2034.0   1094\n",
       "39  313798.0   1115"
      ]
     },
<<<<<<< HEAD:eda_v10 (ignore, for slides purpose).ipynb
     "execution_count": 153,
=======
     "execution_count": 16,
>>>>>>> bb6dd412bdac106a200c1069f9942e48670856f0:eda_v4.ipynb
     "metadata": {},
     "output_type": "execute_result"
    }
   ],
   "source": [
    "#create cik - GVKEY table from fundamentals dataset\n",
    "key_table = key_table.drop_duplicates()\n",
    "key_table.head()"
   ]
  },
  {
   "cell_type": "code",
<<<<<<< HEAD:eda_v10 (ignore, for slides purpose).ipynb
   "execution_count": 154,
=======
   "execution_count": 17,
>>>>>>> bb6dd412bdac106a200c1069f9942e48670856f0:eda_v4.ipynb
   "metadata": {},
   "outputs": [
    {
     "data": {
      "text/plain": [
       "1244"
      ]
     },
<<<<<<< HEAD:eda_v10 (ignore, for slides purpose).ipynb
     "execution_count": 154,
=======
     "execution_count": 17,
>>>>>>> bb6dd412bdac106a200c1069f9942e48670856f0:eda_v4.ipynb
     "metadata": {},
     "output_type": "execute_result"
    }
   ],
   "source": [
    "df_fin_ratio = pd.read_csv('fin ratios.csv')\n",
    "df_fin_ratio['gvkey'].nunique()"
   ]
  },
  {
   "cell_type": "code",
<<<<<<< HEAD:eda_v10 (ignore, for slides purpose).ipynb
   "execution_count": 155,
=======
   "execution_count": 18,
>>>>>>> bb6dd412bdac106a200c1069f9942e48670856f0:eda_v4.ipynb
   "metadata": {},
   "outputs": [],
   "source": [
    "bankrupt_key  = pd.merge(df_bankrupt, key_table, left_on = 'COMPANY_FKEY', right_on = 'cik', suffixes = ('_ratio', '_key'), how = 'inner')\n",
    "# df_table = df_table.drop_duplicates()"
   ]
  },
  {
   "cell_type": "code",
<<<<<<< HEAD:eda_v10 (ignore, for slides purpose).ipynb
   "execution_count": 156,
=======
   "execution_count": 19,
>>>>>>> bb6dd412bdac106a200c1069f9942e48670856f0:eda_v4.ipynb
   "metadata": {},
   "outputs": [
    {
     "data": {
      "text/plain": [
       "(82, 467)"
      ]
     },
<<<<<<< HEAD:eda_v10 (ignore, for slides purpose).ipynb
     "execution_count": 156,
=======
     "execution_count": 19,
>>>>>>> bb6dd412bdac106a200c1069f9942e48670856f0:eda_v4.ipynb
     "metadata": {},
     "output_type": "execute_result"
    }
   ],
   "source": [
    "bankrupt_key.shape"
   ]
  },
  {
   "cell_type": "code",
<<<<<<< HEAD:eda_v10 (ignore, for slides purpose).ipynb
   "execution_count": 157,
=======
   "execution_count": 20,
>>>>>>> bb6dd412bdac106a200c1069f9942e48670856f0:eda_v4.ipynb
   "metadata": {},
   "outputs": [
    {
     "data": {
      "text/plain": [
       "(7526, 76)"
      ]
     },
<<<<<<< HEAD:eda_v10 (ignore, for slides purpose).ipynb
     "execution_count": 157,
=======
     "execution_count": 20,
>>>>>>> bb6dd412bdac106a200c1069f9942e48670856f0:eda_v4.ipynb
     "metadata": {},
     "output_type": "execute_result"
    }
   ],
   "source": [
<<<<<<< HEAD:eda_v10 (ignore, for slides purpose).ipynb
    "fin_ratio_bankruptcy = pd.merge(df_fin_ratio, bankrupt_key, left_on = 'gvkey', right_on = 'GVKEY', suffixes = ('_finratio', '_bankrupt'), how = 'left')\n",
    "#processing for fin ratio to drop duplicates\n",
    "fin_ratio_bankruptcy['year'] = pd.to_datetime(fin_ratio_bankruptcy['adate']).dt.year\n",
=======
>>>>>>> bb6dd412bdac106a200c1069f9942e48670856f0:eda_v4.ipynb
    "df_fin_ratio=df_fin_ratio.drop_duplicates(subset=['gvkey','qdate'], keep='last')\n",
    "df_fin_ratio['qmonth']=pd.to_datetime(df_fin_ratio['qdate']).dt.month\n",
    "mask= df_fin_ratio['qmonth']==12\n",
    "df_fin_ratio= df_fin_ratio[mask]\n",
    "\n",
    "df_fin_ratio.shape"
   ]
  },
  {
   "cell_type": "code",
<<<<<<< HEAD:eda_v10 (ignore, for slides purpose).ipynb
   "execution_count": null,
   "metadata": {},
   "outputs": [],
   "source": []
  },
  {
   "cell_type": "code",
   "execution_count": 158,
=======
   "execution_count": 21,
   "metadata": {},
   "outputs": [],
   "source": [
    "fin_ratio_bankruptcy = pd.merge(df_fin_ratio, bankrupt_key, left_on = 'gvkey', right_on = 'GVKEY', suffixes = ('_finratio', '_bankrupt'), how = 'left')\n",
    "#processing for fin ratio to drop duplicates\n",
    "fin_ratio_bankruptcy['year'] = pd.to_datetime(fin_ratio_bankruptcy['adate']).dt.year"
   ]
  },
  {
   "cell_type": "code",
   "execution_count": 22,
>>>>>>> bb6dd412bdac106a200c1069f9942e48670856f0:eda_v4.ipynb
   "metadata": {},
   "outputs": [
    {
     "data": {
      "text/plain": [
<<<<<<< HEAD:eda_v10 (ignore, for slides purpose).ipynb
       "(95215, 543)"
      ]
     },
     "execution_count": 158,
=======
       "(7526, 544)"
      ]
     },
     "execution_count": 22,
>>>>>>> bb6dd412bdac106a200c1069f9942e48670856f0:eda_v4.ipynb
     "metadata": {},
     "output_type": "execute_result"
    }
   ],
   "source": [
    "fin_ratio_bankruptcy.shape"
   ]
  },
  {
   "cell_type": "code",
<<<<<<< HEAD:eda_v10 (ignore, for slides purpose).ipynb
   "execution_count": 159,
=======
   "execution_count": 23,
>>>>>>> bb6dd412bdac106a200c1069f9942e48670856f0:eda_v4.ipynb
   "metadata": {},
   "outputs": [],
   "source": [
    "#create bankruptcy dummy\n",
    "#adate is year end date\n",
    "mask = pd.to_datetime(fin_ratio_bankruptcy['adate']).dt.year + 1 == pd.to_datetime(fin_ratio_bankruptcy['BANK_BEGIN_DATE']).dt.year\n",
    "\n",
    "fin_ratio_bankruptcy['bankrupted'] = np.where(mask, 1,0)"
   ]
  },
  {
   "cell_type": "code",
<<<<<<< HEAD:eda_v10 (ignore, for slides purpose).ipynb
   "execution_count": 160,
=======
   "execution_count": 24,
>>>>>>> bb6dd412bdac106a200c1069f9942e48670856f0:eda_v4.ipynb
   "metadata": {},
   "outputs": [
    {
     "data": {
      "text/plain": [
       "1244"
      ]
     },
<<<<<<< HEAD:eda_v10 (ignore, for slides purpose).ipynb
     "execution_count": 160,
=======
     "execution_count": 24,
>>>>>>> bb6dd412bdac106a200c1069f9942e48670856f0:eda_v4.ipynb
     "metadata": {},
     "output_type": "execute_result"
    }
   ],
   "source": [
    "fin_ratio_bankruptcy['gvkey'].nunique()"
   ]
  },
  {
   "cell_type": "code",
<<<<<<< HEAD:eda_v10 (ignore, for slides purpose).ipynb
   "execution_count": 161,
=======
   "execution_count": 25,
>>>>>>> bb6dd412bdac106a200c1069f9942e48670856f0:eda_v4.ipynb
   "metadata": {},
   "outputs": [],
   "source": [
    "fin_ratio_bankruptcy['year'] = pd.to_datetime(fin_ratio_bankruptcy['adate']).dt.year"
   ]
  },
  {
   "cell_type": "code",
<<<<<<< HEAD:eda_v10 (ignore, for slides purpose).ipynb
   "execution_count": 162,
=======
   "execution_count": 26,
>>>>>>> bb6dd412bdac106a200c1069f9942e48670856f0:eda_v4.ipynb
   "metadata": {},
   "outputs": [],
   "source": [
    "fund_ratio_bank  = pd.merge(df, fin_ratio_bankruptcy, left_on = ['GVKEY', 'year'], right_on = ['gvkey', 'year'], suffixes = ('_fund', '_ratio'), how = 'inner')\n",
    "fund_ratio_bank = fund_ratio_bank.drop(columns = 'GVKEY_ratio')\n",
    "fund_ratio_bank = fund_ratio_bank.rename(columns = {'GVKEY_fund' : 'GVKEY'})\n"
   ]
  },
  {
   "cell_type": "code",
<<<<<<< HEAD:eda_v10 (ignore, for slides purpose).ipynb
   "execution_count": 163,
=======
   "execution_count": 27,
>>>>>>> bb6dd412bdac106a200c1069f9942e48670856f0:eda_v4.ipynb
   "metadata": {},
   "outputs": [
    {
     "name": "stdout",
     "output_type": "stream",
     "text": [
      "The final dataset includes: 855 companies, which have fundamental as well as financial ratios values\n"
     ]
    }
   ],
   "source": [
    "print('The final dataset includes:',fund_ratio_bank['GVKEY'].nunique(), 'companies, which have fundamental as well as financial ratios values')"
   ]
  },
  {
   "cell_type": "code",
<<<<<<< HEAD:eda_v10 (ignore, for slides purpose).ipynb
   "execution_count": 164,
=======
   "execution_count": 28,
>>>>>>> bb6dd412bdac106a200c1069f9942e48670856f0:eda_v4.ipynb
   "metadata": {},
   "outputs": [
    {
     "data": {
      "text/html": [
       "<div>\n",
       "<style scoped>\n",
       "    .dataframe tbody tr th:only-of-type {\n",
       "        vertical-align: middle;\n",
       "    }\n",
       "\n",
       "    .dataframe tbody tr th {\n",
       "        vertical-align: top;\n",
       "    }\n",
       "\n",
       "    .dataframe thead th {\n",
       "        text-align: right;\n",
       "    }\n",
       "</style>\n",
       "<table border=\"1\" class=\"dataframe\">\n",
       "  <thead>\n",
       "    <tr style=\"text-align: right;\">\n",
       "      <th></th>\n",
       "      <th>GVKEY</th>\n",
       "      <th>LINKPRIM</th>\n",
       "      <th>LIID</th>\n",
       "      <th>LINKTYPE</th>\n",
       "      <th>LPERMNO</th>\n",
       "      <th>LPERMCO</th>\n",
       "      <th>LINKDT</th>\n",
       "      <th>LINKENDDT</th>\n",
       "      <th>datadate</th>\n",
       "      <th>fyear</th>\n",
       "      <th>...</th>\n",
       "      <th>HIWATER_INCMST_NETINC_TTM_DATE</th>\n",
       "      <th>HIWATER_INCMST_NETINC_TTM</th>\n",
       "      <th>HIWATER_INCMST_NETINC_FY_DATE</th>\n",
       "      <th>HIWATER_INCMST_NETINC_FY</th>\n",
       "      <th>NAME_CHANGE_DATE1</th>\n",
       "      <th>NAME_CHANGE_DATE2</th>\n",
       "      <th>NAME_CHANGE_DATE3</th>\n",
       "      <th>bankrupt_year</th>\n",
       "      <th>cik_ratio</th>\n",
       "      <th>bankrupted</th>\n",
       "    </tr>\n",
       "  </thead>\n",
       "  <tbody>\n",
       "    <tr>\n",
       "      <td>0</td>\n",
       "      <td>1177</td>\n",
       "      <td>P</td>\n",
       "      <td>01</td>\n",
       "      <td>LC</td>\n",
       "      <td>88845.0</td>\n",
       "      <td>41072.0</td>\n",
       "      <td>12/14/2000</td>\n",
       "      <td>11/30/2018</td>\n",
       "      <td>12/31/2000</td>\n",
       "      <td>2000.0</td>\n",
       "      <td>...</td>\n",
       "      <td>NaN</td>\n",
       "      <td>NaN</td>\n",
       "      <td>NaN</td>\n",
       "      <td>NaN</td>\n",
       "      <td>NaN</td>\n",
       "      <td>NaN</td>\n",
       "      <td>NaN</td>\n",
       "      <td>NaN</td>\n",
       "      <td>NaN</td>\n",
       "      <td>0</td>\n",
       "    </tr>\n",
       "    <tr>\n",
       "      <td>1</td>\n",
       "      <td>1177</td>\n",
       "      <td>P</td>\n",
       "      <td>01</td>\n",
       "      <td>LC</td>\n",
       "      <td>88845.0</td>\n",
       "      <td>41072.0</td>\n",
       "      <td>12/14/2000</td>\n",
       "      <td>11/30/2018</td>\n",
       "      <td>12/31/2000</td>\n",
       "      <td>2000.0</td>\n",
       "      <td>...</td>\n",
       "      <td>NaN</td>\n",
       "      <td>NaN</td>\n",
       "      <td>NaN</td>\n",
       "      <td>NaN</td>\n",
       "      <td>NaN</td>\n",
       "      <td>NaN</td>\n",
       "      <td>NaN</td>\n",
       "      <td>NaN</td>\n",
       "      <td>NaN</td>\n",
       "      <td>0</td>\n",
       "    </tr>\n",
       "    <tr>\n",
       "      <td>2</td>\n",
       "      <td>1177</td>\n",
       "      <td>P</td>\n",
       "      <td>01</td>\n",
       "      <td>LC</td>\n",
       "      <td>88845.0</td>\n",
       "      <td>41072.0</td>\n",
       "      <td>12/14/2000</td>\n",
       "      <td>11/30/2018</td>\n",
       "      <td>12/31/2000</td>\n",
       "      <td>2000.0</td>\n",
       "      <td>...</td>\n",
       "      <td>NaN</td>\n",
       "      <td>NaN</td>\n",
       "      <td>NaN</td>\n",
       "      <td>NaN</td>\n",
       "      <td>NaN</td>\n",
       "      <td>NaN</td>\n",
       "      <td>NaN</td>\n",
       "      <td>NaN</td>\n",
       "      <td>NaN</td>\n",
       "      <td>0</td>\n",
       "    </tr>\n",
       "    <tr>\n",
       "      <td>3</td>\n",
       "      <td>1177</td>\n",
       "      <td>P</td>\n",
       "      <td>01</td>\n",
       "      <td>LC</td>\n",
       "      <td>88845.0</td>\n",
       "      <td>41072.0</td>\n",
       "      <td>12/14/2000</td>\n",
       "      <td>11/30/2018</td>\n",
       "      <td>12/31/2000</td>\n",
       "      <td>2000.0</td>\n",
       "      <td>...</td>\n",
       "      <td>NaN</td>\n",
       "      <td>NaN</td>\n",
       "      <td>NaN</td>\n",
       "      <td>NaN</td>\n",
       "      <td>NaN</td>\n",
       "      <td>NaN</td>\n",
       "      <td>NaN</td>\n",
       "      <td>NaN</td>\n",
       "      <td>NaN</td>\n",
       "      <td>0</td>\n",
       "    </tr>\n",
       "    <tr>\n",
       "      <td>4</td>\n",
       "      <td>1177</td>\n",
       "      <td>P</td>\n",
       "      <td>01</td>\n",
       "      <td>LC</td>\n",
       "      <td>88845.0</td>\n",
       "      <td>41072.0</td>\n",
       "      <td>12/14/2000</td>\n",
       "      <td>11/30/2018</td>\n",
       "      <td>12/31/2000</td>\n",
       "      <td>2000.0</td>\n",
       "      <td>...</td>\n",
       "      <td>NaN</td>\n",
       "      <td>NaN</td>\n",
       "      <td>NaN</td>\n",
       "      <td>NaN</td>\n",
       "      <td>NaN</td>\n",
       "      <td>NaN</td>\n",
       "      <td>NaN</td>\n",
       "      <td>NaN</td>\n",
       "      <td>NaN</td>\n",
       "      <td>0</td>\n",
       "    </tr>\n",
       "  </tbody>\n",
       "</table>\n",
       "<p>5 rows × 1531 columns</p>\n",
       "</div>"
      ],
      "text/plain": [
       "   GVKEY LINKPRIM LIID LINKTYPE  LPERMNO  LPERMCO      LINKDT   LINKENDDT  \\\n",
       "0   1177        P   01       LC  88845.0  41072.0  12/14/2000  11/30/2018   \n",
       "1   1177        P   01       LC  88845.0  41072.0  12/14/2000  11/30/2018   \n",
       "2   1177        P   01       LC  88845.0  41072.0  12/14/2000  11/30/2018   \n",
       "3   1177        P   01       LC  88845.0  41072.0  12/14/2000  11/30/2018   \n",
       "4   1177        P   01       LC  88845.0  41072.0  12/14/2000  11/30/2018   \n",
       "\n",
       "     datadate   fyear  ... HIWATER_INCMST_NETINC_TTM_DATE  \\\n",
       "0  12/31/2000  2000.0  ...                            NaN   \n",
       "1  12/31/2000  2000.0  ...                            NaN   \n",
       "2  12/31/2000  2000.0  ...                            NaN   \n",
       "3  12/31/2000  2000.0  ...                            NaN   \n",
       "4  12/31/2000  2000.0  ...                            NaN   \n",
       "\n",
       "  HIWATER_INCMST_NETINC_TTM HIWATER_INCMST_NETINC_FY_DATE  \\\n",
       "0                       NaN                           NaN   \n",
       "1                       NaN                           NaN   \n",
       "2                       NaN                           NaN   \n",
       "3                       NaN                           NaN   \n",
       "4                       NaN                           NaN   \n",
       "\n",
       "  HIWATER_INCMST_NETINC_FY NAME_CHANGE_DATE1 NAME_CHANGE_DATE2  \\\n",
       "0                      NaN               NaN               NaN   \n",
       "1                      NaN               NaN               NaN   \n",
       "2                      NaN               NaN               NaN   \n",
       "3                      NaN               NaN               NaN   \n",
       "4                      NaN               NaN               NaN   \n",
       "\n",
       "  NAME_CHANGE_DATE3 bankrupt_year cik_ratio bankrupted  \n",
       "0               NaN           NaN       NaN          0  \n",
       "1               NaN           NaN       NaN          0  \n",
       "2               NaN           NaN       NaN          0  \n",
       "3               NaN           NaN       NaN          0  \n",
       "4               NaN           NaN       NaN          0  \n",
       "\n",
       "[5 rows x 1531 columns]"
      ]
     },
<<<<<<< HEAD:eda_v10 (ignore, for slides purpose).ipynb
     "execution_count": 164,
=======
     "execution_count": 28,
>>>>>>> bb6dd412bdac106a200c1069f9942e48670856f0:eda_v4.ipynb
     "metadata": {},
     "output_type": "execute_result"
    }
   ],
   "source": [
    "fund_ratio_bank.head()"
   ]
  },
  {
   "cell_type": "code",
<<<<<<< HEAD:eda_v10 (ignore, for slides purpose).ipynb
   "execution_count": 191,
=======
   "execution_count": 29,
>>>>>>> bb6dd412bdac106a200c1069f9942e48670856f0:eda_v4.ipynb
   "metadata": {},
   "outputs": [
    {
     "data": {
      "text/plain": [
       "784"
      ]
     },
<<<<<<< HEAD:eda_v10 (ignore, for slides purpose).ipynb
     "execution_count": 191,
=======
     "execution_count": 29,
>>>>>>> bb6dd412bdac106a200c1069f9942e48670856f0:eda_v4.ipynb
     "metadata": {},
     "output_type": "execute_result"
    }
   ],
   "source": [
    "#filter for market cap size (in MM)\n",
    "#recommend using this after creating bankruptcy dummy\n",
    "\n",
    "def market_cap_size(df, lower, upper):\n",
    "    \n",
    "    mask = ((df['mkvalt'] >=lower) & (df['mkvalt'] <=upper))\n",
    "    df =df[mask]\n",
    "    \n",
    "    return df\n",
    "\n",
    "\n",
    "#market cap 500M - 1B\n",
    "df500 = market_cap_size(fund_ratio_bank, 0,1000)\n",
    "\n",
    "df500['GVKEY'].nunique()"
   ]
  },
  {
   "cell_type": "code",
<<<<<<< HEAD:eda_v10 (ignore, for slides purpose).ipynb
   "execution_count": 192,
=======
   "execution_count": 30,
>>>>>>> bb6dd412bdac106a200c1069f9942e48670856f0:eda_v4.ipynb
   "metadata": {},
   "outputs": [
    {
     "data": {
      "text/plain": [
       "150"
      ]
     },
<<<<<<< HEAD:eda_v10 (ignore, for slides purpose).ipynb
     "execution_count": 192,
=======
     "execution_count": 30,
>>>>>>> bb6dd412bdac106a200c1069f9942e48670856f0:eda_v4.ipynb
     "metadata": {},
     "output_type": "execute_result"
    }
   ],
   "source": [
    "df500['bankrupted'].sum()"
   ]
  },
  {
   "cell_type": "code",
<<<<<<< HEAD:eda_v10 (ignore, for slides purpose).ipynb
   "execution_count": 193,
=======
   "execution_count": 31,
>>>>>>> bb6dd412bdac106a200c1069f9942e48670856f0:eda_v4.ipynb
   "metadata": {},
   "outputs": [],
   "source": [
    "# get list of financial ratio that could be used as input\n",
    "listratio=[]\n",
    "for col in df_fin_ratio.columns: \n",
    "    listratio.append(col) \n"
   ]
  },
  {
   "cell_type": "code",
<<<<<<< HEAD:eda_v10 (ignore, for slides purpose).ipynb
   "execution_count": 194,
   "metadata": {},
   "outputs": [
    {
     "name": "stdout",
     "output_type": "stream",
     "text": [
      "gvkey : 271794\n",
      "adate : 12/31/2009\n",
      "qdate : 12/31/2009\n",
      "public_date : 12/31/2010\n",
      "CAPEI : 13971.9\n",
      "bm : 27.778000000000002\n",
      "evm : 160265.0\n",
      "pe_op_basic : 730.0\n",
      "pe_op_dil : 774.6669999999999\n",
      "pe_exi : 774.6669999999999\n",
      "pe_inc : 750.0\n",
      "ps : 435.69199999999995\n",
      "pcf : 452.796\n",
      "dpr : 19256.7\n",
      "npm : 68.516\n",
      "opmbd : 0.937\n",
      "opmad : 0.934\n",
      "gpm : 1.0\n",
      "ptpm : 68.516\n",
      "cfm : 71.889\n",
      "roa : 1.6019999999999999\n",
      "roe : 75.706\n",
      "roce : 1359.14\n",
      "efftax : 48.062\n",
      "aftret_eq : 347.61300000000006\n",
      "aftret_invcapx : 275.086\n",
      "aftret_equity : 347.61300000000006\n",
      "pretret_noa : 231.696\n",
      "pretret_earnat : 2.436\n",
      "GProf : 3.1189999999999998\n",
      "equity_invcap : 166.02900000000002\n",
      "debt_invcap : 207.231\n",
      "totdebt_invcap : 675.538\n",
      "capital_ratio : 346.47900000000004\n",
      "int_debt : 1162.0\n",
      "int_totdebt : 2092.0\n",
      "cash_lt : 317.675\n",
      "invt_act : 1.001\n",
      "rect_act : 0.972\n",
      "debt_at : 4.821000000000001\n",
      "debt_ebitda : 3340.75\n",
      "short_debt : 1.272\n",
      "curr_debt : 1.351\n",
      "lt_debt : 0.9620000000000001\n",
      "profit_lct : 17.590999999999998\n",
      "ocf_lct : 27.826999999999998\n",
      "cash_debt : 20.612\n",
      "fcf_ocf : 20.467\n",
      "lt_ppent : 23897.0\n",
      "dltt_be : 617.827\n",
      "debt_assets : 8.807\n",
      "debt_capital : 220.18200000000002\n",
      "de_ratio : 10192.4\n",
      "intcov : 20113.0\n",
      "intcov_ratio : 15837.0\n",
      "cash_ratio : 317.675\n",
      "quick_ratio : 318.82\n",
      "curr_ratio : 318.82\n",
      "cash_conversion : 172478.0\n",
      "inv_turn : 71528.0\n",
      "at_turn : 13.337\n",
      "rect_turn : 14502.0\n",
      "pay_turn : 567.714\n",
      "sale_invcap : 5172.31\n",
      "sale_equity : 7207.26\n",
      "sale_nwc : 5229.33\n",
      "rd_sale : 25684.4\n",
      "adv_sale : 12.5\n",
      "staff_sale : 338.767\n",
      "accrual : 23.608\n",
      "ptb : 48.376000000000005\n",
      "PEG_trailing : 93.94\n"
     ]
    },
    {
     "ename": "TypeError",
     "evalue": "'>=' not supported between instances of 'float' and 'str'",
     "output_type": "error",
     "traceback": [
      "\u001b[1;31m---------------------------------------------------------------------------\u001b[0m",
      "\u001b[1;31mTypeError\u001b[0m                                 Traceback (most recent call last)",
      "\u001b[1;32m~\\Anaconda3\\lib\\site-packages\\pandas\\core\\nanops.py\u001b[0m in \u001b[0;36mf\u001b[1;34m(values, axis, skipna, **kwds)\u001b[0m\n\u001b[0;32m    119\u001b[0m                 \u001b[1;32melse\u001b[0m\u001b[1;33m:\u001b[0m\u001b[1;33m\u001b[0m\u001b[1;33m\u001b[0m\u001b[0m\n\u001b[1;32m--> 120\u001b[1;33m                     \u001b[0mresult\u001b[0m \u001b[1;33m=\u001b[0m \u001b[0malt\u001b[0m\u001b[1;33m(\u001b[0m\u001b[0mvalues\u001b[0m\u001b[1;33m,\u001b[0m \u001b[0maxis\u001b[0m\u001b[1;33m=\u001b[0m\u001b[0maxis\u001b[0m\u001b[1;33m,\u001b[0m \u001b[0mskipna\u001b[0m\u001b[1;33m=\u001b[0m\u001b[0mskipna\u001b[0m\u001b[1;33m,\u001b[0m \u001b[1;33m**\u001b[0m\u001b[0mkwds\u001b[0m\u001b[1;33m)\u001b[0m\u001b[1;33m\u001b[0m\u001b[1;33m\u001b[0m\u001b[0m\n\u001b[0m\u001b[0;32m    121\u001b[0m             \u001b[1;32mexcept\u001b[0m \u001b[0mException\u001b[0m\u001b[1;33m:\u001b[0m\u001b[1;33m\u001b[0m\u001b[1;33m\u001b[0m\u001b[0m\n",
      "\u001b[1;32m~\\Anaconda3\\lib\\site-packages\\pandas\\core\\nanops.py\u001b[0m in \u001b[0;36mreduction\u001b[1;34m(values, axis, skipna, mask)\u001b[0m\n\u001b[0;32m    842\u001b[0m         \u001b[1;32melse\u001b[0m\u001b[1;33m:\u001b[0m\u001b[1;33m\u001b[0m\u001b[1;33m\u001b[0m\u001b[0m\n\u001b[1;32m--> 843\u001b[1;33m             \u001b[0mresult\u001b[0m \u001b[1;33m=\u001b[0m \u001b[0mgetattr\u001b[0m\u001b[1;33m(\u001b[0m\u001b[0mvalues\u001b[0m\u001b[1;33m,\u001b[0m \u001b[0mmeth\u001b[0m\u001b[1;33m)\u001b[0m\u001b[1;33m(\u001b[0m\u001b[0maxis\u001b[0m\u001b[1;33m)\u001b[0m\u001b[1;33m\u001b[0m\u001b[1;33m\u001b[0m\u001b[0m\n\u001b[0m\u001b[0;32m    844\u001b[0m \u001b[1;33m\u001b[0m\u001b[0m\n",
      "\u001b[1;32m~\\Anaconda3\\lib\\site-packages\\numpy\\core\\_methods.py\u001b[0m in \u001b[0;36m_amax\u001b[1;34m(a, axis, out, keepdims, initial)\u001b[0m\n\u001b[0;32m     27\u001b[0m           initial=_NoValue):\n\u001b[1;32m---> 28\u001b[1;33m     \u001b[1;32mreturn\u001b[0m \u001b[0mumr_maximum\u001b[0m\u001b[1;33m(\u001b[0m\u001b[0ma\u001b[0m\u001b[1;33m,\u001b[0m \u001b[0maxis\u001b[0m\u001b[1;33m,\u001b[0m \u001b[1;32mNone\u001b[0m\u001b[1;33m,\u001b[0m \u001b[0mout\u001b[0m\u001b[1;33m,\u001b[0m \u001b[0mkeepdims\u001b[0m\u001b[1;33m,\u001b[0m \u001b[0minitial\u001b[0m\u001b[1;33m)\u001b[0m\u001b[1;33m\u001b[0m\u001b[1;33m\u001b[0m\u001b[0m\n\u001b[0m\u001b[0;32m     29\u001b[0m \u001b[1;33m\u001b[0m\u001b[0m\n",
      "\u001b[1;31mTypeError\u001b[0m: '>=' not supported between instances of 'float' and 'str'",
      "\nDuring handling of the above exception, another exception occurred:\n",
      "\u001b[1;31mTypeError\u001b[0m                                 Traceback (most recent call last)",
      "\u001b[1;32m<ipython-input-194-f1f694657895>\u001b[0m in \u001b[0;36m<module>\u001b[1;34m\u001b[0m\n\u001b[0;32m      1\u001b[0m \u001b[1;32mfor\u001b[0m \u001b[0mi\u001b[0m \u001b[1;32min\u001b[0m \u001b[0mlistratio\u001b[0m\u001b[1;33m:\u001b[0m\u001b[1;33m\u001b[0m\u001b[1;33m\u001b[0m\u001b[0m\n\u001b[1;32m----> 2\u001b[1;33m     \u001b[0mprint\u001b[0m\u001b[1;33m(\u001b[0m\u001b[0mi\u001b[0m\u001b[1;33m,\u001b[0m\u001b[1;34m\":\"\u001b[0m\u001b[1;33m,\u001b[0m\u001b[0mdf500\u001b[0m\u001b[1;33m[\u001b[0m\u001b[0mi\u001b[0m\u001b[1;33m]\u001b[0m\u001b[1;33m.\u001b[0m\u001b[0mmax\u001b[0m\u001b[1;33m(\u001b[0m\u001b[1;33m)\u001b[0m\u001b[1;33m)\u001b[0m\u001b[1;33m\u001b[0m\u001b[1;33m\u001b[0m\u001b[0m\n\u001b[0m",
      "\u001b[1;32m~\\Anaconda3\\lib\\site-packages\\pandas\\core\\generic.py\u001b[0m in \u001b[0;36mstat_func\u001b[1;34m(self, axis, skipna, level, numeric_only, **kwargs)\u001b[0m\n\u001b[0;32m  11616\u001b[0m             \u001b[1;32mreturn\u001b[0m \u001b[0mself\u001b[0m\u001b[1;33m.\u001b[0m\u001b[0m_agg_by_level\u001b[0m\u001b[1;33m(\u001b[0m\u001b[0mname\u001b[0m\u001b[1;33m,\u001b[0m \u001b[0maxis\u001b[0m\u001b[1;33m=\u001b[0m\u001b[0maxis\u001b[0m\u001b[1;33m,\u001b[0m \u001b[0mlevel\u001b[0m\u001b[1;33m=\u001b[0m\u001b[0mlevel\u001b[0m\u001b[1;33m,\u001b[0m \u001b[0mskipna\u001b[0m\u001b[1;33m=\u001b[0m\u001b[0mskipna\u001b[0m\u001b[1;33m)\u001b[0m\u001b[1;33m\u001b[0m\u001b[1;33m\u001b[0m\u001b[0m\n\u001b[0;32m  11617\u001b[0m         return self._reduce(\n\u001b[1;32m> 11618\u001b[1;33m             \u001b[0mf\u001b[0m\u001b[1;33m,\u001b[0m \u001b[0mname\u001b[0m\u001b[1;33m,\u001b[0m \u001b[0maxis\u001b[0m\u001b[1;33m=\u001b[0m\u001b[0maxis\u001b[0m\u001b[1;33m,\u001b[0m \u001b[0mskipna\u001b[0m\u001b[1;33m=\u001b[0m\u001b[0mskipna\u001b[0m\u001b[1;33m,\u001b[0m \u001b[0mnumeric_only\u001b[0m\u001b[1;33m=\u001b[0m\u001b[0mnumeric_only\u001b[0m\u001b[1;33m\u001b[0m\u001b[1;33m\u001b[0m\u001b[0m\n\u001b[0m\u001b[0;32m  11619\u001b[0m         )\n\u001b[0;32m  11620\u001b[0m \u001b[1;33m\u001b[0m\u001b[0m\n",
      "\u001b[1;32m~\\Anaconda3\\lib\\site-packages\\pandas\\core\\series.py\u001b[0m in \u001b[0;36m_reduce\u001b[1;34m(self, op, name, axis, skipna, numeric_only, filter_type, **kwds)\u001b[0m\n\u001b[0;32m   4085\u001b[0m                 )\n\u001b[0;32m   4086\u001b[0m             \u001b[1;32mwith\u001b[0m \u001b[0mnp\u001b[0m\u001b[1;33m.\u001b[0m\u001b[0merrstate\u001b[0m\u001b[1;33m(\u001b[0m\u001b[0mall\u001b[0m\u001b[1;33m=\u001b[0m\u001b[1;34m\"ignore\"\u001b[0m\u001b[1;33m)\u001b[0m\u001b[1;33m:\u001b[0m\u001b[1;33m\u001b[0m\u001b[1;33m\u001b[0m\u001b[0m\n\u001b[1;32m-> 4087\u001b[1;33m                 \u001b[1;32mreturn\u001b[0m \u001b[0mop\u001b[0m\u001b[1;33m(\u001b[0m\u001b[0mdelegate\u001b[0m\u001b[1;33m,\u001b[0m \u001b[0mskipna\u001b[0m\u001b[1;33m=\u001b[0m\u001b[0mskipna\u001b[0m\u001b[1;33m,\u001b[0m \u001b[1;33m**\u001b[0m\u001b[0mkwds\u001b[0m\u001b[1;33m)\u001b[0m\u001b[1;33m\u001b[0m\u001b[1;33m\u001b[0m\u001b[0m\n\u001b[0m\u001b[0;32m   4088\u001b[0m \u001b[1;33m\u001b[0m\u001b[0m\n\u001b[0;32m   4089\u001b[0m         \u001b[1;31m# TODO(EA) dispatch to Index\u001b[0m\u001b[1;33m\u001b[0m\u001b[1;33m\u001b[0m\u001b[1;33m\u001b[0m\u001b[0m\n",
      "\u001b[1;32m~\\Anaconda3\\lib\\site-packages\\pandas\\core\\nanops.py\u001b[0m in \u001b[0;36mf\u001b[1;34m(values, axis, skipna, **kwds)\u001b[0m\n\u001b[0;32m    121\u001b[0m             \u001b[1;32mexcept\u001b[0m \u001b[0mException\u001b[0m\u001b[1;33m:\u001b[0m\u001b[1;33m\u001b[0m\u001b[1;33m\u001b[0m\u001b[0m\n\u001b[0;32m    122\u001b[0m                 \u001b[1;32mtry\u001b[0m\u001b[1;33m:\u001b[0m\u001b[1;33m\u001b[0m\u001b[1;33m\u001b[0m\u001b[0m\n\u001b[1;32m--> 123\u001b[1;33m                     \u001b[0mresult\u001b[0m \u001b[1;33m=\u001b[0m \u001b[0malt\u001b[0m\u001b[1;33m(\u001b[0m\u001b[0mvalues\u001b[0m\u001b[1;33m,\u001b[0m \u001b[0maxis\u001b[0m\u001b[1;33m=\u001b[0m\u001b[0maxis\u001b[0m\u001b[1;33m,\u001b[0m \u001b[0mskipna\u001b[0m\u001b[1;33m=\u001b[0m\u001b[0mskipna\u001b[0m\u001b[1;33m,\u001b[0m \u001b[1;33m**\u001b[0m\u001b[0mkwds\u001b[0m\u001b[1;33m)\u001b[0m\u001b[1;33m\u001b[0m\u001b[1;33m\u001b[0m\u001b[0m\n\u001b[0m\u001b[0;32m    124\u001b[0m                 \u001b[1;32mexcept\u001b[0m \u001b[0mValueError\u001b[0m \u001b[1;32mas\u001b[0m \u001b[0me\u001b[0m\u001b[1;33m:\u001b[0m\u001b[1;33m\u001b[0m\u001b[1;33m\u001b[0m\u001b[0m\n\u001b[0;32m    125\u001b[0m                     \u001b[1;31m# we want to transform an object array\u001b[0m\u001b[1;33m\u001b[0m\u001b[1;33m\u001b[0m\u001b[1;33m\u001b[0m\u001b[0m\n",
      "\u001b[1;32m~\\Anaconda3\\lib\\site-packages\\pandas\\core\\nanops.py\u001b[0m in \u001b[0;36mreduction\u001b[1;34m(values, axis, skipna, mask)\u001b[0m\n\u001b[0;32m    841\u001b[0m                 \u001b[0mresult\u001b[0m \u001b[1;33m=\u001b[0m \u001b[0mnp\u001b[0m\u001b[1;33m.\u001b[0m\u001b[0mnan\u001b[0m\u001b[1;33m\u001b[0m\u001b[1;33m\u001b[0m\u001b[0m\n\u001b[0;32m    842\u001b[0m         \u001b[1;32melse\u001b[0m\u001b[1;33m:\u001b[0m\u001b[1;33m\u001b[0m\u001b[1;33m\u001b[0m\u001b[0m\n\u001b[1;32m--> 843\u001b[1;33m             \u001b[0mresult\u001b[0m \u001b[1;33m=\u001b[0m \u001b[0mgetattr\u001b[0m\u001b[1;33m(\u001b[0m\u001b[0mvalues\u001b[0m\u001b[1;33m,\u001b[0m \u001b[0mmeth\u001b[0m\u001b[1;33m)\u001b[0m\u001b[1;33m(\u001b[0m\u001b[0maxis\u001b[0m\u001b[1;33m)\u001b[0m\u001b[1;33m\u001b[0m\u001b[1;33m\u001b[0m\u001b[0m\n\u001b[0m\u001b[0;32m    844\u001b[0m \u001b[1;33m\u001b[0m\u001b[0m\n\u001b[0;32m    845\u001b[0m         \u001b[0mresult\u001b[0m \u001b[1;33m=\u001b[0m \u001b[0m_wrap_results\u001b[0m\u001b[1;33m(\u001b[0m\u001b[0mresult\u001b[0m\u001b[1;33m,\u001b[0m \u001b[0mdtype\u001b[0m\u001b[1;33m,\u001b[0m \u001b[0mfill_value\u001b[0m\u001b[1;33m)\u001b[0m\u001b[1;33m\u001b[0m\u001b[1;33m\u001b[0m\u001b[0m\n",
      "\u001b[1;32m~\\Anaconda3\\lib\\site-packages\\numpy\\core\\_methods.py\u001b[0m in \u001b[0;36m_amax\u001b[1;34m(a, axis, out, keepdims, initial)\u001b[0m\n\u001b[0;32m     26\u001b[0m def _amax(a, axis=None, out=None, keepdims=False,\n\u001b[0;32m     27\u001b[0m           initial=_NoValue):\n\u001b[1;32m---> 28\u001b[1;33m     \u001b[1;32mreturn\u001b[0m \u001b[0mumr_maximum\u001b[0m\u001b[1;33m(\u001b[0m\u001b[0ma\u001b[0m\u001b[1;33m,\u001b[0m \u001b[0maxis\u001b[0m\u001b[1;33m,\u001b[0m \u001b[1;32mNone\u001b[0m\u001b[1;33m,\u001b[0m \u001b[0mout\u001b[0m\u001b[1;33m,\u001b[0m \u001b[0mkeepdims\u001b[0m\u001b[1;33m,\u001b[0m \u001b[0minitial\u001b[0m\u001b[1;33m)\u001b[0m\u001b[1;33m\u001b[0m\u001b[1;33m\u001b[0m\u001b[0m\n\u001b[0m\u001b[0;32m     29\u001b[0m \u001b[1;33m\u001b[0m\u001b[0m\n\u001b[0;32m     30\u001b[0m def _amin(a, axis=None, out=None, keepdims=False,\n",
      "\u001b[1;31mTypeError\u001b[0m: '>=' not supported between instances of 'float' and 'str'"
     ]
    }
   ],
   "source": [
    "for i in listratio:\n",
    "    print(i,\":\",df500[i].max())"
   ]
  },
  {
   "cell_type": "code",
   "execution_count": 195,
   "metadata": {},
   "outputs": [
    {
     "name": "stdout",
     "output_type": "stream",
     "text": [
      "gvkey NULL: 0\n",
      "adate NULL: 0\n",
      "qdate NULL: 0\n",
      "public_date NULL: 0\n",
      "CAPEI NULL: 1340\n",
      "bm NULL: 3069\n",
      "evm NULL: 91\n",
      "pe_op_basic NULL: 943\n",
      "pe_op_dil NULL: 928\n",
      "pe_exi NULL: 925\n",
      "pe_inc NULL: 918\n",
      "ps NULL: 2843\n",
      "pcf NULL: 171\n",
      "dpr NULL: 32598\n",
      "npm NULL: 2843\n",
      "opmbd NULL: 2843\n",
      "opmad NULL: 2843\n",
      "gpm NULL: 3169\n",
      "ptpm NULL: 2843\n",
      "cfm NULL: 2901\n",
      "roa NULL: 176\n",
      "roe NULL: 3541\n",
      "roce NULL: 326\n",
      "efftax NULL: 33737\n",
      "aftret_eq NULL: 167\n",
      "aftret_invcapx NULL: 1008\n",
      "aftret_equity NULL: 167\n",
      "pretret_noa NULL: 391\n",
      "pretret_earnat NULL: 391\n",
      "GProf NULL: 36\n",
      "equity_invcap NULL: 743\n",
      "debt_invcap NULL: 879\n",
      "totdebt_invcap NULL: 888\n",
      "capital_ratio NULL: 136\n",
      "int_debt NULL: 17611\n",
      "int_totdebt NULL: 14950\n",
      "cash_lt NULL: 44\n",
      "invt_act NULL: 354\n",
      "rect_act NULL: 701\n",
      "debt_at NULL: 145\n",
      "debt_ebitda NULL: 236\n",
      "short_debt NULL: 12808\n",
      "curr_debt NULL: 244\n",
      "lt_debt NULL: 136\n",
      "profit_lct NULL: 238\n",
      "ocf_lct NULL: 370\n",
      "cash_debt NULL: 549\n",
      "fcf_ocf NULL: 29062\n",
      "lt_ppent NULL: 392\n",
      "dltt_be NULL: 2765\n",
      "debt_assets NULL: 44\n",
      "debt_capital NULL: 27\n",
      "de_ratio NULL: 44\n",
      "intcov NULL: 13411\n",
      "intcov_ratio NULL: 13432\n",
      "cash_ratio NULL: 202\n",
      "quick_ratio NULL: 234\n",
      "curr_ratio NULL: 202\n",
      "cash_conversion NULL: 10440\n",
      "inv_turn NULL: 19422\n",
      "at_turn NULL: 2965\n",
      "rect_turn NULL: 5366\n",
      "pay_turn NULL: 507\n",
      "sale_invcap NULL: 3550\n",
      "sale_equity NULL: 5278\n",
      "sale_nwc NULL: 5764\n",
      "rd_sale NULL: 0\n",
      "adv_sale NULL: 3201\n",
      "staff_sale NULL: 3201\n",
      "accrual NULL: 153\n",
      "ptb NULL: 3069\n",
      "PEG_trailing NULL: 29963\n",
      "DIVYIELD NULL: 48530\n",
      "PEG_1yrforward NULL: 18796\n",
      "PEG_ltgforward NULL: 33702\n"
     ]
    },
    {
     "ename": "KeyError",
     "evalue": "'qmonth'",
     "output_type": "error",
     "traceback": [
      "\u001b[1;31m---------------------------------------------------------------------------\u001b[0m",
      "\u001b[1;31mKeyError\u001b[0m                                  Traceback (most recent call last)",
      "\u001b[1;32m~\\Anaconda3\\lib\\site-packages\\pandas\\core\\indexes\\base.py\u001b[0m in \u001b[0;36mget_loc\u001b[1;34m(self, key, method, tolerance)\u001b[0m\n\u001b[0;32m   2896\u001b[0m             \u001b[1;32mtry\u001b[0m\u001b[1;33m:\u001b[0m\u001b[1;33m\u001b[0m\u001b[1;33m\u001b[0m\u001b[0m\n\u001b[1;32m-> 2897\u001b[1;33m                 \u001b[1;32mreturn\u001b[0m \u001b[0mself\u001b[0m\u001b[1;33m.\u001b[0m\u001b[0m_engine\u001b[0m\u001b[1;33m.\u001b[0m\u001b[0mget_loc\u001b[0m\u001b[1;33m(\u001b[0m\u001b[0mkey\u001b[0m\u001b[1;33m)\u001b[0m\u001b[1;33m\u001b[0m\u001b[1;33m\u001b[0m\u001b[0m\n\u001b[0m\u001b[0;32m   2898\u001b[0m             \u001b[1;32mexcept\u001b[0m \u001b[0mKeyError\u001b[0m\u001b[1;33m:\u001b[0m\u001b[1;33m\u001b[0m\u001b[1;33m\u001b[0m\u001b[0m\n",
      "\u001b[1;32mpandas\\_libs\\index.pyx\u001b[0m in \u001b[0;36mpandas._libs.index.IndexEngine.get_loc\u001b[1;34m()\u001b[0m\n",
      "\u001b[1;32mpandas\\_libs\\index.pyx\u001b[0m in \u001b[0;36mpandas._libs.index.IndexEngine.get_loc\u001b[1;34m()\u001b[0m\n",
      "\u001b[1;32mpandas\\_libs\\hashtable_class_helper.pxi\u001b[0m in \u001b[0;36mpandas._libs.hashtable.PyObjectHashTable.get_item\u001b[1;34m()\u001b[0m\n",
      "\u001b[1;32mpandas\\_libs\\hashtable_class_helper.pxi\u001b[0m in \u001b[0;36mpandas._libs.hashtable.PyObjectHashTable.get_item\u001b[1;34m()\u001b[0m\n",
      "\u001b[1;31mKeyError\u001b[0m: 'qmonth'",
      "\nDuring handling of the above exception, another exception occurred:\n",
      "\u001b[1;31mKeyError\u001b[0m                                  Traceback (most recent call last)",
      "\u001b[1;32m<ipython-input-195-d88649357ea8>\u001b[0m in \u001b[0;36m<module>\u001b[1;34m\u001b[0m\n\u001b[0;32m      1\u001b[0m \u001b[1;32mfor\u001b[0m \u001b[0mi\u001b[0m \u001b[1;32min\u001b[0m \u001b[0mlistratio\u001b[0m\u001b[1;33m:\u001b[0m\u001b[1;33m\u001b[0m\u001b[1;33m\u001b[0m\u001b[0m\n\u001b[1;32m----> 2\u001b[1;33m     \u001b[0mprint\u001b[0m\u001b[1;33m(\u001b[0m\u001b[0mi\u001b[0m\u001b[1;33m,\u001b[0m\u001b[1;34m\"NULL:\"\u001b[0m\u001b[1;33m,\u001b[0m\u001b[0mdf500\u001b[0m\u001b[1;33m[\u001b[0m\u001b[0mi\u001b[0m\u001b[1;33m]\u001b[0m\u001b[1;33m.\u001b[0m\u001b[0misnull\u001b[0m\u001b[1;33m(\u001b[0m\u001b[1;33m)\u001b[0m\u001b[1;33m.\u001b[0m\u001b[0msum\u001b[0m\u001b[1;33m(\u001b[0m\u001b[1;33m)\u001b[0m\u001b[1;33m)\u001b[0m\u001b[1;33m\u001b[0m\u001b[1;33m\u001b[0m\u001b[0m\n\u001b[0m",
      "\u001b[1;32m~\\Anaconda3\\lib\\site-packages\\pandas\\core\\frame.py\u001b[0m in \u001b[0;36m__getitem__\u001b[1;34m(self, key)\u001b[0m\n\u001b[0;32m   2978\u001b[0m             \u001b[1;32mif\u001b[0m \u001b[0mself\u001b[0m\u001b[1;33m.\u001b[0m\u001b[0mcolumns\u001b[0m\u001b[1;33m.\u001b[0m\u001b[0mnlevels\u001b[0m \u001b[1;33m>\u001b[0m \u001b[1;36m1\u001b[0m\u001b[1;33m:\u001b[0m\u001b[1;33m\u001b[0m\u001b[1;33m\u001b[0m\u001b[0m\n\u001b[0;32m   2979\u001b[0m                 \u001b[1;32mreturn\u001b[0m \u001b[0mself\u001b[0m\u001b[1;33m.\u001b[0m\u001b[0m_getitem_multilevel\u001b[0m\u001b[1;33m(\u001b[0m\u001b[0mkey\u001b[0m\u001b[1;33m)\u001b[0m\u001b[1;33m\u001b[0m\u001b[1;33m\u001b[0m\u001b[0m\n\u001b[1;32m-> 2980\u001b[1;33m             \u001b[0mindexer\u001b[0m \u001b[1;33m=\u001b[0m \u001b[0mself\u001b[0m\u001b[1;33m.\u001b[0m\u001b[0mcolumns\u001b[0m\u001b[1;33m.\u001b[0m\u001b[0mget_loc\u001b[0m\u001b[1;33m(\u001b[0m\u001b[0mkey\u001b[0m\u001b[1;33m)\u001b[0m\u001b[1;33m\u001b[0m\u001b[1;33m\u001b[0m\u001b[0m\n\u001b[0m\u001b[0;32m   2981\u001b[0m             \u001b[1;32mif\u001b[0m \u001b[0mis_integer\u001b[0m\u001b[1;33m(\u001b[0m\u001b[0mindexer\u001b[0m\u001b[1;33m)\u001b[0m\u001b[1;33m:\u001b[0m\u001b[1;33m\u001b[0m\u001b[1;33m\u001b[0m\u001b[0m\n\u001b[0;32m   2982\u001b[0m                 \u001b[0mindexer\u001b[0m \u001b[1;33m=\u001b[0m \u001b[1;33m[\u001b[0m\u001b[0mindexer\u001b[0m\u001b[1;33m]\u001b[0m\u001b[1;33m\u001b[0m\u001b[1;33m\u001b[0m\u001b[0m\n",
      "\u001b[1;32m~\\Anaconda3\\lib\\site-packages\\pandas\\core\\indexes\\base.py\u001b[0m in \u001b[0;36mget_loc\u001b[1;34m(self, key, method, tolerance)\u001b[0m\n\u001b[0;32m   2897\u001b[0m                 \u001b[1;32mreturn\u001b[0m \u001b[0mself\u001b[0m\u001b[1;33m.\u001b[0m\u001b[0m_engine\u001b[0m\u001b[1;33m.\u001b[0m\u001b[0mget_loc\u001b[0m\u001b[1;33m(\u001b[0m\u001b[0mkey\u001b[0m\u001b[1;33m)\u001b[0m\u001b[1;33m\u001b[0m\u001b[1;33m\u001b[0m\u001b[0m\n\u001b[0;32m   2898\u001b[0m             \u001b[1;32mexcept\u001b[0m \u001b[0mKeyError\u001b[0m\u001b[1;33m:\u001b[0m\u001b[1;33m\u001b[0m\u001b[1;33m\u001b[0m\u001b[0m\n\u001b[1;32m-> 2899\u001b[1;33m                 \u001b[1;32mreturn\u001b[0m \u001b[0mself\u001b[0m\u001b[1;33m.\u001b[0m\u001b[0m_engine\u001b[0m\u001b[1;33m.\u001b[0m\u001b[0mget_loc\u001b[0m\u001b[1;33m(\u001b[0m\u001b[0mself\u001b[0m\u001b[1;33m.\u001b[0m\u001b[0m_maybe_cast_indexer\u001b[0m\u001b[1;33m(\u001b[0m\u001b[0mkey\u001b[0m\u001b[1;33m)\u001b[0m\u001b[1;33m)\u001b[0m\u001b[1;33m\u001b[0m\u001b[1;33m\u001b[0m\u001b[0m\n\u001b[0m\u001b[0;32m   2900\u001b[0m         \u001b[0mindexer\u001b[0m \u001b[1;33m=\u001b[0m \u001b[0mself\u001b[0m\u001b[1;33m.\u001b[0m\u001b[0mget_indexer\u001b[0m\u001b[1;33m(\u001b[0m\u001b[1;33m[\u001b[0m\u001b[0mkey\u001b[0m\u001b[1;33m]\u001b[0m\u001b[1;33m,\u001b[0m \u001b[0mmethod\u001b[0m\u001b[1;33m=\u001b[0m\u001b[0mmethod\u001b[0m\u001b[1;33m,\u001b[0m \u001b[0mtolerance\u001b[0m\u001b[1;33m=\u001b[0m\u001b[0mtolerance\u001b[0m\u001b[1;33m)\u001b[0m\u001b[1;33m\u001b[0m\u001b[1;33m\u001b[0m\u001b[0m\n\u001b[0;32m   2901\u001b[0m         \u001b[1;32mif\u001b[0m \u001b[0mindexer\u001b[0m\u001b[1;33m.\u001b[0m\u001b[0mndim\u001b[0m \u001b[1;33m>\u001b[0m \u001b[1;36m1\u001b[0m \u001b[1;32mor\u001b[0m \u001b[0mindexer\u001b[0m\u001b[1;33m.\u001b[0m\u001b[0msize\u001b[0m \u001b[1;33m>\u001b[0m \u001b[1;36m1\u001b[0m\u001b[1;33m:\u001b[0m\u001b[1;33m\u001b[0m\u001b[1;33m\u001b[0m\u001b[0m\n",
      "\u001b[1;32mpandas\\_libs\\index.pyx\u001b[0m in \u001b[0;36mpandas._libs.index.IndexEngine.get_loc\u001b[1;34m()\u001b[0m\n",
      "\u001b[1;32mpandas\\_libs\\index.pyx\u001b[0m in \u001b[0;36mpandas._libs.index.IndexEngine.get_loc\u001b[1;34m()\u001b[0m\n",
      "\u001b[1;32mpandas\\_libs\\hashtable_class_helper.pxi\u001b[0m in \u001b[0;36mpandas._libs.hashtable.PyObjectHashTable.get_item\u001b[1;34m()\u001b[0m\n",
      "\u001b[1;32mpandas\\_libs\\hashtable_class_helper.pxi\u001b[0m in \u001b[0;36mpandas._libs.hashtable.PyObjectHashTable.get_item\u001b[1;34m()\u001b[0m\n",
      "\u001b[1;31mKeyError\u001b[0m: 'qmonth'"
     ]
    }
   ],
=======
   "execution_count": 32,
   "metadata": {},
   "outputs": [],
>>>>>>> bb6dd412bdac106a200c1069f9942e48670856f0:eda_v4.ipynb
   "source": [
    "#for i in listratio:\n",
    "    #print(i,\"NULL:\",df500[i].isnull().sum())"
   ]
  },
  {
   "cell_type": "code",
<<<<<<< HEAD:eda_v10 (ignore, for slides purpose).ipynb
   "execution_count": 196,
=======
   "execution_count": 33,
>>>>>>> bb6dd412bdac106a200c1069f9942e48670856f0:eda_v4.ipynb
   "metadata": {},
   "outputs": [
    {
     "data": {
      "text/plain": [
       "251      0.348\n",
       "252      0.348\n",
       "253      0.348\n",
       "254      0.481\n",
       "255      0.481\n",
       "         ...  \n",
       "59959    0.728\n",
       "59960    0.728\n",
       "59961    0.728\n",
       "59962    1.000\n",
       "59963    1.000\n",
       "Name: curr_debt, Length: 49311, dtype: float64"
      ]
     },
<<<<<<< HEAD:eda_v10 (ignore, for slides purpose).ipynb
     "execution_count": 196,
=======
     "execution_count": 33,
>>>>>>> bb6dd412bdac106a200c1069f9942e48670856f0:eda_v4.ipynb
     "metadata": {},
     "output_type": "execute_result"
    }
   ],
   "source": [
    "df500['curr_debt']"
   ]
  },
  {
   "cell_type": "code",
<<<<<<< HEAD:eda_v10 (ignore, for slides purpose).ipynb
   "execution_count": 197,
=======
   "execution_count": 58,
   "metadata": {},
   "outputs": [
    {
     "data": {
      "text/plain": [
       "24"
      ]
     },
     "execution_count": 58,
     "metadata": {},
     "output_type": "execute_result"
    }
   ],
   "source": [
    "df500['bankrupted'].sum()"
   ]
  },
  {
   "cell_type": "code",
   "execution_count": 34,
>>>>>>> bb6dd412bdac106a200c1069f9942e48670856f0:eda_v4.ipynb
   "metadata": {},
   "outputs": [],
   "source": [
    "#de_ratio, debt_ebitda, roa, cash_debt, quick_ratio, intcov_ratio"
   ]
  },
  {
   "cell_type": "code",
<<<<<<< HEAD:eda_v10 (ignore, for slides purpose).ipynb
   "execution_count": 198,
=======
   "execution_count": 35,
>>>>>>> bb6dd412bdac106a200c1069f9942e48670856f0:eda_v4.ipynb
   "metadata": {},
   "outputs": [],
   "source": [
    "df_dataset= df500[['de_ratio', 'debt_ebitda', 'roa', 'cash_debt', 'quick_ratio', 'intcov_ratio','bankrupted','adate']]"
   ]
  },
  {
   "cell_type": "code",
<<<<<<< HEAD:eda_v10 (ignore, for slides purpose).ipynb
   "execution_count": 199,
=======
   "execution_count": 36,
>>>>>>> bb6dd412bdac106a200c1069f9942e48670856f0:eda_v4.ipynb
   "metadata": {},
   "outputs": [],
   "source": [
    "df_dataset=df_dataset.dropna()"
   ]
  },
  {
   "cell_type": "code",
<<<<<<< HEAD:eda_v10 (ignore, for slides purpose).ipynb
   "execution_count": 203,
=======
   "execution_count": 37,
>>>>>>> bb6dd412bdac106a200c1069f9942e48670856f0:eda_v4.ipynb
   "metadata": {},
   "outputs": [
    {
     "data": {
      "text/plain": [
       "24"
      ]
     },
     "execution_count": 37,
     "metadata": {},
     "output_type": "execute_result"
    }
   ],
   "source": [
    "df_dataset['bankrupted'].sum()"
   ]
  },
  {
   "cell_type": "code",
   "execution_count": 38,
   "metadata": {},
   "outputs": [],
   "source": [
    "import pandas as pd\n",
    "import numpy as np\n",
    "from sklearn.metrics import accuracy_score\n",
    "\n",
    "from sklearn.model_selection import train_test_split\n",
    "from sklearn.metrics import roc_curve, roc_auc_score, f1_score\n",
    "from sklearn.ensemble import RandomForestClassifier\n",
    "from sklearn.ensemble import RandomForestRegressor\n",
    "from sklearn.linear_model import LogisticRegression, LinearRegression, Lasso\n",
    "from sklearn.model_selection import GridSearchCV\n",
    "\n",
    "import matplotlib.pyplot as plt\n",
    "from sklearn.metrics import classification_report\n",
    "from pandas import Series, DataFrame\n",
    "from sklearn.metrics import confusion_matrix\n",
    "from sklearn.metrics import f1_score,recall_score\n",
    "from sklearn.metrics import auc\n",
    "from sklearn.metrics import mean_squared_error\n",
    "import seaborn as sns\n",
    "\n",
    "#presentation: start w/ abstract"
   ]
  },
  {
   "cell_type": "code",
   "execution_count": 39,
   "metadata": {},
   "outputs": [
    {
     "data": {
      "text/html": [
       "<div>\n",
       "<style scoped>\n",
       "    .dataframe tbody tr th:only-of-type {\n",
       "        vertical-align: middle;\n",
       "    }\n",
       "\n",
       "    .dataframe tbody tr th {\n",
       "        vertical-align: top;\n",
       "    }\n",
       "\n",
       "    .dataframe thead th {\n",
       "        text-align: right;\n",
       "    }\n",
       "</style>\n",
       "<table border=\"1\" class=\"dataframe\">\n",
       "  <thead>\n",
       "    <tr style=\"text-align: right;\">\n",
       "      <th></th>\n",
       "      <th>de_ratio</th>\n",
       "      <th>debt_ebitda</th>\n",
       "      <th>roa</th>\n",
       "      <th>cash_debt</th>\n",
       "      <th>quick_ratio</th>\n",
       "      <th>intcov_ratio</th>\n",
       "      <th>bankrupted</th>\n",
       "      <th>adate</th>\n",
       "    </tr>\n",
       "  </thead>\n",
       "  <tbody>\n",
       "    <tr>\n",
       "      <td>251</td>\n",
       "      <td>0.338</td>\n",
       "      <td>1.333</td>\n",
       "      <td>0.079</td>\n",
       "      <td>0.309</td>\n",
       "      <td>8.660</td>\n",
       "      <td>87.403</td>\n",
       "      <td>0</td>\n",
       "      <td>12/31/2000</td>\n",
       "    </tr>\n",
       "    <tr>\n",
       "      <td>252</td>\n",
       "      <td>0.338</td>\n",
       "      <td>1.333</td>\n",
       "      <td>0.079</td>\n",
       "      <td>0.309</td>\n",
       "      <td>8.660</td>\n",
       "      <td>87.403</td>\n",
       "      <td>0</td>\n",
       "      <td>12/31/2000</td>\n",
       "    </tr>\n",
       "    <tr>\n",
       "      <td>253</td>\n",
       "      <td>0.338</td>\n",
       "      <td>1.333</td>\n",
       "      <td>0.079</td>\n",
       "      <td>0.309</td>\n",
       "      <td>8.660</td>\n",
       "      <td>87.403</td>\n",
       "      <td>0</td>\n",
       "      <td>12/31/2000</td>\n",
       "    </tr>\n",
       "    <tr>\n",
       "      <td>254</td>\n",
       "      <td>0.335</td>\n",
       "      <td>1.333</td>\n",
       "      <td>0.147</td>\n",
       "      <td>0.309</td>\n",
       "      <td>6.270</td>\n",
       "      <td>87.403</td>\n",
       "      <td>0</td>\n",
       "      <td>12/31/2000</td>\n",
       "    </tr>\n",
       "    <tr>\n",
       "      <td>255</td>\n",
       "      <td>0.335</td>\n",
       "      <td>1.333</td>\n",
       "      <td>0.147</td>\n",
       "      <td>0.309</td>\n",
       "      <td>6.270</td>\n",
       "      <td>87.403</td>\n",
       "      <td>0</td>\n",
       "      <td>12/31/2000</td>\n",
       "    </tr>\n",
       "    <tr>\n",
       "      <td>...</td>\n",
       "      <td>...</td>\n",
       "      <td>...</td>\n",
       "      <td>...</td>\n",
       "      <td>...</td>\n",
       "      <td>...</td>\n",
       "      <td>...</td>\n",
       "      <td>...</td>\n",
       "      <td>...</td>\n",
       "    </tr>\n",
       "    <tr>\n",
       "      <td>59959</td>\n",
       "      <td>0.103</td>\n",
       "      <td>-0.048</td>\n",
       "      <td>-0.286</td>\n",
       "      <td>-4.238</td>\n",
       "      <td>12.082</td>\n",
       "      <td>-26.559</td>\n",
       "      <td>0</td>\n",
       "      <td>12/31/2009</td>\n",
       "    </tr>\n",
       "    <tr>\n",
       "      <td>59960</td>\n",
       "      <td>0.103</td>\n",
       "      <td>-0.048</td>\n",
       "      <td>-0.286</td>\n",
       "      <td>-4.238</td>\n",
       "      <td>12.082</td>\n",
       "      <td>-26.559</td>\n",
       "      <td>0</td>\n",
       "      <td>12/31/2009</td>\n",
       "    </tr>\n",
       "    <tr>\n",
       "      <td>59961</td>\n",
       "      <td>0.103</td>\n",
       "      <td>-0.048</td>\n",
       "      <td>-0.286</td>\n",
       "      <td>-4.238</td>\n",
       "      <td>12.082</td>\n",
       "      <td>-26.559</td>\n",
       "      <td>0</td>\n",
       "      <td>12/31/2009</td>\n",
       "    </tr>\n",
       "    <tr>\n",
       "      <td>59962</td>\n",
       "      <td>0.071</td>\n",
       "      <td>0.000</td>\n",
       "      <td>-0.257</td>\n",
       "      <td>-4.238</td>\n",
       "      <td>12.353</td>\n",
       "      <td>-57.240</td>\n",
       "      <td>0</td>\n",
       "      <td>12/31/2009</td>\n",
       "    </tr>\n",
       "    <tr>\n",
       "      <td>59963</td>\n",
       "      <td>0.071</td>\n",
       "      <td>0.000</td>\n",
       "      <td>-0.257</td>\n",
       "      <td>-4.238</td>\n",
       "      <td>12.353</td>\n",
       "      <td>-57.240</td>\n",
       "      <td>0</td>\n",
       "      <td>12/31/2009</td>\n",
       "    </tr>\n",
       "  </tbody>\n",
       "</table>\n",
       "<p>35272 rows × 8 columns</p>\n",
       "</div>"
      ],
      "text/plain": [
       "       de_ratio  debt_ebitda    roa  cash_debt  quick_ratio  intcov_ratio  \\\n",
       "251       0.338        1.333  0.079      0.309        8.660        87.403   \n",
       "252       0.338        1.333  0.079      0.309        8.660        87.403   \n",
       "253       0.338        1.333  0.079      0.309        8.660        87.403   \n",
       "254       0.335        1.333  0.147      0.309        6.270        87.403   \n",
       "255       0.335        1.333  0.147      0.309        6.270        87.403   \n",
       "...         ...          ...    ...        ...          ...           ...   \n",
       "59959     0.103       -0.048 -0.286     -4.238       12.082       -26.559   \n",
       "59960     0.103       -0.048 -0.286     -4.238       12.082       -26.559   \n",
       "59961     0.103       -0.048 -0.286     -4.238       12.082       -26.559   \n",
       "59962     0.071        0.000 -0.257     -4.238       12.353       -57.240   \n",
       "59963     0.071        0.000 -0.257     -4.238       12.353       -57.240   \n",
       "\n",
       "       bankrupted       adate  \n",
       "251             0  12/31/2000  \n",
       "252             0  12/31/2000  \n",
       "253             0  12/31/2000  \n",
       "254             0  12/31/2000  \n",
       "255             0  12/31/2000  \n",
       "...           ...         ...  \n",
       "59959           0  12/31/2009  \n",
       "59960           0  12/31/2009  \n",
       "59961           0  12/31/2009  \n",
       "59962           0  12/31/2009  \n",
       "59963           0  12/31/2009  \n",
       "\n",
       "[35272 rows x 8 columns]"
      ]
     },
<<<<<<< HEAD:eda_v10 (ignore, for slides purpose).ipynb
     "execution_count": 203,
=======
     "execution_count": 39,
>>>>>>> bb6dd412bdac106a200c1069f9942e48670856f0:eda_v4.ipynb
     "metadata": {},
     "output_type": "execute_result"
    }
   ],
   "source": [
    "df_dataset"
   ]
  },
  {
   "cell_type": "code",
<<<<<<< HEAD:eda_v10 (ignore, for slides purpose).ipynb
   "execution_count": 204,
=======
   "execution_count": 40,
>>>>>>> bb6dd412bdac106a200c1069f9942e48670856f0:eda_v4.ipynb
   "metadata": {},
   "outputs": [],
   "source": [
    "mask_test = pd.to_datetime(df_dataset['adate']).dt.year >=2007\n",
    "train=df_dataset[~mask_test]\n",
    "test=df_dataset[mask_test]"
   ]
  },
  {
   "cell_type": "code",
<<<<<<< HEAD:eda_v10 (ignore, for slides purpose).ipynb
   "execution_count": 205,
=======
   "execution_count": 60,
>>>>>>> bb6dd412bdac106a200c1069f9942e48670856f0:eda_v4.ipynb
   "metadata": {},
   "outputs": [
    {
     "data": {
      "text/html": [
       "<div>\n",
       "<style scoped>\n",
       "    .dataframe tbody tr th:only-of-type {\n",
       "        vertical-align: middle;\n",
       "    }\n",
       "\n",
       "    .dataframe tbody tr th {\n",
       "        vertical-align: top;\n",
       "    }\n",
       "\n",
       "    .dataframe thead th {\n",
       "        text-align: right;\n",
       "    }\n",
       "</style>\n",
       "<table border=\"1\" class=\"dataframe\">\n",
       "  <thead>\n",
       "    <tr style=\"text-align: right;\">\n",
       "      <th></th>\n",
       "      <th>de_ratio</th>\n",
       "      <th>debt_ebitda</th>\n",
       "      <th>roa</th>\n",
       "      <th>cash_debt</th>\n",
       "      <th>quick_ratio</th>\n",
       "      <th>intcov_ratio</th>\n",
<<<<<<< HEAD:eda_v10 (ignore, for slides purpose).ipynb
       "      <th>bankrupted</th>\n",
       "      <th>adate</th>\n",
=======
>>>>>>> bb6dd412bdac106a200c1069f9942e48670856f0:eda_v4.ipynb
       "    </tr>\n",
       "  </thead>\n",
       "  <tbody>\n",
       "    <tr>\n",
<<<<<<< HEAD:eda_v10 (ignore, for slides purpose).ipynb
       "      <td>251</td>\n",
       "      <td>0.338</td>\n",
       "      <td>1.333</td>\n",
       "      <td>0.079</td>\n",
       "      <td>0.309</td>\n",
       "      <td>8.660</td>\n",
       "      <td>87.403</td>\n",
       "      <td>0</td>\n",
       "      <td>12/31/2000</td>\n",
       "    </tr>\n",
       "    <tr>\n",
       "      <td>252</td>\n",
       "      <td>0.338</td>\n",
       "      <td>1.333</td>\n",
       "      <td>0.079</td>\n",
       "      <td>0.309</td>\n",
       "      <td>8.660</td>\n",
       "      <td>87.403</td>\n",
       "      <td>0</td>\n",
       "      <td>12/31/2000</td>\n",
       "    </tr>\n",
       "    <tr>\n",
       "      <td>253</td>\n",
       "      <td>0.338</td>\n",
       "      <td>1.333</td>\n",
       "      <td>0.079</td>\n",
       "      <td>0.309</td>\n",
       "      <td>8.660</td>\n",
       "      <td>87.403</td>\n",
       "      <td>0</td>\n",
       "      <td>12/31/2000</td>\n",
       "    </tr>\n",
       "    <tr>\n",
       "      <td>254</td>\n",
       "      <td>0.335</td>\n",
       "      <td>1.333</td>\n",
       "      <td>0.147</td>\n",
       "      <td>0.309</td>\n",
       "      <td>6.270</td>\n",
       "      <td>87.403</td>\n",
       "      <td>0</td>\n",
       "      <td>12/31/2000</td>\n",
       "    </tr>\n",
       "    <tr>\n",
       "      <td>255</td>\n",
       "      <td>0.335</td>\n",
       "      <td>1.333</td>\n",
       "      <td>0.147</td>\n",
       "      <td>0.309</td>\n",
       "      <td>6.270</td>\n",
       "      <td>87.403</td>\n",
       "      <td>0</td>\n",
       "      <td>12/31/2000</td>\n",
=======
       "      <td>41</td>\n",
       "      <td>0.274</td>\n",
       "      <td>-0.068</td>\n",
       "      <td>-0.461</td>\n",
       "      <td>-1.142</td>\n",
       "      <td>2.639</td>\n",
       "      <td>-19.547</td>\n",
       "    </tr>\n",
       "    <tr>\n",
       "      <td>42</td>\n",
       "      <td>0.201</td>\n",
       "      <td>-0.020</td>\n",
       "      <td>-0.366</td>\n",
       "      <td>0.576</td>\n",
       "      <td>5.801</td>\n",
       "      <td>-81.324</td>\n",
       "    </tr>\n",
       "    <tr>\n",
       "      <td>43</td>\n",
       "      <td>0.475</td>\n",
       "      <td>-0.017</td>\n",
       "      <td>-0.878</td>\n",
       "      <td>-0.195</td>\n",
       "      <td>3.764</td>\n",
       "      <td>-179.030</td>\n",
       "    </tr>\n",
       "    <tr>\n",
       "      <td>50</td>\n",
       "      <td>-10.548</td>\n",
       "      <td>-8.984</td>\n",
       "      <td>-0.102</td>\n",
       "      <td>-0.114</td>\n",
       "      <td>1.977</td>\n",
       "      <td>-1.347</td>\n",
       "    </tr>\n",
       "    <tr>\n",
       "      <td>51</td>\n",
       "      <td>-3.144</td>\n",
       "      <td>-9.783</td>\n",
       "      <td>-0.090</td>\n",
       "      <td>-0.122</td>\n",
       "      <td>0.135</td>\n",
       "      <td>-0.959</td>\n",
>>>>>>> bb6dd412bdac106a200c1069f9942e48670856f0:eda_v4.ipynb
       "    </tr>\n",
       "    <tr>\n",
       "      <td>...</td>\n",
       "      <td>...</td>\n",
       "      <td>...</td>\n",
       "      <td>...</td>\n",
       "      <td>...</td>\n",
       "      <td>...</td>\n",
       "      <td>...</td>\n",
<<<<<<< HEAD:eda_v10 (ignore, for slides purpose).ipynb
       "      <td>...</td>\n",
       "      <td>...</td>\n",
       "    </tr>\n",
       "    <tr>\n",
       "      <td>59959</td>\n",
       "      <td>0.103</td>\n",
       "      <td>-0.048</td>\n",
       "      <td>-0.286</td>\n",
       "      <td>-4.238</td>\n",
       "      <td>12.082</td>\n",
       "      <td>-26.559</td>\n",
       "      <td>0</td>\n",
       "      <td>12/31/2009</td>\n",
       "    </tr>\n",
       "    <tr>\n",
       "      <td>59960</td>\n",
       "      <td>0.103</td>\n",
       "      <td>-0.048</td>\n",
       "      <td>-0.286</td>\n",
       "      <td>-4.238</td>\n",
       "      <td>12.082</td>\n",
       "      <td>-26.559</td>\n",
       "      <td>0</td>\n",
       "      <td>12/31/2009</td>\n",
       "    </tr>\n",
       "    <tr>\n",
       "      <td>59961</td>\n",
       "      <td>0.103</td>\n",
       "      <td>-0.048</td>\n",
       "      <td>-0.286</td>\n",
       "      <td>-4.238</td>\n",
       "      <td>12.082</td>\n",
       "      <td>-26.559</td>\n",
       "      <td>0</td>\n",
       "      <td>12/31/2009</td>\n",
       "    </tr>\n",
       "    <tr>\n",
       "      <td>59962</td>\n",
       "      <td>0.071</td>\n",
       "      <td>0.000</td>\n",
       "      <td>-0.257</td>\n",
       "      <td>-4.238</td>\n",
       "      <td>12.353</td>\n",
       "      <td>-57.240</td>\n",
       "      <td>0</td>\n",
       "      <td>12/31/2009</td>\n",
=======
       "    </tr>\n",
       "    <tr>\n",
       "      <td>4888</td>\n",
       "      <td>0.258</td>\n",
       "      <td>-0.085</td>\n",
       "      <td>-0.474</td>\n",
       "      <td>-2.277</td>\n",
       "      <td>6.248</td>\n",
       "      <td>-112.570</td>\n",
       "    </tr>\n",
       "    <tr>\n",
       "      <td>4900</td>\n",
       "      <td>0.521</td>\n",
       "      <td>-0.112</td>\n",
       "      <td>-0.305</td>\n",
       "      <td>-0.475</td>\n",
       "      <td>3.875</td>\n",
       "      <td>-75.458</td>\n",
       "    </tr>\n",
       "    <tr>\n",
       "      <td>4901</td>\n",
       "      <td>0.347</td>\n",
       "      <td>-0.111</td>\n",
       "      <td>-0.349</td>\n",
       "      <td>-1.844</td>\n",
       "      <td>4.158</td>\n",
       "      <td>-82.089</td>\n",
       "    </tr>\n",
       "    <tr>\n",
       "      <td>4902</td>\n",
       "      <td>0.263</td>\n",
       "      <td>-0.085</td>\n",
       "      <td>-0.387</td>\n",
       "      <td>-3.509</td>\n",
       "      <td>5.264</td>\n",
       "      <td>-70.815</td>\n",
>>>>>>> bb6dd412bdac106a200c1069f9942e48670856f0:eda_v4.ipynb
       "    </tr>\n",
       "    <tr>\n",
       "      <td>59963</td>\n",
       "      <td>0.071</td>\n",
       "      <td>0.000</td>\n",
       "      <td>-0.257</td>\n",
       "      <td>-4.238</td>\n",
<<<<<<< HEAD:eda_v10 (ignore, for slides purpose).ipynb
       "      <td>12.353</td>\n",
       "      <td>-57.240</td>\n",
       "      <td>0</td>\n",
       "      <td>12/31/2009</td>\n",
       "    </tr>\n",
       "  </tbody>\n",
       "</table>\n",
       "<p>35272 rows × 8 columns</p>\n",
       "</div>"
      ],
      "text/plain": [
       "       de_ratio  debt_ebitda    roa  cash_debt  quick_ratio  intcov_ratio  \\\n",
       "251       0.338        1.333  0.079      0.309        8.660        87.403   \n",
       "252       0.338        1.333  0.079      0.309        8.660        87.403   \n",
       "253       0.338        1.333  0.079      0.309        8.660        87.403   \n",
       "254       0.335        1.333  0.147      0.309        6.270        87.403   \n",
       "255       0.335        1.333  0.147      0.309        6.270        87.403   \n",
       "...         ...          ...    ...        ...          ...           ...   \n",
       "59959     0.103       -0.048 -0.286     -4.238       12.082       -26.559   \n",
       "59960     0.103       -0.048 -0.286     -4.238       12.082       -26.559   \n",
       "59961     0.103       -0.048 -0.286     -4.238       12.082       -26.559   \n",
       "59962     0.071        0.000 -0.257     -4.238       12.353       -57.240   \n",
       "59963     0.071        0.000 -0.257     -4.238       12.353       -57.240   \n",
       "\n",
       "       bankrupted       adate  \n",
       "251             0  12/31/2000  \n",
       "252             0  12/31/2000  \n",
       "253             0  12/31/2000  \n",
       "254             0  12/31/2000  \n",
       "255             0  12/31/2000  \n",
       "...           ...         ...  \n",
       "59959           0  12/31/2009  \n",
       "59960           0  12/31/2009  \n",
       "59961           0  12/31/2009  \n",
       "59962           0  12/31/2009  \n",
       "59963           0  12/31/2009  \n",
       "\n",
       "[35272 rows x 8 columns]"
      ]
     },
     "execution_count": 205,
=======
       "      <td>9.165</td>\n",
       "      <td>-25.062</td>\n",
       "    </tr>\n",
       "  </tbody>\n",
       "</table>\n",
       "<p>754 rows × 6 columns</p>\n",
       "</div>"
      ],
      "text/plain": [
       "      de_ratio  debt_ebitda    roa  cash_debt  quick_ratio  intcov_ratio\n",
       "41       0.274       -0.068 -0.461     -1.142        2.639       -19.547\n",
       "42       0.201       -0.020 -0.366      0.576        5.801       -81.324\n",
       "43       0.475       -0.017 -0.878     -0.195        3.764      -179.030\n",
       "50     -10.548       -8.984 -0.102     -0.114        1.977        -1.347\n",
       "51      -3.144       -9.783 -0.090     -0.122        0.135        -0.959\n",
       "...        ...          ...    ...        ...          ...           ...\n",
       "4888     0.258       -0.085 -0.474     -2.277        6.248      -112.570\n",
       "4900     0.521       -0.112 -0.305     -0.475        3.875       -75.458\n",
       "4901     0.347       -0.111 -0.349     -1.844        4.158       -82.089\n",
       "4902     0.263       -0.085 -0.387     -3.509        5.264       -70.815\n",
       "4903     0.098        0.000 -0.362     -4.238        9.165       -25.062\n",
       "\n",
       "[754 rows x 6 columns]"
      ]
     },
     "execution_count": 60,
>>>>>>> bb6dd412bdac106a200c1069f9942e48670856f0:eda_v4.ipynb
     "metadata": {},
     "output_type": "execute_result"
    }
   ],
   "source": [
<<<<<<< HEAD:eda_v10 (ignore, for slides purpose).ipynb
    "df_dataset"
   ]
  },
  {
   "cell_type": "code",
   "execution_count": 206,
   "metadata": {},
   "outputs": [],
   "source": [
    "mask_test = pd.to_datetime(df_dataset['adate']).dt.year >=2007\n",
    "train=df_dataset[~mask_test]\n",
    "test=df_dataset[mask_test]"
=======
    "test"
>>>>>>> bb6dd412bdac106a200c1069f9942e48670856f0:eda_v4.ipynb
   ]
  },
  {
   "cell_type": "code",
<<<<<<< HEAD:eda_v10 (ignore, for slides purpose).ipynb
   "execution_count": 207,
=======
   "execution_count": 41,
>>>>>>> bb6dd412bdac106a200c1069f9942e48670856f0:eda_v4.ipynb
   "metadata": {},
   "outputs": [],
   "source": [
    "train= train.drop(columns='adate')\n",
    "test= test.drop(columns='adate')"
   ]
  },
  {
   "cell_type": "code",
<<<<<<< HEAD:eda_v10 (ignore, for slides purpose).ipynb
   "execution_count": 208,
=======
   "execution_count": 42,
>>>>>>> bb6dd412bdac106a200c1069f9942e48670856f0:eda_v4.ipynb
   "metadata": {},
   "outputs": [],
   "source": [
    "y_train= train['bankrupted']\n",
    "train= train.drop(columns=['bankrupted'])\n"
   ]
  },
  {
   "cell_type": "code",
<<<<<<< HEAD:eda_v10 (ignore, for slides purpose).ipynb
   "execution_count": 209,
=======
   "execution_count": 43,
>>>>>>> bb6dd412bdac106a200c1069f9942e48670856f0:eda_v4.ipynb
   "metadata": {},
   "outputs": [],
   "source": [
    "x_train= train"
   ]
  },
  {
   "cell_type": "markdown",
   "metadata": {},
   "source": [
    "## Random  Forest"
   ]
  },
  {
   "cell_type": "code",
<<<<<<< HEAD:eda_v10 (ignore, for slides purpose).ipynb
   "execution_count": 210,
=======
   "execution_count": 44,
>>>>>>> bb6dd412bdac106a200c1069f9942e48670856f0:eda_v4.ipynb
   "metadata": {},
   "outputs": [
    {
     "name": "stderr",
     "output_type": "stream",
     "text": [
      "C:\\Users\\Joseph\\Anaconda3\\lib\\site-packages\\sklearn\\ensemble\\forest.py:245: FutureWarning: The default value of n_estimators will change from 10 in version 0.20 to 100 in 0.22.\n",
      "  \"10 in version 0.20 to 100 in 0.22.\", FutureWarning)\n"
     ]
    }
   ],
   "source": [
    "#random forest\n",
    "from sklearn.ensemble import RandomForestClassifier\n",
    "from sklearn.datasets import make_classification\n",
    "clf = RandomForestClassifier(max_depth=2, random_state=0, class_weight='balanced')\n",
    "\n",
    "rgr=clf.fit(x_train, y_train)"
   ]
  },
  {
   "cell_type": "code",
<<<<<<< HEAD:eda_v10 (ignore, for slides purpose).ipynb
   "execution_count": 211,
=======
   "execution_count": 45,
>>>>>>> bb6dd412bdac106a200c1069f9942e48670856f0:eda_v4.ipynb
   "metadata": {},
   "outputs": [
    {
     "data": {
      "text/plain": [
       "0.9017570664629488"
      ]
     },
<<<<<<< HEAD:eda_v10 (ignore, for slides purpose).ipynb
     "execution_count": 211,
=======
     "execution_count": 45,
>>>>>>> bb6dd412bdac106a200c1069f9942e48670856f0:eda_v4.ipynb
     "metadata": {},
     "output_type": "execute_result"
    }
   ],
   "source": [
    "pred_train=rgr.predict(x_train)\n",
    "accuracy_score(pred_train, y_train)"
   ]
  },
  {
   "cell_type": "code",
<<<<<<< HEAD:eda_v10 (ignore, for slides purpose).ipynb
   "execution_count": 212,
=======
   "execution_count": 46,
>>>>>>> bb6dd412bdac106a200c1069f9942e48670856f0:eda_v4.ipynb
   "metadata": {},
   "outputs": [],
   "source": [
    "y_test= test['bankrupted']\n",
    "test= test.drop(columns=['bankrupted'])\n",
    "x_test= test"
   ]
  },
  {
   "cell_type": "code",
<<<<<<< HEAD:eda_v10 (ignore, for slides purpose).ipynb
   "execution_count": 213,
=======
   "execution_count": 47,
>>>>>>> bb6dd412bdac106a200c1069f9942e48670856f0:eda_v4.ipynb
   "metadata": {},
   "outputs": [
    {
     "data": {
      "text/plain": [
       "0.8873735151781786"
      ]
     },
<<<<<<< HEAD:eda_v10 (ignore, for slides purpose).ipynb
     "execution_count": 213,
=======
     "execution_count": 47,
>>>>>>> bb6dd412bdac106a200c1069f9942e48670856f0:eda_v4.ipynb
     "metadata": {},
     "output_type": "execute_result"
    }
   ],
   "source": [
    "pred_test=rgr.predict(x_test)\n",
    "accuracy_score(pred_test, y_test)"
   ]
  },
  {
   "cell_type": "code",
<<<<<<< HEAD:eda_v10 (ignore, for slides purpose).ipynb
   "execution_count": 190,
=======
   "execution_count": 48,
>>>>>>> bb6dd412bdac106a200c1069f9942e48670856f0:eda_v4.ipynb
   "metadata": {},
   "outputs": [
    {
     "data": {
      "text/plain": [
<<<<<<< HEAD:eda_v10 (ignore, for slides purpose).ipynb
       "<matplotlib.axes._subplots.AxesSubplot at 0x253c043a988>"
      ]
     },
     "execution_count": 190,
=======
       "<matplotlib.axes._subplots.AxesSubplot at 0x1ea8b486b08>"
      ]
     },
     "execution_count": 48,
>>>>>>> bb6dd412bdac106a200c1069f9942e48670856f0:eda_v4.ipynb
     "metadata": {},
     "output_type": "execute_result"
    },
    {
     "data": {
      "image/png": "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\n",
      "text/plain": [
       "<Figure size 720x720 with 1 Axes>"
      ]
     },
     "metadata": {
      "needs_background": "light"
     },
     "output_type": "display_data"
    }
   ],
   "source": [
    "feat_importances = pd.Series(rgr.feature_importances_, index=x_train.columns)\n",
    "plt.figure(figsize=(10,10)) \n",
    "feat_importances.sort_values().plot(kind='barh',color='c')\n",
    "#feat_importances.sort_values(ascending=False)"
   ]
  },
  {
   "cell_type": "markdown",
   "metadata": {},
   "source": [
    "## Logistic Regression "
   ]
  },
  {
   "cell_type": "code",
   "execution_count": 49,
   "metadata": {},
   "outputs": [
    {
     "name": "stderr",
     "output_type": "stream",
     "text": [
      "C:\\Users\\Derrick\\Anaconda2\\lib\\site-packages\\sklearn\\linear_model\\logistic.py:432: FutureWarning: Default solver will be changed to 'lbfgs' in 0.22. Specify a solver to silence this warning.\n",
      "  FutureWarning)\n"
     ]
    },
    {
     "data": {
      "text/plain": [
       "LogisticRegression(C=100000.0, class_weight='balanced', dual=False,\n",
       "                   fit_intercept=True, intercept_scaling=1, l1_ratio=None,\n",
       "                   max_iter=100, multi_class='warn', n_jobs=None, penalty='l2',\n",
       "                   random_state=None, solver='warn', tol=0.0001, verbose=0,\n",
       "                   warm_start=False)"
      ]
     },
     "execution_count": 49,
     "metadata": {},
     "output_type": "execute_result"
    }
   ],
   "source": [
    "from sklearn.linear_model import LogisticRegression\n",
    "logreg = LogisticRegression(C=1e5,class_weight='balanced')\n",
    "\n",
    "# Create an instance of Logistic Regression Classifier and fit the data.\n",
    "logreg.fit(x_train, y_train)"
   ]
  },
  {
   "cell_type": "code",
   "execution_count": 50,
   "metadata": {},
   "outputs": [],
   "source": [
    "y_pred=logreg.predict(x_test)"
   ]
  },
  {
   "cell_type": "code",
   "execution_count": 51,
   "metadata": {},
   "outputs": [
    {
     "data": {
      "text/plain": [
       "0.5636604774535809"
      ]
     },
     "execution_count": 51,
     "metadata": {},
     "output_type": "execute_result"
    }
   ],
   "source": [
    "accuracy_score(y_pred, y_test)"
   ]
  },
  {
   "cell_type": "code",
   "execution_count": 52,
   "metadata": {},
   "outputs": [],
   "source": [
    "feature_importance = abs(logreg.coef_[0])\n",
    "feature_importance = 100.0 * (feature_importance / feature_importance.max())\n",
    "sorted_idx = np.argsort(feature_importance)\n",
    "pos = np.arange(sorted_idx.shape[0]) + .5"
   ]
  },
  {
   "cell_type": "code",
   "execution_count": 53,
   "metadata": {},
   "outputs": [
    {
     "data": {
      "image/png": "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\n",
      "text/plain": [
       "<Figure size 432x288 with 1 Axes>"
      ]
     },
     "metadata": {
      "needs_background": "light"
     },
     "output_type": "display_data"
    }
   ],
   "source": [
    "featfig = plt.figure()\n",
    "featax = featfig.add_subplot(1, 1, 1)\n",
    "featax.barh(pos, feature_importance[sorted_idx], align='center')\n",
    "featax.set_yticks(pos)\n",
    "featax.set_yticklabels(np.array(x_train.columns)[sorted_idx], fontsize=8)\n",
    "featax.set_xlabel('Relative Feature Importance')\n",
    "\n",
    "plt.tight_layout()   \n",
    "plt.show()"
   ]
  },
  {
   "cell_type": "markdown",
   "metadata": {},
   "source": [
    "## Confusion Matrix"
   ]
  },
  {
   "cell_type": "code",
   "execution_count": 54,
   "metadata": {},
   "outputs": [
    {
     "name": "stdout",
     "output_type": "stream",
     "text": [
      "[[418 328]\n",
      " [  1   7]]\n"
     ]
    }
   ],
   "source": [
    "from sklearn.metrics import confusion_matrix\n",
    "confusion_matrix = confusion_matrix(y_test, y_pred)\n",
    "print(confusion_matrix)"
   ]
  },
  {
   "cell_type": "markdown",
   "metadata": {},
   "source": [
    "## Precision Recall Report "
   ]
  },
  {
   "cell_type": "code",
   "execution_count": 55,
   "metadata": {},
   "outputs": [
    {
     "name": "stdout",
     "output_type": "stream",
     "text": [
      "              precision    recall  f1-score   support\n",
      "\n",
      "           0       1.00      0.56      0.72       746\n",
      "           1       0.02      0.88      0.04         8\n",
      "\n",
      "    accuracy                           0.56       754\n",
      "   macro avg       0.51      0.72      0.38       754\n",
      "weighted avg       0.99      0.56      0.71       754\n",
      "\n"
     ]
    }
   ],
   "source": [
    "from sklearn.metrics import classification_report\n",
    "print(classification_report(y_test, y_pred))"
   ]
  },
  {
   "cell_type": "code",
   "execution_count": 56,
   "metadata": {},
   "outputs": [
    {
     "data": {
      "image/png": "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\n",
      "text/plain": [
       "<Figure size 432x288 with 1 Axes>"
      ]
     },
     "metadata": {
      "needs_background": "light"
     },
     "output_type": "display_data"
    }
   ],
   "source": [
    "from sklearn.metrics import roc_auc_score\n",
    "from sklearn.metrics import roc_curve\n",
    "logit_roc_auc = roc_auc_score(y_test, logreg.predict(x_test))\n",
    "fpr, tpr, thresholds = roc_curve(y_test, logreg.predict_proba(x_test)[:,1])\n",
    "plt.figure()\n",
    "plt.plot(fpr, tpr, label='Logistic Regression (area = %0.2f)' % logit_roc_auc)\n",
    "plt.plot([0, 1], [0, 1],'r--')\n",
    "plt.xlim([0.0, 1.0])\n",
    "plt.ylim([0.0, 1.05])\n",
    "plt.xlabel('False Positive Rate')\n",
    "plt.ylabel('True Positive Rate')\n",
    "plt.title('Receiver operating characteristic')\n",
    "plt.legend(loc=\"lower right\")\n",
    "plt.savefig('Log_ROC')\n",
    "plt.show()"
   ]
  },
  {
   "cell_type": "code",
   "execution_count": 57,
   "metadata": {},
   "outputs": [
    {
     "ename": "SyntaxError",
     "evalue": "invalid syntax (<ipython-input-57-828ec4a4fd72>, line 1)",
     "output_type": "error",
     "traceback": [
      "\u001b[1;36m  File \u001b[1;32m\"<ipython-input-57-828ec4a4fd72>\"\u001b[1;36m, line \u001b[1;32m1\u001b[0m\n\u001b[1;33m    a =\u001b[0m\n\u001b[1;37m        ^\u001b[0m\n\u001b[1;31mSyntaxError\u001b[0m\u001b[1;31m:\u001b[0m invalid syntax\n"
     ]
    }
   ],
   "source": [
    "a = "
   ]
  },
  {
   "cell_type": "code",
   "execution_count": null,
   "metadata": {},
   "outputs": [],
   "source": []
  },
  {
   "cell_type": "code",
   "execution_count": null,
   "metadata": {},
   "outputs": [],
   "source": []
  },
  {
   "cell_type": "code",
   "execution_count": null,
   "metadata": {},
   "outputs": [],
   "source": []
  },
  {
   "cell_type": "code",
   "execution_count": null,
   "metadata": {},
   "outputs": [],
   "source": []
  },
  {
   "cell_type": "code",
   "execution_count": null,
   "metadata": {},
   "outputs": [],
   "source": []
  },
  {
   "cell_type": "code",
   "execution_count": null,
   "metadata": {},
   "outputs": [],
   "source": [
    "df_bankrupt.drop_duplicates()"
   ]
  },
  {
   "cell_type": "code",
   "execution_count": null,
   "metadata": {},
   "outputs": [],
   "source": []
  },
  {
   "cell_type": "code",
   "execution_count": null,
   "metadata": {},
   "outputs": [],
   "source": [
    "relevant_columns = df_bankrupt[['COMPANY_FKEY','FILE_DATE']]\n",
    "#list(df_bankrupt.columns)\n",
    "df['cik'][:5]\n",
    "\n",
    "# COMPANY_FKEY is CIK\n",
    "df_bankrupt['COMPANY_FKEY'][:5]\n",
    "\n",
    "df_bankrupt['COMPANY_FKEY'].nunique()\n",
    "\n",
    "#filter for 2000-2010\n",
    "mask = (pd.to_datetime(df_bankrupt['BANK_BEGIN_DATE']).dt.year >1999) &  (pd.to_datetime(df_bankrupt['BANK_BEGIN_DATE']).dt.year < 2011)\n",
    "\n",
    "df_bankrupt_2000 = df_bankrupt[mask]\n",
    "\n",
    "df_bankrupt_2000.head()"
   ]
  },
  {
   "cell_type": "code",
   "execution_count": null,
   "metadata": {},
   "outputs": [],
   "source": [
    "df_merge = pd.merge(df, df_bankrupt_2000, left_on = 'cik', right_on = 'COMPANY_FKEY', suffixes = ('_fundam', '_bank'), how = 'left')\n",
    "df_merge['cik'].nunique()"
   ]
  },
  {
   "cell_type": "code",
   "execution_count": null,
   "metadata": {},
   "outputs": [],
   "source": [
    "# df_merge_11 = df_merge[df_merge['BANKRUPTCY_TYPE']==11]\n",
    "# df_merge_11"
   ]
  },
  {
   "cell_type": "code",
   "execution_count": null,
   "metadata": {},
   "outputs": [],
   "source": [
    "df_merge.head()"
   ]
  },
  {
   "cell_type": "code",
   "execution_count": null,
   "metadata": {},
   "outputs": [],
   "source": [
    "df_test = df_merge[df_merge['cik'] ==815508]"
   ]
  },
  {
   "cell_type": "code",
   "execution_count": null,
   "metadata": {
    "scrolled": true
   },
   "outputs": [],
   "source": [
    "df_test.head()"
   ]
  },
  {
   "cell_type": "code",
   "execution_count": null,
   "metadata": {},
   "outputs": [],
   "source": [
    "mask = pd.to_datetime(df_merge['datadate']).dt.year + 1 == pd.to_datetime(df_merge['BANK_BEGIN_DATE']).dt.year\n",
    "\n",
    "df_merge['bankrupted'] = np.where(mask, 1,0)"
   ]
  },
  {
   "cell_type": "code",
   "execution_count": null,
   "metadata": {},
   "outputs": [],
   "source": [
    "df_merge['bankrupted']"
   ]
  },
  {
   "cell_type": "code",
   "execution_count": null,
   "metadata": {},
   "outputs": [],
   "source": [
    "mask = pd.to_datetime(df_merge['datadate']).dt.year + 1 == pd.to_datetime(df_merge['BANK_BEGIN_DATE']).dt.year\n",
    "df_merge[mask]"
   ]
  },
  {
   "cell_type": "code",
   "execution_count": null,
   "metadata": {},
   "outputs": [],
   "source": [
    "df_merge['cik'].nunique()"
   ]
  },
  {
   "cell_type": "code",
   "execution_count": null,
   "metadata": {},
   "outputs": [],
   "source": [
    "pd.to_datetime(df_merge['datadate']).dt.year + 1"
   ]
  },
  {
   "cell_type": "code",
   "execution_count": null,
   "metadata": {},
   "outputs": [],
   "source": [
    "np.where()"
   ]
  },
  {
   "cell_type": "code",
   "execution_count": null,
   "metadata": {},
   "outputs": [],
   "source": [
    "pd.to_datetime(df_test['BANK_BEGIN_DATE']).dt.year"
   ]
  },
  {
   "cell_type": "code",
   "execution_count": null,
   "metadata": {},
   "outputs": [],
   "source": [
    "df_test['BANK_BEGIN_DATE']"
   ]
  },
  {
   "cell_type": "code",
   "execution_count": null,
   "metadata": {},
   "outputs": [],
   "source": [
    "df_merge.head()"
   ]
  }
 ],
 "metadata": {
  "kernelspec": {
   "display_name": "Python 3",
   "language": "python",
   "name": "python3"
  },
  "language_info": {
   "codemirror_mode": {
    "name": "ipython",
    "version": 3
   },
   "file_extension": ".py",
   "mimetype": "text/x-python",
   "name": "python",
   "nbconvert_exporter": "python",
   "pygments_lexer": "ipython3",
   "version": "3.7.4"
  }
 },
 "nbformat": 4,
 "nbformat_minor": 4
}
