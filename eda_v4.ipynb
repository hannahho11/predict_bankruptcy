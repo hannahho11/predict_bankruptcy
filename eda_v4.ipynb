{
 "cells": [
  {
   "cell_type": "code",
   "execution_count": 1,
   "metadata": {},
   "outputs": [],
   "source": [
    "import pandas as pd\n",
    "import numpy as np"
   ]
  },
  {
   "cell_type": "markdown",
   "metadata": {},
   "source": [
    "# Fundamental data preprocessing\n"
   ]
  },
  {
   "cell_type": "code",
   "execution_count": 2,
   "metadata": {},
   "outputs": [
    {
     "name": "stderr",
     "output_type": "stream",
     "text": [
      "C:\\Users\\Derrick\\Anaconda2\\lib\\site-packages\\IPython\\core\\interactiveshell.py:3058: DtypeWarning: Columns (23,33,37,955,956,957,962,976,977) have mixed types. Specify dtype option on import or set low_memory=False.\n",
      "  interactivity=interactivity, compiler=compiler, result=result)\n"
     ]
    },
    {
     "data": {
      "text/html": [
       "<div>\n",
       "<style scoped>\n",
       "    .dataframe tbody tr th:only-of-type {\n",
       "        vertical-align: middle;\n",
       "    }\n",
       "\n",
       "    .dataframe tbody tr th {\n",
       "        vertical-align: top;\n",
       "    }\n",
       "\n",
       "    .dataframe thead th {\n",
       "        text-align: right;\n",
       "    }\n",
       "</style>\n",
       "<table border=\"1\" class=\"dataframe\">\n",
       "  <thead>\n",
       "    <tr style=\"text-align: right;\">\n",
       "      <th></th>\n",
       "      <th>cik</th>\n",
       "      <th>GVKEY</th>\n",
       "    </tr>\n",
       "  </thead>\n",
       "  <tbody>\n",
       "    <tr>\n",
       "      <td>0</td>\n",
       "      <td>319126.0</td>\n",
       "      <td>1021</td>\n",
       "    </tr>\n",
       "    <tr>\n",
       "      <td>1</td>\n",
       "      <td>319126.0</td>\n",
       "      <td>1021</td>\n",
       "    </tr>\n",
       "    <tr>\n",
       "      <td>2</td>\n",
       "      <td>319126.0</td>\n",
       "      <td>1021</td>\n",
       "    </tr>\n",
       "    <tr>\n",
       "      <td>3</td>\n",
       "      <td>319126.0</td>\n",
       "      <td>1021</td>\n",
       "    </tr>\n",
       "    <tr>\n",
       "      <td>4</td>\n",
       "      <td>319126.0</td>\n",
       "      <td>1021</td>\n",
       "    </tr>\n",
       "  </tbody>\n",
       "</table>\n",
       "</div>"
      ],
      "text/plain": [
       "        cik  GVKEY\n",
       "0  319126.0   1021\n",
       "1  319126.0   1021\n",
       "2  319126.0   1021\n",
       "3  319126.0   1021\n",
       "4  319126.0   1021"
      ]
     },
     "execution_count": 2,
     "metadata": {},
     "output_type": "execute_result"
    }
   ],
   "source": [
    "# CSV of publically traded healthcare companies as classified by GIC subindustry codes\n",
    "df = pd.read_csv('healthcare_fundamentals_v3.csv') #update w/ latest version\n",
    "\n",
    "key_table = df[['cik', 'GVKEY']] #keys to join all databases\n",
    "key_table.head()"
   ]
  },
  {
   "cell_type": "code",
   "execution_count": 3,
   "metadata": {},
   "outputs": [
    {
     "name": "stdout",
     "output_type": "stream",
     "text": [
      "Total number of unique companies from 2000 - 2010: 1975\n"
     ]
    }
   ],
   "source": [
    "#all companies in healthcare industry from 2000 - 2010\n",
    "print('Total number of unique companies from 2000 - 2010:',df['GVKEY'].nunique())"
   ]
  },
  {
   "cell_type": "code",
   "execution_count": 4,
   "metadata": {},
   "outputs": [
    {
     "name": "stdout",
     "output_type": "stream",
     "text": [
      "5251\n",
      "(14065, 988)\n",
      "(8814, 988)\n"
     ]
    }
   ],
   "source": [
    "#eliminate private companies (ipodate = nan)\n",
    "mask = df['ipodate'].isna()\n",
    "print(mask.sum())\n",
    "print(df.shape)\n",
    "print(df[-mask].shape)\n",
    "df = df[-mask]"
   ]
  },
  {
   "cell_type": "code",
   "execution_count": 5,
   "metadata": {},
   "outputs": [
    {
     "name": "stdout",
     "output_type": "stream",
     "text": [
      "Total number of unique public companies from 2000 - 2010: 1175\n"
     ]
    }
   ],
   "source": [
    "#number of public healthcare companies\n",
    "print('Total number of unique public companies from 2000 - 2010:',df['GVKEY'].nunique())"
   ]
  },
  {
   "cell_type": "code",
   "execution_count": 6,
   "metadata": {},
   "outputs": [
    {
     "name": "stdout",
     "output_type": "stream",
     "text": [
      "Total number of unique private companies with market cap from 2000 - 2010: 1055\n"
     ]
    }
   ],
   "source": [
    "#eliminate rows with no market cap information\n",
    "mask = df['mkvalt'].isna()\n",
    "df = df[-mask]\n",
    "print('Total number of unique private companies with market cap from 2000 - 2010:',df['GVKEY'].nunique())"
   ]
  },
  {
   "cell_type": "code",
   "execution_count": 7,
   "metadata": {},
   "outputs": [],
   "source": [
    "# df['year'] =  pd.to_datetime(df['datadate']).dt.year\n",
    "# mask = df['year'] == 2000\n",
    "\n",
    "# df[mask]['GVKEY'].value_counts()"
   ]
  },
  {
   "cell_type": "code",
   "execution_count": 8,
   "metadata": {},
   "outputs": [],
   "source": [
    "df['year'] =  pd.to_datetime(df['datadate']).dt.year\n",
    "df = df.drop_duplicates(['year','GVKEY'])"
   ]
  },
  {
   "cell_type": "code",
   "execution_count": 9,
   "metadata": {},
   "outputs": [
    {
     "data": {
      "text/html": [
       "<div>\n",
       "<style scoped>\n",
       "    .dataframe tbody tr th:only-of-type {\n",
       "        vertical-align: middle;\n",
       "    }\n",
       "\n",
       "    .dataframe tbody tr th {\n",
       "        vertical-align: top;\n",
       "    }\n",
       "\n",
       "    .dataframe thead th {\n",
       "        text-align: right;\n",
       "    }\n",
       "</style>\n",
       "<table border=\"1\" class=\"dataframe\">\n",
       "  <thead>\n",
       "    <tr style=\"text-align: right;\">\n",
       "      <th></th>\n",
       "      <th>GVKEY</th>\n",
       "      <th>LINKPRIM</th>\n",
       "      <th>LIID</th>\n",
       "      <th>LINKTYPE</th>\n",
       "      <th>LPERMNO</th>\n",
       "      <th>LPERMCO</th>\n",
       "      <th>LINKDT</th>\n",
       "      <th>LINKENDDT</th>\n",
       "      <th>datadate</th>\n",
       "      <th>fyear</th>\n",
       "      <th>...</th>\n",
       "      <th>sic</th>\n",
       "      <th>spcindcd</th>\n",
       "      <th>spcseccd</th>\n",
       "      <th>spcsrc</th>\n",
       "      <th>state</th>\n",
       "      <th>stko</th>\n",
       "      <th>weburl</th>\n",
       "      <th>dldte</th>\n",
       "      <th>ipodate</th>\n",
       "      <th>year</th>\n",
       "    </tr>\n",
       "  </thead>\n",
       "  <tbody>\n",
       "    <tr>\n",
       "      <td>40</td>\n",
       "      <td>1177</td>\n",
       "      <td>P</td>\n",
       "      <td>01</td>\n",
       "      <td>LC</td>\n",
       "      <td>88845.0</td>\n",
       "      <td>41072.0</td>\n",
       "      <td>12/14/2000</td>\n",
       "      <td>11/30/2018</td>\n",
       "      <td>12/31/2000</td>\n",
       "      <td>2000.0</td>\n",
       "      <td>...</td>\n",
       "      <td>6324</td>\n",
       "      <td>287.0</td>\n",
       "      <td>905.0</td>\n",
       "      <td>B+</td>\n",
       "      <td>CT</td>\n",
       "      <td>0.0</td>\n",
       "      <td>www.aetna.com</td>\n",
       "      <td>11/29/2018</td>\n",
       "      <td>09/24/1968</td>\n",
       "      <td>2000</td>\n",
       "    </tr>\n",
       "    <tr>\n",
       "      <td>41</td>\n",
       "      <td>1177</td>\n",
       "      <td>P</td>\n",
       "      <td>01</td>\n",
       "      <td>LC</td>\n",
       "      <td>88845.0</td>\n",
       "      <td>41072.0</td>\n",
       "      <td>12/14/2000</td>\n",
       "      <td>11/30/2018</td>\n",
       "      <td>12/31/2001</td>\n",
       "      <td>2001.0</td>\n",
       "      <td>...</td>\n",
       "      <td>6324</td>\n",
       "      <td>287.0</td>\n",
       "      <td>905.0</td>\n",
       "      <td>B+</td>\n",
       "      <td>CT</td>\n",
       "      <td>0.0</td>\n",
       "      <td>www.aetna.com</td>\n",
       "      <td>11/29/2018</td>\n",
       "      <td>09/24/1968</td>\n",
       "      <td>2001</td>\n",
       "    </tr>\n",
       "    <tr>\n",
       "      <td>43</td>\n",
       "      <td>1177</td>\n",
       "      <td>J</td>\n",
       "      <td>03</td>\n",
       "      <td>NR</td>\n",
       "      <td>NaN</td>\n",
       "      <td>NaN</td>\n",
       "      <td>06/29/2001</td>\n",
       "      <td>01/31/2006</td>\n",
       "      <td>12/31/2002</td>\n",
       "      <td>2002.0</td>\n",
       "      <td>...</td>\n",
       "      <td>6324</td>\n",
       "      <td>287.0</td>\n",
       "      <td>905.0</td>\n",
       "      <td>B+</td>\n",
       "      <td>CT</td>\n",
       "      <td>0.0</td>\n",
       "      <td>www.aetna.com</td>\n",
       "      <td>11/29/2018</td>\n",
       "      <td>09/24/1968</td>\n",
       "      <td>2002</td>\n",
       "    </tr>\n",
       "    <tr>\n",
       "      <td>45</td>\n",
       "      <td>1177</td>\n",
       "      <td>P</td>\n",
       "      <td>01</td>\n",
       "      <td>LC</td>\n",
       "      <td>88845.0</td>\n",
       "      <td>41072.0</td>\n",
       "      <td>12/14/2000</td>\n",
       "      <td>11/30/2018</td>\n",
       "      <td>12/31/2003</td>\n",
       "      <td>2003.0</td>\n",
       "      <td>...</td>\n",
       "      <td>6324</td>\n",
       "      <td>287.0</td>\n",
       "      <td>905.0</td>\n",
       "      <td>B+</td>\n",
       "      <td>CT</td>\n",
       "      <td>0.0</td>\n",
       "      <td>www.aetna.com</td>\n",
       "      <td>11/29/2018</td>\n",
       "      <td>09/24/1968</td>\n",
       "      <td>2003</td>\n",
       "    </tr>\n",
       "    <tr>\n",
       "      <td>47</td>\n",
       "      <td>1177</td>\n",
       "      <td>P</td>\n",
       "      <td>01</td>\n",
       "      <td>LC</td>\n",
       "      <td>88845.0</td>\n",
       "      <td>41072.0</td>\n",
       "      <td>12/14/2000</td>\n",
       "      <td>11/30/2018</td>\n",
       "      <td>12/31/2004</td>\n",
       "      <td>2004.0</td>\n",
       "      <td>...</td>\n",
       "      <td>6324</td>\n",
       "      <td>287.0</td>\n",
       "      <td>905.0</td>\n",
       "      <td>B+</td>\n",
       "      <td>CT</td>\n",
       "      <td>0.0</td>\n",
       "      <td>www.aetna.com</td>\n",
       "      <td>11/29/2018</td>\n",
       "      <td>09/24/1968</td>\n",
       "      <td>2004</td>\n",
       "    </tr>\n",
       "  </tbody>\n",
       "</table>\n",
       "<p>5 rows × 989 columns</p>\n",
       "</div>"
      ],
      "text/plain": [
       "    GVKEY LINKPRIM LIID LINKTYPE  LPERMNO  LPERMCO      LINKDT   LINKENDDT  \\\n",
       "40   1177        P   01       LC  88845.0  41072.0  12/14/2000  11/30/2018   \n",
       "41   1177        P   01       LC  88845.0  41072.0  12/14/2000  11/30/2018   \n",
       "43   1177        J   03       NR      NaN      NaN  06/29/2001  01/31/2006   \n",
       "45   1177        P   01       LC  88845.0  41072.0  12/14/2000  11/30/2018   \n",
       "47   1177        P   01       LC  88845.0  41072.0  12/14/2000  11/30/2018   \n",
       "\n",
       "      datadate   fyear  ...   sic spcindcd spcseccd spcsrc state stko  \\\n",
       "40  12/31/2000  2000.0  ...  6324    287.0    905.0     B+    CT  0.0   \n",
       "41  12/31/2001  2001.0  ...  6324    287.0    905.0     B+    CT  0.0   \n",
       "43  12/31/2002  2002.0  ...  6324    287.0    905.0     B+    CT  0.0   \n",
       "45  12/31/2003  2003.0  ...  6324    287.0    905.0     B+    CT  0.0   \n",
       "47  12/31/2004  2004.0  ...  6324    287.0    905.0     B+    CT  0.0   \n",
       "\n",
       "           weburl       dldte     ipodate  year  \n",
       "40  www.aetna.com  11/29/2018  09/24/1968  2000  \n",
       "41  www.aetna.com  11/29/2018  09/24/1968  2001  \n",
       "43  www.aetna.com  11/29/2018  09/24/1968  2002  \n",
       "45  www.aetna.com  11/29/2018  09/24/1968  2003  \n",
       "47  www.aetna.com  11/29/2018  09/24/1968  2004  \n",
       "\n",
       "[5 rows x 989 columns]"
      ]
     },
     "execution_count": 9,
     "metadata": {},
     "output_type": "execute_result"
    }
   ],
   "source": [
    "df.head()"
   ]
  },
  {
   "cell_type": "code",
   "execution_count": 10,
   "metadata": {},
   "outputs": [
    {
     "name": "stdout",
     "output_type": "stream",
     "text": [
      "Total number of unique private companies with market cap from 2000 - 2010: 1055\n"
     ]
    }
   ],
   "source": [
    "print('Total number of unique private companies with market cap from 2000 - 2010:',df['GVKEY'].nunique())"
   ]
  },
  {
   "cell_type": "code",
   "execution_count": null,
   "metadata": {},
   "outputs": [],
   "source": []
  },
  {
   "cell_type": "markdown",
   "metadata": {},
   "source": [
    "# Read in Bankruptcy Data and Merge with Fundamentals"
   ]
  },
  {
   "cell_type": "code",
   "execution_count": 11,
   "metadata": {},
   "outputs": [],
   "source": [
    "# Bankrupt healthcare companies\n",
    "df_bankrupt = pd.read_csv('healthcare_bankrupt_audit_analytics_v2.csv')"
   ]
  },
  {
   "cell_type": "code",
   "execution_count": 12,
   "metadata": {},
   "outputs": [
    {
     "name": "stdout",
     "output_type": "stream",
     "text": [
      "Total of: 187 bankruptcy filings\n"
     ]
    }
   ],
   "source": [
    "print('Total of:' ,len(df_bankrupt), \"bankruptcy filings\")"
   ]
  },
  {
   "cell_type": "code",
   "execution_count": 13,
   "metadata": {},
   "outputs": [],
   "source": [
    "#create year column\n",
    "df_bankrupt['bankrupt_year'] = pd.to_datetime(df_bankrupt['BANK_BEGIN_DATE']).dt.year\n",
    "\n",
    "#filter for year 2001- 2010\n",
    "mask = (df_bankrupt['bankrupt_year'] >2000) &  (df_bankrupt['bankrupt_year']  < 2011)\n",
    "df_bankrupt = df_bankrupt[mask]\n"
   ]
  },
  {
   "cell_type": "code",
   "execution_count": 14,
   "metadata": {},
   "outputs": [
    {
     "name": "stdout",
     "output_type": "stream",
     "text": [
      "Total of: 129 bankruptcy filings between 2001 and 2010\n"
     ]
    }
   ],
   "source": [
    "print('Total of:' ,len(df_bankrupt), \"bankruptcy filings between 2001 and 2010\")"
   ]
  },
  {
   "cell_type": "code",
   "execution_count": 15,
   "metadata": {},
   "outputs": [
    {
     "name": "stdout",
     "output_type": "stream",
     "text": [
      "Total of: 82 CH 11 bankruptcy filings between 2001 and 2010\n"
     ]
    }
   ],
   "source": [
    "# Get chapter 11 companies only\n",
    "df_bankrupt= df_bankrupt[df_bankrupt['BANKRUPTCY_TYPE']==11]\n",
    "print('Total of:' ,len(df_bankrupt), \"CH 11 bankruptcy filings between 2001 and 2010\")"
   ]
  },
  {
   "cell_type": "code",
   "execution_count": 16,
   "metadata": {},
   "outputs": [
    {
     "data": {
      "text/plain": [
       "<matplotlib.axes._subplots.AxesSubplot at 0x1e95e75bf08>"
      ]
     },
     "execution_count": 16,
     "metadata": {},
     "output_type": "execute_result"
    }
   ],
   "source": [
    "df_bankrupt['bankrupt_year'].value_counts().sort_index().plot(kind = 'bar', title = 'Number of CH11 Bankruptcies by Year')"
   ]
  },
  {
   "cell_type": "markdown",
   "metadata": {},
   "source": [
    "# Merge Financial Ratios"
   ]
  },
  {
   "cell_type": "code",
   "execution_count": 17,
   "metadata": {},
   "outputs": [
    {
     "data": {
      "text/html": [
       "<div>\n",
       "<style scoped>\n",
       "    .dataframe tbody tr th:only-of-type {\n",
       "        vertical-align: middle;\n",
       "    }\n",
       "\n",
       "    .dataframe tbody tr th {\n",
       "        vertical-align: top;\n",
       "    }\n",
       "\n",
       "    .dataframe thead th {\n",
       "        text-align: right;\n",
       "    }\n",
       "</style>\n",
       "<table border=\"1\" class=\"dataframe\">\n",
       "  <thead>\n",
       "    <tr style=\"text-align: right;\">\n",
       "      <th></th>\n",
       "      <th>cik</th>\n",
       "      <th>GVKEY</th>\n",
       "    </tr>\n",
       "  </thead>\n",
       "  <tbody>\n",
       "    <tr>\n",
       "      <td>0</td>\n",
       "      <td>319126.0</td>\n",
       "      <td>1021</td>\n",
       "    </tr>\n",
       "    <tr>\n",
       "      <td>9</td>\n",
       "      <td>730469.0</td>\n",
       "      <td>1034</td>\n",
       "    </tr>\n",
       "    <tr>\n",
       "      <td>17</td>\n",
       "      <td>1800.0</td>\n",
       "      <td>1078</td>\n",
       "    </tr>\n",
       "    <tr>\n",
       "      <td>28</td>\n",
       "      <td>2034.0</td>\n",
       "      <td>1094</td>\n",
       "    </tr>\n",
       "    <tr>\n",
       "      <td>39</td>\n",
       "      <td>313798.0</td>\n",
       "      <td>1115</td>\n",
       "    </tr>\n",
       "  </tbody>\n",
       "</table>\n",
       "</div>"
      ],
      "text/plain": [
       "         cik  GVKEY\n",
       "0   319126.0   1021\n",
       "9   730469.0   1034\n",
       "17    1800.0   1078\n",
       "28    2034.0   1094\n",
       "39  313798.0   1115"
      ]
     },
     "execution_count": 17,
     "metadata": {},
     "output_type": "execute_result"
    }
   ],
   "source": [
    "#create cik - GVKEY table from fundamentals dataset\n",
    "key_table = key_table.drop_duplicates()\n",
    "key_table.head()"
   ]
  },
  {
   "cell_type": "code",
   "execution_count": 18,
   "metadata": {},
   "outputs": [
    {
     "data": {
      "text/plain": [
       "1244"
      ]
     },
     "execution_count": 18,
     "metadata": {},
     "output_type": "execute_result"
    }
   ],
   "source": [
    "df_fin_ratio = pd.read_csv('fin ratios.csv')\n",
    "df_fin_ratio['gvkey'].nunique()"
   ]
  },
  {
   "cell_type": "code",
   "execution_count": 19,
   "metadata": {},
   "outputs": [],
   "source": [
    "bankrupt_key  = pd.merge(df_bankrupt, key_table, left_on = 'COMPANY_FKEY', right_on = 'cik', suffixes = ('_ratio', '_key'), how = 'inner')\n",
    "# df_table = df_table.drop_duplicates()"
   ]
  },
  {
   "cell_type": "code",
   "execution_count": 20,
   "metadata": {},
   "outputs": [
    {
     "data": {
      "text/plain": [
       "(82, 467)"
      ]
     },
     "execution_count": 20,
     "metadata": {},
     "output_type": "execute_result"
    }
   ],
   "source": [
    "bankrupt_key.shape"
   ]
  },
  {
   "cell_type": "code",
   "execution_count": 21,
   "metadata": {},
   "outputs": [],
   "source": [
    "fin_ratio_bankruptcy = pd.merge(df_fin_ratio, bankrupt_key, left_on = 'gvkey', right_on = 'GVKEY', suffixes = ('_finratio', '_bankrupt'), how = 'left')"
   ]
  },
  {
   "cell_type": "code",
   "execution_count": 22,
   "metadata": {},
   "outputs": [
    {
     "data": {
      "text/plain": [
       "(7526, 76)"
      ]
     },
     "execution_count": 22,
     "metadata": {},
     "output_type": "execute_result"
    }
   ],
   "source": [
    "#processing for fin ratio to drop duplicates\n",
    "fin_ratio_bankruptcy['year'] = pd.to_datetime(fin_ratio_bankruptcy['adate']).dt.year\n",
    "df_fin_ratio=df_fin_ratio.drop_duplicates(subset=['gvkey','qdate'], keep='last')\n",
    "df_fin_ratio['qmonth']=pd.to_datetime(df_fin_ratio['qdate']).dt.month\n",
    "mask= df_fin_ratio['qmonth']==12\n",
    "df_fin_ratio= df_fin_ratio[mask]\n",
    "\n",
    "df_fin_ratio.shape"
   ]
  },
  {
   "cell_type": "code",
   "execution_count": 23,
   "metadata": {},
   "outputs": [
    {
     "data": {
      "text/plain": [
       "(95215, 543)"
      ]
     },
     "execution_count": 23,
     "metadata": {},
     "output_type": "execute_result"
    }
   ],
   "source": [
    "fin_ratio_bankruptcy.shape"
   ]
  },
  {
   "cell_type": "code",
   "execution_count": 24,
   "metadata": {},
   "outputs": [],
   "source": [
    "#create bankruptcy dummy\n",
    "#adate is year end date\n",
    "mask = pd.to_datetime(fin_ratio_bankruptcy['adate']).dt.year + 1 == pd.to_datetime(fin_ratio_bankruptcy['BANK_BEGIN_DATE']).dt.year\n",
    "\n",
    "fin_ratio_bankruptcy['bankrupted'] = np.where(mask, 1,0)"
   ]
  },
  {
   "cell_type": "code",
   "execution_count": 25,
   "metadata": {},
   "outputs": [
    {
     "data": {
      "text/plain": [
       "1244"
      ]
     },
     "execution_count": 25,
     "metadata": {},
     "output_type": "execute_result"
    }
   ],
   "source": [
    "fin_ratio_bankruptcy['gvkey'].nunique()"
   ]
  },
  {
   "cell_type": "code",
   "execution_count": 26,
   "metadata": {},
   "outputs": [],
   "source": [
    "fin_ratio_bankruptcy['year'] = pd.to_datetime(fin_ratio_bankruptcy['adate']).dt.year"
   ]
  },
  {
   "cell_type": "code",
   "execution_count": 27,
   "metadata": {},
   "outputs": [],
   "source": [
    "fund_ratio_bank  = pd.merge(df, fin_ratio_bankruptcy, left_on = ['GVKEY', 'year'], right_on = ['gvkey', 'year'], suffixes = ('_fund', '_ratio'), how = 'inner')\n",
    "fund_ratio_bank = fund_ratio_bank.drop(columns = 'GVKEY_ratio')\n",
    "fund_ratio_bank = fund_ratio_bank.rename(columns = {'GVKEY_fund' : 'GVKEY'})\n"
   ]
  },
  {
   "cell_type": "code",
   "execution_count": 28,
   "metadata": {},
   "outputs": [
    {
     "name": "stdout",
     "output_type": "stream",
     "text": [
      "The final dataset includes: 855 companies, which have fundamental as well as financial ratios values\n"
     ]
    }
   ],
   "source": [
    "print('The final dataset includes:',fund_ratio_bank['GVKEY'].nunique(), 'companies, which have fundamental as well as financial ratios values')"
   ]
  },
  {
   "cell_type": "code",
   "execution_count": 29,
   "metadata": {},
   "outputs": [
    {
     "data": {
      "text/html": [
       "<div>\n",
       "<style scoped>\n",
       "    .dataframe tbody tr th:only-of-type {\n",
       "        vertical-align: middle;\n",
       "    }\n",
       "\n",
       "    .dataframe tbody tr th {\n",
       "        vertical-align: top;\n",
       "    }\n",
       "\n",
       "    .dataframe thead th {\n",
       "        text-align: right;\n",
       "    }\n",
       "</style>\n",
       "<table border=\"1\" class=\"dataframe\">\n",
       "  <thead>\n",
       "    <tr style=\"text-align: right;\">\n",
       "      <th></th>\n",
       "      <th>GVKEY</th>\n",
       "      <th>LINKPRIM</th>\n",
       "      <th>LIID</th>\n",
       "      <th>LINKTYPE</th>\n",
       "      <th>LPERMNO</th>\n",
       "      <th>LPERMCO</th>\n",
       "      <th>LINKDT</th>\n",
       "      <th>LINKENDDT</th>\n",
       "      <th>datadate</th>\n",
       "      <th>fyear</th>\n",
       "      <th>...</th>\n",
       "      <th>HIWATER_INCMST_NETINC_TTM_DATE</th>\n",
       "      <th>HIWATER_INCMST_NETINC_TTM</th>\n",
       "      <th>HIWATER_INCMST_NETINC_FY_DATE</th>\n",
       "      <th>HIWATER_INCMST_NETINC_FY</th>\n",
       "      <th>NAME_CHANGE_DATE1</th>\n",
       "      <th>NAME_CHANGE_DATE2</th>\n",
       "      <th>NAME_CHANGE_DATE3</th>\n",
       "      <th>bankrupt_year</th>\n",
       "      <th>cik_ratio</th>\n",
       "      <th>bankrupted</th>\n",
       "    </tr>\n",
       "  </thead>\n",
       "  <tbody>\n",
       "    <tr>\n",
       "      <td>0</td>\n",
       "      <td>1177</td>\n",
       "      <td>P</td>\n",
       "      <td>01</td>\n",
       "      <td>LC</td>\n",
       "      <td>88845.0</td>\n",
       "      <td>41072.0</td>\n",
       "      <td>12/14/2000</td>\n",
       "      <td>11/30/2018</td>\n",
       "      <td>12/31/2000</td>\n",
       "      <td>2000.0</td>\n",
       "      <td>...</td>\n",
       "      <td>NaN</td>\n",
       "      <td>NaN</td>\n",
       "      <td>NaN</td>\n",
       "      <td>NaN</td>\n",
       "      <td>NaN</td>\n",
       "      <td>NaN</td>\n",
       "      <td>NaN</td>\n",
       "      <td>NaN</td>\n",
       "      <td>NaN</td>\n",
       "      <td>0</td>\n",
       "    </tr>\n",
       "    <tr>\n",
       "      <td>1</td>\n",
       "      <td>1177</td>\n",
       "      <td>P</td>\n",
       "      <td>01</td>\n",
       "      <td>LC</td>\n",
       "      <td>88845.0</td>\n",
       "      <td>41072.0</td>\n",
       "      <td>12/14/2000</td>\n",
       "      <td>11/30/2018</td>\n",
       "      <td>12/31/2000</td>\n",
       "      <td>2000.0</td>\n",
       "      <td>...</td>\n",
       "      <td>NaN</td>\n",
       "      <td>NaN</td>\n",
       "      <td>NaN</td>\n",
       "      <td>NaN</td>\n",
       "      <td>NaN</td>\n",
       "      <td>NaN</td>\n",
       "      <td>NaN</td>\n",
       "      <td>NaN</td>\n",
       "      <td>NaN</td>\n",
       "      <td>0</td>\n",
       "    </tr>\n",
       "    <tr>\n",
       "      <td>2</td>\n",
       "      <td>1177</td>\n",
       "      <td>P</td>\n",
       "      <td>01</td>\n",
       "      <td>LC</td>\n",
       "      <td>88845.0</td>\n",
       "      <td>41072.0</td>\n",
       "      <td>12/14/2000</td>\n",
       "      <td>11/30/2018</td>\n",
       "      <td>12/31/2000</td>\n",
       "      <td>2000.0</td>\n",
       "      <td>...</td>\n",
       "      <td>NaN</td>\n",
       "      <td>NaN</td>\n",
       "      <td>NaN</td>\n",
       "      <td>NaN</td>\n",
       "      <td>NaN</td>\n",
       "      <td>NaN</td>\n",
       "      <td>NaN</td>\n",
       "      <td>NaN</td>\n",
       "      <td>NaN</td>\n",
       "      <td>0</td>\n",
       "    </tr>\n",
       "    <tr>\n",
       "      <td>3</td>\n",
       "      <td>1177</td>\n",
       "      <td>P</td>\n",
       "      <td>01</td>\n",
       "      <td>LC</td>\n",
       "      <td>88845.0</td>\n",
       "      <td>41072.0</td>\n",
       "      <td>12/14/2000</td>\n",
       "      <td>11/30/2018</td>\n",
       "      <td>12/31/2000</td>\n",
       "      <td>2000.0</td>\n",
       "      <td>...</td>\n",
       "      <td>NaN</td>\n",
       "      <td>NaN</td>\n",
       "      <td>NaN</td>\n",
       "      <td>NaN</td>\n",
       "      <td>NaN</td>\n",
       "      <td>NaN</td>\n",
       "      <td>NaN</td>\n",
       "      <td>NaN</td>\n",
       "      <td>NaN</td>\n",
       "      <td>0</td>\n",
       "    </tr>\n",
       "    <tr>\n",
       "      <td>4</td>\n",
       "      <td>1177</td>\n",
       "      <td>P</td>\n",
       "      <td>01</td>\n",
       "      <td>LC</td>\n",
       "      <td>88845.0</td>\n",
       "      <td>41072.0</td>\n",
       "      <td>12/14/2000</td>\n",
       "      <td>11/30/2018</td>\n",
       "      <td>12/31/2000</td>\n",
       "      <td>2000.0</td>\n",
       "      <td>...</td>\n",
       "      <td>NaN</td>\n",
       "      <td>NaN</td>\n",
       "      <td>NaN</td>\n",
       "      <td>NaN</td>\n",
       "      <td>NaN</td>\n",
       "      <td>NaN</td>\n",
       "      <td>NaN</td>\n",
       "      <td>NaN</td>\n",
       "      <td>NaN</td>\n",
       "      <td>0</td>\n",
       "    </tr>\n",
       "  </tbody>\n",
       "</table>\n",
       "<p>5 rows × 1531 columns</p>\n",
       "</div>"
      ],
      "text/plain": [
       "   GVKEY LINKPRIM LIID LINKTYPE  LPERMNO  LPERMCO      LINKDT   LINKENDDT  \\\n",
       "0   1177        P   01       LC  88845.0  41072.0  12/14/2000  11/30/2018   \n",
       "1   1177        P   01       LC  88845.0  41072.0  12/14/2000  11/30/2018   \n",
       "2   1177        P   01       LC  88845.0  41072.0  12/14/2000  11/30/2018   \n",
       "3   1177        P   01       LC  88845.0  41072.0  12/14/2000  11/30/2018   \n",
       "4   1177        P   01       LC  88845.0  41072.0  12/14/2000  11/30/2018   \n",
       "\n",
       "     datadate   fyear  ... HIWATER_INCMST_NETINC_TTM_DATE  \\\n",
       "0  12/31/2000  2000.0  ...                            NaN   \n",
       "1  12/31/2000  2000.0  ...                            NaN   \n",
       "2  12/31/2000  2000.0  ...                            NaN   \n",
       "3  12/31/2000  2000.0  ...                            NaN   \n",
       "4  12/31/2000  2000.0  ...                            NaN   \n",
       "\n",
       "  HIWATER_INCMST_NETINC_TTM HIWATER_INCMST_NETINC_FY_DATE  \\\n",
       "0                       NaN                           NaN   \n",
       "1                       NaN                           NaN   \n",
       "2                       NaN                           NaN   \n",
       "3                       NaN                           NaN   \n",
       "4                       NaN                           NaN   \n",
       "\n",
       "  HIWATER_INCMST_NETINC_FY NAME_CHANGE_DATE1 NAME_CHANGE_DATE2  \\\n",
       "0                      NaN               NaN               NaN   \n",
       "1                      NaN               NaN               NaN   \n",
       "2                      NaN               NaN               NaN   \n",
       "3                      NaN               NaN               NaN   \n",
       "4                      NaN               NaN               NaN   \n",
       "\n",
       "  NAME_CHANGE_DATE3 bankrupt_year cik_ratio bankrupted  \n",
       "0               NaN           NaN       NaN          0  \n",
       "1               NaN           NaN       NaN          0  \n",
       "2               NaN           NaN       NaN          0  \n",
       "3               NaN           NaN       NaN          0  \n",
       "4               NaN           NaN       NaN          0  \n",
       "\n",
       "[5 rows x 1531 columns]"
      ]
     },
     "execution_count": 29,
     "metadata": {},
     "output_type": "execute_result"
    }
   ],
   "source": [
    "fund_ratio_bank.head()"
   ]
  },
  {
   "cell_type": "code",
   "execution_count": 30,
   "metadata": {},
   "outputs": [
    {
     "data": {
      "text/plain": [
       "784"
      ]
     },
     "execution_count": 30,
     "metadata": {},
     "output_type": "execute_result"
    }
   ],
   "source": [
    "#filter for market cap size (in MM)\n",
    "#recommend using this after creating bankruptcy dummy\n",
    "\n",
    "def market_cap_size(df, lower, upper):\n",
    "    \n",
    "    mask = ((df['mkvalt'] >=lower) & (df['mkvalt'] <=upper))\n",
    "    df =df[mask]\n",
    "    \n",
    "    return df\n",
    "\n",
    "\n",
    "#market cap 500M - 1B\n",
    "df500 = market_cap_size(fund_ratio_bank, 0,1000)\n",
    "\n",
    "df500['GVKEY'].nunique()"
   ]
  },
  {
   "cell_type": "code",
   "execution_count": 31,
   "metadata": {},
   "outputs": [
    {
     "data": {
      "text/plain": [
       "150"
      ]
     },
     "execution_count": 31,
     "metadata": {},
     "output_type": "execute_result"
    }
   ],
   "source": [
    "df500['bankrupted'].sum()"
   ]
  },
  {
   "cell_type": "code",
   "execution_count": 32,
   "metadata": {},
   "outputs": [],
   "source": [
    "# get list of financial ratio that could be used as input\n",
    "listratio=[]\n",
    "for col in df_fin_ratio.columns: \n",
    "    listratio.append(col) \n"
   ]
  },
  {
   "cell_type": "code",
   "execution_count": 40,
   "metadata": {},
   "outputs": [
    {
     "name": "stdout",
     "output_type": "stream",
     "text": [
      "gvkey NULL: 0\n",
      "adate NULL: 0\n",
      "qdate NULL: 0\n",
      "public_date NULL: 0\n",
      "CAPEI NULL: 1340\n",
      "bm NULL: 3069\n",
      "evm NULL: 91\n",
      "pe_op_basic NULL: 943\n",
      "pe_op_dil NULL: 928\n",
      "pe_exi NULL: 925\n",
      "pe_inc NULL: 918\n",
      "ps NULL: 2843\n",
      "pcf NULL: 171\n",
      "dpr NULL: 32598\n",
      "npm NULL: 2843\n",
      "opmbd NULL: 2843\n",
      "opmad NULL: 2843\n",
      "gpm NULL: 3169\n",
      "ptpm NULL: 2843\n",
      "cfm NULL: 2901\n",
      "roa NULL: 176\n",
      "roe NULL: 3541\n",
      "roce NULL: 326\n",
      "efftax NULL: 33737\n",
      "aftret_eq NULL: 167\n",
      "aftret_invcapx NULL: 1008\n",
      "aftret_equity NULL: 167\n",
      "pretret_noa NULL: 391\n",
      "pretret_earnat NULL: 391\n",
      "GProf NULL: 36\n",
      "equity_invcap NULL: 743\n",
      "debt_invcap NULL: 879\n",
      "totdebt_invcap NULL: 888\n",
      "capital_ratio NULL: 136\n",
      "int_debt NULL: 17611\n",
      "int_totdebt NULL: 14950\n",
      "cash_lt NULL: 44\n",
      "invt_act NULL: 354\n",
      "rect_act NULL: 701\n",
      "debt_at NULL: 145\n",
      "debt_ebitda NULL: 236\n",
      "short_debt NULL: 12808\n",
      "curr_debt NULL: 244\n",
      "lt_debt NULL: 136\n",
      "profit_lct NULL: 238\n",
      "ocf_lct NULL: 370\n",
      "cash_debt NULL: 549\n",
      "fcf_ocf NULL: 29062\n",
      "lt_ppent NULL: 392\n",
      "dltt_be NULL: 2765\n",
      "debt_assets NULL: 44\n",
      "debt_capital NULL: 27\n",
      "de_ratio NULL: 44\n",
      "intcov NULL: 13411\n",
      "intcov_ratio NULL: 13432\n",
      "cash_ratio NULL: 202\n",
      "quick_ratio NULL: 234\n",
      "curr_ratio NULL: 202\n",
      "cash_conversion NULL: 10440\n",
      "inv_turn NULL: 19422\n",
      "at_turn NULL: 2965\n",
      "rect_turn NULL: 5366\n",
      "pay_turn NULL: 507\n",
      "sale_invcap NULL: 3550\n",
      "sale_equity NULL: 5278\n",
      "sale_nwc NULL: 5764\n",
      "rd_sale NULL: 0\n",
      "adv_sale NULL: 3201\n",
      "staff_sale NULL: 3201\n",
      "accrual NULL: 153\n",
      "ptb NULL: 3069\n",
      "PEG_trailing NULL: 29963\n",
      "DIVYIELD NULL: 48530\n",
      "PEG_1yrforward NULL: 18796\n",
      "PEG_ltgforward NULL: 33702\n"
     ]
    },
    {
     "ename": "KeyError",
     "evalue": "'qmonth'",
     "output_type": "error",
     "traceback": [
      "\u001b[1;31m---------------------------------------------------------------------------\u001b[0m",
      "\u001b[1;31mKeyError\u001b[0m                                  Traceback (most recent call last)",
      "\u001b[1;32m~\\Anaconda2\\lib\\site-packages\\pandas\\core\\indexes\\base.py\u001b[0m in \u001b[0;36mget_loc\u001b[1;34m(self, key, method, tolerance)\u001b[0m\n\u001b[0;32m   2896\u001b[0m             \u001b[1;32mtry\u001b[0m\u001b[1;33m:\u001b[0m\u001b[1;33m\u001b[0m\u001b[1;33m\u001b[0m\u001b[0m\n\u001b[1;32m-> 2897\u001b[1;33m                 \u001b[1;32mreturn\u001b[0m \u001b[0mself\u001b[0m\u001b[1;33m.\u001b[0m\u001b[0m_engine\u001b[0m\u001b[1;33m.\u001b[0m\u001b[0mget_loc\u001b[0m\u001b[1;33m(\u001b[0m\u001b[0mkey\u001b[0m\u001b[1;33m)\u001b[0m\u001b[1;33m\u001b[0m\u001b[1;33m\u001b[0m\u001b[0m\n\u001b[0m\u001b[0;32m   2898\u001b[0m             \u001b[1;32mexcept\u001b[0m \u001b[0mKeyError\u001b[0m\u001b[1;33m:\u001b[0m\u001b[1;33m\u001b[0m\u001b[1;33m\u001b[0m\u001b[0m\n",
      "\u001b[1;32mpandas\\_libs\\index.pyx\u001b[0m in \u001b[0;36mpandas._libs.index.IndexEngine.get_loc\u001b[1;34m()\u001b[0m\n",
      "\u001b[1;32mpandas\\_libs\\index.pyx\u001b[0m in \u001b[0;36mpandas._libs.index.IndexEngine.get_loc\u001b[1;34m()\u001b[0m\n",
      "\u001b[1;32mpandas\\_libs\\hashtable_class_helper.pxi\u001b[0m in \u001b[0;36mpandas._libs.hashtable.PyObjectHashTable.get_item\u001b[1;34m()\u001b[0m\n",
      "\u001b[1;32mpandas\\_libs\\hashtable_class_helper.pxi\u001b[0m in \u001b[0;36mpandas._libs.hashtable.PyObjectHashTable.get_item\u001b[1;34m()\u001b[0m\n",
      "\u001b[1;31mKeyError\u001b[0m: 'qmonth'",
      "\nDuring handling of the above exception, another exception occurred:\n",
      "\u001b[1;31mKeyError\u001b[0m                                  Traceback (most recent call last)",
      "\u001b[1;32m<ipython-input-40-d88649357ea8>\u001b[0m in \u001b[0;36m<module>\u001b[1;34m\u001b[0m\n\u001b[0;32m      1\u001b[0m \u001b[1;32mfor\u001b[0m \u001b[0mi\u001b[0m \u001b[1;32min\u001b[0m \u001b[0mlistratio\u001b[0m\u001b[1;33m:\u001b[0m\u001b[1;33m\u001b[0m\u001b[1;33m\u001b[0m\u001b[0m\n\u001b[1;32m----> 2\u001b[1;33m     \u001b[0mprint\u001b[0m\u001b[1;33m(\u001b[0m\u001b[0mi\u001b[0m\u001b[1;33m,\u001b[0m\u001b[1;34m\"NULL:\"\u001b[0m\u001b[1;33m,\u001b[0m\u001b[0mdf500\u001b[0m\u001b[1;33m[\u001b[0m\u001b[0mi\u001b[0m\u001b[1;33m]\u001b[0m\u001b[1;33m.\u001b[0m\u001b[0misnull\u001b[0m\u001b[1;33m(\u001b[0m\u001b[1;33m)\u001b[0m\u001b[1;33m.\u001b[0m\u001b[0msum\u001b[0m\u001b[1;33m(\u001b[0m\u001b[1;33m)\u001b[0m\u001b[1;33m)\u001b[0m\u001b[1;33m\u001b[0m\u001b[1;33m\u001b[0m\u001b[0m\n\u001b[0m",
      "\u001b[1;32m~\\Anaconda2\\lib\\site-packages\\pandas\\core\\frame.py\u001b[0m in \u001b[0;36m__getitem__\u001b[1;34m(self, key)\u001b[0m\n\u001b[0;32m   2978\u001b[0m             \u001b[1;32mif\u001b[0m \u001b[0mself\u001b[0m\u001b[1;33m.\u001b[0m\u001b[0mcolumns\u001b[0m\u001b[1;33m.\u001b[0m\u001b[0mnlevels\u001b[0m \u001b[1;33m>\u001b[0m \u001b[1;36m1\u001b[0m\u001b[1;33m:\u001b[0m\u001b[1;33m\u001b[0m\u001b[1;33m\u001b[0m\u001b[0m\n\u001b[0;32m   2979\u001b[0m                 \u001b[1;32mreturn\u001b[0m \u001b[0mself\u001b[0m\u001b[1;33m.\u001b[0m\u001b[0m_getitem_multilevel\u001b[0m\u001b[1;33m(\u001b[0m\u001b[0mkey\u001b[0m\u001b[1;33m)\u001b[0m\u001b[1;33m\u001b[0m\u001b[1;33m\u001b[0m\u001b[0m\n\u001b[1;32m-> 2980\u001b[1;33m             \u001b[0mindexer\u001b[0m \u001b[1;33m=\u001b[0m \u001b[0mself\u001b[0m\u001b[1;33m.\u001b[0m\u001b[0mcolumns\u001b[0m\u001b[1;33m.\u001b[0m\u001b[0mget_loc\u001b[0m\u001b[1;33m(\u001b[0m\u001b[0mkey\u001b[0m\u001b[1;33m)\u001b[0m\u001b[1;33m\u001b[0m\u001b[1;33m\u001b[0m\u001b[0m\n\u001b[0m\u001b[0;32m   2981\u001b[0m             \u001b[1;32mif\u001b[0m \u001b[0mis_integer\u001b[0m\u001b[1;33m(\u001b[0m\u001b[0mindexer\u001b[0m\u001b[1;33m)\u001b[0m\u001b[1;33m:\u001b[0m\u001b[1;33m\u001b[0m\u001b[1;33m\u001b[0m\u001b[0m\n\u001b[0;32m   2982\u001b[0m                 \u001b[0mindexer\u001b[0m \u001b[1;33m=\u001b[0m \u001b[1;33m[\u001b[0m\u001b[0mindexer\u001b[0m\u001b[1;33m]\u001b[0m\u001b[1;33m\u001b[0m\u001b[1;33m\u001b[0m\u001b[0m\n",
      "\u001b[1;32m~\\Anaconda2\\lib\\site-packages\\pandas\\core\\indexes\\base.py\u001b[0m in \u001b[0;36mget_loc\u001b[1;34m(self, key, method, tolerance)\u001b[0m\n\u001b[0;32m   2897\u001b[0m                 \u001b[1;32mreturn\u001b[0m \u001b[0mself\u001b[0m\u001b[1;33m.\u001b[0m\u001b[0m_engine\u001b[0m\u001b[1;33m.\u001b[0m\u001b[0mget_loc\u001b[0m\u001b[1;33m(\u001b[0m\u001b[0mkey\u001b[0m\u001b[1;33m)\u001b[0m\u001b[1;33m\u001b[0m\u001b[1;33m\u001b[0m\u001b[0m\n\u001b[0;32m   2898\u001b[0m             \u001b[1;32mexcept\u001b[0m \u001b[0mKeyError\u001b[0m\u001b[1;33m:\u001b[0m\u001b[1;33m\u001b[0m\u001b[1;33m\u001b[0m\u001b[0m\n\u001b[1;32m-> 2899\u001b[1;33m                 \u001b[1;32mreturn\u001b[0m \u001b[0mself\u001b[0m\u001b[1;33m.\u001b[0m\u001b[0m_engine\u001b[0m\u001b[1;33m.\u001b[0m\u001b[0mget_loc\u001b[0m\u001b[1;33m(\u001b[0m\u001b[0mself\u001b[0m\u001b[1;33m.\u001b[0m\u001b[0m_maybe_cast_indexer\u001b[0m\u001b[1;33m(\u001b[0m\u001b[0mkey\u001b[0m\u001b[1;33m)\u001b[0m\u001b[1;33m)\u001b[0m\u001b[1;33m\u001b[0m\u001b[1;33m\u001b[0m\u001b[0m\n\u001b[0m\u001b[0;32m   2900\u001b[0m         \u001b[0mindexer\u001b[0m \u001b[1;33m=\u001b[0m \u001b[0mself\u001b[0m\u001b[1;33m.\u001b[0m\u001b[0mget_indexer\u001b[0m\u001b[1;33m(\u001b[0m\u001b[1;33m[\u001b[0m\u001b[0mkey\u001b[0m\u001b[1;33m]\u001b[0m\u001b[1;33m,\u001b[0m \u001b[0mmethod\u001b[0m\u001b[1;33m=\u001b[0m\u001b[0mmethod\u001b[0m\u001b[1;33m,\u001b[0m \u001b[0mtolerance\u001b[0m\u001b[1;33m=\u001b[0m\u001b[0mtolerance\u001b[0m\u001b[1;33m)\u001b[0m\u001b[1;33m\u001b[0m\u001b[1;33m\u001b[0m\u001b[0m\n\u001b[0;32m   2901\u001b[0m         \u001b[1;32mif\u001b[0m \u001b[0mindexer\u001b[0m\u001b[1;33m.\u001b[0m\u001b[0mndim\u001b[0m \u001b[1;33m>\u001b[0m \u001b[1;36m1\u001b[0m \u001b[1;32mor\u001b[0m \u001b[0mindexer\u001b[0m\u001b[1;33m.\u001b[0m\u001b[0msize\u001b[0m \u001b[1;33m>\u001b[0m \u001b[1;36m1\u001b[0m\u001b[1;33m:\u001b[0m\u001b[1;33m\u001b[0m\u001b[1;33m\u001b[0m\u001b[0m\n",
      "\u001b[1;32mpandas\\_libs\\index.pyx\u001b[0m in \u001b[0;36mpandas._libs.index.IndexEngine.get_loc\u001b[1;34m()\u001b[0m\n",
      "\u001b[1;32mpandas\\_libs\\index.pyx\u001b[0m in \u001b[0;36mpandas._libs.index.IndexEngine.get_loc\u001b[1;34m()\u001b[0m\n",
      "\u001b[1;32mpandas\\_libs\\hashtable_class_helper.pxi\u001b[0m in \u001b[0;36mpandas._libs.hashtable.PyObjectHashTable.get_item\u001b[1;34m()\u001b[0m\n",
      "\u001b[1;32mpandas\\_libs\\hashtable_class_helper.pxi\u001b[0m in \u001b[0;36mpandas._libs.hashtable.PyObjectHashTable.get_item\u001b[1;34m()\u001b[0m\n",
      "\u001b[1;31mKeyError\u001b[0m: 'qmonth'"
     ]
    }
   ],
   "source": [
    "for i in listratio:\n",
    "    print(i,\"NULL:\",df500[i].isnull().sum())"
   ]
  },
  {
   "cell_type": "code",
   "execution_count": 41,
   "metadata": {},
   "outputs": [
    {
     "data": {
      "text/plain": [
       "251      0.348\n",
       "252      0.348\n",
       "253      0.348\n",
       "254      0.481\n",
       "255      0.481\n",
       "         ...  \n",
       "59959    0.728\n",
       "59960    0.728\n",
       "59961    0.728\n",
       "59962    1.000\n",
       "59963    1.000\n",
       "Name: curr_debt, Length: 49311, dtype: float64"
      ]
     },
     "execution_count": 41,
     "metadata": {},
     "output_type": "execute_result"
    }
   ],
   "source": [
    "df500['curr_debt']"
   ]
  },
  {
   "cell_type": "code",
   "execution_count": 42,
   "metadata": {},
   "outputs": [],
   "source": [
    "#de_ratio, debt_ebitda, roa, cash_debt, quick_ratio, intcov_ratio"
   ]
  },
  {
   "cell_type": "code",
   "execution_count": 43,
   "metadata": {},
   "outputs": [],
   "source": [
    "df_dataset= df500[['de_ratio', 'debt_ebitda', 'roa', 'cash_debt', 'quick_ratio', 'intcov_ratio','bankrupted','adate']]"
   ]
  },
  {
   "cell_type": "code",
   "execution_count": 44,
   "metadata": {},
   "outputs": [],
   "source": [
    "df_dataset=df_dataset.dropna()"
   ]
  },
  {
   "cell_type": "code",
   "execution_count": 45,
   "metadata": {},
   "outputs": [
    {
     "data": {
      "text/html": [
       "<div>\n",
       "<style scoped>\n",
       "    .dataframe tbody tr th:only-of-type {\n",
       "        vertical-align: middle;\n",
       "    }\n",
       "\n",
       "    .dataframe tbody tr th {\n",
       "        vertical-align: top;\n",
       "    }\n",
       "\n",
       "    .dataframe thead th {\n",
       "        text-align: right;\n",
       "    }\n",
       "</style>\n",
       "<table border=\"1\" class=\"dataframe\">\n",
       "  <thead>\n",
       "    <tr style=\"text-align: right;\">\n",
       "      <th></th>\n",
       "      <th>de_ratio</th>\n",
       "      <th>debt_ebitda</th>\n",
       "      <th>roa</th>\n",
       "      <th>cash_debt</th>\n",
       "      <th>quick_ratio</th>\n",
       "      <th>intcov_ratio</th>\n",
       "      <th>bankrupted</th>\n",
       "      <th>adate</th>\n",
       "    </tr>\n",
       "  </thead>\n",
       "  <tbody>\n",
       "    <tr>\n",
       "      <td>251</td>\n",
       "      <td>0.338</td>\n",
       "      <td>1.333</td>\n",
       "      <td>0.079</td>\n",
       "      <td>0.309</td>\n",
       "      <td>8.660</td>\n",
       "      <td>87.403</td>\n",
       "      <td>0</td>\n",
       "      <td>12/31/2000</td>\n",
       "    </tr>\n",
       "    <tr>\n",
       "      <td>252</td>\n",
       "      <td>0.338</td>\n",
       "      <td>1.333</td>\n",
       "      <td>0.079</td>\n",
       "      <td>0.309</td>\n",
       "      <td>8.660</td>\n",
       "      <td>87.403</td>\n",
       "      <td>0</td>\n",
       "      <td>12/31/2000</td>\n",
       "    </tr>\n",
       "    <tr>\n",
       "      <td>253</td>\n",
       "      <td>0.338</td>\n",
       "      <td>1.333</td>\n",
       "      <td>0.079</td>\n",
       "      <td>0.309</td>\n",
       "      <td>8.660</td>\n",
       "      <td>87.403</td>\n",
       "      <td>0</td>\n",
       "      <td>12/31/2000</td>\n",
       "    </tr>\n",
       "    <tr>\n",
       "      <td>254</td>\n",
       "      <td>0.335</td>\n",
       "      <td>1.333</td>\n",
       "      <td>0.147</td>\n",
       "      <td>0.309</td>\n",
       "      <td>6.270</td>\n",
       "      <td>87.403</td>\n",
       "      <td>0</td>\n",
       "      <td>12/31/2000</td>\n",
       "    </tr>\n",
       "    <tr>\n",
       "      <td>255</td>\n",
       "      <td>0.335</td>\n",
       "      <td>1.333</td>\n",
       "      <td>0.147</td>\n",
       "      <td>0.309</td>\n",
       "      <td>6.270</td>\n",
       "      <td>87.403</td>\n",
       "      <td>0</td>\n",
       "      <td>12/31/2000</td>\n",
       "    </tr>\n",
       "    <tr>\n",
       "      <td>...</td>\n",
       "      <td>...</td>\n",
       "      <td>...</td>\n",
       "      <td>...</td>\n",
       "      <td>...</td>\n",
       "      <td>...</td>\n",
       "      <td>...</td>\n",
       "      <td>...</td>\n",
       "      <td>...</td>\n",
       "    </tr>\n",
       "    <tr>\n",
       "      <td>59959</td>\n",
       "      <td>0.103</td>\n",
       "      <td>-0.048</td>\n",
       "      <td>-0.286</td>\n",
       "      <td>-4.238</td>\n",
       "      <td>12.082</td>\n",
       "      <td>-26.559</td>\n",
       "      <td>0</td>\n",
       "      <td>12/31/2009</td>\n",
       "    </tr>\n",
       "    <tr>\n",
       "      <td>59960</td>\n",
       "      <td>0.103</td>\n",
       "      <td>-0.048</td>\n",
       "      <td>-0.286</td>\n",
       "      <td>-4.238</td>\n",
       "      <td>12.082</td>\n",
       "      <td>-26.559</td>\n",
       "      <td>0</td>\n",
       "      <td>12/31/2009</td>\n",
       "    </tr>\n",
       "    <tr>\n",
       "      <td>59961</td>\n",
       "      <td>0.103</td>\n",
       "      <td>-0.048</td>\n",
       "      <td>-0.286</td>\n",
       "      <td>-4.238</td>\n",
       "      <td>12.082</td>\n",
       "      <td>-26.559</td>\n",
       "      <td>0</td>\n",
       "      <td>12/31/2009</td>\n",
       "    </tr>\n",
       "    <tr>\n",
       "      <td>59962</td>\n",
       "      <td>0.071</td>\n",
       "      <td>0.000</td>\n",
       "      <td>-0.257</td>\n",
       "      <td>-4.238</td>\n",
       "      <td>12.353</td>\n",
       "      <td>-57.240</td>\n",
       "      <td>0</td>\n",
       "      <td>12/31/2009</td>\n",
       "    </tr>\n",
       "    <tr>\n",
       "      <td>59963</td>\n",
       "      <td>0.071</td>\n",
       "      <td>0.000</td>\n",
       "      <td>-0.257</td>\n",
       "      <td>-4.238</td>\n",
       "      <td>12.353</td>\n",
       "      <td>-57.240</td>\n",
       "      <td>0</td>\n",
       "      <td>12/31/2009</td>\n",
       "    </tr>\n",
       "  </tbody>\n",
       "</table>\n",
       "<p>35272 rows × 8 columns</p>\n",
       "</div>"
      ],
      "text/plain": [
       "       de_ratio  debt_ebitda    roa  cash_debt  quick_ratio  intcov_ratio  \\\n",
       "251       0.338        1.333  0.079      0.309        8.660        87.403   \n",
       "252       0.338        1.333  0.079      0.309        8.660        87.403   \n",
       "253       0.338        1.333  0.079      0.309        8.660        87.403   \n",
       "254       0.335        1.333  0.147      0.309        6.270        87.403   \n",
       "255       0.335        1.333  0.147      0.309        6.270        87.403   \n",
       "...         ...          ...    ...        ...          ...           ...   \n",
       "59959     0.103       -0.048 -0.286     -4.238       12.082       -26.559   \n",
       "59960     0.103       -0.048 -0.286     -4.238       12.082       -26.559   \n",
       "59961     0.103       -0.048 -0.286     -4.238       12.082       -26.559   \n",
       "59962     0.071        0.000 -0.257     -4.238       12.353       -57.240   \n",
       "59963     0.071        0.000 -0.257     -4.238       12.353       -57.240   \n",
       "\n",
       "       bankrupted       adate  \n",
       "251             0  12/31/2000  \n",
       "252             0  12/31/2000  \n",
       "253             0  12/31/2000  \n",
       "254             0  12/31/2000  \n",
       "255             0  12/31/2000  \n",
       "...           ...         ...  \n",
       "59959           0  12/31/2009  \n",
       "59960           0  12/31/2009  \n",
       "59961           0  12/31/2009  \n",
       "59962           0  12/31/2009  \n",
       "59963           0  12/31/2009  \n",
       "\n",
       "[35272 rows x 8 columns]"
      ]
     },
     "execution_count": 45,
     "metadata": {},
     "output_type": "execute_result"
    }
   ],
   "source": [
    "df_dataset"
   ]
  },
  {
   "cell_type": "code",
   "execution_count": 46,
   "metadata": {},
   "outputs": [],
   "source": [
    "import pandas as pd\n",
    "import numpy as np\n",
    "from sklearn.metrics import accuracy_score\n",
    "\n",
    "from sklearn.model_selection import train_test_split\n",
    "from sklearn.metrics import roc_curve, roc_auc_score, f1_score\n",
    "from sklearn.ensemble import RandomForestClassifier\n",
    "from sklearn.ensemble import RandomForestRegressor\n",
    "from sklearn.linear_model import LogisticRegression, LinearRegression, Lasso\n",
    "from sklearn.model_selection import GridSearchCV\n",
    "\n",
    "import matplotlib.pyplot as plt\n",
    "from sklearn.metrics import classification_report\n",
    "from pandas import Series, DataFrame\n",
    "from sklearn.metrics import confusion_matrix\n",
    "from sklearn.metrics import f1_score,recall_score\n",
    "from sklearn.metrics import auc\n",
    "from sklearn.metrics import mean_squared_error\n",
    "import seaborn as sns\n",
    "\n",
    "#presentation: start w/ abstract"
   ]
  },
  {
   "cell_type": "code",
   "execution_count": 47,
   "metadata": {},
   "outputs": [
    {
     "data": {
      "text/html": [
       "<div>\n",
       "<style scoped>\n",
       "    .dataframe tbody tr th:only-of-type {\n",
       "        vertical-align: middle;\n",
       "    }\n",
       "\n",
       "    .dataframe tbody tr th {\n",
       "        vertical-align: top;\n",
       "    }\n",
       "\n",
       "    .dataframe thead th {\n",
       "        text-align: right;\n",
       "    }\n",
       "</style>\n",
       "<table border=\"1\" class=\"dataframe\">\n",
       "  <thead>\n",
       "    <tr style=\"text-align: right;\">\n",
       "      <th></th>\n",
       "      <th>de_ratio</th>\n",
       "      <th>debt_ebitda</th>\n",
       "      <th>roa</th>\n",
       "      <th>cash_debt</th>\n",
       "      <th>quick_ratio</th>\n",
       "      <th>intcov_ratio</th>\n",
       "      <th>bankrupted</th>\n",
       "      <th>adate</th>\n",
       "    </tr>\n",
       "  </thead>\n",
       "  <tbody>\n",
       "    <tr>\n",
       "      <td>251</td>\n",
       "      <td>0.338</td>\n",
       "      <td>1.333</td>\n",
       "      <td>0.079</td>\n",
       "      <td>0.309</td>\n",
       "      <td>8.660</td>\n",
       "      <td>87.403</td>\n",
       "      <td>0</td>\n",
       "      <td>12/31/2000</td>\n",
       "    </tr>\n",
       "    <tr>\n",
       "      <td>252</td>\n",
       "      <td>0.338</td>\n",
       "      <td>1.333</td>\n",
       "      <td>0.079</td>\n",
       "      <td>0.309</td>\n",
       "      <td>8.660</td>\n",
       "      <td>87.403</td>\n",
       "      <td>0</td>\n",
       "      <td>12/31/2000</td>\n",
       "    </tr>\n",
       "    <tr>\n",
       "      <td>253</td>\n",
       "      <td>0.338</td>\n",
       "      <td>1.333</td>\n",
       "      <td>0.079</td>\n",
       "      <td>0.309</td>\n",
       "      <td>8.660</td>\n",
       "      <td>87.403</td>\n",
       "      <td>0</td>\n",
       "      <td>12/31/2000</td>\n",
       "    </tr>\n",
       "    <tr>\n",
       "      <td>254</td>\n",
       "      <td>0.335</td>\n",
       "      <td>1.333</td>\n",
       "      <td>0.147</td>\n",
       "      <td>0.309</td>\n",
       "      <td>6.270</td>\n",
       "      <td>87.403</td>\n",
       "      <td>0</td>\n",
       "      <td>12/31/2000</td>\n",
       "    </tr>\n",
       "    <tr>\n",
       "      <td>255</td>\n",
       "      <td>0.335</td>\n",
       "      <td>1.333</td>\n",
       "      <td>0.147</td>\n",
       "      <td>0.309</td>\n",
       "      <td>6.270</td>\n",
       "      <td>87.403</td>\n",
       "      <td>0</td>\n",
       "      <td>12/31/2000</td>\n",
       "    </tr>\n",
       "    <tr>\n",
       "      <td>...</td>\n",
       "      <td>...</td>\n",
       "      <td>...</td>\n",
       "      <td>...</td>\n",
       "      <td>...</td>\n",
       "      <td>...</td>\n",
       "      <td>...</td>\n",
       "      <td>...</td>\n",
       "      <td>...</td>\n",
       "    </tr>\n",
       "    <tr>\n",
       "      <td>59959</td>\n",
       "      <td>0.103</td>\n",
       "      <td>-0.048</td>\n",
       "      <td>-0.286</td>\n",
       "      <td>-4.238</td>\n",
       "      <td>12.082</td>\n",
       "      <td>-26.559</td>\n",
       "      <td>0</td>\n",
       "      <td>12/31/2009</td>\n",
       "    </tr>\n",
       "    <tr>\n",
       "      <td>59960</td>\n",
       "      <td>0.103</td>\n",
       "      <td>-0.048</td>\n",
       "      <td>-0.286</td>\n",
       "      <td>-4.238</td>\n",
       "      <td>12.082</td>\n",
       "      <td>-26.559</td>\n",
       "      <td>0</td>\n",
       "      <td>12/31/2009</td>\n",
       "    </tr>\n",
       "    <tr>\n",
       "      <td>59961</td>\n",
       "      <td>0.103</td>\n",
       "      <td>-0.048</td>\n",
       "      <td>-0.286</td>\n",
       "      <td>-4.238</td>\n",
       "      <td>12.082</td>\n",
       "      <td>-26.559</td>\n",
       "      <td>0</td>\n",
       "      <td>12/31/2009</td>\n",
       "    </tr>\n",
       "    <tr>\n",
       "      <td>59962</td>\n",
       "      <td>0.071</td>\n",
       "      <td>0.000</td>\n",
       "      <td>-0.257</td>\n",
       "      <td>-4.238</td>\n",
       "      <td>12.353</td>\n",
       "      <td>-57.240</td>\n",
       "      <td>0</td>\n",
       "      <td>12/31/2009</td>\n",
       "    </tr>\n",
       "    <tr>\n",
       "      <td>59963</td>\n",
       "      <td>0.071</td>\n",
       "      <td>0.000</td>\n",
       "      <td>-0.257</td>\n",
       "      <td>-4.238</td>\n",
       "      <td>12.353</td>\n",
       "      <td>-57.240</td>\n",
       "      <td>0</td>\n",
       "      <td>12/31/2009</td>\n",
       "    </tr>\n",
       "  </tbody>\n",
       "</table>\n",
       "<p>35272 rows × 8 columns</p>\n",
       "</div>"
      ],
      "text/plain": [
       "       de_ratio  debt_ebitda    roa  cash_debt  quick_ratio  intcov_ratio  \\\n",
       "251       0.338        1.333  0.079      0.309        8.660        87.403   \n",
       "252       0.338        1.333  0.079      0.309        8.660        87.403   \n",
       "253       0.338        1.333  0.079      0.309        8.660        87.403   \n",
       "254       0.335        1.333  0.147      0.309        6.270        87.403   \n",
       "255       0.335        1.333  0.147      0.309        6.270        87.403   \n",
       "...         ...          ...    ...        ...          ...           ...   \n",
       "59959     0.103       -0.048 -0.286     -4.238       12.082       -26.559   \n",
       "59960     0.103       -0.048 -0.286     -4.238       12.082       -26.559   \n",
       "59961     0.103       -0.048 -0.286     -4.238       12.082       -26.559   \n",
       "59962     0.071        0.000 -0.257     -4.238       12.353       -57.240   \n",
       "59963     0.071        0.000 -0.257     -4.238       12.353       -57.240   \n",
       "\n",
       "       bankrupted       adate  \n",
       "251             0  12/31/2000  \n",
       "252             0  12/31/2000  \n",
       "253             0  12/31/2000  \n",
       "254             0  12/31/2000  \n",
       "255             0  12/31/2000  \n",
       "...           ...         ...  \n",
       "59959           0  12/31/2009  \n",
       "59960           0  12/31/2009  \n",
       "59961           0  12/31/2009  \n",
       "59962           0  12/31/2009  \n",
       "59963           0  12/31/2009  \n",
       "\n",
       "[35272 rows x 8 columns]"
      ]
     },
     "execution_count": 47,
     "metadata": {},
     "output_type": "execute_result"
    }
   ],
   "source": [
    "df_dataset"
   ]
  },
  {
   "cell_type": "code",
   "execution_count": 48,
   "metadata": {},
   "outputs": [],
   "source": [
    "mask_test = pd.to_datetime(df_dataset['adate']).dt.year >=2007\n",
    "train=df_dataset[~mask_test]\n",
    "test=df_dataset[mask_test]"
   ]
  },
  {
   "cell_type": "code",
   "execution_count": 49,
   "metadata": {},
   "outputs": [],
   "source": [
    "train= train.drop(columns='adate')\n",
    "test= test.drop(columns='adate')"
   ]
  },
  {
   "cell_type": "code",
   "execution_count": 50,
   "metadata": {},
   "outputs": [],
   "source": [
    "y_train= train['bankrupted']\n",
    "train= train.drop(columns=['bankrupted'])\n"
   ]
  },
  {
   "cell_type": "code",
   "execution_count": 51,
   "metadata": {},
   "outputs": [],
   "source": [
    "x_train= train"
   ]
  },
  {
   "cell_type": "markdown",
   "metadata": {},
   "source": [
    "## Random  Forest"
   ]
  },
  {
   "cell_type": "code",
   "execution_count": 52,
   "metadata": {},
   "outputs": [
    {
     "name": "stderr",
     "output_type": "stream",
     "text": [
      "C:\\Users\\Derrick\\Anaconda2\\lib\\site-packages\\sklearn\\ensemble\\forest.py:245: FutureWarning: The default value of n_estimators will change from 10 in version 0.20 to 100 in 0.22.\n",
      "  \"10 in version 0.20 to 100 in 0.22.\", FutureWarning)\n"
     ]
    }
   ],
   "source": [
    "#random forest\n",
    "from sklearn.ensemble import RandomForestClassifier\n",
    "from sklearn.datasets import make_classification\n",
    "clf = RandomForestClassifier(max_depth=2, random_state=0, class_weight='balanced')\n",
    "\n",
    "rgr=clf.fit(x_train, y_train)"
   ]
  },
  {
   "cell_type": "code",
   "execution_count": 53,
   "metadata": {},
   "outputs": [
    {
     "data": {
      "text/plain": [
       "0.9017570664629488"
      ]
     },
     "execution_count": 53,
     "metadata": {},
     "output_type": "execute_result"
    }
   ],
   "source": [
    "pred_train=rgr.predict(x_train)\n",
    "accuracy_score(pred_train, y_train)"
   ]
  },
  {
   "cell_type": "code",
   "execution_count": 54,
   "metadata": {},
   "outputs": [],
   "source": [
    "y_test= test['bankrupted']\n",
    "test= test.drop(columns=['bankrupted'])\n",
    "x_test= test"
   ]
  },
  {
   "cell_type": "code",
   "execution_count": 55,
   "metadata": {},
   "outputs": [
    {
     "data": {
      "text/plain": [
       "0.8873735151781786"
      ]
     },
     "execution_count": 55,
     "metadata": {},
     "output_type": "execute_result"
    }
   ],
   "source": [
    "pred_test=rgr.predict(x_test)\n",
    "accuracy_score(pred_test, y_test)"
   ]
  },
  {
   "cell_type": "code",
   "execution_count": 56,
   "metadata": {},
   "outputs": [
    {
     "data": {
      "text/plain": [
       "<matplotlib.axes._subplots.AxesSubplot at 0x1e90880ca48>"
      ]
     },
     "execution_count": 56,
     "metadata": {},
     "output_type": "execute_result"
    },
    {
     "data": {
      "image/png": "[encoded data removed]",
      "text/plain": [
       "<Figure size 720x720 with 1 Axes>"
      ]
     },
     "metadata": {
      "needs_background": "light"
     },
     "output_type": "display_data"
    }
   ],
   "source": [
    "feat_importances = pd.Series(rgr.feature_importances_, index=x_train.columns)\n",
    "plt.figure(figsize=(10,10)) \n",
    "feat_importances.sort_values().plot(kind='barh',color='c')\n",
    "#feat_importances.sort_values(ascending=False)"
   ]
  },
  {
   "cell_type": "markdown",
   "metadata": {},
   "source": [
    "## Logistic Regression "
   ]
  },
  {
   "cell_type": "code",
   "execution_count": 57,
   "metadata": {},
   "outputs": [
    {
     "name": "stderr",
     "output_type": "stream",
     "text": [
      "C:\\Users\\Derrick\\Anaconda2\\lib\\site-packages\\sklearn\\linear_model\\logistic.py:432: FutureWarning: Default solver will be changed to 'lbfgs' in 0.22. Specify a solver to silence this warning.\n",
      "  FutureWarning)\n"
     ]
    },
    {
     "data": {
      "text/plain": [
       "LogisticRegression(C=100000.0, class_weight='balanced', dual=False,\n",
       "                   fit_intercept=True, intercept_scaling=1, l1_ratio=None,\n",
       "                   max_iter=100, multi_class='warn', n_jobs=None, penalty='l2',\n",
       "                   random_state=None, solver='warn', tol=0.0001, verbose=0,\n",
       "                   warm_start=False)"
      ]
     },
     "execution_count": 57,
     "metadata": {},
     "output_type": "execute_result"
    }
   ],
   "source": [
    "from sklearn.linear_model import LogisticRegression\n",
    "logreg = LogisticRegression(C=1e5,class_weight='balanced')\n",
    "\n",
    "# Create an instance of Logistic Regression Classifier and fit the data.\n",
    "logreg.fit(x_train, y_train)"
   ]
  },
  {
   "cell_type": "code",
   "execution_count": 58,
   "metadata": {},
   "outputs": [],
   "source": [
    "y_pred=logreg.predict(x_test)"
   ]
  },
  {
   "cell_type": "code",
   "execution_count": 59,
   "metadata": {},
   "outputs": [
    {
     "data": {
      "text/plain": [
       "0.5112186537615486"
      ]
     },
     "execution_count": 59,
     "metadata": {},
     "output_type": "execute_result"
    }
   ],
   "source": [
    "accuracy_score(y_pred, y_test)"
   ]
  },
  {
   "cell_type": "code",
   "execution_count": 60,
   "metadata": {},
   "outputs": [],
   "source": [
    "feature_importance = abs(logreg.coef_[0])\n",
    "feature_importance = 100.0 * (feature_importance / feature_importance.max())\n",
    "sorted_idx = np.argsort(feature_importance)\n",
    "pos = np.arange(sorted_idx.shape[0]) + .5"
   ]
  },
  {
   "cell_type": "code",
   "execution_count": 61,
   "metadata": {},
   "outputs": [
    {
     "data": {
      "image/png": "[encoded data removed]",
      "text/plain": [
       "<Figure size 432x288 with 1 Axes>"
      ]
     },
     "metadata": {
      "needs_background": "light"
     },
     "output_type": "display_data"
    }
   ],
   "source": [
    "featfig = plt.figure()\n",
    "featax = featfig.add_subplot(1, 1, 1)\n",
    "featax.barh(pos, feature_importance[sorted_idx], align='center')\n",
    "featax.set_yticks(pos)\n",
    "featax.set_yticklabels(np.array(x_train.columns)[sorted_idx], fontsize=8)\n",
    "featax.set_xlabel('Relative Feature Importance')\n",
    "\n",
    "plt.tight_layout()   \n",
    "plt.show()"
   ]
  },
  {
   "cell_type": "markdown",
   "metadata": {},
   "source": [
    "## Confusion Matrix"
   ]
  },
  {
   "cell_type": "code",
   "execution_count": 62,
   "metadata": {},
   "outputs": [
    {
     "name": "stdout",
     "output_type": "stream",
     "text": [
      "[[4590 4435]\n",
      " [   9   58]]\n"
     ]
    }
   ],
   "source": [
    "from sklearn.metrics import confusion_matrix\n",
    "confusion_matrix = confusion_matrix(y_test, y_pred)\n",
    "print(confusion_matrix)"
   ]
  },
  {
   "cell_type": "markdown",
   "metadata": {},
   "source": [
    "## Precision Recall Report "
   ]
  },
  {
   "cell_type": "code",
   "execution_count": 63,
   "metadata": {},
   "outputs": [
    {
     "name": "stdout",
     "output_type": "stream",
     "text": [
      "              precision    recall  f1-score   support\n",
      "\n",
      "           0       1.00      0.51      0.67      9025\n",
      "           1       0.01      0.87      0.03        67\n",
      "\n",
      "    accuracy                           0.51      9092\n",
      "   macro avg       0.51      0.69      0.35      9092\n",
      "weighted avg       0.99      0.51      0.67      9092\n",
      "\n"
     ]
    }
   ],
   "source": [
    "from sklearn.metrics import classification_report\n",
    "print(classification_report(y_test, y_pred))"
   ]
  },
  {
   "cell_type": "code",
   "execution_count": 66,
   "metadata": {},
   "outputs": [
    {
     "data": {
      "image/png": "[encoded data removed]",
      "text/plain": [
       "<Figure size 432x288 with 1 Axes>"
      ]
     },
     "metadata": {
      "needs_background": "light"
     },
     "output_type": "display_data"
    }
   ],
   "source": [
    "from sklearn.metrics import roc_auc_score\n",
    "from sklearn.metrics import roc_curve\n",
    "logit_roc_auc = roc_auc_score(y_test, logreg.predict(x_test))\n",
    "fpr, tpr, thresholds = roc_curve(y_test, logreg.predict_proba(x_test)[:,1])\n",
    "plt.figure()\n",
    "plt.plot(fpr, tpr, label='Logistic Regression (area = %0.2f)' % logit_roc_auc)\n",
    "plt.plot([0, 1], [0, 1],'r--')\n",
    "plt.xlim([0.0, 1.0])\n",
    "plt.ylim([0.0, 1.05])\n",
    "plt.xlabel('False Positive Rate')\n",
    "plt.ylabel('True Positive Rate')\n",
    "plt.title('Receiver operating characteristic')\n",
    "plt.legend(loc=\"lower right\")\n",
    "plt.savefig('Log_ROC')\n",
    "plt.show()"
   ]
  },
  {
   "cell_type": "code",
   "execution_count": null,
   "metadata": {},
   "outputs": [],
   "source": []
  },
  {
   "cell_type": "code",
   "execution_count": null,
   "metadata": {},
   "outputs": [],
   "source": []
  },
  {
   "cell_type": "code",
   "execution_count": null,
   "metadata": {},
   "outputs": [],
   "source": []
  },
  {
   "cell_type": "code",
   "execution_count": null,
   "metadata": {},
   "outputs": [],
   "source": []
  },
  {
   "cell_type": "code",
   "execution_count": null,
   "metadata": {},
   "outputs": [],
   "source": []
  },
  {
   "cell_type": "code",
   "execution_count": null,
   "metadata": {},
   "outputs": [],
   "source": []
  },
  {
   "cell_type": "code",
   "execution_count": null,
   "metadata": {},
   "outputs": [],
   "source": [
    "df_bankrupt.drop_duplicates()"
   ]
  },
  {
   "cell_type": "code",
   "execution_count": null,
   "metadata": {},
   "outputs": [],
   "source": []
  },
  {
   "cell_type": "code",
   "execution_count": null,
   "metadata": {},
   "outputs": [],
   "source": [
    "relevant_columns = df_bankrupt[['COMPANY_FKEY','FILE_DATE']]\n",
    "#list(df_bankrupt.columns)\n",
    "df['cik'][:5]\n",
    "\n",
    "# COMPANY_FKEY is CIK\n",
    "df_bankrupt['COMPANY_FKEY'][:5]\n",
    "\n",
    "df_bankrupt['COMPANY_FKEY'].nunique()\n",
    "\n",
    "#filter for 2000-2010\n",
    "mask = (pd.to_datetime(df_bankrupt['BANK_BEGIN_DATE']).dt.year >1999) &  (pd.to_datetime(df_bankrupt['BANK_BEGIN_DATE']).dt.year < 2011)\n",
    "\n",
    "df_bankrupt_2000 = df_bankrupt[mask]\n",
    "\n",
    "df_bankrupt_2000.head()"
   ]
  },
  {
   "cell_type": "code",
   "execution_count": null,
   "metadata": {},
   "outputs": [],
   "source": [
    "df_merge = pd.merge(df, df_bankrupt_2000, left_on = 'cik', right_on = 'COMPANY_FKEY', suffixes = ('_fundam', '_bank'), how = 'left')\n",
    "df_merge['cik'].nunique()"
   ]
  },
  {
   "cell_type": "code",
   "execution_count": null,
   "metadata": {},
   "outputs": [],
   "source": [
    "# df_merge_11 = df_merge[df_merge['BANKRUPTCY_TYPE']==11]\n",
    "# df_merge_11"
   ]
  },
  {
   "cell_type": "code",
   "execution_count": null,
   "metadata": {},
   "outputs": [],
   "source": [
    "df_merge.head()"
   ]
  },
  {
   "cell_type": "code",
   "execution_count": null,
   "metadata": {},
   "outputs": [],
   "source": [
    "df_test = df_merge[df_merge['cik'] ==815508]"
   ]
  },
  {
   "cell_type": "code",
   "execution_count": null,
   "metadata": {
    "scrolled": true
   },
   "outputs": [],
   "source": [
    "df_test.head()"
   ]
  },
  {
   "cell_type": "code",
   "execution_count": null,
   "metadata": {},
   "outputs": [],
   "source": [
    "mask = pd.to_datetime(df_merge['datadate']).dt.year + 1 == pd.to_datetime(df_merge['BANK_BEGIN_DATE']).dt.year\n",
    "\n",
    "df_merge['bankrupted'] = np.where(mask, 1,0)"
   ]
  },
  {
   "cell_type": "code",
   "execution_count": null,
   "metadata": {},
   "outputs": [],
   "source": [
    "df_merge['bankrupted']"
   ]
  },
  {
   "cell_type": "code",
   "execution_count": null,
   "metadata": {},
   "outputs": [],
   "source": [
    "mask = pd.to_datetime(df_merge['datadate']).dt.year + 1 == pd.to_datetime(df_merge['BANK_BEGIN_DATE']).dt.year\n",
    "df_merge[mask]"
   ]
  },
  {
   "cell_type": "code",
   "execution_count": null,
   "metadata": {},
   "outputs": [],
   "source": [
    "df_merge['cik'].nunique()"
   ]
  },
  {
   "cell_type": "code",
   "execution_count": null,
   "metadata": {},
   "outputs": [],
   "source": [
    "pd.to_datetime(df_merge['datadate']).dt.year + 1"
   ]
  },
  {
   "cell_type": "code",
   "execution_count": null,
   "metadata": {},
   "outputs": [],
   "source": [
    "np.where()"
   ]
  },
  {
   "cell_type": "code",
   "execution_count": null,
   "metadata": {},
   "outputs": [],
   "source": [
    "pd.to_datetime(df_test['BANK_BEGIN_DATE']).dt.year"
   ]
  },
  {
   "cell_type": "code",
   "execution_count": null,
   "metadata": {},
   "outputs": [],
   "source": [
    "df_test['BANK_BEGIN_DATE']"
   ]
  },
  {
   "cell_type": "code",
   "execution_count": null,
   "metadata": {},
   "outputs": [],
   "source": [
    "df_merge.head()"
   ]
  }
 ],
 "metadata": {
  "kernelspec": {
   "display_name": "Python 3",
   "language": "python",
   "name": "python3"
  },
  "language_info": {
   "codemirror_mode": {
    "name": "ipython",
    "version": 3
   },
   "file_extension": ".py",
   "mimetype": "text/x-python",
   "name": "python",
   "nbconvert_exporter": "python",
   "pygments_lexer": "ipython3",
   "version": "3.7.4"
  }
 },
 "nbformat": 4,
 "nbformat_minor": 4
}
