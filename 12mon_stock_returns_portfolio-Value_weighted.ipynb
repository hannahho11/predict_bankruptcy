{
 "cells": [
  {
   "cell_type": "code",
   "execution_count": 1,
   "metadata": {},
   "outputs": [],
   "source": [
    "import pandas as pd\n",
    "import numpy as np\n",
    "import matplotlib.pyplot as plt\n",
    "import seaborn as sns\n",
    "from impyute.imputation.cs import mice\n",
    "from sklearn.metrics import roc_auc_score, f1_score, accuracy_score, confusion_matrix\n",
    "from xgboost import XGBClassifier\n",
    "from xgboost import plot_importance\n",
    "\n",
    "import pandas as pd \n",
    "import matplotlib.pyplot as plt \n",
    "import numpy as np \n",
    "import xgboost as xgb\n",
    "from sklearn.model_selection import train_test_split, GridSearchCV\n",
    "from sklearn.metrics import confusion_matrix, roc_curve, roc_auc_score, f1_score, precision_recall_curve\n",
    "import itertools\n",
    "from pandas_datareader import data as pdr\n",
    "import yfinance as yf\n",
    "import datetime"
   ]
  },
  {
   "cell_type": "code",
   "execution_count": 2,
   "metadata": {},
   "outputs": [],
   "source": [
    "df = pd.read_csv('12mo_stock_returns.csv')"
   ]
  },
  {
   "cell_type": "code",
   "execution_count": 4,
   "metadata": {},
   "outputs": [
    {
     "data": {
      "text/plain": [
       "Index(['Unnamed: 0', 'GVKEY', 'iid', 'datadate', 'cusip', 'conm', 'prccm',\n",
       "       'trfm', 'trt1m', 'cshoq', 'cik', 'fic', 'gsector', 'naics', 'state',\n",
       "       'year', 'month', 'mkvalt', '12mo return'],\n",
       "      dtype='object')"
      ]
     },
     "execution_count": 4,
     "metadata": {},
     "output_type": "execute_result"
    }
   ],
   "source": []
  },
  {
   "cell_type": "code",
   "execution_count": 15,
   "metadata": {},
   "outputs": [],
   "source": [
    "def longshort(df,yearinput):\n",
    "    df=df.sort_values(by='1', ascending=False)\n",
    "    df['quantile'] = pd.qcut(df['1'],10, labels=['1','2','3','4','5','6','7','8','9','10'])\n",
    "    #store the needed GVKEY into a list\n",
    "    masklow=df['quantile']=='10'\n",
    "    lowlist= list(df[masklow]['GVKEY'])\n",
    "    \n",
    "    \n",
    "    \n",
    "    maskhigh=df['quantile']=='1'\n",
    "    highlist= list(df[maskhigh]['GVKEY'])\n",
    "    \n",
    "    \n",
    "    print('Top Quantile has', len(highlist),' Companies')\n",
    "    print('Bottom Quantile has', len(lowlist),' Companies')\n",
    "    \n",
    "    \n",
    "    #all_fund and time reduction \n",
    "    all_fund = pd.read_csv('12mo_stock_returns.csv')\n",
    "    all_fund['datadate']=(pd.to_datetime(all_fund['datadate']))\n",
    "    all_fund['month']= all_fund['datadate'].dt.month\n",
    "    all_fund['year']= all_fund['datadate'].dt.year\n",
    "    maskyear= all_fund['year']>=yearinput\n",
    "    all_fund['shareout']=all_fund['mkvalt']/all_fund['prccm']\n",
    "    \n",
    "    \n",
    "\n",
    "        \n",
    "    #shift return for allfund \n",
    "    \n",
    "    mask = all_fund['GVKEY']==all_fund['GVKEY'].shift(-1)\n",
    "    all_fund['next_month_return']= np.where(mask,all_fund['trt1m'].shift(-1),np.nan)\n",
    "    \n",
    "    \n",
    "    #mask to only check the one in qcut\n",
    "    maskhigh= all_fund['GVKEY'].isin(highlist)\n",
    "    highdata=all_fund[maskhigh]\n",
    "    \n",
    "    masklow= all_fund['GVKEY'].isin(lowlist)\n",
    "    lowdata=all_fund[masklow]\n",
    "\n",
    "    ## sum valuecap\n",
    "    \n",
    "    highcap= highdata.groupby(by=['year','month'])['mkvalt'].agg('sum')\n",
    "    lowcap= lowdata.groupby(by=['year','month'])['mkvalt'].agg('sum')\n",
    "    \n",
    "    highcap= highcap.reset_index()\n",
    "    lowcap= lowcap.reset_index()\n",
    "    \n",
    "    #merge the portfolio with marketcap \n",
    "    \n",
    "    highport=pd.merge(highdata, highcap, left_on = ['year','month'], right_on = ['year','month'], suffixes = ('', 'sum'), how = 'left')\n",
    "    lowport=pd.merge(lowdata, lowcap, left_on = ['year','month'], right_on = ['year','month'], suffixes = ('', 'sum'), how = 'left')\n",
    "    highport['percentage']= highport['mkvalt']/highport['mkvaltsum']\n",
    "    lowport['percentage']= lowport['mkvalt']/lowport['mkvaltsum']\n",
    "    \n",
    "    #return base on portfolio\n",
    "    highport['portreturn']= highport['percentage']*highport['next_month_return']\n",
    "    lowport['portreturn']= lowport['percentage']*lowport['next_month_return']\n",
    "    \n",
    "    \n",
    "    highport= highport[['year','month','GVKEY','portreturn']]\n",
    "    lowport= lowport[['year','month','GVKEY','portreturn']]\n",
    "    #highdata= highdata[['year','month','GVKEY','next_month_return']]\n",
    "    #lowdata= lowdata[['year','month','GVKEY','next_month_return']]\n",
    "    \n",
    "    \n",
    "    \n",
    "    #equal weight portfolio \n",
    "    \n",
    "    temp=highport.groupby(['year','month'])[['portreturn']].agg('count').reset_index()\n",
    "    temp2=lowport.groupby(['year','month'])[['portreturn']].agg('count').reset_index()\n",
    "    mask= temp['year']==yearinput\n",
    "    temp= temp[mask]\n",
    "    mask= temp2['year']==yearinput\n",
    "    temp2= temp2[mask]\n",
    "    \n",
    "    \n",
    "    print('In the year', i, 'portfolio long on average', temp['portreturn'].mean(),'Stock per month')\n",
    "    print('In the year', i, 'portfolio short on average', temp2['portreturn'].mean(),'Stock per month')\n",
    "    print('')\n",
    "    \n",
    "    long_short= (highport.groupby(['year','month'])[['portreturn']].agg('sum'))-(lowport.groupby(['year','month'])[['portreturn']].agg('sum'))\n",
    "    long_short=long_short.reset_index()\n",
    "    \n",
    "    #filterout not used year \n",
    "    mask= long_short['year']==yearinput\n",
    "    long_short= long_short[mask]\n",
    "    long_short['date']=pd.to_datetime(long_short[['year', 'month']].assign(Day=1))\n",
    "    return(long_short)"
   ]
  },
  {
   "cell_type": "code",
   "execution_count": 16,
   "metadata": {},
   "outputs": [
    {
     "name": "stdout",
     "output_type": "stream",
     "text": [
      "Top Quantile has 347  Companies\n",
      "Bottom Quantile has 347  Companies\n",
      "In the year 2011 portfolio long on average 28.083333333333332 Stock per month\n",
      "In the year 2011 portfolio short on average 28.666666666666668 Stock per month\n",
      "\n"
     ]
    },
    {
     "name": "stderr",
     "output_type": "stream",
     "text": [
      "C:\\Users\\Derrick\\Anaconda2\\lib\\site-packages\\IPython\\core\\interactiveshell.py:3058: DtypeWarning: Columns (41,959,981) have mixed types. Specify dtype option on import or set low_memory=False.\n",
      "  interactivity=interactivity, compiler=compiler, result=result)\n"
     ]
    },
    {
     "name": "stdout",
     "output_type": "stream",
     "text": [
      "Top Quantile has 340  Companies\n",
      "Bottom Quantile has 337  Companies\n",
      "In the year 2012 portfolio long on average 27.833333333333332 Stock per month\n",
      "In the year 2012 portfolio short on average 27.25 Stock per month\n",
      "\n"
     ]
    },
    {
     "name": "stderr",
     "output_type": "stream",
     "text": [
      "C:\\Users\\Derrick\\Anaconda2\\lib\\site-packages\\IPython\\core\\interactiveshell.py:3058: DtypeWarning: Columns (21,41,959,981) have mixed types. Specify dtype option on import or set low_memory=False.\n",
      "  interactivity=interactivity, compiler=compiler, result=result)\n"
     ]
    },
    {
     "name": "stdout",
     "output_type": "stream",
     "text": [
      "Top Quantile has 342  Companies\n",
      "Bottom Quantile has 342  Companies\n",
      "In the year 2013 portfolio long on average 26.583333333333332 Stock per month\n",
      "In the year 2013 portfolio short on average 26.25 Stock per month\n",
      "\n",
      "Top Quantile has 354  Companies\n",
      "Bottom Quantile has 354  Companies\n",
      "In the year 2014 portfolio long on average 28.666666666666668 Stock per month\n",
      "In the year 2014 portfolio short on average 28.166666666666668 Stock per month\n",
      "\n",
      "Top Quantile has 350  Companies\n",
      "Bottom Quantile has 350  Companies\n",
      "In the year 2015 portfolio long on average 28.833333333333332 Stock per month\n",
      "In the year 2015 portfolio short on average 29.166666666666668 Stock per month\n",
      "\n",
      "Top Quantile has 342  Companies\n",
      "Bottom Quantile has 341  Companies\n",
      "In the year 2016 portfolio long on average 27.916666666666668 Stock per month\n",
      "In the year 2016 portfolio short on average 27.25 Stock per month\n",
      "\n",
      "Top Quantile has 329  Companies\n",
      "Bottom Quantile has 329  Companies\n",
      "In the year 2017 portfolio long on average 26.5 Stock per month\n",
      "In the year 2017 portfolio short on average 26.916666666666668 Stock per month\n",
      "\n"
     ]
    }
   ],
   "source": [
    "\n",
    "file_name = 'port{}.csv'\n",
    "df_list = []\n",
    "for i in range(2011, 2018):\n",
    "    df_list.append(longshort(pd.read_csv(file_name.format(i), index_col=0),i))\n",
    "\n",
    "df = pd.concat(df_list)"
   ]
  },
  {
   "cell_type": "code",
   "execution_count": 17,
   "metadata": {},
   "outputs": [
    {
     "data": {
      "text/html": [
       "<div>\n",
       "<style scoped>\n",
       "    .dataframe tbody tr th:only-of-type {\n",
       "        vertical-align: middle;\n",
       "    }\n",
       "\n",
       "    .dataframe tbody tr th {\n",
       "        vertical-align: top;\n",
       "    }\n",
       "\n",
       "    .dataframe thead th {\n",
       "        text-align: right;\n",
       "    }\n",
       "</style>\n",
       "<table border=\"1\" class=\"dataframe\">\n",
       "  <thead>\n",
       "    <tr style=\"text-align: right;\">\n",
       "      <th></th>\n",
       "      <th>year</th>\n",
       "      <th>month</th>\n",
       "      <th>portreturn</th>\n",
       "      <th>date</th>\n",
       "    </tr>\n",
       "  </thead>\n",
       "  <tbody>\n",
       "    <tr>\n",
       "      <td>12</td>\n",
       "      <td>2011</td>\n",
       "      <td>1</td>\n",
       "      <td>0.000000</td>\n",
       "      <td>2011-01-01</td>\n",
       "    </tr>\n",
       "    <tr>\n",
       "      <td>13</td>\n",
       "      <td>2011</td>\n",
       "      <td>2</td>\n",
       "      <td>0.000000</td>\n",
       "      <td>2011-02-01</td>\n",
       "    </tr>\n",
       "    <tr>\n",
       "      <td>14</td>\n",
       "      <td>2011</td>\n",
       "      <td>3</td>\n",
       "      <td>0.000922</td>\n",
       "      <td>2011-03-01</td>\n",
       "    </tr>\n",
       "    <tr>\n",
       "      <td>15</td>\n",
       "      <td>2011</td>\n",
       "      <td>4</td>\n",
       "      <td>0.000000</td>\n",
       "      <td>2011-04-01</td>\n",
       "    </tr>\n",
       "    <tr>\n",
       "      <td>16</td>\n",
       "      <td>2011</td>\n",
       "      <td>5</td>\n",
       "      <td>0.000000</td>\n",
       "      <td>2011-05-01</td>\n",
       "    </tr>\n",
       "    <tr>\n",
       "      <td>...</td>\n",
       "      <td>...</td>\n",
       "      <td>...</td>\n",
       "      <td>...</td>\n",
       "      <td>...</td>\n",
       "    </tr>\n",
       "    <tr>\n",
       "      <td>91</td>\n",
       "      <td>2017</td>\n",
       "      <td>8</td>\n",
       "      <td>0.000000</td>\n",
       "      <td>2017-08-01</td>\n",
       "    </tr>\n",
       "    <tr>\n",
       "      <td>92</td>\n",
       "      <td>2017</td>\n",
       "      <td>9</td>\n",
       "      <td>0.000191</td>\n",
       "      <td>2017-09-01</td>\n",
       "    </tr>\n",
       "    <tr>\n",
       "      <td>93</td>\n",
       "      <td>2017</td>\n",
       "      <td>10</td>\n",
       "      <td>0.000000</td>\n",
       "      <td>2017-10-01</td>\n",
       "    </tr>\n",
       "    <tr>\n",
       "      <td>94</td>\n",
       "      <td>2017</td>\n",
       "      <td>11</td>\n",
       "      <td>0.000000</td>\n",
       "      <td>2017-11-01</td>\n",
       "    </tr>\n",
       "    <tr>\n",
       "      <td>95</td>\n",
       "      <td>2017</td>\n",
       "      <td>12</td>\n",
       "      <td>0.000151</td>\n",
       "      <td>2017-12-01</td>\n",
       "    </tr>\n",
       "  </tbody>\n",
       "</table>\n",
       "<p>84 rows × 4 columns</p>\n",
       "</div>"
      ],
      "text/plain": [
       "    year  month  portreturn       date\n",
       "12  2011      1    0.000000 2011-01-01\n",
       "13  2011      2    0.000000 2011-02-01\n",
       "14  2011      3    0.000922 2011-03-01\n",
       "15  2011      4    0.000000 2011-04-01\n",
       "16  2011      5    0.000000 2011-05-01\n",
       "..   ...    ...         ...        ...\n",
       "91  2017      8    0.000000 2017-08-01\n",
       "92  2017      9    0.000191 2017-09-01\n",
       "93  2017     10    0.000000 2017-10-01\n",
       "94  2017     11    0.000000 2017-11-01\n",
       "95  2017     12    0.000151 2017-12-01\n",
       "\n",
       "[84 rows x 4 columns]"
      ]
     },
     "execution_count": 17,
     "metadata": {},
     "output_type": "execute_result"
    }
   ],
   "source": [
    "df"
   ]
  },
  {
   "cell_type": "markdown",
   "metadata": {},
   "source": [
    "## SP500 "
   ]
  },
  {
   "cell_type": "code",
   "execution_count": 18,
   "metadata": {},
   "outputs": [
    {
     "name": "stdout",
     "output_type": "stream",
     "text": [
      "[*********************100%***********************]  1 of 1 completed\n"
     ]
    }
   ],
   "source": [
    "from pandas_datareader import data as pdr\n",
    "import yfinance as yf\n",
    "import datetime\n",
    "\n",
    "start_sp = datetime.datetime(1998, 1 , 1)\n",
    "end_sp = datetime.datetime(2020, 1, 31)\n",
    "\n",
    "\n",
    "yf.pdr_override() # <== that's all it takes :-)\n",
    "sp500 = pdr.get_data_yahoo('^GSPC', \n",
    "                           start_sp,\n",
    "                             end_sp)\n",
    "sp500= sp500.reset_index()\n",
    "\n",
    "sp500['year']=sp500['Date'].dt.year\n",
    "sp500['month']=sp500['Date'].dt.month\n",
    "\n",
    "sp500=sp500.drop_duplicates(subset=['year','month'], keep=\"last\")\n",
    "\n",
    "sp500['next_month_close']= sp500['Adj Close'].shift(-1)\n",
    "sp500['mkt_return']= (sp500['next_month_close']-sp500['Adj Close'])*100/sp500['Adj Close']"
   ]
  },
  {
   "cell_type": "code",
   "execution_count": 19,
   "metadata": {},
   "outputs": [],
   "source": [
    "#merge dataframe \n",
    "regressiondata= pd.merge(df,sp500, left_on=['year','month'], right_on=['year','month'], how='left')"
   ]
  },
  {
   "cell_type": "code",
   "execution_count": 20,
   "metadata": {},
   "outputs": [],
   "source": [
    "mask= regressiondata['portreturn'].isnull()|regressiondata['mkt_return'].isnull()"
   ]
  },
  {
   "cell_type": "code",
   "execution_count": 21,
   "metadata": {},
   "outputs": [
    {
     "name": "stderr",
     "output_type": "stream",
     "text": [
      "C:\\Users\\Derrick\\Anaconda2\\lib\\site-packages\\numpy\\core\\fromnumeric.py:2389: FutureWarning: Method .ptp is deprecated and will be removed in a future version. Use numpy.ptp instead.\n",
      "  return ptp(axis=axis, out=out, **kwargs)\n"
     ]
    }
   ],
   "source": [
    "import statsmodels.api as sm\n",
    "x=regressiondata[~mask]['mkt_return']\n",
    "y=regressiondata[~mask]['portreturn']\n",
    "x = sm.add_constant(x)"
   ]
  },
  {
   "cell_type": "code",
   "execution_count": 22,
   "metadata": {},
   "outputs": [
    {
     "name": "stdout",
     "output_type": "stream",
     "text": [
      "                            OLS Regression Results                            \n",
      "==============================================================================\n",
      "Dep. Variable:             portreturn   R-squared:                       0.003\n",
      "Model:                            OLS   Adj. R-squared:                 -0.009\n",
      "Method:                 Least Squares   F-statistic:                    0.2772\n",
      "Date:                Tue, 03 Mar 2020   Prob (F-statistic):              0.600\n",
      "Time:                        18:55:51   Log-Likelihood:                 504.45\n",
      "No. Observations:                  84   AIC:                            -1005.\n",
      "Df Residuals:                      82   BIC:                            -1000.\n",
      "Df Model:                           1                                         \n",
      "Covariance Type:            nonrobust                                         \n",
      "==============================================================================\n",
      "                 coef    std err          t      P>|t|      [0.025      0.975]\n",
      "------------------------------------------------------------------------------\n",
      "const       5.512e-05   6.91e-05      0.797      0.428   -8.24e-05       0.000\n",
      "mkt_return -1.119e-05   2.13e-05     -0.527      0.600   -5.35e-05    3.11e-05\n",
      "==============================================================================\n",
      "Omnibus:                       44.260   Durbin-Watson:                   2.029\n",
      "Prob(Omnibus):                  0.000   Jarque-Bera (JB):              550.009\n",
      "Skew:                          -1.077   Prob(JB):                    3.69e-120\n",
      "Kurtosis:                      15.349   Cond. No.                         3.45\n",
      "==============================================================================\n",
      "\n",
      "Warnings:\n",
      "[1] Standard Errors assume that the covariance matrix of the errors is correctly specified.\n"
     ]
    }
   ],
   "source": [
    "model = sm.OLS(y,x)\n",
    "results = model.fit()\n",
    "print(results.summary())"
   ]
  },
  {
   "cell_type": "code",
   "execution_count": 23,
   "metadata": {},
   "outputs": [
    {
     "data": {
      "image/png": "[encoded data removed]",
      "text/plain": [
       "<Figure size 1080x360 with 1 Axes>"
      ]
     },
     "metadata": {
      "needs_background": "light"
     },
     "output_type": "display_data"
    }
   ],
   "source": [
    "ax = regressiondata.plot(x = 'Date', y = 'portreturn', title = 'Equal_weighted Portfolio', color = 'Red', figsize = (15,5))"
   ]
  },
  {
   "cell_type": "code",
   "execution_count": null,
   "metadata": {},
   "outputs": [],
   "source": []
  }
 ],
 "metadata": {
  "kernelspec": {
   "display_name": "Python 3",
   "language": "python",
   "name": "python3"
  },
  "language_info": {
   "codemirror_mode": {
    "name": "ipython",
    "version": 3
   },
   "file_extension": ".py",
   "mimetype": "text/x-python",
   "name": "python",
   "nbconvert_exporter": "python",
   "pygments_lexer": "ipython3",
   "version": "3.7.4"
  }
 },
 "nbformat": 4,
 "nbformat_minor": 2
}
