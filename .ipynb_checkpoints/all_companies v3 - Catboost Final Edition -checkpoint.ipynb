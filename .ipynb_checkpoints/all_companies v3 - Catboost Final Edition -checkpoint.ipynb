{
 "cells": [
  {
   "cell_type": "code",
   "execution_count": 2,
   "metadata": {},
   "outputs": [],
   "source": [
    "import pandas as pd\n",
    "import numpy as np\n",
    "import matplotlib.pyplot as plt\n"
   ]
  },
  {
   "cell_type": "markdown",
   "metadata": {},
   "source": [
    "# Data Processing and EDA"
   ]
  },
  {
   "cell_type": "code",
   "execution_count": 3,
   "metadata": {
    "scrolled": true
   },
   "outputs": [
    {
     "name": "stderr",
     "output_type": "stream",
     "text": [
      "C:\\Users\\Hannah\\Anaconda3\\lib\\site-packages\\IPython\\core\\interactiveshell.py:3058: DtypeWarning: Columns (2,33,37,955,956,957,962,972,976,977,982) have mixed types. Specify dtype option on import or set low_memory=False.\n",
      "  interactivity=interactivity, compiler=compiler, result=result)\n",
      "C:\\Users\\Hannah\\Anaconda3\\lib\\site-packages\\IPython\\core\\interactiveshell.py:3058: DtypeWarning: Columns (263,341) have mixed types. Specify dtype option on import or set low_memory=False.\n",
      "  interactivity=interactivity, compiler=compiler, result=result)\n"
     ]
    }
   ],
   "source": [
    "#read in data\n",
    "all_fund = pd.read_csv('all_companies_fund.csv') #2000-2019\n",
    "all_bank = pd.read_csv('all_bankruptcies.csv', encoding = \"ISO-8859-1\") #2000-2019"
   ]
  },
  {
   "cell_type": "code",
   "execution_count": 4,
   "metadata": {},
   "outputs": [
    {
     "data": {
      "text/html": [
       "<div>\n",
       "<style scoped>\n",
       "    .dataframe tbody tr th:only-of-type {\n",
       "        vertical-align: middle;\n",
       "    }\n",
       "\n",
       "    .dataframe tbody tr th {\n",
       "        vertical-align: top;\n",
       "    }\n",
       "\n",
       "    .dataframe thead th {\n",
       "        text-align: right;\n",
       "    }\n",
       "</style>\n",
       "<table border=\"1\" class=\"dataframe\">\n",
       "  <thead>\n",
       "    <tr style=\"text-align: right;\">\n",
       "      <th></th>\n",
       "      <th>cik</th>\n",
       "      <th>GVKEY</th>\n",
       "    </tr>\n",
       "  </thead>\n",
       "  <tbody>\n",
       "    <tr>\n",
       "      <th>0</th>\n",
       "      <td>1750.0</td>\n",
       "      <td>1004</td>\n",
       "    </tr>\n",
       "    <tr>\n",
       "      <th>19</th>\n",
       "      <td>910627.0</td>\n",
       "      <td>1010</td>\n",
       "    </tr>\n",
       "    <tr>\n",
       "      <th>23</th>\n",
       "      <td>61478.0</td>\n",
       "      <td>1013</td>\n",
       "    </tr>\n",
       "    <tr>\n",
       "      <th>34</th>\n",
       "      <td>2668.0</td>\n",
       "      <td>1019</td>\n",
       "    </tr>\n",
       "    <tr>\n",
       "      <th>36</th>\n",
       "      <td>319126.0</td>\n",
       "      <td>1021</td>\n",
       "    </tr>\n",
       "  </tbody>\n",
       "</table>\n",
       "</div>"
      ],
      "text/plain": [
       "         cik  GVKEY\n",
       "0     1750.0   1004\n",
       "19  910627.0   1010\n",
       "23   61478.0   1013\n",
       "34    2668.0   1019\n",
       "36  319126.0   1021"
      ]
     },
     "execution_count": 4,
     "metadata": {},
     "output_type": "execute_result"
    }
   ],
   "source": [
    "#keys to join all databases\n",
    "key_table = all_fund[['cik', 'GVKEY']] \n",
    "key_table = key_table.drop_duplicates()\n",
    "key_table.head()"
   ]
  },
  {
   "cell_type": "code",
   "execution_count": 5,
   "metadata": {},
   "outputs": [
    {
     "data": {
      "text/html": [
       "<div>\n",
       "<style scoped>\n",
       "    .dataframe tbody tr th:only-of-type {\n",
       "        vertical-align: middle;\n",
       "    }\n",
       "\n",
       "    .dataframe tbody tr th {\n",
       "        vertical-align: top;\n",
       "    }\n",
       "\n",
       "    .dataframe thead th {\n",
       "        text-align: right;\n",
       "    }\n",
       "</style>\n",
       "<table border=\"1\" class=\"dataframe\">\n",
       "  <thead>\n",
       "    <tr style=\"text-align: right;\">\n",
       "      <th></th>\n",
       "      <th>GVKEY</th>\n",
       "      <th>LINKPRIM</th>\n",
       "      <th>LIID</th>\n",
       "      <th>LINKTYPE</th>\n",
       "      <th>LPERMNO</th>\n",
       "      <th>LPERMCO</th>\n",
       "      <th>LINKDT</th>\n",
       "      <th>LINKENDDT</th>\n",
       "      <th>datadate</th>\n",
       "      <th>fyear</th>\n",
       "      <th>...</th>\n",
       "      <th>priusa</th>\n",
       "      <th>sic</th>\n",
       "      <th>spcindcd</th>\n",
       "      <th>spcseccd</th>\n",
       "      <th>spcsrc</th>\n",
       "      <th>state</th>\n",
       "      <th>stko</th>\n",
       "      <th>weburl</th>\n",
       "      <th>dldte</th>\n",
       "      <th>ipodate</th>\n",
       "    </tr>\n",
       "  </thead>\n",
       "  <tbody>\n",
       "    <tr>\n",
       "      <th>73</th>\n",
       "      <td>1045</td>\n",
       "      <td>P</td>\n",
       "      <td>01</td>\n",
       "      <td>NR</td>\n",
       "      <td>NaN</td>\n",
       "      <td>NaN</td>\n",
       "      <td>01/05/2012</td>\n",
       "      <td>11/30/2013</td>\n",
       "      <td>12/31/2012</td>\n",
       "      <td>2012.0</td>\n",
       "      <td>...</td>\n",
       "      <td>4.0</td>\n",
       "      <td>4512</td>\n",
       "      <td>605.0</td>\n",
       "      <td>600.0</td>\n",
       "      <td>B-</td>\n",
       "      <td>TX</td>\n",
       "      <td>0.0</td>\n",
       "      <td>www.aa.com</td>\n",
       "      <td>NaN</td>\n",
       "      <td>NaN</td>\n",
       "    </tr>\n",
       "    <tr>\n",
       "      <th>473</th>\n",
       "      <td>1164</td>\n",
       "      <td>P</td>\n",
       "      <td>01</td>\n",
       "      <td>NR</td>\n",
       "      <td>NaN</td>\n",
       "      <td>NaN</td>\n",
       "      <td>07/30/2002</td>\n",
       "      <td>03/31/2004</td>\n",
       "      <td>12/31/2002</td>\n",
       "      <td>2002.0</td>\n",
       "      <td>...</td>\n",
       "      <td>10.0</td>\n",
       "      <td>4813</td>\n",
       "      <td>463.0</td>\n",
       "      <td>974.0</td>\n",
       "      <td>NaN</td>\n",
       "      <td>NJ</td>\n",
       "      <td>0.0</td>\n",
       "      <td>www.wcom.com/home.shtml</td>\n",
       "      <td>01/09/2006</td>\n",
       "      <td>NaN</td>\n",
       "    </tr>\n",
       "    <tr>\n",
       "      <th>867</th>\n",
       "      <td>1263</td>\n",
       "      <td>N</td>\n",
       "      <td>01C</td>\n",
       "      <td>NU</td>\n",
       "      <td>NaN</td>\n",
       "      <td>NaN</td>\n",
       "      <td>12/01/2000</td>\n",
       "      <td>12/31/2001</td>\n",
       "      <td>12/31/2001</td>\n",
       "      <td>2001.0</td>\n",
       "      <td>...</td>\n",
       "      <td>6.0</td>\n",
       "      <td>3312</td>\n",
       "      <td>460.0</td>\n",
       "      <td>970.0</td>\n",
       "      <td>NaN</td>\n",
       "      <td>ON</td>\n",
       "      <td>2.0</td>\n",
       "      <td>www.algoma.com</td>\n",
       "      <td>NaN</td>\n",
       "      <td>NaN</td>\n",
       "    </tr>\n",
       "    <tr>\n",
       "      <th>868</th>\n",
       "      <td>1263</td>\n",
       "      <td>P</td>\n",
       "      <td>01</td>\n",
       "      <td>NR</td>\n",
       "      <td>NaN</td>\n",
       "      <td>NaN</td>\n",
       "      <td>12/01/2000</td>\n",
       "      <td>01/31/2002</td>\n",
       "      <td>12/31/2001</td>\n",
       "      <td>2001.0</td>\n",
       "      <td>...</td>\n",
       "      <td>6.0</td>\n",
       "      <td>3312</td>\n",
       "      <td>460.0</td>\n",
       "      <td>970.0</td>\n",
       "      <td>NaN</td>\n",
       "      <td>ON</td>\n",
       "      <td>2.0</td>\n",
       "      <td>www.algoma.com</td>\n",
       "      <td>NaN</td>\n",
       "      <td>NaN</td>\n",
       "    </tr>\n",
       "    <tr>\n",
       "      <th>1167</th>\n",
       "      <td>1388</td>\n",
       "      <td>C</td>\n",
       "      <td>00X</td>\n",
       "      <td>NU</td>\n",
       "      <td>NaN</td>\n",
       "      <td>NaN</td>\n",
       "      <td>01/01/1983</td>\n",
       "      <td>E</td>\n",
       "      <td>12/31/2011</td>\n",
       "      <td>2011.0</td>\n",
       "      <td>...</td>\n",
       "      <td>1.0</td>\n",
       "      <td>4512</td>\n",
       "      <td>605.0</td>\n",
       "      <td>600.0</td>\n",
       "      <td>NaN</td>\n",
       "      <td>TX</td>\n",
       "      <td>1.0</td>\n",
       "      <td>www.aa.com</td>\n",
       "      <td>NaN</td>\n",
       "      <td>NaN</td>\n",
       "    </tr>\n",
       "    <tr>\n",
       "      <th>...</th>\n",
       "      <td>...</td>\n",
       "      <td>...</td>\n",
       "      <td>...</td>\n",
       "      <td>...</td>\n",
       "      <td>...</td>\n",
       "      <td>...</td>\n",
       "      <td>...</td>\n",
       "      <td>...</td>\n",
       "      <td>...</td>\n",
       "      <td>...</td>\n",
       "      <td>...</td>\n",
       "      <td>...</td>\n",
       "      <td>...</td>\n",
       "      <td>...</td>\n",
       "      <td>...</td>\n",
       "      <td>...</td>\n",
       "      <td>...</td>\n",
       "      <td>...</td>\n",
       "      <td>...</td>\n",
       "      <td>...</td>\n",
       "      <td>...</td>\n",
       "    </tr>\n",
       "    <tr>\n",
       "      <th>236932</th>\n",
       "      <td>273726</td>\n",
       "      <td>P</td>\n",
       "      <td>01</td>\n",
       "      <td>LC</td>\n",
       "      <td>93338.0</td>\n",
       "      <td>53385.0</td>\n",
       "      <td>04/15/2010</td>\n",
       "      <td>06/30/2018</td>\n",
       "      <td>12/31/2017</td>\n",
       "      <td>2017.0</td>\n",
       "      <td>...</td>\n",
       "      <td>2.0</td>\n",
       "      <td>1381</td>\n",
       "      <td>NaN</td>\n",
       "      <td>NaN</td>\n",
       "      <td>NaN</td>\n",
       "      <td>NaN</td>\n",
       "      <td>0.0</td>\n",
       "      <td>www.seadrill.com</td>\n",
       "      <td>NaN</td>\n",
       "      <td>04/15/2010</td>\n",
       "    </tr>\n",
       "    <tr>\n",
       "      <th>237802</th>\n",
       "      <td>294524</td>\n",
       "      <td>C</td>\n",
       "      <td>00X</td>\n",
       "      <td>NR</td>\n",
       "      <td>NaN</td>\n",
       "      <td>NaN</td>\n",
       "      <td>01/01/2006</td>\n",
       "      <td>04/29/2010</td>\n",
       "      <td>12/31/2009</td>\n",
       "      <td>2009.0</td>\n",
       "      <td>...</td>\n",
       "      <td>1.0</td>\n",
       "      <td>2820</td>\n",
       "      <td>NaN</td>\n",
       "      <td>NaN</td>\n",
       "      <td>B+</td>\n",
       "      <td>NaN</td>\n",
       "      <td>0.0</td>\n",
       "      <td>www.lyondellbasell.com</td>\n",
       "      <td>NaN</td>\n",
       "      <td>NaN</td>\n",
       "    </tr>\n",
       "    <tr>\n",
       "      <th>237889</th>\n",
       "      <td>296944</td>\n",
       "      <td>N</td>\n",
       "      <td>01</td>\n",
       "      <td>NR</td>\n",
       "      <td>NaN</td>\n",
       "      <td>NaN</td>\n",
       "      <td>01/29/2014</td>\n",
       "      <td>E</td>\n",
       "      <td>12/31/2017</td>\n",
       "      <td>2017.0</td>\n",
       "      <td>...</td>\n",
       "      <td>2.0</td>\n",
       "      <td>1381</td>\n",
       "      <td>NaN</td>\n",
       "      <td>NaN</td>\n",
       "      <td>NaN</td>\n",
       "      <td>NaN</td>\n",
       "      <td>3.0</td>\n",
       "      <td>www.nadlcorp.com</td>\n",
       "      <td>07/03/2018</td>\n",
       "      <td>NaN</td>\n",
       "    </tr>\n",
       "    <tr>\n",
       "      <th>237890</th>\n",
       "      <td>296944</td>\n",
       "      <td>P</td>\n",
       "      <td>02</td>\n",
       "      <td>LC</td>\n",
       "      <td>14417.0</td>\n",
       "      <td>54709.0</td>\n",
       "      <td>01/29/2014</td>\n",
       "      <td>07/03/2018</td>\n",
       "      <td>12/31/2017</td>\n",
       "      <td>2017.0</td>\n",
       "      <td>...</td>\n",
       "      <td>2.0</td>\n",
       "      <td>1381</td>\n",
       "      <td>NaN</td>\n",
       "      <td>NaN</td>\n",
       "      <td>NaN</td>\n",
       "      <td>NaN</td>\n",
       "      <td>3.0</td>\n",
       "      <td>www.nadlcorp.com</td>\n",
       "      <td>07/03/2018</td>\n",
       "      <td>NaN</td>\n",
       "    </tr>\n",
       "    <tr>\n",
       "      <th>237905</th>\n",
       "      <td>297209</td>\n",
       "      <td>P</td>\n",
       "      <td>01</td>\n",
       "      <td>NR</td>\n",
       "      <td>NaN</td>\n",
       "      <td>NaN</td>\n",
       "      <td>09/13/2017</td>\n",
       "      <td>12/17/2018</td>\n",
       "      <td>12/31/2017</td>\n",
       "      <td>2017.0</td>\n",
       "      <td>...</td>\n",
       "      <td>1.0</td>\n",
       "      <td>1381</td>\n",
       "      <td>NaN</td>\n",
       "      <td>NaN</td>\n",
       "      <td>NaN</td>\n",
       "      <td>TX</td>\n",
       "      <td>0.0</td>\n",
       "      <td>www.pacificdrilling.com</td>\n",
       "      <td>NaN</td>\n",
       "      <td>11/11/2011</td>\n",
       "    </tr>\n",
       "  </tbody>\n",
       "</table>\n",
       "<p>788 rows × 988 columns</p>\n",
       "</div>"
      ],
      "text/plain": [
       "         GVKEY LINKPRIM LIID LINKTYPE  LPERMNO  LPERMCO      LINKDT  \\\n",
       "73        1045        P   01       NR      NaN      NaN  01/05/2012   \n",
       "473       1164        P   01       NR      NaN      NaN  07/30/2002   \n",
       "867       1263        N  01C       NU      NaN      NaN  12/01/2000   \n",
       "868       1263        P   01       NR      NaN      NaN  12/01/2000   \n",
       "1167      1388        C  00X       NU      NaN      NaN  01/01/1983   \n",
       "...        ...      ...  ...      ...      ...      ...         ...   \n",
       "236932  273726        P   01       LC  93338.0  53385.0  04/15/2010   \n",
       "237802  294524        C  00X       NR      NaN      NaN  01/01/2006   \n",
       "237889  296944        N   01       NR      NaN      NaN  01/29/2014   \n",
       "237890  296944        P   02       LC  14417.0  54709.0  01/29/2014   \n",
       "237905  297209        P   01       NR      NaN      NaN  09/13/2017   \n",
       "\n",
       "         LINKENDDT    datadate   fyear  ... priusa   sic spcindcd spcseccd  \\\n",
       "73      11/30/2013  12/31/2012  2012.0  ...    4.0  4512    605.0    600.0   \n",
       "473     03/31/2004  12/31/2002  2002.0  ...   10.0  4813    463.0    974.0   \n",
       "867     12/31/2001  12/31/2001  2001.0  ...    6.0  3312    460.0    970.0   \n",
       "868     01/31/2002  12/31/2001  2001.0  ...    6.0  3312    460.0    970.0   \n",
       "1167             E  12/31/2011  2011.0  ...    1.0  4512    605.0    600.0   \n",
       "...            ...         ...     ...  ...    ...   ...      ...      ...   \n",
       "236932  06/30/2018  12/31/2017  2017.0  ...    2.0  1381      NaN      NaN   \n",
       "237802  04/29/2010  12/31/2009  2009.0  ...    1.0  2820      NaN      NaN   \n",
       "237889           E  12/31/2017  2017.0  ...    2.0  1381      NaN      NaN   \n",
       "237890  07/03/2018  12/31/2017  2017.0  ...    2.0  1381      NaN      NaN   \n",
       "237905  12/17/2018  12/31/2017  2017.0  ...    1.0  1381      NaN      NaN   \n",
       "\n",
       "       spcsrc state stko                   weburl       dldte     ipodate  \n",
       "73         B-    TX  0.0               www.aa.com         NaN         NaN  \n",
       "473       NaN    NJ  0.0  www.wcom.com/home.shtml  01/09/2006         NaN  \n",
       "867       NaN    ON  2.0           www.algoma.com         NaN         NaN  \n",
       "868       NaN    ON  2.0           www.algoma.com         NaN         NaN  \n",
       "1167      NaN    TX  1.0               www.aa.com         NaN         NaN  \n",
       "...       ...   ...  ...                      ...         ...         ...  \n",
       "236932    NaN   NaN  0.0         www.seadrill.com         NaN  04/15/2010  \n",
       "237802     B+   NaN  0.0   www.lyondellbasell.com         NaN         NaN  \n",
       "237889    NaN   NaN  3.0         www.nadlcorp.com  07/03/2018         NaN  \n",
       "237890    NaN   NaN  3.0         www.nadlcorp.com  07/03/2018         NaN  \n",
       "237905    NaN    TX  0.0  www.pacificdrilling.com         NaN  11/11/2011  \n",
       "\n",
       "[788 rows x 988 columns]"
      ]
     },
     "execution_count": 5,
     "metadata": {},
     "output_type": "execute_result"
    }
   ],
   "source": [
    "mask = all_fund['stalt'] == 'TL'\n",
    "tl = all_fund[mask]\n",
    "tl"
   ]
  },
  {
   "cell_type": "code",
   "execution_count": 6,
   "metadata": {},
   "outputs": [
    {
     "data": {
      "text/html": [
       "<div>\n",
       "<style scoped>\n",
       "    .dataframe tbody tr th:only-of-type {\n",
       "        vertical-align: middle;\n",
       "    }\n",
       "\n",
       "    .dataframe tbody tr th {\n",
       "        vertical-align: top;\n",
       "    }\n",
       "\n",
       "    .dataframe thead th {\n",
       "        text-align: right;\n",
       "    }\n",
       "</style>\n",
       "<table border=\"1\" class=\"dataframe\">\n",
       "  <thead>\n",
       "    <tr style=\"text-align: right;\">\n",
       "      <th></th>\n",
       "      <th>datadate</th>\n",
       "      <th>stalt</th>\n",
       "      <th>cik</th>\n",
       "    </tr>\n",
       "  </thead>\n",
       "  <tbody>\n",
       "    <tr>\n",
       "      <th>236923</th>\n",
       "      <td>12/31/2008</td>\n",
       "      <td>NaN</td>\n",
       "      <td>1737706.0</td>\n",
       "    </tr>\n",
       "    <tr>\n",
       "      <th>236924</th>\n",
       "      <td>12/31/2009</td>\n",
       "      <td>NaN</td>\n",
       "      <td>1737706.0</td>\n",
       "    </tr>\n",
       "    <tr>\n",
       "      <th>236925</th>\n",
       "      <td>12/31/2010</td>\n",
       "      <td>NaN</td>\n",
       "      <td>1737706.0</td>\n",
       "    </tr>\n",
       "    <tr>\n",
       "      <th>236926</th>\n",
       "      <td>12/31/2011</td>\n",
       "      <td>NaN</td>\n",
       "      <td>1737706.0</td>\n",
       "    </tr>\n",
       "    <tr>\n",
       "      <th>236927</th>\n",
       "      <td>12/31/2012</td>\n",
       "      <td>NaN</td>\n",
       "      <td>1737706.0</td>\n",
       "    </tr>\n",
       "    <tr>\n",
       "      <th>236928</th>\n",
       "      <td>12/31/2013</td>\n",
       "      <td>NaN</td>\n",
       "      <td>1737706.0</td>\n",
       "    </tr>\n",
       "    <tr>\n",
       "      <th>236929</th>\n",
       "      <td>12/31/2014</td>\n",
       "      <td>NaN</td>\n",
       "      <td>1737706.0</td>\n",
       "    </tr>\n",
       "    <tr>\n",
       "      <th>236930</th>\n",
       "      <td>12/31/2015</td>\n",
       "      <td>NaN</td>\n",
       "      <td>1737706.0</td>\n",
       "    </tr>\n",
       "    <tr>\n",
       "      <th>236931</th>\n",
       "      <td>12/31/2016</td>\n",
       "      <td>NaN</td>\n",
       "      <td>1737706.0</td>\n",
       "    </tr>\n",
       "    <tr>\n",
       "      <th>236932</th>\n",
       "      <td>12/31/2017</td>\n",
       "      <td>TL</td>\n",
       "      <td>1737706.0</td>\n",
       "    </tr>\n",
       "    <tr>\n",
       "      <th>236933</th>\n",
       "      <td>12/31/2018</td>\n",
       "      <td>NaN</td>\n",
       "      <td>1737706.0</td>\n",
       "    </tr>\n",
       "    <tr>\n",
       "      <th>236934</th>\n",
       "      <td>12/31/2018</td>\n",
       "      <td>NaN</td>\n",
       "      <td>1737706.0</td>\n",
       "    </tr>\n",
       "  </tbody>\n",
       "</table>\n",
       "</div>"
      ],
      "text/plain": [
       "          datadate stalt        cik\n",
       "236923  12/31/2008   NaN  1737706.0\n",
       "236924  12/31/2009   NaN  1737706.0\n",
       "236925  12/31/2010   NaN  1737706.0\n",
       "236926  12/31/2011   NaN  1737706.0\n",
       "236927  12/31/2012   NaN  1737706.0\n",
       "236928  12/31/2013   NaN  1737706.0\n",
       "236929  12/31/2014   NaN  1737706.0\n",
       "236930  12/31/2015   NaN  1737706.0\n",
       "236931  12/31/2016   NaN  1737706.0\n",
       "236932  12/31/2017    TL  1737706.0\n",
       "236933  12/31/2018   NaN  1737706.0\n",
       "236934  12/31/2018   NaN  1737706.0"
      ]
     },
     "execution_count": 6,
     "metadata": {},
     "output_type": "execute_result"
    }
   ],
   "source": [
    "all_fund[all_fund['GVKEY'] == 273726][['datadate','stalt','cik']]"
   ]
  },
  {
   "cell_type": "code",
   "execution_count": 7,
   "metadata": {},
   "outputs": [
    {
     "data": {
      "text/html": [
       "<div>\n",
       "<style scoped>\n",
       "    .dataframe tbody tr th:only-of-type {\n",
       "        vertical-align: middle;\n",
       "    }\n",
       "\n",
       "    .dataframe tbody tr th {\n",
       "        vertical-align: top;\n",
       "    }\n",
       "\n",
       "    .dataframe thead th {\n",
       "        text-align: right;\n",
       "    }\n",
       "</style>\n",
       "<table border=\"1\" class=\"dataframe\">\n",
       "  <thead>\n",
       "    <tr style=\"text-align: right;\">\n",
       "      <th></th>\n",
       "      <th>BANK_KEY</th>\n",
       "      <th>SUBSID_NAME</th>\n",
       "      <th>BANKRUPTCY_TYPE</th>\n",
       "      <th>LAW_COURT_FKEY</th>\n",
       "      <th>COURT_TYPE_CODE</th>\n",
       "      <th>COURT_NAME</th>\n",
       "      <th>COURT_S_NAME</th>\n",
       "      <th>COURT_LOC_STREET</th>\n",
       "      <th>COURT_LOC_CITY</th>\n",
       "      <th>COURT_LOC_STATE</th>\n",
       "      <th>...</th>\n",
       "      <th>HIWATER_INCMST_REVFY</th>\n",
       "      <th>HIWATER_INCMST_NETINC_QTR_DATE</th>\n",
       "      <th>HIWATER_INCMST_NETINC_QTR</th>\n",
       "      <th>HIWATER_INCMST_NETINC_TTM_DATE</th>\n",
       "      <th>HIWATER_INCMST_NETINC_TTM</th>\n",
       "      <th>HIWATER_INCMST_NETINC_FY_DATE</th>\n",
       "      <th>HIWATER_INCMST_NETINC_FY</th>\n",
       "      <th>NAME_CHANGE_DATE1</th>\n",
       "      <th>NAME_CHANGE_DATE2</th>\n",
       "      <th>NAME_CHANGE_DATE3</th>\n",
       "    </tr>\n",
       "  </thead>\n",
       "  <tbody>\n",
       "  </tbody>\n",
       "</table>\n",
       "<p>0 rows × 464 columns</p>\n",
       "</div>"
      ],
      "text/plain": [
       "Empty DataFrame\n",
       "Columns: [BANK_KEY, SUBSID_NAME, BANKRUPTCY_TYPE, LAW_COURT_FKEY, COURT_TYPE_CODE, COURT_NAME, COURT_S_NAME, COURT_LOC_STREET, COURT_LOC_CITY, COURT_LOC_STATE, COURT_LOC_ZIP, COURT_LOC, COURT_URL, LAW_COURT_STATE_NAME, LAW_COURT_COUNTRY, LAW_COURT_REG, LAW_COURT_CON_SUPER_REG, BANK_BEGIN_DATE, BANK_END_DATE, FTP_FILE_FKEY, FORM_FKEY, FILE_DATE, FILE_ACCEPTED, FILE_SIZE, HTTP_NAME_HTML, HTTP_NAME_TEXT, COMPANY_FKEY, BEST_EDGAR_TICKER, MATCHQU_PRICE_DATE, MATCHQU_PRICE_CLOSE, MATCHQU_TSO_DATE, MATCHQU_TSO, MATCHQU_TSO_MARKCAP, MATCHQU_DATE_QTR, MATCHQU_DATE_TTM, MATCHQU_FILING_CODE_QTR, MATCHQU_FILING_CODE_TTM, MATCHQU_ANNUAL_QUINDIC, MATCHQU_BALSH_BOOK_VAL, MATCHQU_BALSH_ASSETS, MATCHQU_BALSH_CASH_EQUIVS, MATCHQU_INCMST_REV_QTR, MATCHQU_INCMST_REV_TTM, MATCHQU_INCMST_NETINC_QTR, MATCHQU_INCMST_NETINC_TTM, MATCHQU_INCMST_EXTRAITM_QTR, MATCHQU_INCMST_EXTRAITM_TTM, MATCHQU_INCMST_EBITDA_QTR, MATCHQU_INCMST_EBITDA_TTM, MATCHQU_EFF_ACCCHANGE_QTR, MATCHQU_EFF_ACCCHANGE_TTM, MATCHQU_CSHFLST_OP_ACT_QTR, MATCHQU_CSHFLST_OP_ACT_TTM, MATCHQU_CSHFLST_INV_ACT_QTR, MATCHQU_CSHFLST_INV_ACT_TTM, MATCHQU_CSHFLST_FIN_ACT_QTR, MATCHQU_CSHFLST_FIN_ACT_TTM, MATCHQU_CSHFLST_CHANGE_QTR, MATCHQU_CSHFLST_CHANGE_TTM, PRIORQU_PRICE_DATE, PRIORQU_PRICE_CLOSE, PRIORQU_TSO_DATE, PRIORQU_TSO, PRIORQU_TSO_MARKCAP, PRIORQU_DATE_QTR, PRIORQU_DATE_TTM, PRIORQU_FILING_CODE_QTR, PRIORQU_FILING_CODE_TTM, PRIORQU_ANNUAL_QUINDIC, PRIORQU_BALSH_BOOK_VAL, PRIORQU_BALSH_ASSETS, PRIORQU_BALSH_CASH_EQUIVS, PRIORQU_INCMST_REV_QTR, PRIORQU_INCMST_REV_TTM, PRIORQU_INCMST_NETINC_QTR, PRIORQU_INCMST_NETINC_TTM, PRIORQU_INCMST_EXTRAITM_QTR, PRIORQU_INCMST_EXTRAITM_TTM, PRIORQU_INCMST_EBITDA_QTR, PRIORQU_INCMST_EBITDA_TTM, PRIORQU_EFF_ACCCHANGE_QTR, PRIORQU_EFF_ACCCHANGE_TTM, PRIORQU_CSHFLST_OP_ACT_QTR, PRIORQU_CSHFLST_OP_ACT_TTM, PRIORQU_CSHFLST_INV_ACT_QTR, PRIORQU_CSHFLST_INV_ACT_TTM, PRIORQU_CSHFLST_FIN_ACT_QTR, PRIORQU_CSHFLST_FIN_ACT_TTM, PRIORQU_CSHFLST_CHANGE_QTR, PRIORQU_CSHFLST_CHANGE_TTM, MATCHFY_PRICE_DATE, MATCHFY_PRICE_CLOSE, MATCHFY_TSO_DATE, MATCHFY_TSO, MATCHFY_TSO_MARKCAP, MATCHFY_DATE_QTR, MATCHFY_DATE_TTM, MATCHFY_FILING_CODE_QTR, MATCHFY_FILING_CODE_TTM, MATCHFY_ANNUAL_QUINDIC, ...]\n",
       "Index: []\n",
       "\n",
       "[0 rows x 464 columns]"
      ]
     },
     "execution_count": 7,
     "metadata": {},
     "output_type": "execute_result"
    }
   ],
   "source": [
    "all_bank[all_bank['COMPANY_FKEY'] == 1737706]"
   ]
  },
  {
   "cell_type": "markdown",
   "metadata": {},
   "source": [
    "## Bankruptcy Data EDA"
   ]
  },
  {
   "cell_type": "code",
   "execution_count": 75,
   "metadata": {},
   "outputs": [
    {
     "data": {
      "text/plain": [
       "<matplotlib.axes._subplots.AxesSubplot at 0x2009d74bc48>"
      ]
     },
     "execution_count": 75,
     "metadata": {},
     "output_type": "execute_result"
    },
    {
     "data": {
      "image/png": "[encoded data removed]",
      "text/plain": [
       "<Figure size 432x288 with 1 Axes>"
      ]
     },
     "metadata": {
      "needs_background": "light"
     },
     "output_type": "display_data"
    }
   ],
   "source": [
    "all_bank['BANKRUPTCY_TYPE'].value_counts().plot(title = 'Type of Bankruptcy', x = 'Filing', y = 'Frequency', kind = 'bar', color = 'teal')"
   ]
  },
  {
   "cell_type": "code",
   "execution_count": 12,
   "metadata": {},
   "outputs": [],
   "source": [
    "#extract useful information\n",
    "all_bank = all_bank[['BANKRUPTCY_TYPE', 'BANK_BEGIN_DATE', 'SIC_CODE_FKEY', 'SIC_CODE_DESCRIP', 'NAICS_CODE_DESCRIP', 'NAICS_CODE_FKEY', 'SHORT_NAME', 'NAME', 'COMPANY_FKEY']]"
   ]
  },
  {
   "cell_type": "code",
   "execution_count": 76,
   "metadata": {},
   "outputs": [
    {
     "data": {
      "text/plain": [
       "<matplotlib.axes._subplots.AxesSubplot at 0x201301966c8>"
      ]
     },
     "execution_count": 76,
     "metadata": {},
     "output_type": "execute_result"
    },
    {
     "data": {
      "image/png": "[encoded data removed]",
      "text/plain": [
       "<Figure size 1080x576 with 1 Axes>"
      ]
     },
     "metadata": {
      "needs_background": "light"
     },
     "output_type": "display_data"
    }
   ],
   "source": [
    "#top 20 industries with most bankruptcies using SIC code\n",
    "\n",
    "all_bank['SIC_CODE_DESCRIP'].value_counts(ascending = False)[:20].plot.barh(title = 'Bankruptcies by SIC Classification', figsize = (15,8), color = 'teal')"
   ]
  },
  {
   "cell_type": "code",
   "execution_count": 77,
   "metadata": {},
   "outputs": [
    {
     "data": {
      "text/plain": [
       "<matplotlib.axes._subplots.AxesSubplot at 0x20130237b08>"
      ]
     },
     "execution_count": 77,
     "metadata": {},
     "output_type": "execute_result"
    },
    {
     "data": {
      "image/png": "[encoded data removed]",
      "text/plain": [
       "<Figure size 1080x576 with 1 Axes>"
      ]
     },
     "metadata": {
      "needs_background": "light"
     },
     "output_type": "display_data"
    }
   ],
   "source": [
    "#top 20 industries with most bankruptcies using NAICS code\n",
    "\n",
    "all_bank['NAICS_CODE_DESCRIP'].value_counts(ascending = False)[:20].plot.barh(title = 'Bankruptcies by NAICS Classification', figsize = (15,8), color = 'teal')"
   ]
  },
  {
   "cell_type": "code",
   "execution_count": 61,
   "metadata": {},
   "outputs": [
    {
     "data": {
      "text/plain": [
       "<matplotlib.axes._subplots.AxesSubplot at 0x20113a38d08>"
      ]
     },
     "execution_count": 61,
     "metadata": {},
     "output_type": "execute_result"
    },
    {
     "data": {
      "image/png": "[encoded data removed]",
      "text/plain": [
       "<Figure size 720x360 with 1 Axes>"
      ]
     },
     "metadata": {
      "needs_background": "light"
     },
     "output_type": "display_data"
    }
   ],
   "source": [
    "all_bank['year'] = pd.to_datetime(all_bank['BANK_BEGIN_DATE']).dt.year\n",
    "all_bank['year'].value_counts().sort_index().plot(title = 'Number of Bankruptcies by Year', kind = 'bar', figsize = (10,5))"
   ]
  },
  {
   "cell_type": "code",
   "execution_count": 16,
   "metadata": {},
   "outputs": [
    {
     "name": "stdout",
     "output_type": "stream",
     "text": [
      "24933 of unique GVKEYs\n",
      "17998 of unique ciks\n",
      "cik is the only way to join to bankruptcy data, might explain why so many bankruptcies were dropped\n"
     ]
    }
   ],
   "source": [
    "# gvkey_list = str(list(all_fund['GVKEY'].unique())).strip('\\'').strip('[').strip(']').split(', ')\n",
    "\n",
    "# # Write to txt file to look up relevant companies in Audit Analytics database\n",
    "# # file = open('all_GVKEY.txt','w')\n",
    "# # for i in all_fund['GVKEY']:\n",
    "# #     file.write(str(i))\n",
    "# #     file.write('\\n')\n",
    "# # file.close()\n",
    "\n",
    "print(all_fund['GVKEY'].nunique(), 'of unique GVKEYs')\n",
    "print(all_fund['cik'].nunique(), 'of unique ciks')\n",
    "print('cik is the only way to join to bankruptcy data, might explain why so many bankruptcies were dropped')"
   ]
  },
  {
   "cell_type": "code",
   "execution_count": 17,
   "metadata": {},
   "outputs": [],
   "source": [
    "# all_bank.groupby(['year', 'NAICS_CODE_DESCRIP'])[['NAICS_CODE_DESCRIP']].count().unstack().to_csv('industrybank.csv')"
   ]
  },
  {
   "cell_type": "code",
   "execution_count": 18,
   "metadata": {},
   "outputs": [],
   "source": [
    "# all_bank.groupby(['year', 'SIC_CODE_DESCRIP'])[['NAICS_CODE_DESCRIP']].count().unstack().to_csv('sicbank.csv')"
   ]
  },
  {
   "cell_type": "code",
   "execution_count": 19,
   "metadata": {},
   "outputs": [
    {
     "data": {
      "text/plain": [
       "(2779, 10)"
      ]
     },
     "execution_count": 19,
     "metadata": {},
     "output_type": "execute_result"
    }
   ],
   "source": [
    "all_bank.shape"
   ]
  },
  {
   "cell_type": "code",
   "execution_count": 20,
   "metadata": {},
   "outputs": [],
   "source": [
    "f_keys = list(all_bank['COMPANY_FKEY'])"
   ]
  },
  {
   "cell_type": "code",
   "execution_count": 21,
   "metadata": {},
   "outputs": [],
   "source": [
    "ciks = list(key_table['cik'])"
   ]
  },
  {
   "cell_type": "code",
   "execution_count": 62,
   "metadata": {},
   "outputs": [],
   "source": [
    "#test how many bankrupt Fkeys are in fundamental\n",
    "x = [] \n",
    "for i in f_keys:\n",
    "    \n",
    "    if i in ciks:\n",
    "        continue\n",
    "    \n",
    "    else:\n",
    "        x.append(i)\n",
    "#         print (i, 'not in fundamental')"
   ]
  },
  {
   "cell_type": "code",
   "execution_count": 23,
   "metadata": {},
   "outputs": [
    {
     "name": "stdout",
     "output_type": "stream",
     "text": [
      "Of 2779 bankrupt companies, 1085 companies are not in fundamental dataset\n"
     ]
    }
   ],
   "source": [
    "print('Of', len(f_keys), 'bankrupt companies,', len(x), 'companies are not in fundamental dataset')"
   ]
  },
  {
   "cell_type": "code",
   "execution_count": 24,
   "metadata": {},
   "outputs": [],
   "source": [
    "# # gvkey_list = str(list(all_fund['GVKEY'].unique())).strip('\\'').strip('[').strip(']').split(', ')\n",
    "\n",
    "# # Write to txt file to look up relevant companies in Audit Analytics database\n",
    "# file = open('all_fkey.txt','w')\n",
    "# for i in all_bank['COMPANY_FKEY']:\n",
    "#     file.write(str(i))\n",
    "#     file.write('\\n')\n",
    "# file.close()"
   ]
  },
  {
   "cell_type": "code",
   "execution_count": 25,
   "metadata": {},
   "outputs": [
    {
     "name": "stderr",
     "output_type": "stream",
     "text": [
      "C:\\Users\\Hannah\\Anaconda3\\lib\\site-packages\\IPython\\core\\interactiveshell.py:3058: DtypeWarning: Columns (23,33,955,956,958,959,965,976,977,980,981,982,983,985,989,995,996,999,1002,1005,1010,1017,1018,1021,1025,1030,1033,1034,1039,1049,1050,1055,1056,1057,1058,1059,1060,1061,1065,1066,1069,1070,1072,1074,1076,1077,1081,1082,1083,1093,1095,1099,1100,1107,1111,1112,1113,1114,1116,1120,1127,1134,1137,1141,1144,1145,1146,1148,1149,1150,1159,1160,1162,1163,1164,1165,1167,1168,1829,1830,1836,1850,1851) have mixed types. Specify dtype option on import or set low_memory=False.\n",
      "  interactivity=interactivity, compiler=compiler, result=result)\n"
     ]
    },
    {
     "data": {
      "text/plain": [
       "1798"
      ]
     },
     "execution_count": 25,
     "metadata": {},
     "output_type": "execute_result"
    }
   ],
   "source": [
    "#used bankruptcy Fkey to query fundamental data, turns out a lot of ciks do not return fundamental data\n",
    "fund_bank = pd.read_csv('fund_bank.csv')\n",
    "fund_bank['cik'].nunique()"
   ]
  },
  {
   "cell_type": "code",
   "execution_count": 26,
   "metadata": {},
   "outputs": [
    {
     "name": "stdout",
     "output_type": "stream",
     "text": [
      "will move forward with the companies with fundamental data\n",
      "might be benefitial to figure out why so many companies do not have fundamental data\n"
     ]
    }
   ],
   "source": [
    "print('will move forward with the companies with fundamental data')\n",
    "print('might be benefitial to figure out why so many companies do not have fundamental data')"
   ]
  },
  {
   "cell_type": "markdown",
   "metadata": {},
   "source": [
    "## Merge fundamental and bankruptcy and financial ratios\n"
   ]
  },
  {
   "cell_type": "code",
   "execution_count": 27,
   "metadata": {},
   "outputs": [
    {
     "data": {
      "text/plain": [
       "17998"
      ]
     },
     "execution_count": 27,
     "metadata": {},
     "output_type": "execute_result"
    }
   ],
   "source": [
    "fund_bank = pd.merge(all_fund, all_bank, left_on = 'cik', right_on = 'COMPANY_FKEY', suffixes = ('_fund', '_bank'), how = 'left')\n",
    "fund_bank['cik'].nunique()"
   ]
  },
  {
   "cell_type": "code",
   "execution_count": 28,
   "metadata": {},
   "outputs": [],
   "source": [
    "bankrupt_key  = pd.merge(all_bank, key_table, left_on = 'COMPANY_FKEY', right_on = 'cik', suffixes = ('_ratio', '_key'), how = 'inner')\n"
   ]
  },
  {
   "cell_type": "code",
   "execution_count": 29,
   "metadata": {},
   "outputs": [],
   "source": [
    "all_fin_ratios  = pd.read_csv('all_fin_ratios.csv')"
   ]
  },
  {
   "cell_type": "code",
   "execution_count": 30,
   "metadata": {},
   "outputs": [
    {
     "data": {
      "text/plain": [
       "(75263, 76)"
      ]
     },
     "execution_count": 30,
     "metadata": {},
     "output_type": "execute_result"
    }
   ],
   "source": [
    "#only keep year end financial ratios for each company\n",
    "all_fin_ratios=all_fin_ratios.drop_duplicates(subset=['gvkey','qdate'], keep='last')\n",
    "all_fin_ratios['qmonth']=pd.to_datetime(all_fin_ratios['qdate']).dt.month\n",
    "mask= all_fin_ratios['qmonth']==12\n",
    "all_fin_ratios= all_fin_ratios[mask]\n",
    "\n",
    "all_fin_ratios.shape"
   ]
  },
  {
   "cell_type": "code",
   "execution_count": 63,
   "metadata": {},
   "outputs": [],
   "source": [
    "fin_gv = list(all_fin_ratios['gvkey'].unique())\n",
    "\n",
    "fund_gv = list(all_fund['GVKEY'].unique())\n",
    "\n",
    "#test how many bankrupt Fkeys are in fundamental\n",
    "x = [] \n",
    "for i in fin_gv:\n",
    "    \n",
    "    if i in fund_gv:\n",
    "        continue\n",
    "    \n",
    "    else:\n",
    "        x.append(i)\n",
    "#         print (i, 'not in fundamental')"
   ]
  },
  {
   "cell_type": "code",
   "execution_count": 32,
   "metadata": {},
   "outputs": [
    {
     "name": "stdout",
     "output_type": "stream",
     "text": [
      "Of 9466 companies with financial ratios 560 companies are not in fundamental dataset\n"
     ]
    }
   ],
   "source": [
    "print('Of', len(fin_gv), 'companies with financial ratios', len(x), 'companies are not in fundamental dataset')"
   ]
  },
  {
   "cell_type": "code",
   "execution_count": 33,
   "metadata": {},
   "outputs": [],
   "source": [
    "fin_ratio_bankruptcy = pd.merge(all_fin_ratios, bankrupt_key, left_on = 'gvkey', right_on = 'GVKEY', suffixes = ('_finratio', '_bankrupt'), how = 'left')\n"
   ]
  },
  {
   "cell_type": "code",
   "execution_count": 34,
   "metadata": {},
   "outputs": [],
   "source": [
    "mask = pd.to_datetime(fin_ratio_bankruptcy['adate']).dt.year + 1 == pd.to_datetime(fin_ratio_bankruptcy['BANK_BEGIN_DATE']).dt.year\n",
    "\n",
    "fin_ratio_bankruptcy['bankrupted'] = np.where(mask, 1,0)"
   ]
  },
  {
   "cell_type": "code",
   "execution_count": 35,
   "metadata": {},
   "outputs": [
    {
     "data": {
      "text/plain": [
       "518"
      ]
     },
     "execution_count": 35,
     "metadata": {},
     "output_type": "execute_result"
    }
   ],
   "source": [
    "#might want to check why so few bankruptcies exist in this final merge dataset\n",
    "fin_ratio_bankruptcy['bankrupted'].sum()"
   ]
  },
  {
   "cell_type": "code",
   "execution_count": 36,
   "metadata": {},
   "outputs": [],
   "source": [
    "fin_ratio_bankruptcy['year'] = pd.to_datetime(fin_ratio_bankruptcy['adate']).dt.year\n",
    "all_fund['year'] =  pd.to_datetime(all_fund['datadate']).dt.year\n"
   ]
  },
  {
   "cell_type": "code",
   "execution_count": 37,
   "metadata": {},
   "outputs": [],
   "source": [
    "fund_ratio_bank  = pd.merge(all_fund, fin_ratio_bankruptcy, left_on = ['GVKEY', 'year'], right_on = ['gvkey', 'year'], suffixes = ('_fund', '_ratio'), how = 'inner')\n",
    "fund_ratio_bank = fund_ratio_bank.drop(columns = 'GVKEY_ratio')\n",
    "fund_ratio_bank = fund_ratio_bank.rename(columns = {'GVKEY_fund' : 'GVKEY'})"
   ]
  },
  {
   "cell_type": "code",
   "execution_count": 38,
   "metadata": {},
   "outputs": [
    {
     "name": "stdout",
     "output_type": "stream",
     "text": [
      "The final dataset includes: 8673 companies, which have fundamental as well as financial ratios values, and 511 bankruptcies\n"
     ]
    }
   ],
   "source": [
    "print('The final dataset includes:',fund_ratio_bank['GVKEY'].nunique(), 'companies, which have fundamental as well as financial ratios values, and', fund_ratio_bank['bankrupted'].sum(), 'bankruptcies')"
   ]
  },
  {
   "cell_type": "markdown",
   "metadata": {},
   "source": [
    "## Final EDA"
   ]
  },
  {
   "cell_type": "code",
   "execution_count": 39,
   "metadata": {},
   "outputs": [],
   "source": [
    "#filter for market cap size (in MM)\n",
    "#recommend using this after creating bankruptcy dummy\n",
    "\n",
    "def market_cap_size(df, lower, upper):\n",
    "    \n",
    "    mask = ((df['mkvalt'] >=lower) & (df['mkvalt'] <=upper))\n",
    "    df =df[mask]\n",
    "    \n",
    "    return df\n",
    "\n",
    "\n",
    "# #market cap 500M - 1B\n",
    "# df500 = market_cap_size(fund_ratio_bank, 0,1000)\n",
    "\n",
    "# df500['GVKEY'].nunique()"
   ]
  },
  {
   "cell_type": "code",
   "execution_count": 78,
   "metadata": {},
   "outputs": [
    {
     "data": {
      "text/plain": [
       "<matplotlib.axes._subplots.AxesSubplot at 0x201302ee9c8>"
      ]
     },
     "execution_count": 78,
     "metadata": {},
     "output_type": "execute_result"
    },
    {
     "data": {
      "image/png": "[encoded data removed]",
      "text/plain": [
       "<Figure size 432x288 with 1 Axes>"
      ]
     },
     "metadata": {
      "needs_background": "light"
     },
     "output_type": "display_data"
    }
   ],
   "source": [
    "fund_ratio_bank['BANKRUPTCY_TYPE'].value_counts().plot(title = 'Type of Bankruptcy', x = 'Filing', y = 'Frequency', kind = 'bar', color = 'teal')"
   ]
  },
  {
   "cell_type": "code",
   "execution_count": 40,
   "metadata": {},
   "outputs": [
    {
     "data": {
      "text/plain": [
       "<matplotlib.axes._subplots.AxesSubplot at 0x200fc328788>"
      ]
     },
     "execution_count": 40,
     "metadata": {},
     "output_type": "execute_result"
    },
    {
     "data": {
      "image/png": "[encoded data removed]",
      "text/plain": [
       "<Figure size 1080x432 with 1 Axes>"
      ]
     },
     "metadata": {
      "needs_background": "light"
     },
     "output_type": "display_data"
    }
   ],
   "source": [
    "fund_ratio_bank.groupby('year')[['bankrupted']].sum().plot(kind = 'bar', figsize = (15,6))"
   ]
  },
  {
   "cell_type": "code",
   "execution_count": 41,
   "metadata": {},
   "outputs": [],
   "source": [
    "final_bank = fund_ratio_bank [fund_ratio_bank['bankrupted']==1]"
   ]
  },
  {
   "cell_type": "code",
   "execution_count": 80,
   "metadata": {},
   "outputs": [
    {
     "ename": "TypeError",
     "evalue": "value_counts() got an unexpected keyword argument 'title'",
     "output_type": "error",
     "traceback": [
      "\u001b[1;31m---------------------------------------------------------------------------\u001b[0m",
      "\u001b[1;31mTypeError\u001b[0m                                 Traceback (most recent call last)",
      "\u001b[1;32m<ipython-input-80-86f8e141b835>\u001b[0m in \u001b[0;36m<module>\u001b[1;34m\u001b[0m\n\u001b[1;32m----> 1\u001b[1;33m \u001b[0mfinal_bank\u001b[0m\u001b[1;33m[\u001b[0m\u001b[1;34m'SIC_CODE_DESCRIP'\u001b[0m\u001b[1;33m]\u001b[0m\u001b[1;33m.\u001b[0m\u001b[0mvalue_counts\u001b[0m\u001b[1;33m(\u001b[0m\u001b[0mtitle\u001b[0m \u001b[1;33m=\u001b[0m \u001b[1;34m'Bankruptcies by SIC Classification'\u001b[0m\u001b[1;33m,\u001b[0m \u001b[0mcolor\u001b[0m\u001b[1;33m=\u001b[0m\u001b[1;34m'teal'\u001b[0m\u001b[1;33m,\u001b[0m \u001b[0mascending\u001b[0m \u001b[1;33m=\u001b[0m \u001b[1;32mFalse\u001b[0m\u001b[1;33m)\u001b[0m\u001b[1;33m[\u001b[0m\u001b[1;33m:\u001b[0m\u001b[1;36m20\u001b[0m\u001b[1;33m]\u001b[0m\u001b[1;33m.\u001b[0m\u001b[0mplot\u001b[0m\u001b[1;33m.\u001b[0m\u001b[0mbarh\u001b[0m\u001b[1;33m(\u001b[0m\u001b[0mfigsize\u001b[0m \u001b[1;33m=\u001b[0m \u001b[1;33m(\u001b[0m\u001b[1;36m15\u001b[0m\u001b[1;33m,\u001b[0m\u001b[1;36m8\u001b[0m\u001b[1;33m)\u001b[0m\u001b[1;33m)\u001b[0m\u001b[1;33m\u001b[0m\u001b[1;33m\u001b[0m\u001b[0m\n\u001b[0m",
      "\u001b[1;31mTypeError\u001b[0m: value_counts() got an unexpected keyword argument 'title'"
     ]
    }
   ],
   "source": [
    "final_bank['SIC_CODE_DESCRIP'].value_counts(ascending = False)[:20].plot.barh(title = 'Bankruptcies by SIC Classification', color='teal', figsize = (15,8))"
   ]
  },
  {
   "cell_type": "code",
   "execution_count": 43,
   "metadata": {},
   "outputs": [
    {
     "name": "stdout",
     "output_type": "stream",
     "text": [
      "most bankrptcies happened with companies with small market caps\n"
     ]
    },
    {
     "data": {
      "image/png": "[encoded data removed]",
      "text/plain": [
       "<Figure size 432x288 with 1 Axes>"
      ]
     },
     "metadata": {
      "needs_background": "light"
     },
     "output_type": "display_data"
    }
   ],
   "source": [
    "#bankrupt companies usually have small market caps\n",
    "final_bank['mkvalt'].plot(kind = 'hist', bins = 200)#.value_counts(ascending = False)[:20].plot(kind = 'bar', figsize = (15,8))\n",
    "print('most bankrptcies happened with companies with small market caps')"
   ]
  },
  {
   "cell_type": "markdown",
   "metadata": {},
   "source": [
    "## Next steps:\n",
    "1. figure out why so many bankrupted companies do not have fundamental data (is it how the database was constructed? fundamental dataset would get rid of bankrupted or acquired companies?)\n",
    "\n",
    "2. figure out why only 500 or so bankruptcies exist in the final dataset, down from 1000 (bankrupt companies with fundamental data) --> hypothesis is some fin ratios companies do not have fundamental data and those happen to be the ones with bankrupt data. Need to check \n",
    "\n",
    "3. model development. Note that the current dataset includes data from 2000 - 2019. Need to filter out dates\n"
   ]
  },
  {
   "cell_type": "markdown",
   "metadata": {},
   "source": [
    "# Modeling"
   ]
  },
  {
   "cell_type": "code",
   "execution_count": 44,
   "metadata": {},
   "outputs": [],
   "source": [
    "mask = (fund_ratio_bank['fyear'] >= 2000) & (fund_ratio_bank['fyear'] <= 2010)\n",
    "\n",
    "df_2000_2010 = fund_ratio_bank[mask]"
   ]
  },
  {
   "cell_type": "code",
   "execution_count": 45,
   "metadata": {},
   "outputs": [],
   "source": [
    "mask = (fund_ratio_bank['fyear'] == 2011)\n",
    "\n",
    "df_2011 = fund_ratio_bank[mask]"
   ]
  },
  {
   "cell_type": "code",
   "execution_count": 46,
   "metadata": {},
   "outputs": [],
   "source": [
    "lista=[]\n",
    "for i in all_fin_ratios.columns:\n",
    "    lista.append(i)"
   ]
  },
  {
   "cell_type": "code",
   "execution_count": 47,
   "metadata": {},
   "outputs": [],
   "source": [
    "lista.append('bankrupted')\n",
    "lista.append('fyear')"
   ]
  },
  {
   "cell_type": "code",
   "execution_count": 48,
   "metadata": {},
   "outputs": [],
   "source": [
    "df_2000_2010 = df_2000_2010[lista]\n",
    "df_2011 = df_2011[lista]\n"
   ]
  },
  {
   "cell_type": "code",
   "execution_count": 49,
   "metadata": {},
   "outputs": [],
   "source": [
    "df_2000_2010 = df_2000_2010.drop(columns = ['gvkey'])\n",
    "df_2011 = df_2011.drop(columns = ['gvkey'])"
   ]
  },
  {
   "cell_type": "code",
   "execution_count": 50,
   "metadata": {},
   "outputs": [],
   "source": [
    "mask = (df_2000_2010['fyear'] >= 2000) & (df_2000_2010['fyear'] <= 2007)\n",
    "train=df_2000_2010[mask]\n",
    "test= df_2000_2010[-mask]"
   ]
  },
  {
   "cell_type": "code",
   "execution_count": 51,
   "metadata": {},
   "outputs": [],
   "source": [
    "y_train= train['bankrupted']\n",
    "x_train= train.drop(columns=['bankrupted'])\n",
    "y_test= test['bankrupted']\n",
    "x_test= test.drop(columns=['bankrupted'])"
   ]
  },
  {
   "cell_type": "code",
   "execution_count": 52,
   "metadata": {},
   "outputs": [],
   "source": [
    "x_train=x_train.drop(columns=['adate','qdate','fyear','public_date','qmonth'])\n",
    "x_test=x_test.drop(columns=['adate','qdate','fyear','public_date','qmonth'])"
   ]
  },
  {
   "cell_type": "code",
   "execution_count": 53,
   "metadata": {},
   "outputs": [],
   "source": [
    "def get_pct(column):\n",
    "    \n",
    "    column = float(str(column).rstrip('%')) \n",
    "    \n",
    "    return column\n",
    "\n",
    "x_train['DIVYIELD'] = x_train['DIVYIELD'].apply(get_pct)\n",
    "x_test['DIVYIELD'] = x_test['DIVYIELD'].apply(get_pct)"
   ]
  },
  {
   "cell_type": "markdown",
   "metadata": {},
   "source": [
    "# CatBoost Model"
   ]
  },
  {
   "cell_type": "code",
   "execution_count": 54,
   "metadata": {},
   "outputs": [],
   "source": [
    "x_train = x_train.astype(str)\n",
    "x_test = x_test.astype(str)\n",
    "y_train = y_train.astype(str)\n",
    "y_test = y_test.astype(str)"
   ]
  },
  {
   "cell_type": "code",
   "execution_count": 66,
   "metadata": {},
   "outputs": [],
   "source": [
    "from catboost import CatBoostClassifier, Pool\n",
    "from catboost.utils import get_roc_curve\n",
    "from sklearn.metrics import accuracy_score\n",
    "from sklearn.metrics import f1_score\n",
    "from sklearn.metrics import precision_score\n",
    "from sklearn.metrics import recall_score, roc_auc_score\n"
   ]
  },
  {
   "cell_type": "code",
   "execution_count": 67,
   "metadata": {},
   "outputs": [
    {
     "data": {
      "text/plain": [
       "<catboost.core.CatBoostClassifier at 0x2012ff9a148>"
      ]
     },
     "execution_count": 67,
     "metadata": {},
     "output_type": "execute_result"
    }
   ],
   "source": [
    "model = CatBoostClassifier(\n",
    "    iterations=5,\n",
    "    learning_rate=0.07736700028181076,\n",
    "    scale_pos_weight=99\n",
    "    # loss_function='CrossEntropy'\n",
    ")\n",
    "categorical_features_indices = np.where(x_train.dtypes != np.float)[0]\n",
    "\n",
    "model.fit(\n",
    "    x_train, y_train,\n",
    "    cat_features=categorical_features_indices,\n",
    "    eval_set=(x_test, y_test),\n",
    "    verbose=False\n",
    ")"
   ]
  },
  {
   "cell_type": "code",
   "execution_count": 68,
   "metadata": {},
   "outputs": [],
   "source": [
    "# Get predicted classes\n",
    "preds_class = model.predict(x_test)\n",
    "# Get predicted probabilities for each class\n",
    "preds_proba = model.predict_proba(x_test)\n",
    "# Get predicted RawFormulaVal\n",
    "preds_raw = model.predict(x_test, prediction_type='RawFormulaVal')"
   ]
  },
  {
   "cell_type": "code",
   "execution_count": 69,
   "metadata": {},
   "outputs": [
    {
     "data": {
      "text/plain": [
       "0.8297136778654375"
      ]
     },
     "execution_count": 69,
     "metadata": {},
     "output_type": "execute_result"
    }
   ],
   "source": [
    "accuracy_score(preds_class,y_test)"
   ]
  },
  {
   "cell_type": "code",
   "execution_count": 70,
   "metadata": {},
   "outputs": [],
   "source": [
    "preds_class= pd.Series(preds_class)"
   ]
  },
  {
   "cell_type": "code",
   "execution_count": 71,
   "metadata": {},
   "outputs": [
    {
     "name": "stdout",
     "output_type": "stream",
     "text": [
      "Precision: 0.037821\n",
      "Recall: 0.852273\n",
      "F1 score: 0.072429\n",
      "AUC_ROC: 0.840905\n"
     ]
    }
   ],
   "source": [
    "# precision tp / (tp + fp)\n",
    "precision = precision_score(y_test, preds_class, pos_label='1')\n",
    "print('Precision: %f' % precision)\n",
    "# recall: tp / (tp + fn)\n",
    "recall = recall_score(y_test, preds_class,pos_label='1')\n",
    "print('Recall: %f' % recall)\n",
    "# f1: 2 tp / (2 tp + fp + fn)\n",
    "f1 = f1_score(y_test, preds_class,pos_label='1')\n",
    "print('F1 score: %f' % f1)\n",
    "roc = roc_auc_score(y_test.astype(int), preds_class.astype(int))\n",
    "print('AUC_ROC: %f' % roc)"
   ]
  },
  {
   "cell_type": "code",
   "execution_count": 72,
   "metadata": {},
   "outputs": [
    {
     "data": {
      "text/plain": [
       "{'nan_mode': 'Min',\n",
       " 'eval_metric': 'Logloss',\n",
       " 'combinations_ctr': ['Borders:CtrBorderCount=15:CtrBorderType=Uniform:TargetBorderCount=1:TargetBorderType=MinEntropy:Prior=0/1:Prior=0.5/1:Prior=1/1',\n",
       "  'Counter:CtrBorderCount=15:CtrBorderType=Uniform:Prior=0/1'],\n",
       " 'iterations': 5,\n",
       " 'sampling_frequency': 'PerTree',\n",
       " 'fold_permutation_block': 0,\n",
       " 'leaf_estimation_method': 'Newton',\n",
       " 'counter_calc_method': 'SkipTest',\n",
       " 'boosting_type': 'Plain',\n",
       " 'model_shrink_mode': 'Constant',\n",
       " 'feature_border_type': 'GreedyLogSum',\n",
       " 'ctr_leaf_count_limit': 18446744073709551615,\n",
       " 'bayesian_matrix_reg': 0.10000000149011612,\n",
       " 'one_hot_max_size': 2,\n",
       " 'l2_leaf_reg': 3,\n",
       " 'random_strength': 1,\n",
       " 'rsm': 1,\n",
       " 'boost_from_average': False,\n",
       " 'max_ctr_complexity': 1,\n",
       " 'model_size_reg': 0.5,\n",
       " 'approx_on_full_history': False,\n",
       " 'simple_ctr': ['Borders:CtrBorderCount=15:CtrBorderType=Uniform:TargetBorderCount=1:TargetBorderType=MinEntropy:Prior=0/1:Prior=0.5/1:Prior=1/1',\n",
       "  'Counter:CtrBorderCount=15:CtrBorderType=Uniform:Prior=0/1'],\n",
       " 'subsample': 0.800000011920929,\n",
       " 'use_best_model': True,\n",
       " 'class_names': ['0', '1'],\n",
       " 'random_seed': 0,\n",
       " 'depth': 6,\n",
       " 'ctr_target_border_count': 1,\n",
       " 'has_time': False,\n",
       " 'store_all_simple_ctr': False,\n",
       " 'fold_len_multiplier': 2,\n",
       " 'border_count': 254,\n",
       " 'class_weights': [1, 99],\n",
       " 'classes_count': 0,\n",
       " 'sparse_features_conflict_fraction': 0,\n",
       " 'leaf_estimation_backtracking': 'AnyImprovement',\n",
       " 'best_model_min_trees': 1,\n",
       " 'model_shrink_rate': 0,\n",
       " 'loss_function': 'Logloss',\n",
       " 'learning_rate': 0.07736700028181076,\n",
       " 'score_function': 'Cosine',\n",
       " 'task_type': 'CPU',\n",
       " 'leaf_estimation_iterations': 10,\n",
       " 'bootstrap_type': 'MVS',\n",
       " 'permutation_count': 4}"
      ]
     },
     "execution_count": 72,
     "metadata": {},
     "output_type": "execute_result"
    }
   ],
   "source": [
    "model.get_all_params()"
   ]
  },
  {
   "cell_type": "markdown",
   "metadata": {},
   "source": [
    "# Tuning the parameter"
   ]
  },
  {
   "cell_type": "code",
   "execution_count": 74,
   "metadata": {},
   "outputs": [
    {
     "name": "stderr",
     "output_type": "stream",
     "text": [
      "C:\\Users\\Hannah\\Anaconda3\\lib\\site-packages\\sklearn\\metrics\\_classification.py:1268: UndefinedMetricWarning: Precision is ill-defined and being set to 0.0 due to no predicted samples. Use `zero_division` parameter to control this behavior.\n",
      "  _warn_prf(average, modifier, msg_start, len(result))\n"
     ]
    },
    {
     "ename": "CatBoostError",
     "evalue": "(The process cannot access the file because it is being used by another process.) c:/goagent/pipelines/buildmaster/catboost.git/util/system/file.cpp:797: can't open \"catboost_info\\\\catboost_training.json\" with mode CreateAlways (0x00000004)",
     "output_type": "error",
     "traceback": [
      "\u001b[1;31m---------------------------------------------------------------------------\u001b[0m",
      "\u001b[1;31mCatBoostError\u001b[0m                             Traceback (most recent call last)",
      "\u001b[1;32m<ipython-input-74-7058bd8a57ed>\u001b[0m in \u001b[0;36m<module>\u001b[1;34m\u001b[0m\n\u001b[0;32m     14\u001b[0m         \u001b[0mcat_features\u001b[0m\u001b[1;33m=\u001b[0m\u001b[0mcategorical_features_indices\u001b[0m\u001b[1;33m,\u001b[0m\u001b[1;33m\u001b[0m\u001b[1;33m\u001b[0m\u001b[0m\n\u001b[0;32m     15\u001b[0m         \u001b[0meval_set\u001b[0m\u001b[1;33m=\u001b[0m\u001b[1;33m(\u001b[0m\u001b[0mx_test\u001b[0m\u001b[1;33m,\u001b[0m \u001b[0my_test\u001b[0m\u001b[1;33m)\u001b[0m\u001b[1;33m,\u001b[0m\u001b[1;33m\u001b[0m\u001b[1;33m\u001b[0m\u001b[0m\n\u001b[1;32m---> 16\u001b[1;33m         \u001b[0mverbose\u001b[0m\u001b[1;33m=\u001b[0m\u001b[1;32mFalse\u001b[0m\u001b[1;33m\u001b[0m\u001b[1;33m\u001b[0m\u001b[0m\n\u001b[0m\u001b[0;32m     17\u001b[0m     )\n\u001b[0;32m     18\u001b[0m     \u001b[1;31m# Get predicted classes\u001b[0m\u001b[1;33m\u001b[0m\u001b[1;33m\u001b[0m\u001b[1;33m\u001b[0m\u001b[0m\n",
      "\u001b[1;32m~\\Anaconda3\\lib\\site-packages\\catboost\\core.py\u001b[0m in \u001b[0;36mfit\u001b[1;34m(self, X, y, cat_features, text_features, sample_weight, baseline, use_best_model, eval_set, verbose, logging_level, plot, column_description, verbose_eval, metric_period, silent, early_stopping_rounds, save_snapshot, snapshot_file, snapshot_interval, init_model)\u001b[0m\n\u001b[0;32m   3842\u001b[0m         self._fit(X, y, cat_features, text_features, None, sample_weight, None, None, None, None, baseline, use_best_model,\n\u001b[0;32m   3843\u001b[0m                   \u001b[0meval_set\u001b[0m\u001b[1;33m,\u001b[0m \u001b[0mverbose\u001b[0m\u001b[1;33m,\u001b[0m \u001b[0mlogging_level\u001b[0m\u001b[1;33m,\u001b[0m \u001b[0mplot\u001b[0m\u001b[1;33m,\u001b[0m \u001b[0mcolumn_description\u001b[0m\u001b[1;33m,\u001b[0m \u001b[0mverbose_eval\u001b[0m\u001b[1;33m,\u001b[0m \u001b[0mmetric_period\u001b[0m\u001b[1;33m,\u001b[0m\u001b[1;33m\u001b[0m\u001b[1;33m\u001b[0m\u001b[0m\n\u001b[1;32m-> 3844\u001b[1;33m                   silent, early_stopping_rounds, save_snapshot, snapshot_file, snapshot_interval, init_model)\n\u001b[0m\u001b[0;32m   3845\u001b[0m         \u001b[1;32mreturn\u001b[0m \u001b[0mself\u001b[0m\u001b[1;33m\u001b[0m\u001b[1;33m\u001b[0m\u001b[0m\n\u001b[0;32m   3846\u001b[0m \u001b[1;33m\u001b[0m\u001b[0m\n",
      "\u001b[1;32m~\\Anaconda3\\lib\\site-packages\\catboost\\core.py\u001b[0m in \u001b[0;36m_fit\u001b[1;34m(self, X, y, cat_features, text_features, pairs, sample_weight, group_id, group_weight, subgroup_id, pairs_weight, baseline, use_best_model, eval_set, verbose, logging_level, plot, column_description, verbose_eval, metric_period, silent, early_stopping_rounds, save_snapshot, snapshot_file, snapshot_interval, init_model)\u001b[0m\n\u001b[0;32m   1724\u001b[0m                 \u001b[0mparams\u001b[0m\u001b[1;33m,\u001b[0m\u001b[1;33m\u001b[0m\u001b[1;33m\u001b[0m\u001b[0m\n\u001b[0;32m   1725\u001b[0m                 \u001b[0mallow_clear_pool\u001b[0m\u001b[1;33m,\u001b[0m\u001b[1;33m\u001b[0m\u001b[1;33m\u001b[0m\u001b[0m\n\u001b[1;32m-> 1726\u001b[1;33m                 \u001b[0mtrain_params\u001b[0m\u001b[1;33m[\u001b[0m\u001b[1;34m\"init_model\"\u001b[0m\u001b[1;33m]\u001b[0m\u001b[1;33m\u001b[0m\u001b[1;33m\u001b[0m\u001b[0m\n\u001b[0m\u001b[0;32m   1727\u001b[0m             )\n\u001b[0;32m   1728\u001b[0m \u001b[1;33m\u001b[0m\u001b[0m\n",
      "\u001b[1;32m~\\Anaconda3\\lib\\site-packages\\catboost\\core.py\u001b[0m in \u001b[0;36m_train\u001b[1;34m(self, train_pool, test_pool, params, allow_clear_pool, init_model)\u001b[0m\n\u001b[0;32m   1253\u001b[0m \u001b[1;33m\u001b[0m\u001b[0m\n\u001b[0;32m   1254\u001b[0m     \u001b[1;32mdef\u001b[0m \u001b[0m_train\u001b[0m\u001b[1;33m(\u001b[0m\u001b[0mself\u001b[0m\u001b[1;33m,\u001b[0m \u001b[0mtrain_pool\u001b[0m\u001b[1;33m,\u001b[0m \u001b[0mtest_pool\u001b[0m\u001b[1;33m,\u001b[0m \u001b[0mparams\u001b[0m\u001b[1;33m,\u001b[0m \u001b[0mallow_clear_pool\u001b[0m\u001b[1;33m,\u001b[0m \u001b[0minit_model\u001b[0m\u001b[1;33m)\u001b[0m\u001b[1;33m:\u001b[0m\u001b[1;33m\u001b[0m\u001b[1;33m\u001b[0m\u001b[0m\n\u001b[1;32m-> 1255\u001b[1;33m         \u001b[0mself\u001b[0m\u001b[1;33m.\u001b[0m\u001b[0m_object\u001b[0m\u001b[1;33m.\u001b[0m\u001b[0m_train\u001b[0m\u001b[1;33m(\u001b[0m\u001b[0mtrain_pool\u001b[0m\u001b[1;33m,\u001b[0m \u001b[0mtest_pool\u001b[0m\u001b[1;33m,\u001b[0m \u001b[0mparams\u001b[0m\u001b[1;33m,\u001b[0m \u001b[0mallow_clear_pool\u001b[0m\u001b[1;33m,\u001b[0m \u001b[0minit_model\u001b[0m\u001b[1;33m.\u001b[0m\u001b[0m_object\u001b[0m \u001b[1;32mif\u001b[0m \u001b[0minit_model\u001b[0m \u001b[1;32melse\u001b[0m \u001b[1;32mNone\u001b[0m\u001b[1;33m)\u001b[0m\u001b[1;33m\u001b[0m\u001b[1;33m\u001b[0m\u001b[0m\n\u001b[0m\u001b[0;32m   1256\u001b[0m         \u001b[0mself\u001b[0m\u001b[1;33m.\u001b[0m\u001b[0m_set_trained_model_attributes\u001b[0m\u001b[1;33m(\u001b[0m\u001b[1;33m)\u001b[0m\u001b[1;33m\u001b[0m\u001b[1;33m\u001b[0m\u001b[0m\n\u001b[0;32m   1257\u001b[0m \u001b[1;33m\u001b[0m\u001b[0m\n",
      "\u001b[1;32m_catboost.pyx\u001b[0m in \u001b[0;36m_catboost._CatBoost._train\u001b[1;34m()\u001b[0m\n",
      "\u001b[1;32m_catboost.pyx\u001b[0m in \u001b[0;36m_catboost._CatBoost._train\u001b[1;34m()\u001b[0m\n",
      "\u001b[1;31mCatBoostError\u001b[0m: (The process cannot access the file because it is being used by another process.) c:/goagent/pipelines/buildmaster/catboost.git/util/system/file.cpp:797: can't open \"catboost_info\\\\catboost_training.json\" with mode CreateAlways (0x00000004)"
     ]
    }
   ],
   "source": [
    "f1list=[]\n",
    "\n",
    "for x in range(0,200):\n",
    "    model = CatBoostClassifier(\n",
    "        iterations=5,\n",
    "        learning_rate=0.1,\n",
    "        scale_pos_weight=x\n",
    "        # loss_function='CrossEntropy'\n",
    "    )\n",
    "    categorical_features_indices = np.where(x_train.dtypes != np.float)[0]\n",
    "\n",
    "    model.fit(\n",
    "        x_train, y_train,\n",
    "        cat_features=categorical_features_indices,\n",
    "        eval_set=(x_test, y_test),\n",
    "        verbose=False\n",
    "    )\n",
    "    # Get predicted classes\n",
    "    preds_class = model.predict(x_test)\n",
    "    # Get predicted probabilities for each class\n",
    "    preds_proba = model.predict_proba(x_test)\n",
    "    # Get predicted RawFormulaVal\n",
    "    preds_raw = model.predict(x_test, prediction_type='RawFormulaVal')\n",
    "\n",
    "    accuracy_score(preds_class,y_test)\n",
    "\n",
    "    preds_class= pd.Series(preds_class)\n",
    "\n",
    "    # precision tp / (tp + fp)\n",
    "    precision = precision_score(y_test, preds_class, pos_label='1')\n",
    "    # recall: tp / (tp + fn)\n",
    "    recall = recall_score(y_test, preds_class,pos_label='1')\n",
    "    # f1: 2 tp / (2 tp + fp + fn)\n",
    "    f1 = f1_score(y_test, preds_class,pos_label='1')\n",
    "    \n",
    "    f1list.append(f1)\n"
   ]
  },
  {
   "cell_type": "code",
   "execution_count": null,
   "metadata": {},
   "outputs": [],
   "source": [
    "pos= f1list.index(max(f1list)) "
   ]
  },
  {
   "cell_type": "code",
   "execution_count": null,
   "metadata": {},
   "outputs": [],
   "source": [
    "pos\n",
    "#29"
   ]
  },
  {
   "cell_type": "code",
   "execution_count": null,
   "metadata": {},
   "outputs": [],
   "source": [
    "    model = CatBoostClassifier(\n",
    "        iterations=5,\n",
    "        learning_rate=0.07736700028181076,\n",
    "        scale_pos_weight=29\n",
    "        # loss_function='CrossEntropy'\n",
    "    )\n",
    "    categorical_features_indices = np.where(x_train.dtypes != np.float)[0]\n",
    "\n",
    "    model.fit(\n",
    "        x_train, y_train,\n",
    "        cat_features=categorical_features_indices,\n",
    "        eval_set=(x_test, y_test),\n",
    "        verbose=False\n",
    "    )\n",
    "    # Get predicted classes\n",
    "    preds_class = model.predict(x_test)\n",
    "    # Get predicted probabilities for each class\n",
    "    preds_proba = model.predict_proba(x_test)\n",
    "    # Get predicted RawFormulaVal\n",
    "    preds_raw = model.predict(x_test, prediction_type='RawFormulaVal')\n",
    "\n",
    "    accuracy_score(preds_class,y_test)\n",
    "\n",
    "    preds_class= pd.Series(preds_class)\n",
    "\n",
    "    precision = precision_score(y_test, preds_class, pos_label='1')\n",
    "print('Precision: %f' % precision)\n",
    "# recall: tp / (tp + fn)\n",
    "recall = recall_score(y_test, preds_class,pos_label='1')\n",
    "print('Recall: %f' % recall)\n",
    "# f1: 2 tp / (2 tp + fp + fn)\n",
    "f1 = f1_score(y_test, preds_class,pos_label='1')\n",
    "print('F1 score: %f' % f1)\n",
    "roc = roc_auc_score(y_test.astype(int), preds_class.astype(int))\n",
    "print('AUC_ROC: %f' % roc)"
   ]
  },
  {
   "cell_type": "code",
   "execution_count": null,
   "metadata": {},
   "outputs": [],
   "source": [
    "    model = CatBoostClassifier(\n",
    "        scale_pos_weight=29\n",
    "        # loss_function='CrossEntropy'\n",
    "    )\n",
    "    categorical_features_indices = np.where(x_train.dtypes != np.float)[0]\n",
    "\n",
    "    model.fit(\n",
    "        x_train, y_train,\n",
    "        cat_features=categorical_features_indices,\n",
    "        eval_set=(x_test, y_test),\n",
    "        verbose=False\n",
    "    )\n",
    "    # Get predicted classes\n",
    "    preds_class = model.predict(x_test)\n",
    "    # Get predicted probabilities for each class\n",
    "    preds_proba = model.predict_proba(x_test)\n",
    "    # Get predicted RawFormulaVal\n",
    "    preds_raw = model.predict(x_test, prediction_type='RawFormulaVal')\n",
    "\n",
    "    accuracy_score(preds_class,y_test)\n",
    "\n",
    "    preds_class= pd.Series(preds_class)\n",
    "\n",
    "    precision = precision_score(y_test, preds_class, pos_label='1')\n",
    "print('Precision: %f' % precision)\n",
    "# recall: tp / (tp + fn)\n",
    "recall = recall_score(y_test, preds_class,pos_label='1')\n",
    "print('Recall: %f' % recall)\n",
    "# f1: 2 tp / (2 tp + fp + fn)\n",
    "f1 = f1_score(y_test, preds_class,pos_label='1')\n",
    "print('F1 score: %f' % f1)"
   ]
  },
  {
   "cell_type": "code",
   "execution_count": null,
   "metadata": {},
   "outputs": [],
   "source": [
    "roc = roc_auc_score(y_test.astype(int), preds_class.astype(int))\n",
    "print('AUC_ROC: %f' % roc)"
   ]
  },
  {
   "cell_type": "code",
   "execution_count": null,
   "metadata": {},
   "outputs": [],
   "source": [
    "model.get_all_params()"
   ]
  },
  {
   "cell_type": "code",
   "execution_count": null,
   "metadata": {},
   "outputs": [],
   "source": [
    "model.get_feature_importance()"
   ]
  },
  {
   "cell_type": "code",
   "execution_count": null,
   "metadata": {},
   "outputs": [],
   "source": [
    "\n",
    "feature_score = pd.DataFrame(list(zip(x_train.dtypes.index, model.get_feature_importance(Pool(x_train, label=y_train, cat_features=categorical_features_indices)))),\n",
    "                columns=['Feature','Score'])\n",
    "\n",
    "feature_score = feature_score.sort_values(by='Score', ascending=False, inplace=False, kind='quicksort', na_position='last')"
   ]
  },
  {
   "cell_type": "code",
   "execution_count": null,
   "metadata": {},
   "outputs": [],
   "source": [
    "plt.rcParams[\"figure.figsize\"] = (12,7)\n",
    "ax = feature_score.plot('Feature', 'Score', kind='bar', color='c')\n",
    "ax.set_title(\"Catboost Feature Importance Ranking\", fontsize = 14)\n",
    "ax.set_xlabel('')\n",
    "\n",
    "rects = ax.patches\n",
    "\n",
    "# get feature score as labels round to 2 decimal\n",
    "labels = feature_score['Score'].round(2)\n",
    "\n",
    "for rect, label in zip(rects, labels):\n",
    "    height = rect.get_height()\n",
    "    ax.text(rect.get_x() + rect.get_width()/2, height + 0.35, label, ha='center', va='bottom')\n",
    "\n",
    "plt.show()"
   ]
  }
 ],
 "metadata": {
  "kernelspec": {
   "display_name": "Python 3",
   "language": "python",
   "name": "python3"
  },
  "language_info": {
   "codemirror_mode": {
    "name": "ipython",
    "version": 3
   },
   "file_extension": ".py",
   "mimetype": "text/x-python",
   "name": "python",
   "nbconvert_exporter": "python",
   "pygments_lexer": "ipython3",
   "version": "3.7.5"
  }
 },
 "nbformat": 4,
 "nbformat_minor": 4
}
