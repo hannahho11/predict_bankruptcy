{
 "cells": [
  {
   "cell_type": "code",
   "execution_count": 37,
   "metadata": {},
   "outputs": [],
   "source": [
    "import pandas as pd"
   ]
  },
  {
   "cell_type": "code",
   "execution_count": 38,
   "metadata": {},
   "outputs": [
    {
     "name": "stderr",
     "output_type": "stream",
     "text": [
      "C:\\Users\\Hannah\\Anaconda3\\lib\\site-packages\\IPython\\core\\interactiveshell.py:3058: DtypeWarning: Columns (23,33,37,955,956,957,962,976,977) have mixed types. Specify dtype option on import or set low_memory=False.\n",
      "  interactivity=interactivity, compiler=compiler, result=result)\n"
     ]
    }
   ],
   "source": [
    "# CSV of publically traded healthcare companies as classified by GIC subindustry codes\n",
    "df = pd.read_csv('healthcare_fundamentals_v2.csv') #update w/ latest version"
   ]
  },
  {
   "cell_type": "code",
   "execution_count": 39,
   "metadata": {},
   "outputs": [
    {
     "data": {
      "text/plain": [
       "0         319126.0\n",
       "1         319126.0\n",
       "2         319126.0\n",
       "3         319126.0\n",
       "4         319126.0\n",
       "           ...    \n",
       "14060    1567529.0\n",
       "14061    1138776.0\n",
       "14062    1138776.0\n",
       "14063    1553846.0\n",
       "14064    1553846.0\n",
       "Name: cik, Length: 14065, dtype: float64"
      ]
     },
     "execution_count": 39,
     "metadata": {},
     "output_type": "execute_result"
    }
   ],
   "source": [
    "#list(df.columns) #cusip, gvkey, lpermno, sic\n",
    "df['cik']"
   ]
  },
  {
   "cell_type": "code",
   "execution_count": 40,
   "metadata": {},
   "outputs": [],
   "source": [
    "# Get CIK list from healthcare_fundamentals file\n",
    "cik_list = str(list(df['cik'])).strip('\\'').strip('[').strip(']').split(', ')"
   ]
  },
  {
   "cell_type": "code",
   "execution_count": 41,
   "metadata": {},
   "outputs": [],
   "source": [
    "# Write to txt file to look up relevant companies in Audit Analytics database\n",
    "file = open('healthcare_cik.txt','w')\n",
    "for i in df['cik']:\n",
    "    file.write(str(i))\n",
    "    file.write('\\n')\n",
    "file.close()"
   ]
  },
  {
   "cell_type": "code",
   "execution_count": 49,
   "metadata": {},
   "outputs": [
    {
     "data": {
      "text/plain": [
       "Index(['COMPANY_FKEY', 'BANK_KEY', 'SUBSID_NAME', 'BANKRUPTCY_TYPE',\n",
       "       'LAW_COURT_FKEY', 'COURT_TYPE_CODE', 'COURT_NAME', 'COURT_S_NAME',\n",
       "       'COURT_LOC_STREET', 'COURT_LOC_CITY',\n",
       "       ...\n",
       "       'HIWATER_INCMST_REVFY', 'HIWATER_INCMST_NETINC_QTR_DATE',\n",
       "       'HIWATER_INCMST_NETINC_QTR', 'HIWATER_INCMST_NETINC_TTM_DATE',\n",
       "       'HIWATER_INCMST_NETINC_TTM', 'HIWATER_INCMST_NETINC_FY_DATE',\n",
       "       'HIWATER_INCMST_NETINC_FY', 'NAME_CHANGE_DATE1', 'NAME_CHANGE_DATE2',\n",
       "       'NAME_CHANGE_DATE3'],\n",
       "      dtype='object', length=464)"
      ]
     },
     "execution_count": 49,
     "metadata": {},
     "output_type": "execute_result"
    }
   ],
   "source": [
    "# Bankrupt healthcare companies\n",
    "df_bankrupt = pd.read_csv('healthcare_bankrupt_audit_analytics_v2.csv')\n",
    "len(df_bankrupt)\n",
    "df_bankrupt.columns"
   ]
  },
  {
   "cell_type": "code",
   "execution_count": 43,
   "metadata": {},
   "outputs": [
    {
     "data": {
      "text/plain": [
       "26"
      ]
     },
     "execution_count": 43,
     "metadata": {},
     "output_type": "execute_result"
    }
   ],
   "source": [
    "df_bankrupt_ch_11 = df_bankrupt[df_bankrupt['BANKRUPTCY_TYPE']==11]\n",
    "len(df_bankrupt_ch_11)"
   ]
  },
  {
   "cell_type": "code",
   "execution_count": 44,
   "metadata": {},
   "outputs": [
    {
     "data": {
      "text/plain": [
       "0    319126.0\n",
       "1    319126.0\n",
       "2    319126.0\n",
       "3    319126.0\n",
       "4    319126.0\n",
       "Name: cik, dtype: float64"
      ]
     },
     "execution_count": 44,
     "metadata": {},
     "output_type": "execute_result"
    }
   ],
   "source": [
    "relevant_columns = df_bankrupt[['COMPANY_FKEY','FILE_DATE']]\n",
    "#list(df_bankrupt.columns)\n",
    "df['cik'][:5]"
   ]
  },
  {
   "cell_type": "code",
   "execution_count": 45,
   "metadata": {},
   "outputs": [
    {
     "data": {
      "text/plain": [
       "0      2034\n",
       "1     19411\n",
       "2     57055\n",
       "3    320174\n",
       "4    722104\n",
       "Name: COMPANY_FKEY, dtype: int64"
      ]
     },
     "execution_count": 45,
     "metadata": {},
     "output_type": "execute_result"
    }
   ],
   "source": [
    "# COMPANY_FKEY is CIK\n",
    "df_bankrupt['COMPANY_FKEY'][:5]"
   ]
  },
  {
   "cell_type": "code",
   "execution_count": 46,
   "metadata": {},
   "outputs": [
    {
     "data": {
      "text/plain": [
       "30"
      ]
     },
     "execution_count": 46,
     "metadata": {},
     "output_type": "execute_result"
    }
   ],
   "source": [
    "df_bankrupt['COMPANY_FKEY'].nunique()"
   ]
  },
  {
   "cell_type": "code",
   "execution_count": 47,
   "metadata": {},
   "outputs": [
    {
     "data": {
      "text/plain": [
       "30"
      ]
     },
     "execution_count": 47,
     "metadata": {},
     "output_type": "execute_result"
    }
   ],
   "source": [
    "df_merge = df.merge(df_bankrupt, left_on = 'cik', right_on = 'COMPANY_FKEY', suffixes = ('_fundam', '_bank'))\n",
    "df_merge['cik'].nunique()"
   ]
  },
  {
   "cell_type": "code",
   "execution_count": 48,
   "metadata": {},
   "outputs": [
    {
     "data": {
      "text/html": [
       "<div>\n",
       "<style scoped>\n",
       "    .dataframe tbody tr th:only-of-type {\n",
       "        vertical-align: middle;\n",
       "    }\n",
       "\n",
       "    .dataframe tbody tr th {\n",
       "        vertical-align: top;\n",
       "    }\n",
       "\n",
       "    .dataframe thead th {\n",
       "        text-align: right;\n",
       "    }\n",
       "</style>\n",
       "<table border=\"1\" class=\"dataframe\">\n",
       "  <thead>\n",
       "    <tr style=\"text-align: right;\">\n",
       "      <th></th>\n",
       "      <th>GVKEY</th>\n",
       "      <th>LINKPRIM</th>\n",
       "      <th>LIID</th>\n",
       "      <th>LINKTYPE</th>\n",
       "      <th>LPERMNO</th>\n",
       "      <th>LPERMCO</th>\n",
       "      <th>LINKDT</th>\n",
       "      <th>LINKENDDT</th>\n",
       "      <th>datadate</th>\n",
       "      <th>fyear</th>\n",
       "      <th>...</th>\n",
       "      <th>HIWATER_INCMST_REVFY</th>\n",
       "      <th>HIWATER_INCMST_NETINC_QTR_DATE</th>\n",
       "      <th>HIWATER_INCMST_NETINC_QTR</th>\n",
       "      <th>HIWATER_INCMST_NETINC_TTM_DATE</th>\n",
       "      <th>HIWATER_INCMST_NETINC_TTM</th>\n",
       "      <th>HIWATER_INCMST_NETINC_FY_DATE</th>\n",
       "      <th>HIWATER_INCMST_NETINC_FY</th>\n",
       "      <th>NAME_CHANGE_DATE1</th>\n",
       "      <th>NAME_CHANGE_DATE2</th>\n",
       "      <th>NAME_CHANGE_DATE3</th>\n",
       "    </tr>\n",
       "  </thead>\n",
       "  <tbody>\n",
       "    <tr>\n",
       "      <th>0</th>\n",
       "      <td>1094</td>\n",
       "      <td>P</td>\n",
       "      <td>01</td>\n",
       "      <td>LC</td>\n",
       "      <td>10656.0</td>\n",
       "      <td>37.0</td>\n",
       "      <td>19721214</td>\n",
       "      <td>E</td>\n",
       "      <td>20000630</td>\n",
       "      <td>2000.0</td>\n",
       "      <td>...</td>\n",
       "      <td>168877000.0</td>\n",
       "      <td>2013-09-30</td>\n",
       "      <td>11335000.0</td>\n",
       "      <td>2016-03-31</td>\n",
       "      <td>39023000</td>\n",
       "      <td>2016-06-30</td>\n",
       "      <td>6774000.0</td>\n",
       "      <td>NaN</td>\n",
       "      <td>NaN</td>\n",
       "      <td>NaN</td>\n",
       "    </tr>\n",
       "    <tr>\n",
       "      <th>1</th>\n",
       "      <td>1094</td>\n",
       "      <td>P</td>\n",
       "      <td>01</td>\n",
       "      <td>LC</td>\n",
       "      <td>10656.0</td>\n",
       "      <td>37.0</td>\n",
       "      <td>19721214</td>\n",
       "      <td>E</td>\n",
       "      <td>20010630</td>\n",
       "      <td>2001.0</td>\n",
       "      <td>...</td>\n",
       "      <td>168877000.0</td>\n",
       "      <td>2013-09-30</td>\n",
       "      <td>11335000.0</td>\n",
       "      <td>2016-03-31</td>\n",
       "      <td>39023000</td>\n",
       "      <td>2016-06-30</td>\n",
       "      <td>6774000.0</td>\n",
       "      <td>NaN</td>\n",
       "      <td>NaN</td>\n",
       "      <td>NaN</td>\n",
       "    </tr>\n",
       "    <tr>\n",
       "      <th>2</th>\n",
       "      <td>1094</td>\n",
       "      <td>P</td>\n",
       "      <td>01</td>\n",
       "      <td>LC</td>\n",
       "      <td>10656.0</td>\n",
       "      <td>37.0</td>\n",
       "      <td>19721214</td>\n",
       "      <td>E</td>\n",
       "      <td>20020630</td>\n",
       "      <td>2002.0</td>\n",
       "      <td>...</td>\n",
       "      <td>168877000.0</td>\n",
       "      <td>2013-09-30</td>\n",
       "      <td>11335000.0</td>\n",
       "      <td>2016-03-31</td>\n",
       "      <td>39023000</td>\n",
       "      <td>2016-06-30</td>\n",
       "      <td>6774000.0</td>\n",
       "      <td>NaN</td>\n",
       "      <td>NaN</td>\n",
       "      <td>NaN</td>\n",
       "    </tr>\n",
       "    <tr>\n",
       "      <th>3</th>\n",
       "      <td>1094</td>\n",
       "      <td>P</td>\n",
       "      <td>01</td>\n",
       "      <td>LC</td>\n",
       "      <td>10656.0</td>\n",
       "      <td>37.0</td>\n",
       "      <td>19721214</td>\n",
       "      <td>E</td>\n",
       "      <td>20030630</td>\n",
       "      <td>2003.0</td>\n",
       "      <td>...</td>\n",
       "      <td>168877000.0</td>\n",
       "      <td>2013-09-30</td>\n",
       "      <td>11335000.0</td>\n",
       "      <td>2016-03-31</td>\n",
       "      <td>39023000</td>\n",
       "      <td>2016-06-30</td>\n",
       "      <td>6774000.0</td>\n",
       "      <td>NaN</td>\n",
       "      <td>NaN</td>\n",
       "      <td>NaN</td>\n",
       "    </tr>\n",
       "    <tr>\n",
       "      <th>4</th>\n",
       "      <td>1094</td>\n",
       "      <td>P</td>\n",
       "      <td>01</td>\n",
       "      <td>LC</td>\n",
       "      <td>10656.0</td>\n",
       "      <td>37.0</td>\n",
       "      <td>19721214</td>\n",
       "      <td>E</td>\n",
       "      <td>20040630</td>\n",
       "      <td>2004.0</td>\n",
       "      <td>...</td>\n",
       "      <td>168877000.0</td>\n",
       "      <td>2013-09-30</td>\n",
       "      <td>11335000.0</td>\n",
       "      <td>2016-03-31</td>\n",
       "      <td>39023000</td>\n",
       "      <td>2016-06-30</td>\n",
       "      <td>6774000.0</td>\n",
       "      <td>NaN</td>\n",
       "      <td>NaN</td>\n",
       "      <td>NaN</td>\n",
       "    </tr>\n",
       "    <tr>\n",
       "      <th>...</th>\n",
       "      <td>...</td>\n",
       "      <td>...</td>\n",
       "      <td>...</td>\n",
       "      <td>...</td>\n",
       "      <td>...</td>\n",
       "      <td>...</td>\n",
       "      <td>...</td>\n",
       "      <td>...</td>\n",
       "      <td>...</td>\n",
       "      <td>...</td>\n",
       "      <td>...</td>\n",
       "      <td>...</td>\n",
       "      <td>...</td>\n",
       "      <td>...</td>\n",
       "      <td>...</td>\n",
       "      <td>...</td>\n",
       "      <td>...</td>\n",
       "      <td>...</td>\n",
       "      <td>...</td>\n",
       "      <td>...</td>\n",
       "      <td>...</td>\n",
       "    </tr>\n",
       "    <tr>\n",
       "      <th>316</th>\n",
       "      <td>184487</td>\n",
       "      <td>C</td>\n",
       "      <td>00X</td>\n",
       "      <td>NR</td>\n",
       "      <td>NaN</td>\n",
       "      <td>NaN</td>\n",
       "      <td>20090101</td>\n",
       "      <td>20100309</td>\n",
       "      <td>20091231</td>\n",
       "      <td>2009.0</td>\n",
       "      <td>...</td>\n",
       "      <td>46369000.0</td>\n",
       "      <td>2017-09-30</td>\n",
       "      <td>6360000.0</td>\n",
       "      <td>2010-03-31</td>\n",
       "      <td>11825596</td>\n",
       "      <td>1999-12-31</td>\n",
       "      <td>2724000.0</td>\n",
       "      <td>2010-03-11</td>\n",
       "      <td>NaN</td>\n",
       "      <td>NaN</td>\n",
       "    </tr>\n",
       "    <tr>\n",
       "      <th>317</th>\n",
       "      <td>184487</td>\n",
       "      <td>P</td>\n",
       "      <td>01</td>\n",
       "      <td>LC</td>\n",
       "      <td>84581.0</td>\n",
       "      <td>31920.0</td>\n",
       "      <td>20100310</td>\n",
       "      <td>E</td>\n",
       "      <td>20101231</td>\n",
       "      <td>2010.0</td>\n",
       "      <td>...</td>\n",
       "      <td>46369000.0</td>\n",
       "      <td>2017-09-30</td>\n",
       "      <td>6360000.0</td>\n",
       "      <td>2010-03-31</td>\n",
       "      <td>11825596</td>\n",
       "      <td>1999-12-31</td>\n",
       "      <td>2724000.0</td>\n",
       "      <td>2010-03-11</td>\n",
       "      <td>NaN</td>\n",
       "      <td>NaN</td>\n",
       "    </tr>\n",
       "    <tr>\n",
       "      <th>318</th>\n",
       "      <td>254399</td>\n",
       "      <td>C</td>\n",
       "      <td>00X</td>\n",
       "      <td>NR</td>\n",
       "      <td>NaN</td>\n",
       "      <td>NaN</td>\n",
       "      <td>20070701</td>\n",
       "      <td>20100215</td>\n",
       "      <td>20080630</td>\n",
       "      <td>2008.0</td>\n",
       "      <td>...</td>\n",
       "      <td>2400000.0</td>\n",
       "      <td>2009-09-30</td>\n",
       "      <td>-2064000.0</td>\n",
       "      <td>2009-06-30</td>\n",
       "      <td>-517000</td>\n",
       "      <td>2009-06-30</td>\n",
       "      <td>NaN</td>\n",
       "      <td>NaN</td>\n",
       "      <td>NaN</td>\n",
       "      <td>NaN</td>\n",
       "    </tr>\n",
       "    <tr>\n",
       "      <th>319</th>\n",
       "      <td>254399</td>\n",
       "      <td>C</td>\n",
       "      <td>00X</td>\n",
       "      <td>NR</td>\n",
       "      <td>NaN</td>\n",
       "      <td>NaN</td>\n",
       "      <td>20070701</td>\n",
       "      <td>20100215</td>\n",
       "      <td>20090630</td>\n",
       "      <td>2009.0</td>\n",
       "      <td>...</td>\n",
       "      <td>2400000.0</td>\n",
       "      <td>2009-09-30</td>\n",
       "      <td>-2064000.0</td>\n",
       "      <td>2009-06-30</td>\n",
       "      <td>-517000</td>\n",
       "      <td>2009-06-30</td>\n",
       "      <td>NaN</td>\n",
       "      <td>NaN</td>\n",
       "      <td>NaN</td>\n",
       "      <td>NaN</td>\n",
       "    </tr>\n",
       "    <tr>\n",
       "      <th>320</th>\n",
       "      <td>254399</td>\n",
       "      <td>P</td>\n",
       "      <td>01</td>\n",
       "      <td>LC</td>\n",
       "      <td>93270.0</td>\n",
       "      <td>53351.0</td>\n",
       "      <td>20100216</td>\n",
       "      <td>20171231</td>\n",
       "      <td>20100630</td>\n",
       "      <td>2010.0</td>\n",
       "      <td>...</td>\n",
       "      <td>2400000.0</td>\n",
       "      <td>2009-09-30</td>\n",
       "      <td>-2064000.0</td>\n",
       "      <td>2009-06-30</td>\n",
       "      <td>-517000</td>\n",
       "      <td>2009-06-30</td>\n",
       "      <td>NaN</td>\n",
       "      <td>NaN</td>\n",
       "      <td>NaN</td>\n",
       "      <td>NaN</td>\n",
       "    </tr>\n",
       "  </tbody>\n",
       "</table>\n",
       "<p>269 rows × 1452 columns</p>\n",
       "</div>"
      ],
      "text/plain": [
       "      GVKEY LINKPRIM LIID LINKTYPE  LPERMNO  LPERMCO    LINKDT LINKENDDT  \\\n",
       "0      1094        P   01       LC  10656.0     37.0  19721214         E   \n",
       "1      1094        P   01       LC  10656.0     37.0  19721214         E   \n",
       "2      1094        P   01       LC  10656.0     37.0  19721214         E   \n",
       "3      1094        P   01       LC  10656.0     37.0  19721214         E   \n",
       "4      1094        P   01       LC  10656.0     37.0  19721214         E   \n",
       "..      ...      ...  ...      ...      ...      ...       ...       ...   \n",
       "316  184487        C  00X       NR      NaN      NaN  20090101  20100309   \n",
       "317  184487        P   01       LC  84581.0  31920.0  20100310         E   \n",
       "318  254399        C  00X       NR      NaN      NaN  20070701  20100215   \n",
       "319  254399        C  00X       NR      NaN      NaN  20070701  20100215   \n",
       "320  254399        P   01       LC  93270.0  53351.0  20100216  20171231   \n",
       "\n",
       "     datadate   fyear  ... HIWATER_INCMST_REVFY  \\\n",
       "0    20000630  2000.0  ...          168877000.0   \n",
       "1    20010630  2001.0  ...          168877000.0   \n",
       "2    20020630  2002.0  ...          168877000.0   \n",
       "3    20030630  2003.0  ...          168877000.0   \n",
       "4    20040630  2004.0  ...          168877000.0   \n",
       "..        ...     ...  ...                  ...   \n",
       "316  20091231  2009.0  ...           46369000.0   \n",
       "317  20101231  2010.0  ...           46369000.0   \n",
       "318  20080630  2008.0  ...            2400000.0   \n",
       "319  20090630  2009.0  ...            2400000.0   \n",
       "320  20100630  2010.0  ...            2400000.0   \n",
       "\n",
       "    HIWATER_INCMST_NETINC_QTR_DATE HIWATER_INCMST_NETINC_QTR  \\\n",
       "0                       2013-09-30                11335000.0   \n",
       "1                       2013-09-30                11335000.0   \n",
       "2                       2013-09-30                11335000.0   \n",
       "3                       2013-09-30                11335000.0   \n",
       "4                       2013-09-30                11335000.0   \n",
       "..                             ...                       ...   \n",
       "316                     2017-09-30                 6360000.0   \n",
       "317                     2017-09-30                 6360000.0   \n",
       "318                     2009-09-30                -2064000.0   \n",
       "319                     2009-09-30                -2064000.0   \n",
       "320                     2009-09-30                -2064000.0   \n",
       "\n",
       "    HIWATER_INCMST_NETINC_TTM_DATE HIWATER_INCMST_NETINC_TTM  \\\n",
       "0                       2016-03-31                  39023000   \n",
       "1                       2016-03-31                  39023000   \n",
       "2                       2016-03-31                  39023000   \n",
       "3                       2016-03-31                  39023000   \n",
       "4                       2016-03-31                  39023000   \n",
       "..                             ...                       ...   \n",
       "316                     2010-03-31                  11825596   \n",
       "317                     2010-03-31                  11825596   \n",
       "318                     2009-06-30                   -517000   \n",
       "319                     2009-06-30                   -517000   \n",
       "320                     2009-06-30                   -517000   \n",
       "\n",
       "    HIWATER_INCMST_NETINC_FY_DATE HIWATER_INCMST_NETINC_FY NAME_CHANGE_DATE1  \\\n",
       "0                      2016-06-30                6774000.0               NaN   \n",
       "1                      2016-06-30                6774000.0               NaN   \n",
       "2                      2016-06-30                6774000.0               NaN   \n",
       "3                      2016-06-30                6774000.0               NaN   \n",
       "4                      2016-06-30                6774000.0               NaN   \n",
       "..                            ...                      ...               ...   \n",
       "316                    1999-12-31                2724000.0        2010-03-11   \n",
       "317                    1999-12-31                2724000.0        2010-03-11   \n",
       "318                    2009-06-30                      NaN               NaN   \n",
       "319                    2009-06-30                      NaN               NaN   \n",
       "320                    2009-06-30                      NaN               NaN   \n",
       "\n",
       "    NAME_CHANGE_DATE2 NAME_CHANGE_DATE3  \n",
       "0                 NaN               NaN  \n",
       "1                 NaN               NaN  \n",
       "2                 NaN               NaN  \n",
       "3                 NaN               NaN  \n",
       "4                 NaN               NaN  \n",
       "..                ...               ...  \n",
       "316               NaN               NaN  \n",
       "317               NaN               NaN  \n",
       "318               NaN               NaN  \n",
       "319               NaN               NaN  \n",
       "320               NaN               NaN  \n",
       "\n",
       "[269 rows x 1452 columns]"
      ]
     },
     "execution_count": 48,
     "metadata": {},
     "output_type": "execute_result"
    }
   ],
   "source": [
    "df_merge_11 = df_merge[df_merge['BANKRUPTCY_TYPE']==11]\n",
    "df_merge_11"
   ]
  }
 ],
 "metadata": {
  "kernelspec": {
   "display_name": "Python 3",
   "language": "python",
   "name": "python3"
  },
  "language_info": {
   "codemirror_mode": {
    "name": "ipython",
    "version": 3
   },
   "file_extension": ".py",
   "mimetype": "text/x-python",
   "name": "python",
   "nbconvert_exporter": "python",
   "pygments_lexer": "ipython3",
   "version": "3.7.4"
  }
 },
 "nbformat": 4,
 "nbformat_minor": 4
}
