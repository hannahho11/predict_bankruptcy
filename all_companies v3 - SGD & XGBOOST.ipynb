{
 "cells": [
  {
   "cell_type": "code",
   "execution_count": 1,
   "metadata": {},
   "outputs": [],
   "source": [
    "import pandas as pd\n",
    "import numpy as np\n",
    "import matplotlib.pyplot as plt\n",
    "import seaborn as sns\n",
    "from impyute.imputation.cs import mice\n",
    "from sklearn.metrics import roc_auc_score, f1_score, accuracy_score, confusion_matrix\n",
    "from xgboost import XGBClassifier\n",
    "from xgboost import plot_importance"
   ]
  },
  {
   "cell_type": "markdown",
   "metadata": {},
   "source": [
    "# Data Processing and EDA"
   ]
  },
  {
   "cell_type": "code",
   "execution_count": 2,
   "metadata": {
    "scrolled": true
   },
   "outputs": [
    {
     "name": "stderr",
     "output_type": "stream",
     "text": [
      "C:\\Users\\Hannah\\Anaconda3\\lib\\site-packages\\IPython\\core\\interactiveshell.py:3058: DtypeWarning: Columns (2,33,37,955,956,957,962,972,976,977,982) have mixed types. Specify dtype option on import or set low_memory=False.\n",
      "  interactivity=interactivity, compiler=compiler, result=result)\n",
      "C:\\Users\\Hannah\\Anaconda3\\lib\\site-packages\\IPython\\core\\interactiveshell.py:3058: DtypeWarning: Columns (263,341) have mixed types. Specify dtype option on import or set low_memory=False.\n",
      "  interactivity=interactivity, compiler=compiler, result=result)\n"
     ]
    }
   ],
   "source": [
    "#read in data\n",
    "all_fund = pd.read_csv('all_companies_fund.csv') #2000-2019\n",
    "all_bank = pd.read_csv('all_bankruptcies.csv', encoding = \"ISO-8859-1\") #2000-2019"
   ]
  },
  {
   "cell_type": "code",
   "execution_count": 88,
   "metadata": {},
   "outputs": [
    {
     "data": {
      "text/plain": [
       "['BANKRUPTCY_TYPE',\n",
       " 'BANK_BEGIN_DATE',\n",
       " 'SIC_CODE_FKEY',\n",
       " 'SIC_CODE_DESCRIP',\n",
       " 'NAICS_CODE_DESCRIP',\n",
       " 'NAICS_CODE_FKEY',\n",
       " 'SHORT_NAME',\n",
       " 'NAME',\n",
       " 'COMPANY_FKEY',\n",
       " 'year']"
      ]
     },
     "execution_count": 88,
     "metadata": {},
     "output_type": "execute_result"
    }
   ],
   "source": [
    "all_fund.columns\n",
    "list(all_bank.columns)\n",
    "# all_bank['SHORT_NAME']"
   ]
  },
  {
   "cell_type": "code",
   "execution_count": 3,
   "metadata": {},
   "outputs": [
    {
     "data": {
      "text/html": [
       "<div>\n",
       "<style scoped>\n",
       "    .dataframe tbody tr th:only-of-type {\n",
       "        vertical-align: middle;\n",
       "    }\n",
       "\n",
       "    .dataframe tbody tr th {\n",
       "        vertical-align: top;\n",
       "    }\n",
       "\n",
       "    .dataframe thead th {\n",
       "        text-align: right;\n",
       "    }\n",
       "</style>\n",
       "<table border=\"1\" class=\"dataframe\">\n",
       "  <thead>\n",
       "    <tr style=\"text-align: right;\">\n",
       "      <th></th>\n",
       "      <th>cik</th>\n",
       "      <th>GVKEY</th>\n",
       "    </tr>\n",
       "  </thead>\n",
       "  <tbody>\n",
       "    <tr>\n",
       "      <th>0</th>\n",
       "      <td>1750.0</td>\n",
       "      <td>1004</td>\n",
       "    </tr>\n",
       "    <tr>\n",
       "      <th>19</th>\n",
       "      <td>910627.0</td>\n",
       "      <td>1010</td>\n",
       "    </tr>\n",
       "    <tr>\n",
       "      <th>23</th>\n",
       "      <td>61478.0</td>\n",
       "      <td>1013</td>\n",
       "    </tr>\n",
       "    <tr>\n",
       "      <th>34</th>\n",
       "      <td>2668.0</td>\n",
       "      <td>1019</td>\n",
       "    </tr>\n",
       "    <tr>\n",
       "      <th>36</th>\n",
       "      <td>319126.0</td>\n",
       "      <td>1021</td>\n",
       "    </tr>\n",
       "  </tbody>\n",
       "</table>\n",
       "</div>"
      ],
      "text/plain": [
       "         cik  GVKEY\n",
       "0     1750.0   1004\n",
       "19  910627.0   1010\n",
       "23   61478.0   1013\n",
       "34    2668.0   1019\n",
       "36  319126.0   1021"
      ]
     },
     "execution_count": 3,
     "metadata": {},
     "output_type": "execute_result"
    }
   ],
   "source": [
    "#keys to join all databases\n",
    "key_table = all_fund[['cik', 'GVKEY']] \n",
    "key_table = key_table.drop_duplicates()\n",
    "key_table.head()"
   ]
  },
  {
   "cell_type": "code",
   "execution_count": 4,
   "metadata": {},
   "outputs": [
    {
     "data": {
      "text/html": [
       "<div>\n",
       "<style scoped>\n",
       "    .dataframe tbody tr th:only-of-type {\n",
       "        vertical-align: middle;\n",
       "    }\n",
       "\n",
       "    .dataframe tbody tr th {\n",
       "        vertical-align: top;\n",
       "    }\n",
       "\n",
       "    .dataframe thead th {\n",
       "        text-align: right;\n",
       "    }\n",
       "</style>\n",
       "<table border=\"1\" class=\"dataframe\">\n",
       "  <thead>\n",
       "    <tr style=\"text-align: right;\">\n",
       "      <th></th>\n",
       "      <th>GVKEY</th>\n",
       "      <th>LINKPRIM</th>\n",
       "      <th>LIID</th>\n",
       "      <th>LINKTYPE</th>\n",
       "      <th>LPERMNO</th>\n",
       "      <th>LPERMCO</th>\n",
       "      <th>LINKDT</th>\n",
       "      <th>LINKENDDT</th>\n",
       "      <th>datadate</th>\n",
       "      <th>fyear</th>\n",
       "      <th>...</th>\n",
       "      <th>priusa</th>\n",
       "      <th>sic</th>\n",
       "      <th>spcindcd</th>\n",
       "      <th>spcseccd</th>\n",
       "      <th>spcsrc</th>\n",
       "      <th>state</th>\n",
       "      <th>stko</th>\n",
       "      <th>weburl</th>\n",
       "      <th>dldte</th>\n",
       "      <th>ipodate</th>\n",
       "    </tr>\n",
       "  </thead>\n",
       "  <tbody>\n",
       "    <tr>\n",
       "      <th>73</th>\n",
       "      <td>1045</td>\n",
       "      <td>P</td>\n",
       "      <td>01</td>\n",
       "      <td>NR</td>\n",
       "      <td>NaN</td>\n",
       "      <td>NaN</td>\n",
       "      <td>01/05/2012</td>\n",
       "      <td>11/30/2013</td>\n",
       "      <td>12/31/2012</td>\n",
       "      <td>2012.0</td>\n",
       "      <td>...</td>\n",
       "      <td>4.0</td>\n",
       "      <td>4512</td>\n",
       "      <td>605.0</td>\n",
       "      <td>600.0</td>\n",
       "      <td>B-</td>\n",
       "      <td>TX</td>\n",
       "      <td>0.0</td>\n",
       "      <td>www.aa.com</td>\n",
       "      <td>NaN</td>\n",
       "      <td>NaN</td>\n",
       "    </tr>\n",
       "    <tr>\n",
       "      <th>473</th>\n",
       "      <td>1164</td>\n",
       "      <td>P</td>\n",
       "      <td>01</td>\n",
       "      <td>NR</td>\n",
       "      <td>NaN</td>\n",
       "      <td>NaN</td>\n",
       "      <td>07/30/2002</td>\n",
       "      <td>03/31/2004</td>\n",
       "      <td>12/31/2002</td>\n",
       "      <td>2002.0</td>\n",
       "      <td>...</td>\n",
       "      <td>10.0</td>\n",
       "      <td>4813</td>\n",
       "      <td>463.0</td>\n",
       "      <td>974.0</td>\n",
       "      <td>NaN</td>\n",
       "      <td>NJ</td>\n",
       "      <td>0.0</td>\n",
       "      <td>www.wcom.com/home.shtml</td>\n",
       "      <td>01/09/2006</td>\n",
       "      <td>NaN</td>\n",
       "    </tr>\n",
       "    <tr>\n",
       "      <th>867</th>\n",
       "      <td>1263</td>\n",
       "      <td>N</td>\n",
       "      <td>01C</td>\n",
       "      <td>NU</td>\n",
       "      <td>NaN</td>\n",
       "      <td>NaN</td>\n",
       "      <td>12/01/2000</td>\n",
       "      <td>12/31/2001</td>\n",
       "      <td>12/31/2001</td>\n",
       "      <td>2001.0</td>\n",
       "      <td>...</td>\n",
       "      <td>6.0</td>\n",
       "      <td>3312</td>\n",
       "      <td>460.0</td>\n",
       "      <td>970.0</td>\n",
       "      <td>NaN</td>\n",
       "      <td>ON</td>\n",
       "      <td>2.0</td>\n",
       "      <td>www.algoma.com</td>\n",
       "      <td>NaN</td>\n",
       "      <td>NaN</td>\n",
       "    </tr>\n",
       "    <tr>\n",
       "      <th>868</th>\n",
       "      <td>1263</td>\n",
       "      <td>P</td>\n",
       "      <td>01</td>\n",
       "      <td>NR</td>\n",
       "      <td>NaN</td>\n",
       "      <td>NaN</td>\n",
       "      <td>12/01/2000</td>\n",
       "      <td>01/31/2002</td>\n",
       "      <td>12/31/2001</td>\n",
       "      <td>2001.0</td>\n",
       "      <td>...</td>\n",
       "      <td>6.0</td>\n",
       "      <td>3312</td>\n",
       "      <td>460.0</td>\n",
       "      <td>970.0</td>\n",
       "      <td>NaN</td>\n",
       "      <td>ON</td>\n",
       "      <td>2.0</td>\n",
       "      <td>www.algoma.com</td>\n",
       "      <td>NaN</td>\n",
       "      <td>NaN</td>\n",
       "    </tr>\n",
       "    <tr>\n",
       "      <th>1167</th>\n",
       "      <td>1388</td>\n",
       "      <td>C</td>\n",
       "      <td>00X</td>\n",
       "      <td>NU</td>\n",
       "      <td>NaN</td>\n",
       "      <td>NaN</td>\n",
       "      <td>01/01/1983</td>\n",
       "      <td>E</td>\n",
       "      <td>12/31/2011</td>\n",
       "      <td>2011.0</td>\n",
       "      <td>...</td>\n",
       "      <td>1.0</td>\n",
       "      <td>4512</td>\n",
       "      <td>605.0</td>\n",
       "      <td>600.0</td>\n",
       "      <td>NaN</td>\n",
       "      <td>TX</td>\n",
       "      <td>1.0</td>\n",
       "      <td>www.aa.com</td>\n",
       "      <td>NaN</td>\n",
       "      <td>NaN</td>\n",
       "    </tr>\n",
       "    <tr>\n",
       "      <th>...</th>\n",
       "      <td>...</td>\n",
       "      <td>...</td>\n",
       "      <td>...</td>\n",
       "      <td>...</td>\n",
       "      <td>...</td>\n",
       "      <td>...</td>\n",
       "      <td>...</td>\n",
       "      <td>...</td>\n",
       "      <td>...</td>\n",
       "      <td>...</td>\n",
       "      <td>...</td>\n",
       "      <td>...</td>\n",
       "      <td>...</td>\n",
       "      <td>...</td>\n",
       "      <td>...</td>\n",
       "      <td>...</td>\n",
       "      <td>...</td>\n",
       "      <td>...</td>\n",
       "      <td>...</td>\n",
       "      <td>...</td>\n",
       "      <td>...</td>\n",
       "    </tr>\n",
       "    <tr>\n",
       "      <th>236932</th>\n",
       "      <td>273726</td>\n",
       "      <td>P</td>\n",
       "      <td>01</td>\n",
       "      <td>LC</td>\n",
       "      <td>93338.0</td>\n",
       "      <td>53385.0</td>\n",
       "      <td>04/15/2010</td>\n",
       "      <td>06/30/2018</td>\n",
       "      <td>12/31/2017</td>\n",
       "      <td>2017.0</td>\n",
       "      <td>...</td>\n",
       "      <td>2.0</td>\n",
       "      <td>1381</td>\n",
       "      <td>NaN</td>\n",
       "      <td>NaN</td>\n",
       "      <td>NaN</td>\n",
       "      <td>NaN</td>\n",
       "      <td>0.0</td>\n",
       "      <td>www.seadrill.com</td>\n",
       "      <td>NaN</td>\n",
       "      <td>04/15/2010</td>\n",
       "    </tr>\n",
       "    <tr>\n",
       "      <th>237802</th>\n",
       "      <td>294524</td>\n",
       "      <td>C</td>\n",
       "      <td>00X</td>\n",
       "      <td>NR</td>\n",
       "      <td>NaN</td>\n",
       "      <td>NaN</td>\n",
       "      <td>01/01/2006</td>\n",
       "      <td>04/29/2010</td>\n",
       "      <td>12/31/2009</td>\n",
       "      <td>2009.0</td>\n",
       "      <td>...</td>\n",
       "      <td>1.0</td>\n",
       "      <td>2820</td>\n",
       "      <td>NaN</td>\n",
       "      <td>NaN</td>\n",
       "      <td>B+</td>\n",
       "      <td>NaN</td>\n",
       "      <td>0.0</td>\n",
       "      <td>www.lyondellbasell.com</td>\n",
       "      <td>NaN</td>\n",
       "      <td>NaN</td>\n",
       "    </tr>\n",
       "    <tr>\n",
       "      <th>237889</th>\n",
       "      <td>296944</td>\n",
       "      <td>N</td>\n",
       "      <td>01</td>\n",
       "      <td>NR</td>\n",
       "      <td>NaN</td>\n",
       "      <td>NaN</td>\n",
       "      <td>01/29/2014</td>\n",
       "      <td>E</td>\n",
       "      <td>12/31/2017</td>\n",
       "      <td>2017.0</td>\n",
       "      <td>...</td>\n",
       "      <td>2.0</td>\n",
       "      <td>1381</td>\n",
       "      <td>NaN</td>\n",
       "      <td>NaN</td>\n",
       "      <td>NaN</td>\n",
       "      <td>NaN</td>\n",
       "      <td>3.0</td>\n",
       "      <td>www.nadlcorp.com</td>\n",
       "      <td>07/03/2018</td>\n",
       "      <td>NaN</td>\n",
       "    </tr>\n",
       "    <tr>\n",
       "      <th>237890</th>\n",
       "      <td>296944</td>\n",
       "      <td>P</td>\n",
       "      <td>02</td>\n",
       "      <td>LC</td>\n",
       "      <td>14417.0</td>\n",
       "      <td>54709.0</td>\n",
       "      <td>01/29/2014</td>\n",
       "      <td>07/03/2018</td>\n",
       "      <td>12/31/2017</td>\n",
       "      <td>2017.0</td>\n",
       "      <td>...</td>\n",
       "      <td>2.0</td>\n",
       "      <td>1381</td>\n",
       "      <td>NaN</td>\n",
       "      <td>NaN</td>\n",
       "      <td>NaN</td>\n",
       "      <td>NaN</td>\n",
       "      <td>3.0</td>\n",
       "      <td>www.nadlcorp.com</td>\n",
       "      <td>07/03/2018</td>\n",
       "      <td>NaN</td>\n",
       "    </tr>\n",
       "    <tr>\n",
       "      <th>237905</th>\n",
       "      <td>297209</td>\n",
       "      <td>P</td>\n",
       "      <td>01</td>\n",
       "      <td>NR</td>\n",
       "      <td>NaN</td>\n",
       "      <td>NaN</td>\n",
       "      <td>09/13/2017</td>\n",
       "      <td>12/17/2018</td>\n",
       "      <td>12/31/2017</td>\n",
       "      <td>2017.0</td>\n",
       "      <td>...</td>\n",
       "      <td>1.0</td>\n",
       "      <td>1381</td>\n",
       "      <td>NaN</td>\n",
       "      <td>NaN</td>\n",
       "      <td>NaN</td>\n",
       "      <td>TX</td>\n",
       "      <td>0.0</td>\n",
       "      <td>www.pacificdrilling.com</td>\n",
       "      <td>NaN</td>\n",
       "      <td>11/11/2011</td>\n",
       "    </tr>\n",
       "  </tbody>\n",
       "</table>\n",
       "<p>788 rows × 988 columns</p>\n",
       "</div>"
      ],
      "text/plain": [
       "         GVKEY LINKPRIM LIID LINKTYPE  LPERMNO  LPERMCO      LINKDT  \\\n",
       "73        1045        P   01       NR      NaN      NaN  01/05/2012   \n",
       "473       1164        P   01       NR      NaN      NaN  07/30/2002   \n",
       "867       1263        N  01C       NU      NaN      NaN  12/01/2000   \n",
       "868       1263        P   01       NR      NaN      NaN  12/01/2000   \n",
       "1167      1388        C  00X       NU      NaN      NaN  01/01/1983   \n",
       "...        ...      ...  ...      ...      ...      ...         ...   \n",
       "236932  273726        P   01       LC  93338.0  53385.0  04/15/2010   \n",
       "237802  294524        C  00X       NR      NaN      NaN  01/01/2006   \n",
       "237889  296944        N   01       NR      NaN      NaN  01/29/2014   \n",
       "237890  296944        P   02       LC  14417.0  54709.0  01/29/2014   \n",
       "237905  297209        P   01       NR      NaN      NaN  09/13/2017   \n",
       "\n",
       "         LINKENDDT    datadate   fyear  ... priusa   sic spcindcd spcseccd  \\\n",
       "73      11/30/2013  12/31/2012  2012.0  ...    4.0  4512    605.0    600.0   \n",
       "473     03/31/2004  12/31/2002  2002.0  ...   10.0  4813    463.0    974.0   \n",
       "867     12/31/2001  12/31/2001  2001.0  ...    6.0  3312    460.0    970.0   \n",
       "868     01/31/2002  12/31/2001  2001.0  ...    6.0  3312    460.0    970.0   \n",
       "1167             E  12/31/2011  2011.0  ...    1.0  4512    605.0    600.0   \n",
       "...            ...         ...     ...  ...    ...   ...      ...      ...   \n",
       "236932  06/30/2018  12/31/2017  2017.0  ...    2.0  1381      NaN      NaN   \n",
       "237802  04/29/2010  12/31/2009  2009.0  ...    1.0  2820      NaN      NaN   \n",
       "237889           E  12/31/2017  2017.0  ...    2.0  1381      NaN      NaN   \n",
       "237890  07/03/2018  12/31/2017  2017.0  ...    2.0  1381      NaN      NaN   \n",
       "237905  12/17/2018  12/31/2017  2017.0  ...    1.0  1381      NaN      NaN   \n",
       "\n",
       "       spcsrc state stko                   weburl       dldte     ipodate  \n",
       "73         B-    TX  0.0               www.aa.com         NaN         NaN  \n",
       "473       NaN    NJ  0.0  www.wcom.com/home.shtml  01/09/2006         NaN  \n",
       "867       NaN    ON  2.0           www.algoma.com         NaN         NaN  \n",
       "868       NaN    ON  2.0           www.algoma.com         NaN         NaN  \n",
       "1167      NaN    TX  1.0               www.aa.com         NaN         NaN  \n",
       "...       ...   ...  ...                      ...         ...         ...  \n",
       "236932    NaN   NaN  0.0         www.seadrill.com         NaN  04/15/2010  \n",
       "237802     B+   NaN  0.0   www.lyondellbasell.com         NaN         NaN  \n",
       "237889    NaN   NaN  3.0         www.nadlcorp.com  07/03/2018         NaN  \n",
       "237890    NaN   NaN  3.0         www.nadlcorp.com  07/03/2018         NaN  \n",
       "237905    NaN    TX  0.0  www.pacificdrilling.com         NaN  11/11/2011  \n",
       "\n",
       "[788 rows x 988 columns]"
      ]
     },
     "execution_count": 4,
     "metadata": {},
     "output_type": "execute_result"
    }
   ],
   "source": [
    "mask = all_fund['stalt'] == 'TL'\n",
    "tl = all_fund[mask]\n",
    "tl"
   ]
  },
  {
   "cell_type": "code",
   "execution_count": 5,
   "metadata": {},
   "outputs": [
    {
     "data": {
      "text/html": [
       "<div>\n",
       "<style scoped>\n",
       "    .dataframe tbody tr th:only-of-type {\n",
       "        vertical-align: middle;\n",
       "    }\n",
       "\n",
       "    .dataframe tbody tr th {\n",
       "        vertical-align: top;\n",
       "    }\n",
       "\n",
       "    .dataframe thead th {\n",
       "        text-align: right;\n",
       "    }\n",
       "</style>\n",
       "<table border=\"1\" class=\"dataframe\">\n",
       "  <thead>\n",
       "    <tr style=\"text-align: right;\">\n",
       "      <th></th>\n",
       "      <th>datadate</th>\n",
       "      <th>stalt</th>\n",
       "      <th>cik</th>\n",
       "    </tr>\n",
       "  </thead>\n",
       "  <tbody>\n",
       "    <tr>\n",
       "      <th>236923</th>\n",
       "      <td>12/31/2008</td>\n",
       "      <td>NaN</td>\n",
       "      <td>1737706.0</td>\n",
       "    </tr>\n",
       "    <tr>\n",
       "      <th>236924</th>\n",
       "      <td>12/31/2009</td>\n",
       "      <td>NaN</td>\n",
       "      <td>1737706.0</td>\n",
       "    </tr>\n",
       "    <tr>\n",
       "      <th>236925</th>\n",
       "      <td>12/31/2010</td>\n",
       "      <td>NaN</td>\n",
       "      <td>1737706.0</td>\n",
       "    </tr>\n",
       "    <tr>\n",
       "      <th>236926</th>\n",
       "      <td>12/31/2011</td>\n",
       "      <td>NaN</td>\n",
       "      <td>1737706.0</td>\n",
       "    </tr>\n",
       "    <tr>\n",
       "      <th>236927</th>\n",
       "      <td>12/31/2012</td>\n",
       "      <td>NaN</td>\n",
       "      <td>1737706.0</td>\n",
       "    </tr>\n",
       "    <tr>\n",
       "      <th>236928</th>\n",
       "      <td>12/31/2013</td>\n",
       "      <td>NaN</td>\n",
       "      <td>1737706.0</td>\n",
       "    </tr>\n",
       "    <tr>\n",
       "      <th>236929</th>\n",
       "      <td>12/31/2014</td>\n",
       "      <td>NaN</td>\n",
       "      <td>1737706.0</td>\n",
       "    </tr>\n",
       "    <tr>\n",
       "      <th>236930</th>\n",
       "      <td>12/31/2015</td>\n",
       "      <td>NaN</td>\n",
       "      <td>1737706.0</td>\n",
       "    </tr>\n",
       "    <tr>\n",
       "      <th>236931</th>\n",
       "      <td>12/31/2016</td>\n",
       "      <td>NaN</td>\n",
       "      <td>1737706.0</td>\n",
       "    </tr>\n",
       "    <tr>\n",
       "      <th>236932</th>\n",
       "      <td>12/31/2017</td>\n",
       "      <td>TL</td>\n",
       "      <td>1737706.0</td>\n",
       "    </tr>\n",
       "    <tr>\n",
       "      <th>236933</th>\n",
       "      <td>12/31/2018</td>\n",
       "      <td>NaN</td>\n",
       "      <td>1737706.0</td>\n",
       "    </tr>\n",
       "    <tr>\n",
       "      <th>236934</th>\n",
       "      <td>12/31/2018</td>\n",
       "      <td>NaN</td>\n",
       "      <td>1737706.0</td>\n",
       "    </tr>\n",
       "  </tbody>\n",
       "</table>\n",
       "</div>"
      ],
      "text/plain": [
       "          datadate stalt        cik\n",
       "236923  12/31/2008   NaN  1737706.0\n",
       "236924  12/31/2009   NaN  1737706.0\n",
       "236925  12/31/2010   NaN  1737706.0\n",
       "236926  12/31/2011   NaN  1737706.0\n",
       "236927  12/31/2012   NaN  1737706.0\n",
       "236928  12/31/2013   NaN  1737706.0\n",
       "236929  12/31/2014   NaN  1737706.0\n",
       "236930  12/31/2015   NaN  1737706.0\n",
       "236931  12/31/2016   NaN  1737706.0\n",
       "236932  12/31/2017    TL  1737706.0\n",
       "236933  12/31/2018   NaN  1737706.0\n",
       "236934  12/31/2018   NaN  1737706.0"
      ]
     },
     "execution_count": 5,
     "metadata": {},
     "output_type": "execute_result"
    }
   ],
   "source": [
    "all_fund[all_fund['GVKEY'] == 273726][['datadate','stalt','cik']]"
   ]
  },
  {
   "cell_type": "code",
   "execution_count": 6,
   "metadata": {},
   "outputs": [
    {
     "data": {
      "text/html": [
       "<div>\n",
       "<style scoped>\n",
       "    .dataframe tbody tr th:only-of-type {\n",
       "        vertical-align: middle;\n",
       "    }\n",
       "\n",
       "    .dataframe tbody tr th {\n",
       "        vertical-align: top;\n",
       "    }\n",
       "\n",
       "    .dataframe thead th {\n",
       "        text-align: right;\n",
       "    }\n",
       "</style>\n",
       "<table border=\"1\" class=\"dataframe\">\n",
       "  <thead>\n",
       "    <tr style=\"text-align: right;\">\n",
       "      <th></th>\n",
       "      <th>BANK_KEY</th>\n",
       "      <th>SUBSID_NAME</th>\n",
       "      <th>BANKRUPTCY_TYPE</th>\n",
       "      <th>LAW_COURT_FKEY</th>\n",
       "      <th>COURT_TYPE_CODE</th>\n",
       "      <th>COURT_NAME</th>\n",
       "      <th>COURT_S_NAME</th>\n",
       "      <th>COURT_LOC_STREET</th>\n",
       "      <th>COURT_LOC_CITY</th>\n",
       "      <th>COURT_LOC_STATE</th>\n",
       "      <th>...</th>\n",
       "      <th>HIWATER_INCMST_REVFY</th>\n",
       "      <th>HIWATER_INCMST_NETINC_QTR_DATE</th>\n",
       "      <th>HIWATER_INCMST_NETINC_QTR</th>\n",
       "      <th>HIWATER_INCMST_NETINC_TTM_DATE</th>\n",
       "      <th>HIWATER_INCMST_NETINC_TTM</th>\n",
       "      <th>HIWATER_INCMST_NETINC_FY_DATE</th>\n",
       "      <th>HIWATER_INCMST_NETINC_FY</th>\n",
       "      <th>NAME_CHANGE_DATE1</th>\n",
       "      <th>NAME_CHANGE_DATE2</th>\n",
       "      <th>NAME_CHANGE_DATE3</th>\n",
       "    </tr>\n",
       "  </thead>\n",
       "  <tbody>\n",
       "  </tbody>\n",
       "</table>\n",
       "<p>0 rows × 464 columns</p>\n",
       "</div>"
      ],
      "text/plain": [
       "Empty DataFrame\n",
       "Columns: [BANK_KEY, SUBSID_NAME, BANKRUPTCY_TYPE, LAW_COURT_FKEY, COURT_TYPE_CODE, COURT_NAME, COURT_S_NAME, COURT_LOC_STREET, COURT_LOC_CITY, COURT_LOC_STATE, COURT_LOC_ZIP, COURT_LOC, COURT_URL, LAW_COURT_STATE_NAME, LAW_COURT_COUNTRY, LAW_COURT_REG, LAW_COURT_CON_SUPER_REG, BANK_BEGIN_DATE, BANK_END_DATE, FTP_FILE_FKEY, FORM_FKEY, FILE_DATE, FILE_ACCEPTED, FILE_SIZE, HTTP_NAME_HTML, HTTP_NAME_TEXT, COMPANY_FKEY, BEST_EDGAR_TICKER, MATCHQU_PRICE_DATE, MATCHQU_PRICE_CLOSE, MATCHQU_TSO_DATE, MATCHQU_TSO, MATCHQU_TSO_MARKCAP, MATCHQU_DATE_QTR, MATCHQU_DATE_TTM, MATCHQU_FILING_CODE_QTR, MATCHQU_FILING_CODE_TTM, MATCHQU_ANNUAL_QUINDIC, MATCHQU_BALSH_BOOK_VAL, MATCHQU_BALSH_ASSETS, MATCHQU_BALSH_CASH_EQUIVS, MATCHQU_INCMST_REV_QTR, MATCHQU_INCMST_REV_TTM, MATCHQU_INCMST_NETINC_QTR, MATCHQU_INCMST_NETINC_TTM, MATCHQU_INCMST_EXTRAITM_QTR, MATCHQU_INCMST_EXTRAITM_TTM, MATCHQU_INCMST_EBITDA_QTR, MATCHQU_INCMST_EBITDA_TTM, MATCHQU_EFF_ACCCHANGE_QTR, MATCHQU_EFF_ACCCHANGE_TTM, MATCHQU_CSHFLST_OP_ACT_QTR, MATCHQU_CSHFLST_OP_ACT_TTM, MATCHQU_CSHFLST_INV_ACT_QTR, MATCHQU_CSHFLST_INV_ACT_TTM, MATCHQU_CSHFLST_FIN_ACT_QTR, MATCHQU_CSHFLST_FIN_ACT_TTM, MATCHQU_CSHFLST_CHANGE_QTR, MATCHQU_CSHFLST_CHANGE_TTM, PRIORQU_PRICE_DATE, PRIORQU_PRICE_CLOSE, PRIORQU_TSO_DATE, PRIORQU_TSO, PRIORQU_TSO_MARKCAP, PRIORQU_DATE_QTR, PRIORQU_DATE_TTM, PRIORQU_FILING_CODE_QTR, PRIORQU_FILING_CODE_TTM, PRIORQU_ANNUAL_QUINDIC, PRIORQU_BALSH_BOOK_VAL, PRIORQU_BALSH_ASSETS, PRIORQU_BALSH_CASH_EQUIVS, PRIORQU_INCMST_REV_QTR, PRIORQU_INCMST_REV_TTM, PRIORQU_INCMST_NETINC_QTR, PRIORQU_INCMST_NETINC_TTM, PRIORQU_INCMST_EXTRAITM_QTR, PRIORQU_INCMST_EXTRAITM_TTM, PRIORQU_INCMST_EBITDA_QTR, PRIORQU_INCMST_EBITDA_TTM, PRIORQU_EFF_ACCCHANGE_QTR, PRIORQU_EFF_ACCCHANGE_TTM, PRIORQU_CSHFLST_OP_ACT_QTR, PRIORQU_CSHFLST_OP_ACT_TTM, PRIORQU_CSHFLST_INV_ACT_QTR, PRIORQU_CSHFLST_INV_ACT_TTM, PRIORQU_CSHFLST_FIN_ACT_QTR, PRIORQU_CSHFLST_FIN_ACT_TTM, PRIORQU_CSHFLST_CHANGE_QTR, PRIORQU_CSHFLST_CHANGE_TTM, MATCHFY_PRICE_DATE, MATCHFY_PRICE_CLOSE, MATCHFY_TSO_DATE, MATCHFY_TSO, MATCHFY_TSO_MARKCAP, MATCHFY_DATE_QTR, MATCHFY_DATE_TTM, MATCHFY_FILING_CODE_QTR, MATCHFY_FILING_CODE_TTM, MATCHFY_ANNUAL_QUINDIC, ...]\n",
       "Index: []\n",
       "\n",
       "[0 rows x 464 columns]"
      ]
     },
     "execution_count": 6,
     "metadata": {},
     "output_type": "execute_result"
    }
   ],
   "source": [
    "all_bank[all_bank['COMPANY_FKEY'] == 1737706]"
   ]
  },
  {
   "cell_type": "markdown",
   "metadata": {},
   "source": [
    "## Bankruptcy Data EDA"
   ]
  },
  {
   "cell_type": "code",
   "execution_count": 7,
   "metadata": {},
   "outputs": [
    {
     "data": {
      "text/plain": [
       "<matplotlib.axes._subplots.AxesSubplot at 0x26f6bc0cf88>"
      ]
     },
     "execution_count": 7,
     "metadata": {},
     "output_type": "execute_result"
    },
    {
     "data": {
      "image/png": "[encoded data removed]",
      "text/plain": [
       "<Figure size 432x288 with 1 Axes>"
      ]
     },
     "metadata": {
      "needs_background": "light"
     },
     "output_type": "display_data"
    }
   ],
   "source": [
    "all_bank['BANKRUPTCY_TYPE'].value_counts().plot(kind = 'bar')"
   ]
  },
  {
   "cell_type": "code",
   "execution_count": 8,
   "metadata": {},
   "outputs": [],
   "source": [
    "#extract useful information\n",
    "all_bank = all_bank[['BANKRUPTCY_TYPE', 'BANK_BEGIN_DATE', 'SIC_CODE_FKEY', 'SIC_CODE_DESCRIP', 'NAICS_CODE_DESCRIP', 'NAICS_CODE_FKEY', 'SHORT_NAME', 'NAME', 'COMPANY_FKEY']]"
   ]
  },
  {
   "cell_type": "code",
   "execution_count": 9,
   "metadata": {},
   "outputs": [
    {
     "data": {
      "text/plain": [
       "<matplotlib.axes._subplots.AxesSubplot at 0x26f03ccd388>"
      ]
     },
     "execution_count": 9,
     "metadata": {},
     "output_type": "execute_result"
    },
    {
     "data": {
      "image/png": "[encoded data removed]",
      "text/plain": [
       "<Figure size 1080x576 with 1 Axes>"
      ]
     },
     "metadata": {
      "needs_background": "light"
     },
     "output_type": "display_data"
    }
   ],
   "source": [
    "#top 20 industries with most bankruptcies using SIC code\n",
    "\n",
    "all_bank['SIC_CODE_DESCRIP'].value_counts(ascending = False)[:20].plot(kind = 'bar', figsize = (15,8))"
   ]
  },
  {
   "cell_type": "code",
   "execution_count": 10,
   "metadata": {},
   "outputs": [
    {
     "data": {
      "text/plain": [
       "<matplotlib.axes._subplots.AxesSubplot at 0x26f03fd64c8>"
      ]
     },
     "execution_count": 10,
     "metadata": {},
     "output_type": "execute_result"
    },
    {
     "data": {
      "image/png": "[encoded data removed]",
      "text/plain": [
       "<Figure size 1080x576 with 1 Axes>"
      ]
     },
     "metadata": {
      "needs_background": "light"
     },
     "output_type": "display_data"
    }
   ],
   "source": [
    "#top 20 industries with most bankruptcies using NICS code\n",
    "\n",
    "all_bank['NAICS_CODE_DESCRIP'].value_counts(ascending = False)[:20].plot(kind = 'bar', figsize = (15,8))"
   ]
  },
  {
   "cell_type": "code",
   "execution_count": 11,
   "metadata": {},
   "outputs": [
    {
     "data": {
      "text/plain": [
       "<matplotlib.axes._subplots.AxesSubplot at 0x26f03b08ec8>"
      ]
     },
     "execution_count": 11,
     "metadata": {},
     "output_type": "execute_result"
    },
    {
     "data": {
      "image/png": "[encoded data removed]",
      "text/plain": [
       "<Figure size 720x360 with 1 Axes>"
      ]
     },
     "metadata": {
      "needs_background": "light"
     },
     "output_type": "display_data"
    }
   ],
   "source": [
    "all_bank['year'] = pd.to_datetime(all_bank['BANK_BEGIN_DATE']).dt.year\n",
    "all_bank['year'].value_counts().sort_index().plot(kind = 'bar', figsize = (10,5))"
   ]
  },
  {
   "cell_type": "code",
   "execution_count": 12,
   "metadata": {},
   "outputs": [
    {
     "name": "stdout",
     "output_type": "stream",
     "text": [
      "24933 of unique GVKEYs\n",
      "17998 of unique ciks\n",
      "cik is the only way to join to bankruptcy data, might explain why so many bankruptcies were dropped\n"
     ]
    }
   ],
   "source": [
    "# gvkey_list = str(list(all_fund['GVKEY'].unique())).strip('\\'').strip('[').strip(']').split(', ')\n",
    "\n",
    "# # Write to txt file to look up relevant companies in Audit Analytics database\n",
    "# # file = open('all_GVKEY.txt','w')\n",
    "# # for i in all_fund['GVKEY']:\n",
    "# #     file.write(str(i))\n",
    "# #     file.write('\\n')\n",
    "# # file.close()\n",
    "\n",
    "print(all_fund['GVKEY'].nunique(), 'of unique GVKEYs')\n",
    "print(all_fund['cik'].nunique(), 'of unique ciks')\n",
    "print('cik is the only way to join to bankruptcy data, might explain why so many bankruptcies were dropped')"
   ]
  },
  {
   "cell_type": "code",
   "execution_count": 13,
   "metadata": {},
   "outputs": [],
   "source": [
    "# all_bank.groupby(['year', 'NAICS_CODE_DESCRIP'])[['NAICS_CODE_DESCRIP']].count().unstack().to_csv('industrybank.csv')"
   ]
  },
  {
   "cell_type": "code",
   "execution_count": 14,
   "metadata": {},
   "outputs": [],
   "source": [
    "# all_bank.groupby(['year', 'SIC_CODE_DESCRIP'])[['NAICS_CODE_DESCRIP']].count().unstack().to_csv('sicbank.csv')"
   ]
  },
  {
   "cell_type": "code",
   "execution_count": 15,
   "metadata": {},
   "outputs": [
    {
     "data": {
      "text/plain": [
       "(2779, 10)"
      ]
     },
     "execution_count": 15,
     "metadata": {},
     "output_type": "execute_result"
    }
   ],
   "source": [
    "all_bank.shape"
   ]
  },
  {
   "cell_type": "code",
   "execution_count": 16,
   "metadata": {},
   "outputs": [],
   "source": [
    "f_keys = list(all_bank['COMPANY_FKEY'])"
   ]
  },
  {
   "cell_type": "code",
   "execution_count": 17,
   "metadata": {},
   "outputs": [],
   "source": [
    "ciks = list(key_table['cik'])"
   ]
  },
  {
   "cell_type": "code",
   "execution_count": 18,
   "metadata": {},
   "outputs": [],
   "source": [
    "#test how many bankrupt Fkeys are in fundamental\n",
    "x = [] \n",
    "for i in f_keys:\n",
    "    \n",
    "    if i in ciks:\n",
    "        continue\n",
    "    \n",
    "    else:\n",
    "        x.append(i)\n",
    "        #print (i, 'not in fundamental')"
   ]
  },
  {
   "cell_type": "code",
   "execution_count": 19,
   "metadata": {},
   "outputs": [
    {
     "name": "stdout",
     "output_type": "stream",
     "text": [
      "Of 2779 bankrupt companies, 1085 companies are not in fundamental dataset\n"
     ]
    }
   ],
   "source": [
    "print('Of', len(f_keys), 'bankrupt companies,', len(x), 'companies are not in fundamental dataset')"
   ]
  },
  {
   "cell_type": "code",
   "execution_count": 20,
   "metadata": {},
   "outputs": [],
   "source": [
    "# # gvkey_list = str(list(all_fund['GVKEY'].unique())).strip('\\'').strip('[').strip(']').split(', ')\n",
    "\n",
    "# # Write to txt file to look up relevant companies in Audit Analytics database\n",
    "# file = open('all_fkey.txt','w')\n",
    "# for i in all_bank['COMPANY_FKEY']:\n",
    "#     file.write(str(i))\n",
    "#     file.write('\\n')\n",
    "# file.close()"
   ]
  },
  {
   "cell_type": "code",
   "execution_count": 21,
   "metadata": {},
   "outputs": [
    {
     "name": "stderr",
     "output_type": "stream",
     "text": [
      "C:\\Users\\Hannah\\Anaconda3\\lib\\site-packages\\IPython\\core\\interactiveshell.py:3058: DtypeWarning: Columns (23,33,955,956,958,959,965,976,977,980,981,982,983,985,989,995,996,999,1002,1005,1010,1017,1018,1021,1025,1030,1033,1034,1039,1049,1050,1055,1056,1057,1058,1059,1060,1061,1065,1066,1069,1070,1072,1074,1076,1077,1081,1082,1083,1093,1095,1099,1100,1107,1111,1112,1113,1114,1116,1120,1127,1134,1137,1141,1144,1145,1146,1148,1149,1150,1159,1160,1162,1163,1164,1165,1167,1168,1829,1830,1836,1850,1851) have mixed types. Specify dtype option on import or set low_memory=False.\n",
      "  interactivity=interactivity, compiler=compiler, result=result)\n"
     ]
    },
    {
     "data": {
      "text/plain": [
       "1798"
      ]
     },
     "execution_count": 21,
     "metadata": {},
     "output_type": "execute_result"
    }
   ],
   "source": [
    "#used bankruptcy Fkey to query fundamental data, turns out a lot of ciks do not return fundamental data\n",
    "fund_bank = pd.read_csv('fund_bank.csv')\n",
    "fund_bank['cik'].nunique()"
   ]
  },
  {
   "cell_type": "code",
   "execution_count": 22,
   "metadata": {},
   "outputs": [
    {
     "name": "stdout",
     "output_type": "stream",
     "text": [
      "will move forward with the companies with fundamental data\n",
      "might be benefitial to figure out why so many companies do not have fundamental data\n"
     ]
    }
   ],
   "source": [
    "print('will move forward with the companies with fundamental data')\n",
    "print('might be benefitial to figure out why so many companies do not have fundamental data')"
   ]
  },
  {
   "cell_type": "markdown",
   "metadata": {},
   "source": [
    "## Merge fundamental and bankruptcy and financial ratios\n"
   ]
  },
  {
   "cell_type": "code",
   "execution_count": 23,
   "metadata": {},
   "outputs": [
    {
     "data": {
      "text/plain": [
       "17998"
      ]
     },
     "execution_count": 23,
     "metadata": {},
     "output_type": "execute_result"
    }
   ],
   "source": [
    "fund_bank = pd.merge(all_fund, all_bank, left_on = 'cik', right_on = 'COMPANY_FKEY', suffixes = ('_fund', '_bank'), how = 'left')\n",
    "fund_bank['cik'].nunique()"
   ]
  },
  {
   "cell_type": "code",
   "execution_count": 24,
   "metadata": {},
   "outputs": [],
   "source": [
    "bankrupt_key  = pd.merge(all_bank, key_table, left_on = 'COMPANY_FKEY', right_on = 'cik', suffixes = ('_ratio', '_key'), how = 'inner')\n"
   ]
  },
  {
   "cell_type": "code",
   "execution_count": 25,
   "metadata": {},
   "outputs": [],
   "source": [
    "all_fin_ratios  = pd.read_csv('all_fin_ratios.csv')"
   ]
  },
  {
   "cell_type": "code",
   "execution_count": 26,
   "metadata": {},
   "outputs": [
    {
     "data": {
      "text/plain": [
       "(75263, 76)"
      ]
     },
     "execution_count": 26,
     "metadata": {},
     "output_type": "execute_result"
    }
   ],
   "source": [
    "#only keep year end financial ratios for each company\n",
    "all_fin_ratios=all_fin_ratios.drop_duplicates(subset=['gvkey','qdate'], keep='last')\n",
    "all_fin_ratios['qmonth']=pd.to_datetime(all_fin_ratios['qdate']).dt.month\n",
    "mask= all_fin_ratios['qmonth']==12\n",
    "all_fin_ratios= all_fin_ratios[mask]\n",
    "\n",
    "all_fin_ratios.shape"
   ]
  },
  {
   "cell_type": "code",
   "execution_count": 27,
   "metadata": {},
   "outputs": [],
   "source": [
    "fin_gv = list(all_fin_ratios['gvkey'].unique())\n",
    "\n",
    "fund_gv = list(all_fund['GVKEY'].unique())\n",
    "\n",
    "#test how many bankrupt Fkeys are in fundamental\n",
    "x = [] \n",
    "for i in fin_gv:\n",
    "    \n",
    "    if i in fund_gv:\n",
    "        continue\n",
    "    \n",
    "    else:\n",
    "        x.append(i)\n",
    "        #print (i, 'not in fundamental')"
   ]
  },
  {
   "cell_type": "code",
   "execution_count": 28,
   "metadata": {},
   "outputs": [
    {
     "name": "stdout",
     "output_type": "stream",
     "text": [
      "Of 9466 companies with financial ratios 560 companies are not in fundamental dataset\n"
     ]
    }
   ],
   "source": [
    "print('Of', len(fin_gv), 'companies with financial ratios', len(x), 'companies are not in fundamental dataset')"
   ]
  },
  {
   "cell_type": "code",
   "execution_count": 29,
   "metadata": {},
   "outputs": [],
   "source": [
    "fin_ratio_bankruptcy = pd.merge(all_fin_ratios, bankrupt_key, left_on = 'gvkey', right_on = 'GVKEY', suffixes = ('_finratio', '_bankrupt'), how = 'left')\n"
   ]
  },
  {
   "cell_type": "code",
   "execution_count": 30,
   "metadata": {},
   "outputs": [],
   "source": [
    "mask = pd.to_datetime(fin_ratio_bankruptcy['adate']).dt.year + 1 == pd.to_datetime(fin_ratio_bankruptcy['BANK_BEGIN_DATE']).dt.year\n",
    "\n",
    "fin_ratio_bankruptcy['bankrupted'] = np.where(mask, 1,0)"
   ]
  },
  {
   "cell_type": "code",
   "execution_count": 31,
   "metadata": {},
   "outputs": [
    {
     "data": {
      "text/plain": [
       "518"
      ]
     },
     "execution_count": 31,
     "metadata": {},
     "output_type": "execute_result"
    }
   ],
   "source": [
    "#might want to check why so few bankruptcies exist in this final merge dataset\n",
    "fin_ratio_bankruptcy['bankrupted'].sum()"
   ]
  },
  {
   "cell_type": "code",
   "execution_count": 32,
   "metadata": {},
   "outputs": [],
   "source": [
    "fin_ratio_bankruptcy['year'] = pd.to_datetime(fin_ratio_bankruptcy['adate']).dt.year\n",
    "all_fund['year'] =  pd.to_datetime(all_fund['datadate']).dt.year\n"
   ]
  },
  {
   "cell_type": "code",
   "execution_count": 33,
   "metadata": {},
   "outputs": [],
   "source": [
    "fund_ratio_bank  = pd.merge(all_fund, fin_ratio_bankruptcy, left_on = ['GVKEY', 'year'], right_on = ['gvkey', 'year'], suffixes = ('_fund', '_ratio'), how = 'inner')\n",
    "fund_ratio_bank = fund_ratio_bank.drop(columns = 'GVKEY_ratio')\n",
    "fund_ratio_bank = fund_ratio_bank.rename(columns = {'GVKEY_fund' : 'GVKEY'})"
   ]
  },
  {
   "cell_type": "code",
   "execution_count": 34,
   "metadata": {},
   "outputs": [
    {
     "name": "stdout",
     "output_type": "stream",
     "text": [
      "The final dataset includes: 8673 companies basedon GVKEY, which have fundamental as well as financial ratios values, and 511 bankruptcies\n"
     ]
    }
   ],
   "source": [
    "print('The final dataset includes:',fund_ratio_bank['GVKEY'].nunique(), 'companies basedon GVKEY, which have fundamental as well as financial ratios values, and', fund_ratio_bank['bankrupted'].sum(), 'bankruptcies')"
   ]
  },
  {
   "cell_type": "code",
   "execution_count": 90,
   "metadata": {},
   "outputs": [
    {
     "data": {
      "text/plain": [
       "04/30/2001    5213\n",
       "04/30/2002    5018\n",
       "04/30/2003    4642\n",
       "04/30/2004    4439\n",
       "04/30/2005    4407\n",
       "              ... \n",
       "07/31/2005       1\n",
       "05/31/2011       1\n",
       "06/30/2006       1\n",
       "01/31/2015       1\n",
       "06/30/2009       1\n",
       "Name: public_date, Length: 89, dtype: int64"
      ]
     },
     "execution_count": 90,
     "metadata": {},
     "output_type": "execute_result"
    }
   ],
   "source": [
    "fund_ratio_bank['public_date'].value_counts(dropna=False)"
   ]
  },
  {
   "cell_type": "markdown",
   "metadata": {},
   "source": [
    "## Final EDA"
   ]
  },
  {
   "cell_type": "code",
   "execution_count": 36,
   "metadata": {},
   "outputs": [],
   "source": [
    "#filter for market cap size (in MM)\n",
    "#recommend using this after creating bankruptcy dummy\n",
    "\n",
    "def market_cap_size(df, lower, upper):\n",
    "    \n",
    "    mask = ((df['mkvalt'] >=lower) & (df['mkvalt'] <=upper))\n",
    "    df =df[mask]\n",
    "    \n",
    "    return df\n",
    "\n",
    "\n",
    "# #market cap 500M - 1B\n",
    "# df500 = market_cap_size(fund_ratio_bank, 0,1000)\n",
    "\n",
    "# df500['GVKEY'].nunique()"
   ]
  },
  {
   "cell_type": "code",
   "execution_count": 37,
   "metadata": {},
   "outputs": [
    {
     "data": {
      "text/plain": [
       "<matplotlib.axes._subplots.AxesSubplot at 0x26f3280ea08>"
      ]
     },
     "execution_count": 37,
     "metadata": {},
     "output_type": "execute_result"
    },
    {
     "data": {
      "image/png": "[encoded data removed]",
      "text/plain": [
       "<Figure size 1080x432 with 1 Axes>"
      ]
     },
     "metadata": {
      "needs_background": "light"
     },
     "output_type": "display_data"
    }
   ],
   "source": [
    "fund_ratio_bank.groupby('year')[['bankrupted']].sum().plot(kind = 'bar', title = 'Number of Bankruptcies per Year', figsize = (15,6))"
   ]
  },
  {
   "cell_type": "code",
   "execution_count": 38,
   "metadata": {},
   "outputs": [],
   "source": [
    "final_bank = fund_ratio_bank [fund_ratio_bank['bankrupted']==1]"
   ]
  },
  {
   "cell_type": "code",
   "execution_count": 39,
   "metadata": {},
   "outputs": [
    {
     "data": {
      "text/plain": [
       "<matplotlib.axes._subplots.AxesSubplot at 0x26f059d8fc8>"
      ]
     },
     "execution_count": 39,
     "metadata": {},
     "output_type": "execute_result"
    },
    {
     "data": {
      "image/png": "[encoded data removed]",
      "text/plain": [
       "<Figure size 1080x576 with 1 Axes>"
      ]
     },
     "metadata": {
      "needs_background": "light"
     },
     "output_type": "display_data"
    }
   ],
   "source": [
    "# rotate x labels 45 degrees\n",
    "# final_bank['SIC_CODE_DESCRIP'].value_counts(ascending = False)[:20].plot(kind = 'bar', title = 'Bankruptcies by SIC Classification', figsize = (15,8))\n",
    "\n",
    "\n",
    "final_bank['SIC_CODE_DESCRIP'].value_counts(ascending = False)[:20].plot.barh(title = 'Bankruptcies by SIC Classification', figsize = (15,8))"
   ]
  },
  {
   "cell_type": "code",
   "execution_count": 40,
   "metadata": {},
   "outputs": [
    {
     "name": "stdout",
     "output_type": "stream",
     "text": [
      "Most bankruptcies occur in small market cap companies\n"
     ]
    },
    {
     "data": {
      "image/png": "[encoded data removed]",
      "text/plain": [
       "<Figure size 432x288 with 1 Axes>"
      ]
     },
     "metadata": {
      "needs_background": "light"
     },
     "output_type": "display_data"
    }
   ],
   "source": [
    "#bankrupt companies usually have small market caps\n",
    "final_bank['mkvalt'].plot(kind = 'hist', title = 'Number of Bankruptcies by Market Cap', bins = 200)#.value_counts(ascending = False)[:20].plot(kind = 'bar', figsize = (15,8))\n",
    "print('Most bankruptcies occur in small market cap companies')"
   ]
  },
  {
   "cell_type": "markdown",
   "metadata": {},
   "source": [
    "## Next steps:\n",
    "1. figure out why so many bankrupted companies do not have fundamental data (is it how the database was constructed? fundamental dataset would get rid of bankrupted or acquired companies?)\n",
    "\n",
    "2. figure out why only 500 or so bankruptcies exist in the final dataset, down from 1000 (bankrupt companies with fundamental data) --> hypothesis is some fin ratios companies do not have fundamental data and those happen to be the ones with bankrupt data. Need to check \n",
    "\n",
    "3. model development. Note that the current dataset includes data from 2000 - 2019. Need to filter out dates\n"
   ]
  },
  {
   "cell_type": "markdown",
   "metadata": {},
   "source": [
    "# Modeling"
   ]
  },
  {
   "cell_type": "code",
   "execution_count": 41,
   "metadata": {},
   "outputs": [],
   "source": [
    "mask = (fund_ratio_bank['fyear'] >= 2000) & (fund_ratio_bank['fyear'] <= 2010)\n",
    "\n",
    "df_2000_2010 = fund_ratio_bank[mask]"
   ]
  },
  {
   "cell_type": "code",
   "execution_count": 42,
   "metadata": {},
   "outputs": [],
   "source": [
    "mask = (fund_ratio_bank['fyear'] == 2011)\n",
    "\n",
    "df_2011 = fund_ratio_bank[mask]"
   ]
  },
  {
   "cell_type": "code",
   "execution_count": 43,
   "metadata": {},
   "outputs": [],
   "source": [
    "mask = (fund_ratio_bank['fyear'] == 2012)\n",
    "\n",
    "df_2012 = fund_ratio_bank[mask]"
   ]
  },
  {
   "cell_type": "code",
   "execution_count": 44,
   "metadata": {},
   "outputs": [],
   "source": [
    "lista=[]\n",
    "for i in all_fin_ratios.columns:\n",
    "    lista.append(i)"
   ]
  },
  {
   "cell_type": "code",
   "execution_count": 45,
   "metadata": {},
   "outputs": [],
   "source": [
    "lista.append('bankrupted')\n",
    "lista.append('fyear')"
   ]
  },
  {
   "cell_type": "code",
   "execution_count": 46,
   "metadata": {},
   "outputs": [],
   "source": [
    "df_2000_2010 = df_2000_2010[lista]\n",
    "df_2011 = df_2011[lista]\n",
    "df_2012 = df_2012[lista]\n"
   ]
  },
  {
   "cell_type": "code",
   "execution_count": 47,
   "metadata": {},
   "outputs": [],
   "source": [
    "df_2000_2010 = df_2000_2010.drop(columns = ['gvkey'])\n",
    "df_2011 = df_2011.drop(columns = ['gvkey'])\n",
    "df_2012 = df_2012.drop(columns = ['gvkey'])"
   ]
  },
  {
   "cell_type": "code",
   "execution_count": 48,
   "metadata": {},
   "outputs": [],
   "source": [
    "mask = (df_2000_2010['fyear'] >= 2000) & (df_2000_2010['fyear'] <= 2007)\n",
    "train=df_2000_2010[mask]\n",
    "test= df_2000_2010[-mask]"
   ]
  },
  {
   "cell_type": "code",
   "execution_count": 49,
   "metadata": {},
   "outputs": [],
   "source": [
    "y_train= train['bankrupted']\n",
    "x_train= train.drop(columns=['bankrupted'])\n",
    "y_test= test['bankrupted']\n",
    "x_test= test.drop(columns=['bankrupted'])"
   ]
  },
  {
   "cell_type": "code",
   "execution_count": 50,
   "metadata": {},
   "outputs": [],
   "source": [
    "x_train=x_train.drop(columns=['adate','qdate','fyear','public_date','qmonth'])\n",
    "x_test=x_test.drop(columns=['adate','qdate','fyear','public_date','qmonth'])"
   ]
  },
  {
   "cell_type": "code",
   "execution_count": 51,
   "metadata": {},
   "outputs": [],
   "source": [
    "def get_pct(column):\n",
    "    \n",
    "    column = float(str(column).rstrip('%')) \n",
    "    \n",
    "    return column\n",
    "\n",
    "x_train['DIVYIELD'] = x_train['DIVYIELD'].apply(get_pct)\n",
    "x_test['DIVYIELD'] = x_test['DIVYIELD'].apply(get_pct)"
   ]
  },
  {
   "cell_type": "markdown",
   "metadata": {},
   "source": [
    "# SGD Classifier\n",
    "imputation: https://towardsdatascience.com/6-different-ways-to-compensate-for-missing-values-data-imputation-with-examples-6022d9ca0779"
   ]
  },
  {
   "cell_type": "code",
   "execution_count": 52,
   "metadata": {},
   "outputs": [],
   "source": [
    "from sklearn.linear_model import SGDClassifier\n",
    "\n",
    "# clf = SGDClassifier(loss=\"log\", max_iter=5).fit(x_train, y_train)\n",
    "# clf.predict_proba(x_test)"
   ]
  },
  {
   "cell_type": "code",
   "execution_count": 53,
   "metadata": {},
   "outputs": [
    {
     "data": {
      "text/plain": [
       "['CAPEI',\n",
       " 'bm',\n",
       " 'evm',\n",
       " 'pe_op_basic',\n",
       " 'pe_op_dil',\n",
       " 'pe_exi',\n",
       " 'pe_inc',\n",
       " 'ps',\n",
       " 'pcf',\n",
       " 'dpr',\n",
       " 'npm',\n",
       " 'opmbd',\n",
       " 'opmad',\n",
       " 'gpm',\n",
       " 'ptpm',\n",
       " 'cfm',\n",
       " 'roa',\n",
       " 'roe',\n",
       " 'roce',\n",
       " 'efftax',\n",
       " 'aftret_eq',\n",
       " 'aftret_invcapx',\n",
       " 'aftret_equity',\n",
       " 'pretret_noa',\n",
       " 'pretret_earnat',\n",
       " 'GProf',\n",
       " 'equity_invcap',\n",
       " 'debt_invcap',\n",
       " 'totdebt_invcap',\n",
       " 'capital_ratio',\n",
       " 'int_debt',\n",
       " 'int_totdebt',\n",
       " 'cash_lt',\n",
       " 'invt_act',\n",
       " 'rect_act',\n",
       " 'debt_at',\n",
       " 'debt_ebitda',\n",
       " 'short_debt',\n",
       " 'curr_debt',\n",
       " 'lt_debt',\n",
       " 'profit_lct',\n",
       " 'ocf_lct',\n",
       " 'cash_debt',\n",
       " 'fcf_ocf',\n",
       " 'lt_ppent',\n",
       " 'dltt_be',\n",
       " 'debt_assets',\n",
       " 'debt_capital',\n",
       " 'de_ratio',\n",
       " 'intcov',\n",
       " 'intcov_ratio',\n",
       " 'cash_ratio',\n",
       " 'quick_ratio',\n",
       " 'curr_ratio',\n",
       " 'cash_conversion',\n",
       " 'inv_turn',\n",
       " 'at_turn',\n",
       " 'rect_turn',\n",
       " 'pay_turn',\n",
       " 'sale_invcap',\n",
       " 'sale_equity',\n",
       " 'sale_nwc',\n",
       " 'rd_sale',\n",
       " 'adv_sale',\n",
       " 'staff_sale',\n",
       " 'accrual',\n",
       " 'ptb',\n",
       " 'PEG_trailing',\n",
       " 'DIVYIELD',\n",
       " 'PEG_1yrforward',\n",
       " 'PEG_ltgforward']"
      ]
     },
     "execution_count": 53,
     "metadata": {},
     "output_type": "execute_result"
    }
   ],
   "source": [
    "list(x_train.columns)"
   ]
  },
  {
   "cell_type": "code",
   "execution_count": 54,
   "metadata": {},
   "outputs": [
    {
     "data": {
      "text/html": [
       "<div>\n",
       "<style scoped>\n",
       "    .dataframe tbody tr th:only-of-type {\n",
       "        vertical-align: middle;\n",
       "    }\n",
       "\n",
       "    .dataframe tbody tr th {\n",
       "        vertical-align: top;\n",
       "    }\n",
       "\n",
       "    .dataframe thead th {\n",
       "        text-align: right;\n",
       "    }\n",
       "</style>\n",
       "<table border=\"1\" class=\"dataframe\">\n",
       "  <thead>\n",
       "    <tr style=\"text-align: right;\">\n",
       "      <th></th>\n",
       "      <th>CAPEI</th>\n",
       "      <th>bm</th>\n",
       "      <th>evm</th>\n",
       "      <th>pe_op_basic</th>\n",
       "      <th>pe_op_dil</th>\n",
       "      <th>pe_exi</th>\n",
       "      <th>pe_inc</th>\n",
       "      <th>ps</th>\n",
       "      <th>pcf</th>\n",
       "      <th>dpr</th>\n",
       "      <th>...</th>\n",
       "      <th>sale_nwc</th>\n",
       "      <th>rd_sale</th>\n",
       "      <th>adv_sale</th>\n",
       "      <th>staff_sale</th>\n",
       "      <th>accrual</th>\n",
       "      <th>ptb</th>\n",
       "      <th>PEG_trailing</th>\n",
       "      <th>DIVYIELD</th>\n",
       "      <th>PEG_1yrforward</th>\n",
       "      <th>PEG_ltgforward</th>\n",
       "    </tr>\n",
       "  </thead>\n",
       "  <tbody>\n",
       "    <tr>\n",
       "      <th>1</th>\n",
       "      <td>28.326</td>\n",
       "      <td>0.497</td>\n",
       "      <td>12.016</td>\n",
       "      <td>12.852</td>\n",
       "      <td>13.385</td>\n",
       "      <td>15.181</td>\n",
       "      <td>15.181</td>\n",
       "      <td>0.771</td>\n",
       "      <td>20.975</td>\n",
       "      <td>0.118</td>\n",
       "      <td>...</td>\n",
       "      <td>2.286</td>\n",
       "      <td>0.048</td>\n",
       "      <td>0.000</td>\n",
       "      <td>0.0</td>\n",
       "      <td>-0.016</td>\n",
       "      <td>0.792</td>\n",
       "      <td>0.596</td>\n",
       "      <td>0.796</td>\n",
       "      <td>0.642</td>\n",
       "      <td>0.678</td>\n",
       "    </tr>\n",
       "    <tr>\n",
       "      <th>2</th>\n",
       "      <td>34.133</td>\n",
       "      <td>0.846</td>\n",
       "      <td>13.648</td>\n",
       "      <td>36.383</td>\n",
       "      <td>36.383</td>\n",
       "      <td>-19.655</td>\n",
       "      <td>-18.387</td>\n",
       "      <td>0.689</td>\n",
       "      <td>5.628</td>\n",
       "      <td>NaN</td>\n",
       "      <td>...</td>\n",
       "      <td>3.053</td>\n",
       "      <td>0.089</td>\n",
       "      <td>0.000</td>\n",
       "      <td>0.0</td>\n",
       "      <td>0.078</td>\n",
       "      <td>0.677</td>\n",
       "      <td>NaN</td>\n",
       "      <td>1.050</td>\n",
       "      <td>-0.332</td>\n",
       "      <td>-0.874</td>\n",
       "    </tr>\n",
       "    <tr>\n",
       "      <th>3</th>\n",
       "      <td>-293.430</td>\n",
       "      <td>1.698</td>\n",
       "      <td>8.056</td>\n",
       "      <td>19.031</td>\n",
       "      <td>19.031</td>\n",
       "      <td>-9.920</td>\n",
       "      <td>-9.325</td>\n",
       "      <td>0.598</td>\n",
       "      <td>4.541</td>\n",
       "      <td>NaN</td>\n",
       "      <td>...</td>\n",
       "      <td>4.203</td>\n",
       "      <td>0.055</td>\n",
       "      <td>0.000</td>\n",
       "      <td>0.0</td>\n",
       "      <td>0.109</td>\n",
       "      <td>0.708</td>\n",
       "      <td>NaN</td>\n",
       "      <td>0.965</td>\n",
       "      <td>-0.424</td>\n",
       "      <td>-0.601</td>\n",
       "    </tr>\n",
       "    <tr>\n",
       "      <th>4</th>\n",
       "      <td>-253.970</td>\n",
       "      <td>1.106</td>\n",
       "      <td>12.002</td>\n",
       "      <td>29.365</td>\n",
       "      <td>29.767</td>\n",
       "      <td>57.184</td>\n",
       "      <td>80.481</td>\n",
       "      <td>0.678</td>\n",
       "      <td>5.603</td>\n",
       "      <td>0.479</td>\n",
       "      <td>...</td>\n",
       "      <td>3.876</td>\n",
       "      <td>0.049</td>\n",
       "      <td>0.000</td>\n",
       "      <td>0.0</td>\n",
       "      <td>0.059</td>\n",
       "      <td>0.761</td>\n",
       "      <td>NaN</td>\n",
       "      <td>0.828</td>\n",
       "      <td>-8.196</td>\n",
       "      <td>3.590</td>\n",
       "    </tr>\n",
       "    <tr>\n",
       "      <th>5</th>\n",
       "      <td>-5.239</td>\n",
       "      <td>1.026</td>\n",
       "      <td>10.382</td>\n",
       "      <td>28.606</td>\n",
       "      <td>28.606</td>\n",
       "      <td>-1.560</td>\n",
       "      <td>-1.560</td>\n",
       "      <td>0.289</td>\n",
       "      <td>2.077</td>\n",
       "      <td>NaN</td>\n",
       "      <td>...</td>\n",
       "      <td>NaN</td>\n",
       "      <td>0.061</td>\n",
       "      <td>0.000</td>\n",
       "      <td>0.0</td>\n",
       "      <td>0.231</td>\n",
       "      <td>0.421</td>\n",
       "      <td>NaN</td>\n",
       "      <td>1.910</td>\n",
       "      <td>-0.065</td>\n",
       "      <td>-0.114</td>\n",
       "    </tr>\n",
       "    <tr>\n",
       "      <th>...</th>\n",
       "      <td>...</td>\n",
       "      <td>...</td>\n",
       "      <td>...</td>\n",
       "      <td>...</td>\n",
       "      <td>...</td>\n",
       "      <td>...</td>\n",
       "      <td>...</td>\n",
       "      <td>...</td>\n",
       "      <td>...</td>\n",
       "      <td>...</td>\n",
       "      <td>...</td>\n",
       "      <td>...</td>\n",
       "      <td>...</td>\n",
       "      <td>...</td>\n",
       "      <td>...</td>\n",
       "      <td>...</td>\n",
       "      <td>...</td>\n",
       "      <td>...</td>\n",
       "      <td>...</td>\n",
       "      <td>...</td>\n",
       "      <td>...</td>\n",
       "    </tr>\n",
       "    <tr>\n",
       "      <th>72267</th>\n",
       "      <td>NaN</td>\n",
       "      <td>0.590</td>\n",
       "      <td>21.864</td>\n",
       "      <td>13.700</td>\n",
       "      <td>14.172</td>\n",
       "      <td>14.172</td>\n",
       "      <td>14.172</td>\n",
       "      <td>3.980</td>\n",
       "      <td>11.119</td>\n",
       "      <td>0.000</td>\n",
       "      <td>...</td>\n",
       "      <td>0.300</td>\n",
       "      <td>0.000</td>\n",
       "      <td>0.000</td>\n",
       "      <td>0.0</td>\n",
       "      <td>0.016</td>\n",
       "      <td>1.018</td>\n",
       "      <td>NaN</td>\n",
       "      <td>NaN</td>\n",
       "      <td>0.411</td>\n",
       "      <td>0.489</td>\n",
       "    </tr>\n",
       "    <tr>\n",
       "      <th>72268</th>\n",
       "      <td>NaN</td>\n",
       "      <td>0.590</td>\n",
       "      <td>21.864</td>\n",
       "      <td>13.700</td>\n",
       "      <td>14.172</td>\n",
       "      <td>14.172</td>\n",
       "      <td>14.172</td>\n",
       "      <td>3.980</td>\n",
       "      <td>11.119</td>\n",
       "      <td>0.000</td>\n",
       "      <td>...</td>\n",
       "      <td>0.300</td>\n",
       "      <td>0.000</td>\n",
       "      <td>0.000</td>\n",
       "      <td>0.0</td>\n",
       "      <td>0.016</td>\n",
       "      <td>1.018</td>\n",
       "      <td>NaN</td>\n",
       "      <td>NaN</td>\n",
       "      <td>0.411</td>\n",
       "      <td>0.489</td>\n",
       "    </tr>\n",
       "    <tr>\n",
       "      <th>72288</th>\n",
       "      <td>NaN</td>\n",
       "      <td>0.703</td>\n",
       "      <td>-14.979</td>\n",
       "      <td>-18.556</td>\n",
       "      <td>-18.556</td>\n",
       "      <td>-16.700</td>\n",
       "      <td>-16.700</td>\n",
       "      <td>60.120</td>\n",
       "      <td>-4.514</td>\n",
       "      <td>NaN</td>\n",
       "      <td>...</td>\n",
       "      <td>0.050</td>\n",
       "      <td>0.000</td>\n",
       "      <td>0.000</td>\n",
       "      <td>0.0</td>\n",
       "      <td>0.068</td>\n",
       "      <td>2.398</td>\n",
       "      <td>NaN</td>\n",
       "      <td>NaN</td>\n",
       "      <td>NaN</td>\n",
       "      <td>NaN</td>\n",
       "    </tr>\n",
       "    <tr>\n",
       "      <th>72321</th>\n",
       "      <td>-27.679</td>\n",
       "      <td>0.175</td>\n",
       "      <td>-8.041</td>\n",
       "      <td>-15.238</td>\n",
       "      <td>-15.238</td>\n",
       "      <td>-19.394</td>\n",
       "      <td>-19.394</td>\n",
       "      <td>56.916</td>\n",
       "      <td>-18.434</td>\n",
       "      <td>NaN</td>\n",
       "      <td>...</td>\n",
       "      <td>0.143</td>\n",
       "      <td>0.818</td>\n",
       "      <td>0.001</td>\n",
       "      <td>0.0</td>\n",
       "      <td>-0.016</td>\n",
       "      <td>11.848</td>\n",
       "      <td>NaN</td>\n",
       "      <td>NaN</td>\n",
       "      <td>NaN</td>\n",
       "      <td>NaN</td>\n",
       "    </tr>\n",
       "    <tr>\n",
       "      <th>72322</th>\n",
       "      <td>-16.085</td>\n",
       "      <td>0.140</td>\n",
       "      <td>-9.382</td>\n",
       "      <td>-7.271</td>\n",
       "      <td>-7.271</td>\n",
       "      <td>-7.271</td>\n",
       "      <td>-7.271</td>\n",
       "      <td>8.022</td>\n",
       "      <td>-6.969</td>\n",
       "      <td>NaN</td>\n",
       "      <td>...</td>\n",
       "      <td>0.658</td>\n",
       "      <td>0.126</td>\n",
       "      <td>0.000</td>\n",
       "      <td>0.0</td>\n",
       "      <td>-0.066</td>\n",
       "      <td>6.403</td>\n",
       "      <td>NaN</td>\n",
       "      <td>NaN</td>\n",
       "      <td>NaN</td>\n",
       "      <td>NaN</td>\n",
       "    </tr>\n",
       "  </tbody>\n",
       "</table>\n",
       "<p>37103 rows × 71 columns</p>\n",
       "</div>"
      ],
      "text/plain": [
       "         CAPEI     bm     evm  pe_op_basic  pe_op_dil  pe_exi  pe_inc      ps  \\\n",
       "1       28.326  0.497  12.016       12.852     13.385  15.181  15.181   0.771   \n",
       "2       34.133  0.846  13.648       36.383     36.383 -19.655 -18.387   0.689   \n",
       "3     -293.430  1.698   8.056       19.031     19.031  -9.920  -9.325   0.598   \n",
       "4     -253.970  1.106  12.002       29.365     29.767  57.184  80.481   0.678   \n",
       "5       -5.239  1.026  10.382       28.606     28.606  -1.560  -1.560   0.289   \n",
       "...        ...    ...     ...          ...        ...     ...     ...     ...   \n",
       "72267      NaN  0.590  21.864       13.700     14.172  14.172  14.172   3.980   \n",
       "72268      NaN  0.590  21.864       13.700     14.172  14.172  14.172   3.980   \n",
       "72288      NaN  0.703 -14.979      -18.556    -18.556 -16.700 -16.700  60.120   \n",
       "72321  -27.679  0.175  -8.041      -15.238    -15.238 -19.394 -19.394  56.916   \n",
       "72322  -16.085  0.140  -9.382       -7.271     -7.271  -7.271  -7.271   8.022   \n",
       "\n",
       "          pcf    dpr  ...  sale_nwc  rd_sale  adv_sale  staff_sale  accrual  \\\n",
       "1      20.975  0.118  ...     2.286    0.048     0.000         0.0   -0.016   \n",
       "2       5.628    NaN  ...     3.053    0.089     0.000         0.0    0.078   \n",
       "3       4.541    NaN  ...     4.203    0.055     0.000         0.0    0.109   \n",
       "4       5.603  0.479  ...     3.876    0.049     0.000         0.0    0.059   \n",
       "5       2.077    NaN  ...       NaN    0.061     0.000         0.0    0.231   \n",
       "...       ...    ...  ...       ...      ...       ...         ...      ...   \n",
       "72267  11.119  0.000  ...     0.300    0.000     0.000         0.0    0.016   \n",
       "72268  11.119  0.000  ...     0.300    0.000     0.000         0.0    0.016   \n",
       "72288  -4.514    NaN  ...     0.050    0.000     0.000         0.0    0.068   \n",
       "72321 -18.434    NaN  ...     0.143    0.818     0.001         0.0   -0.016   \n",
       "72322  -6.969    NaN  ...     0.658    0.126     0.000         0.0   -0.066   \n",
       "\n",
       "          ptb  PEG_trailing  DIVYIELD  PEG_1yrforward  PEG_ltgforward  \n",
       "1       0.792         0.596     0.796           0.642           0.678  \n",
       "2       0.677           NaN     1.050          -0.332          -0.874  \n",
       "3       0.708           NaN     0.965          -0.424          -0.601  \n",
       "4       0.761           NaN     0.828          -8.196           3.590  \n",
       "5       0.421           NaN     1.910          -0.065          -0.114  \n",
       "...       ...           ...       ...             ...             ...  \n",
       "72267   1.018           NaN       NaN           0.411           0.489  \n",
       "72268   1.018           NaN       NaN           0.411           0.489  \n",
       "72288   2.398           NaN       NaN             NaN             NaN  \n",
       "72321  11.848           NaN       NaN             NaN             NaN  \n",
       "72322   6.403           NaN       NaN             NaN             NaN  \n",
       "\n",
       "[37103 rows x 71 columns]"
      ]
     },
     "execution_count": 54,
     "metadata": {},
     "output_type": "execute_result"
    }
   ],
   "source": [
    "x_train"
   ]
  },
  {
   "cell_type": "code",
   "execution_count": null,
   "metadata": {},
   "outputs": [],
   "source": []
  },
  {
   "cell_type": "code",
   "execution_count": 55,
   "metadata": {},
   "outputs": [],
   "source": [
    "#only keep na < 10% columns ####################################################\n",
    "temp = pd.DataFrame(1 - x_train.isna().sum() / 37103).reset_index()\n",
    "use_list = temp[temp[0]>0.9]['index'].to_list()"
   ]
  },
  {
   "cell_type": "code",
   "execution_count": 56,
   "metadata": {},
   "outputs": [],
   "source": [
    "x_train = x_train[use_list]\n",
    "x_test = x_test[use_list]\n"
   ]
  },
  {
   "cell_type": "code",
   "execution_count": 57,
   "metadata": {},
   "outputs": [],
   "source": [
    "# start the MICE training\n",
    "# imputed_training=mice(x_train.values)"
   ]
  },
  {
   "cell_type": "code",
   "execution_count": 58,
   "metadata": {},
   "outputs": [],
   "source": [
    "x_columns = x_train.columns.tolist()"
   ]
  },
  {
   "cell_type": "code",
   "execution_count": 59,
   "metadata": {},
   "outputs": [],
   "source": [
    "#knn imputation takes forever \n",
    "# import sys\n",
    "# from impyute.imputation.cs import fast_knn\n",
    "# sys.setrecursionlimit(100000) #Increase the recursion limit of the OS\n",
    "\n",
    "# # start the KNN training\n",
    "# imputed_training=fast_knn(x_train.values, k=30)"
   ]
  },
  {
   "cell_type": "code",
   "execution_count": 60,
   "metadata": {},
   "outputs": [],
   "source": [
    "from sklearn.impute import SimpleImputer\n",
    "imp_mean = SimpleImputer( strategy='mean') #for median imputation replace 'mean' with 'median'\n",
    "imp_mean.fit(x_train)\n",
    "imputed_train_df = imp_mean.transform(x_train)\n",
    "\n",
    "x_train = pd.DataFrame(imputed_train_df).set_axis(x_columns, axis=1, inplace=False)\n",
    "\n",
    "\n",
    "#impute x_test ####################################################\n",
    "imp_mean = SimpleImputer( strategy='mean') #for median imputation replace 'mean' with 'median'\n",
    "imp_mean.fit(x_test)\n",
    "imputed_test_df = imp_mean.transform(x_test)\n",
    "\n",
    "x_test = pd.DataFrame(imputed_test_df).set_axis(x_columns, axis=1, inplace=False)"
   ]
  },
  {
   "cell_type": "code",
   "execution_count": 61,
   "metadata": {},
   "outputs": [
    {
     "name": "stdout",
     "output_type": "stream",
     "text": [
      "f1 score: 0.013793103448275862\n",
      "roc_auc_score 0.5030919283968065\n",
      "accuracy_score 0.9873238188103891\n"
     ]
    }
   ],
   "source": [
    "#SGD\n",
    "clf = SGDClassifier(loss=\"log\").fit(x_train, y_train)\n",
    "y_pred = clf.predict(x_test)\n",
    "y_prob = clf.predict_proba(x_test)[:,1]\n",
    "\n",
    "print ('f1 score:' , f1_score(y_test, y_pred))\n",
    "print ('roc_auc_score', roc_auc_score(y_test, y_prob))\n",
    "print('accuracy_score', accuracy_score(y_test, y_pred))"
   ]
  },
  {
   "cell_type": "code",
   "execution_count": 62,
   "metadata": {},
   "outputs": [
    {
     "name": "stdout",
     "output_type": "stream",
     "text": [
      "SGD: TN: 11137 |FP: 56 |FN: 87 |TP: 1\n"
     ]
    }
   ],
   "source": [
    "tn, fp, fn, tp = confusion_matrix(y_test, y_pred).ravel()\n",
    "print('SGD:', 'TN:', tn, '|FP:' , fp, '|FN:' , fn, '|TP:' ,tp)"
   ]
  },
  {
   "cell_type": "markdown",
   "metadata": {},
   "source": [
    "## XGBOOST"
   ]
  },
  {
   "cell_type": "code",
   "execution_count": 63,
   "metadata": {},
   "outputs": [
    {
     "name": "stdout",
     "output_type": "stream",
     "text": [
      "f1 score: 0.2456140350877193\n",
      "roc_auc_score 0.9706797267772878\n",
      "accuracy_score 0.9923765623614927\n"
     ]
    }
   ],
   "source": [
    "#XGBOOST\n",
    "xgb = XGBClassifier()\n",
    "xgb.fit(x_train, y_train)\n",
    "\n",
    "y_pred = xgb.predict(x_test)\n",
    "y_prob = xgb.predict_proba(x_test)[:,1]\n",
    "\n",
    "print ('f1 score:' , f1_score(y_test, y_pred))\n",
    "print ('roc_auc_score', roc_auc_score(y_test, y_prob))\n",
    "print('accuracy_score', accuracy_score(y_test, y_pred))"
   ]
  },
  {
   "cell_type": "code",
   "execution_count": 64,
   "metadata": {},
   "outputs": [
    {
     "name": "stdout",
     "output_type": "stream",
     "text": [
      "XGBOOST: TN: 11181 |FP: 12 |FN: 74 |TP: 14\n"
     ]
    }
   ],
   "source": [
    "tn, fp, fn, tp = confusion_matrix(y_test, y_pred).ravel()\n",
    "print('XGBOOST:', 'TN:', tn, '|FP:' , fp, '|FN:' , fn, '|TP:' ,tp)"
   ]
  },
  {
   "cell_type": "code",
   "execution_count": 65,
   "metadata": {},
   "outputs": [
    {
     "data": {
      "text/plain": [
       "array([[11181,    12],\n",
       "       [   74,    14]], dtype=int64)"
      ]
     },
     "execution_count": 65,
     "metadata": {},
     "output_type": "execute_result"
    }
   ],
   "source": [
    "confusion_matrix(y_test, y_pred)"
   ]
  },
  {
   "cell_type": "code",
   "execution_count": null,
   "metadata": {},
   "outputs": [],
   "source": []
  },
  {
   "cell_type": "code",
   "execution_count": 66,
   "metadata": {},
   "outputs": [],
   "source": [
    "#test on 2011 data"
   ]
  },
  {
   "cell_type": "code",
   "execution_count": 67,
   "metadata": {},
   "outputs": [
    {
     "name": "stdout",
     "output_type": "stream",
     "text": [
      "f1 score: 0.0\n",
      "roc_auc_score 0.9752008188513829\n",
      "accuracy_score 0.9962536023054755\n"
     ]
    }
   ],
   "source": [
    "x_2011 = df_2011.drop(columns=['adate','qdate','fyear','public_date','qmonth'])[use_list]\n",
    "y_2011 = df_2011['bankrupted']\n",
    "\n",
    "imp_mean = SimpleImputer( strategy='mean') #for median imputation replace 'mean' with 'median'\n",
    "imp_mean.fit(x_2011)\n",
    "imputed_2011_df = imp_mean.transform(x_2011)\n",
    "\n",
    "x_2011 = pd.DataFrame(imputed_2011_df).set_axis(x_columns, axis=1, inplace=False)\n",
    "\n",
    "y_pred = xgb.predict(x_2011)\n",
    "y_prob = xgb.predict_proba(x_2011)[:,1]\n",
    "\n",
    "print ('f1 score:' , f1_score(y_2011, y_pred))\n",
    "print ('roc_auc_score', roc_auc_score(y_2011, y_prob))\n",
    "print('accuracy_score', accuracy_score(y_2011, y_pred))"
   ]
  },
  {
   "cell_type": "code",
   "execution_count": 68,
   "metadata": {},
   "outputs": [],
   "source": [
    "y_df = pd.DataFrame(y_2011.array)\n",
    "pred_df = pd.DataFrame(y_pred)\n",
    "prob_df = pd.DataFrame(y_prob)\n",
    "\n",
    "compare_df = pd.concat([y_df, pred_df, prob_df], axis=1).set_axis(['True','Pred', 'Proba'], axis=1, inplace=False)"
   ]
  },
  {
   "cell_type": "code",
   "execution_count": 69,
   "metadata": {},
   "outputs": [
    {
     "name": "stdout",
     "output_type": "stream",
     "text": [
      "XGB on 2011: TN: 3457 |FP: 0 |FN: 13 |TP: 0\n"
     ]
    }
   ],
   "source": [
    "tn, fp, fn, tp = confusion_matrix(y_2011, y_pred).ravel()\n",
    "print('XGB on 2011:', 'TN:', tn, '|FP:' , fp, '|FN:' , fn, '|TP:' ,tp)"
   ]
  },
  {
   "cell_type": "code",
   "execution_count": 70,
   "metadata": {},
   "outputs": [],
   "source": [
    "#test on 2012 data"
   ]
  },
  {
   "cell_type": "code",
   "execution_count": 71,
   "metadata": {},
   "outputs": [
    {
     "name": "stdout",
     "output_type": "stream",
     "text": [
      "f1 score: 0.15384615384615385\n",
      "roc_auc_score 0.9603372215756854\n",
      "accuracy_score 0.9967359050445104\n"
     ]
    }
   ],
   "source": [
    "x_2012 = df_2012.drop(columns=['adate','qdate','fyear','public_date','qmonth'])[use_list]\n",
    "y_2012 = df_2012['bankrupted']\n",
    "\n",
    "imp_mean = SimpleImputer( strategy='mean') #for median imputation replace 'mean' with 'median'\n",
    "imp_mean.fit(x_2012)\n",
    "imputed_2012_df = imp_mean.transform(x_2012)\n",
    "\n",
    "x_2012 = pd.DataFrame(imputed_2012_df).set_axis(x_columns, axis=1, inplace=False)\n",
    "\n",
    "y_pred = xgb.predict(x_2012)\n",
    "y_prob = xgb.predict_proba(x_2012)[:,1]\n",
    "\n",
    "print ('f1 score:' , f1_score(y_2012, y_pred))\n",
    "print ('roc_auc_score', roc_auc_score(y_2012, y_prob))\n",
    "print('accuracy_score', accuracy_score(y_2012, y_pred))"
   ]
  },
  {
   "cell_type": "code",
   "execution_count": 72,
   "metadata": {},
   "outputs": [
    {
     "name": "stdout",
     "output_type": "stream",
     "text": [
      "XGB on 2011: TN: 3358 |FP: 1 |FN: 10 |TP: 1\n"
     ]
    }
   ],
   "source": [
    "tn, fp, fn, tp = confusion_matrix(y_2012, y_pred).ravel()\n",
    "print('XGB on 2011:', 'TN:', tn, '|FP:' , fp, '|FN:' , fn, '|TP:' ,tp)"
   ]
  },
  {
   "cell_type": "code",
   "execution_count": 73,
   "metadata": {},
   "outputs": [
    {
     "data": {
      "text/plain": [
       "XGBClassifier(base_score=0.5, booster='gbtree', colsample_bylevel=1,\n",
       "              colsample_bynode=1, colsample_bytree=1, gamma=0,\n",
       "              learning_rate=0.1, max_delta_step=0, max_depth=3,\n",
       "              min_child_weight=1, missing=None, n_estimators=100, n_jobs=1,\n",
       "              nthread=None, objective='binary:logistic', random_state=0,\n",
       "              reg_alpha=0, reg_lambda=1, scale_pos_weight=1, seed=None,\n",
       "              silent=None, subsample=1, verbosity=1)"
      ]
     },
     "execution_count": 73,
     "metadata": {},
     "output_type": "execute_result"
    }
   ],
   "source": [
    "xgb"
   ]
  },
  {
   "cell_type": "code",
   "execution_count": 74,
   "metadata": {},
   "outputs": [
    {
     "data": {
      "image/png": "[encoded data removed]",
      "text/plain": [
       "<Figure size 720x576 with 1 Axes>"
      ]
     },
     "metadata": {
      "needs_background": "light"
     },
     "output_type": "display_data"
    }
   ],
   "source": [
    "ax =plot_importance(xgb, color = 'teal')\n",
    "fig = ax.figure\n",
    "fig.set_size_inches(10,8)"
   ]
  },
  {
   "cell_type": "markdown",
   "metadata": {},
   "source": [
    "npm: Net Profit Margin\t\n",
    "ps: Price/Sales\t\n",
    "debt_assets: Total Debt/Total Assets\t\n",
    "PE_exi: \tP/E (Diluted, Excl. EI)\n",
    "ptb: Price/Book\t\n",
    "cash_debt: Cash Flow/Total Debt\t\n",
    "pe_inc: P/E (Diluted, Incl. EI)\t\n",
    "pay_turn: Payables Turnover\t\n",
    "aftret_equity: After-tax Return on Total Stockholders Equity\t\n",
    "lt_debt: Long-term Debt/Total Liabilities\t\n",
    "Gprof: Gross Profit/Total Assets\t\n",
    "debt_capital: Total Debt/Capital\t\n",
    "cash_lt: Cash Balance/Total Liabilities\t\n"
   ]
  },
  {
   "cell_type": "code",
   "execution_count": null,
   "metadata": {},
   "outputs": [],
   "source": []
  }
 ],
 "metadata": {
  "kernelspec": {
   "display_name": "Python 3",
   "language": "python",
   "name": "python3"
  },
  "language_info": {
   "codemirror_mode": {
    "name": "ipython",
    "version": 3
   },
   "file_extension": ".py",
   "mimetype": "text/x-python",
   "name": "python",
   "nbconvert_exporter": "python",
   "pygments_lexer": "ipython3",
   "version": "3.7.5"
  }
 },
 "nbformat": 4,
 "nbformat_minor": 4
}
