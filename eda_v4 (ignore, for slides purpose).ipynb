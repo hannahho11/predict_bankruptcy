{
 "cells": [
  {
   "cell_type": "code",
   "execution_count": 2,
   "metadata": {},
   "outputs": [],
   "source": [
    "import pandas as pd\n",
    "import numpy as np"
   ]
  },
  {
   "cell_type": "markdown",
   "metadata": {},
   "source": [
    "# Fundamental data preprocessing\n"
   ]
  },
  {
   "cell_type": "code",
   "execution_count": 3,
   "metadata": {},
   "outputs": [
    {
     "name": "stderr",
     "output_type": "stream",
     "text": [
      "C:\\Users\\Joseph\\Anaconda3\\lib\\site-packages\\IPython\\core\\interactiveshell.py:3058: DtypeWarning: Columns (23,33,37,955,956,957,962,976,977) have mixed types. Specify dtype option on import or set low_memory=False.\n",
      "  interactivity=interactivity, compiler=compiler, result=result)\n"
     ]
    },
    {
     "data": {
      "text/html": [
       "<div>\n",
       "<style scoped>\n",
       "    .dataframe tbody tr th:only-of-type {\n",
       "        vertical-align: middle;\n",
       "    }\n",
       "\n",
       "    .dataframe tbody tr th {\n",
       "        vertical-align: top;\n",
       "    }\n",
       "\n",
       "    .dataframe thead th {\n",
       "        text-align: right;\n",
       "    }\n",
       "</style>\n",
       "<table border=\"1\" class=\"dataframe\">\n",
       "  <thead>\n",
       "    <tr style=\"text-align: right;\">\n",
       "      <th></th>\n",
       "      <th>cik</th>\n",
       "      <th>GVKEY</th>\n",
       "    </tr>\n",
       "  </thead>\n",
       "  <tbody>\n",
       "    <tr>\n",
       "      <td>0</td>\n",
       "      <td>319126.0</td>\n",
       "      <td>1021</td>\n",
       "    </tr>\n",
       "    <tr>\n",
       "      <td>1</td>\n",
       "      <td>319126.0</td>\n",
       "      <td>1021</td>\n",
       "    </tr>\n",
       "    <tr>\n",
       "      <td>2</td>\n",
       "      <td>319126.0</td>\n",
       "      <td>1021</td>\n",
       "    </tr>\n",
       "    <tr>\n",
       "      <td>3</td>\n",
       "      <td>319126.0</td>\n",
       "      <td>1021</td>\n",
       "    </tr>\n",
       "    <tr>\n",
       "      <td>4</td>\n",
       "      <td>319126.0</td>\n",
       "      <td>1021</td>\n",
       "    </tr>\n",
       "  </tbody>\n",
       "</table>\n",
       "</div>"
      ],
      "text/plain": [
       "        cik  GVKEY\n",
       "0  319126.0   1021\n",
       "1  319126.0   1021\n",
       "2  319126.0   1021\n",
       "3  319126.0   1021\n",
       "4  319126.0   1021"
      ]
     },
     "execution_count": 3,
     "metadata": {},
     "output_type": "execute_result"
    }
   ],
   "source": [
    "# CSV of publically traded healthcare companies as classified by GIC subindustry codes\n",
    "df = pd.read_csv('healthcare_fundamentals_v3.csv') #update w/ latest version\n",
    "\n",
    "key_table = df[['cik', 'GVKEY']] #keys to join all databases\n",
    "key_table.head()"
   ]
  },
  {
   "cell_type": "code",
   "execution_count": 4,
   "metadata": {},
   "outputs": [
    {
     "data": {
      "text/plain": [
       "0        4.455\n",
       "1        2.717\n",
       "2        2.823\n",
       "3        1.320\n",
       "4        2.665\n",
       "         ...  \n",
       "14060      NaN\n",
       "14061      NaN\n",
       "14062   -7.074\n",
       "14063      NaN\n",
       "14064   -1.594\n",
       "Name: seq, Length: 14065, dtype: float64"
      ]
     },
     "execution_count": 4,
     "metadata": {},
     "output_type": "execute_result"
    }
   ],
   "source": [
    "df['seq']"
   ]
  },
  {
   "cell_type": "code",
   "execution_count": 5,
   "metadata": {},
   "outputs": [
    {
     "data": {
      "text/plain": [
       "0         4.5428\n",
       "1         2.9667\n",
       "2         1.5761\n",
       "3         1.5761\n",
       "4        13.9065\n",
       "          ...   \n",
       "14060        NaN\n",
       "14061        NaN\n",
       "14062        NaN\n",
       "14063        NaN\n",
       "14064        NaN\n",
       "Name: mkvalt, Length: 14065, dtype: float64"
      ]
     },
     "execution_count": 5,
     "metadata": {},
     "output_type": "execute_result"
    }
   ],
   "source": [
    "df['mkvalt']"
   ]
  },
  {
   "cell_type": "code",
   "execution_count": null,
   "metadata": {},
   "outputs": [],
   "source": []
  },
  {
   "cell_type": "code",
   "execution_count": 6,
   "metadata": {},
   "outputs": [
    {
     "name": "stdout",
     "output_type": "stream",
     "text": [
      "Total number of unique companies from 2000 - 2010: 1975\n"
     ]
    }
   ],
   "source": [
    "#all companies in healthcare industry from 2000 - 2010\n",
    "print('Total number of unique companies from 2000 - 2010:',df['GVKEY'].nunique())"
   ]
  },
  {
   "cell_type": "code",
   "execution_count": 7,
   "metadata": {},
   "outputs": [
    {
     "name": "stdout",
     "output_type": "stream",
     "text": [
      "5251\n",
      "(14065, 988)\n",
      "(8814, 988)\n"
     ]
    }
   ],
   "source": [
    "#eliminate private companies (ipodate = nan)\n",
    "mask = df['ipodate'].isna()\n",
    "print(mask.sum())\n",
    "print(df.shape)\n",
    "print(df[-mask].shape)\n",
    "df = df[-mask]"
   ]
  },
  {
   "cell_type": "code",
   "execution_count": 8,
   "metadata": {},
   "outputs": [
    {
     "name": "stdout",
     "output_type": "stream",
     "text": [
      "Total number of unique public companies from 2000 - 2010: 1175\n"
     ]
    }
   ],
   "source": [
    "#number of public healthcare companies\n",
    "print('Total number of unique public companies from 2000 - 2010:',df['GVKEY'].nunique())"
   ]
  },
  {
   "cell_type": "code",
   "execution_count": 9,
   "metadata": {},
   "outputs": [
    {
     "name": "stdout",
     "output_type": "stream",
     "text": [
      "Total number of unique public companies with market cap from 2000 - 2010: 1055\n"
     ]
    }
   ],
   "source": [
    "#eliminate rows with no market cap information\n",
    "mask = df['mkvalt'].isna()\n",
    "df = df[-mask]\n",
    "print('Total number of unique public companies with market cap from 2000 - 2010:',df['GVKEY'].nunique())"
   ]
  },
  {
   "cell_type": "code",
   "execution_count": 10,
   "metadata": {},
   "outputs": [],
   "source": [
    "# df['year'] =  pd.to_datetime(df['datadate']).dt.year\n",
    "# mask = df['year'] == 2000\n",
    "\n",
    "# df[mask]['GVKEY'].value_counts()"
   ]
  },
  {
   "cell_type": "code",
   "execution_count": 11,
   "metadata": {},
   "outputs": [],
   "source": [
    "df['year'] =  pd.to_datetime(df['datadate']).dt.year\n",
    "df = df.drop_duplicates(['year','GVKEY'])"
   ]
  },
  {
   "cell_type": "code",
   "execution_count": 12,
   "metadata": {},
   "outputs": [
    {
     "name": "stdout",
     "output_type": "stream",
     "text": [
      "Total number of unique private companies with market cap from 2000 - 2010: 1055\n"
     ]
    }
   ],
   "source": [
    "print('Total number of unique private companies with market cap from 2000 - 2010:',df['GVKEY'].nunique())"
   ]
  },
  {
   "cell_type": "markdown",
   "metadata": {},
   "source": [
    "# Read in Bankruptcy Data and Merge with Fundamentals"
   ]
  },
  {
   "cell_type": "code",
   "execution_count": 13,
   "metadata": {},
   "outputs": [],
   "source": [
    "# Bankrupt healthcare companies\n",
    "df_bankrupt = pd.read_csv('healthcare_bankrupt_audit_analytics_v2.csv')"
   ]
  },
  {
   "cell_type": "code",
   "execution_count": 14,
   "metadata": {},
   "outputs": [
    {
     "name": "stdout",
     "output_type": "stream",
     "text": [
      "Total of: 187 bankruptcy filings\n"
     ]
    }
   ],
   "source": [
    "print('Total of:' ,len(df_bankrupt), \"bankruptcy filings\")"
   ]
  },
  {
   "cell_type": "code",
   "execution_count": 15,
   "metadata": {},
   "outputs": [],
   "source": [
    "#create year column\n",
    "df_bankrupt['bankrupt_year'] = pd.to_datetime(df_bankrupt['BANK_BEGIN_DATE']).dt.year\n",
    "\n",
    "#filter for year 2001- 2010\n",
    "mask = (df_bankrupt['bankrupt_year'] >2000) &  (df_bankrupt['bankrupt_year']  < 2011)\n",
    "df_bankrupt = df_bankrupt[mask]\n"
   ]
  },
  {
   "cell_type": "code",
   "execution_count": 16,
   "metadata": {},
   "outputs": [
    {
     "name": "stdout",
     "output_type": "stream",
     "text": [
      "Total of: 129 bankruptcy filings between 2001 and 2010\n"
     ]
    }
   ],
   "source": [
    "print('Total of:' ,len(df_bankrupt), \"bankruptcy filings between 2001 and 2010\")"
   ]
  },
  {
   "cell_type": "code",
   "execution_count": 17,
   "metadata": {},
   "outputs": [
    {
     "name": "stdout",
     "output_type": "stream",
     "text": [
      "Total of: 82 CH 11 bankruptcy filings between 2001 and 2010\n"
     ]
    }
   ],
   "source": [
    "# Get chapter 11 companies only\n",
    "df_bankrupt= df_bankrupt[df_bankrupt['BANKRUPTCY_TYPE']==11]\n",
    "print('Total of:' ,len(df_bankrupt), \"CH 11 bankruptcy filings between 2001 and 2010\")"
   ]
  },
  {
   "cell_type": "code",
   "execution_count": 18,
   "metadata": {},
   "outputs": [
    {
     "data": {
      "text/plain": [
       "<matplotlib.axes._subplots.AxesSubplot at 0x2077a75e748>"
      ]
     },
     "execution_count": 18,
     "metadata": {},
     "output_type": "execute_result"
    }
   ],
   "source": [
    "df_bankrupt['bankrupt_year'].value_counts().sort_index().plot(kind = 'bar', title = 'Number of CH11 Bankruptcies by Year')"
   ]
  },
  {
   "cell_type": "markdown",
   "metadata": {},
   "source": [
    "# Merge Financial Ratios"
   ]
  },
  {
   "cell_type": "code",
   "execution_count": 19,
   "metadata": {},
   "outputs": [
    {
     "data": {
      "text/html": [
       "<div>\n",
       "<style scoped>\n",
       "    .dataframe tbody tr th:only-of-type {\n",
       "        vertical-align: middle;\n",
       "    }\n",
       "\n",
       "    .dataframe tbody tr th {\n",
       "        vertical-align: top;\n",
       "    }\n",
       "\n",
       "    .dataframe thead th {\n",
       "        text-align: right;\n",
       "    }\n",
       "</style>\n",
       "<table border=\"1\" class=\"dataframe\">\n",
       "  <thead>\n",
       "    <tr style=\"text-align: right;\">\n",
       "      <th></th>\n",
       "      <th>cik</th>\n",
       "      <th>GVKEY</th>\n",
       "    </tr>\n",
       "  </thead>\n",
       "  <tbody>\n",
       "    <tr>\n",
       "      <td>0</td>\n",
       "      <td>319126.0</td>\n",
       "      <td>1021</td>\n",
       "    </tr>\n",
       "    <tr>\n",
       "      <td>9</td>\n",
       "      <td>730469.0</td>\n",
       "      <td>1034</td>\n",
       "    </tr>\n",
       "    <tr>\n",
       "      <td>17</td>\n",
       "      <td>1800.0</td>\n",
       "      <td>1078</td>\n",
       "    </tr>\n",
       "    <tr>\n",
       "      <td>28</td>\n",
       "      <td>2034.0</td>\n",
       "      <td>1094</td>\n",
       "    </tr>\n",
       "    <tr>\n",
       "      <td>39</td>\n",
       "      <td>313798.0</td>\n",
       "      <td>1115</td>\n",
       "    </tr>\n",
       "  </tbody>\n",
       "</table>\n",
       "</div>"
      ],
      "text/plain": [
       "         cik  GVKEY\n",
       "0   319126.0   1021\n",
       "9   730469.0   1034\n",
       "17    1800.0   1078\n",
       "28    2034.0   1094\n",
       "39  313798.0   1115"
      ]
     },
     "execution_count": 19,
     "metadata": {},
     "output_type": "execute_result"
    }
   ],
   "source": [
    "#create cik - GVKEY table from fundamentals dataset\n",
    "key_table = key_table.drop_duplicates()\n",
    "key_table.head()"
   ]
  },
  {
   "cell_type": "code",
   "execution_count": 20,
   "metadata": {},
   "outputs": [
    {
     "data": {
      "text/plain": [
       "1244"
      ]
     },
     "execution_count": 20,
     "metadata": {},
     "output_type": "execute_result"
    }
   ],
   "source": [
    "df_fin_ratio = pd.read_csv('fin ratios.csv')\n",
    "df_fin_ratio['gvkey'].nunique()"
   ]
  },
  {
   "cell_type": "code",
   "execution_count": 21,
   "metadata": {},
   "outputs": [],
   "source": [
    "bankrupt_key  = pd.merge(df_bankrupt, key_table, left_on = 'COMPANY_FKEY', right_on = 'cik', suffixes = ('_ratio', '_key'), how = 'inner')\n",
    "# df_table = df_table.drop_duplicates()"
   ]
  },
  {
   "cell_type": "code",
   "execution_count": 22,
   "metadata": {},
   "outputs": [
    {
     "data": {
      "text/plain": [
       "(82, 467)"
      ]
     },
     "execution_count": 22,
     "metadata": {},
     "output_type": "execute_result"
    }
   ],
   "source": [
    "bankrupt_key.shape"
   ]
  },
  {
   "cell_type": "code",
   "execution_count": 23,
   "metadata": {},
   "outputs": [
    {
     "data": {
      "text/plain": [
       "(7526, 76)"
      ]
     },
     "execution_count": 23,
     "metadata": {},
     "output_type": "execute_result"
    }
   ],
   "source": [
    "df_fin_ratio=df_fin_ratio.drop_duplicates(subset=['gvkey','qdate'], keep='last')\n",
    "df_fin_ratio['qmonth']=pd.to_datetime(df_fin_ratio['qdate']).dt.month\n",
    "mask= df_fin_ratio['qmonth']==12\n",
    "df_fin_ratio= df_fin_ratio[mask]\n",
    "\n",
    "df_fin_ratio.shape"
   ]
  },
  {
   "cell_type": "code",
   "execution_count": 24,
   "metadata": {},
   "outputs": [],
   "source": [
    "fin_ratio_bankruptcy = pd.merge(df_fin_ratio, bankrupt_key, left_on = 'gvkey', right_on = 'GVKEY', suffixes = ('_finratio', '_bankrupt'), how = 'left')\n",
    "#processing for fin ratio to drop duplicates\n",
    "fin_ratio_bankruptcy['year'] = pd.to_datetime(fin_ratio_bankruptcy['adate']).dt.year"
   ]
  },
  {
   "cell_type": "code",
   "execution_count": 25,
   "metadata": {},
   "outputs": [
    {
     "data": {
      "text/plain": [
       "(7526, 544)"
      ]
     },
     "execution_count": 25,
     "metadata": {},
     "output_type": "execute_result"
    }
   ],
   "source": [
    "fin_ratio_bankruptcy.shape"
   ]
  },
  {
   "cell_type": "code",
   "execution_count": 26,
   "metadata": {},
   "outputs": [],
   "source": [
    "#create bankruptcy dummy\n",
    "#adate is year end date\n",
    "mask = pd.to_datetime(fin_ratio_bankruptcy['adate']).dt.year + 1 == pd.to_datetime(fin_ratio_bankruptcy['BANK_BEGIN_DATE']).dt.year\n",
    "\n",
    "fin_ratio_bankruptcy['bankrupted'] = np.where(mask, 1,0)"
   ]
  },
  {
   "cell_type": "code",
   "execution_count": 27,
   "metadata": {},
   "outputs": [
    {
     "data": {
      "text/plain": [
       "1154"
      ]
     },
     "execution_count": 27,
     "metadata": {},
     "output_type": "execute_result"
    }
   ],
   "source": [
    "fin_ratio_bankruptcy['gvkey'].nunique()"
   ]
  },
  {
   "cell_type": "code",
   "execution_count": 28,
   "metadata": {},
   "outputs": [],
   "source": [
    "fin_ratio_bankruptcy['year'] = pd.to_datetime(fin_ratio_bankruptcy['adate']).dt.year"
   ]
  },
  {
   "cell_type": "code",
   "execution_count": 29,
   "metadata": {},
   "outputs": [],
   "source": [
    "fund_ratio_bank  = pd.merge(df, fin_ratio_bankruptcy, left_on = ['GVKEY', 'year'], right_on = ['gvkey', 'year'], suffixes = ('_fund', '_ratio'), how = 'inner')\n",
    "fund_ratio_bank = fund_ratio_bank.drop(columns = 'GVKEY_ratio')\n",
    "fund_ratio_bank = fund_ratio_bank.rename(columns = {'GVKEY_fund' : 'GVKEY'})\n"
   ]
  },
  {
   "cell_type": "code",
   "execution_count": 30,
   "metadata": {},
   "outputs": [
    {
     "name": "stdout",
     "output_type": "stream",
     "text": [
      "The final dataset includes: 817 companies, which have fundamental as well as financial ratios values\n"
     ]
    }
   ],
   "source": [
    "print('The final dataset includes:',fund_ratio_bank['GVKEY'].nunique(), 'companies, which have fundamental as well as financial ratios values')"
   ]
  },
  {
   "cell_type": "code",
   "execution_count": 31,
   "metadata": {},
   "outputs": [
    {
     "data": {
      "text/html": [
       "<div>\n",
       "<style scoped>\n",
       "    .dataframe tbody tr th:only-of-type {\n",
       "        vertical-align: middle;\n",
       "    }\n",
       "\n",
       "    .dataframe tbody tr th {\n",
       "        vertical-align: top;\n",
       "    }\n",
       "\n",
       "    .dataframe thead th {\n",
       "        text-align: right;\n",
       "    }\n",
       "</style>\n",
       "<table border=\"1\" class=\"dataframe\">\n",
       "  <thead>\n",
       "    <tr style=\"text-align: right;\">\n",
       "      <th></th>\n",
       "      <th>GVKEY</th>\n",
       "      <th>LINKPRIM</th>\n",
       "      <th>LIID</th>\n",
       "      <th>LINKTYPE</th>\n",
       "      <th>LPERMNO</th>\n",
       "      <th>LPERMCO</th>\n",
       "      <th>LINKDT</th>\n",
       "      <th>LINKENDDT</th>\n",
       "      <th>datadate</th>\n",
       "      <th>fyear</th>\n",
       "      <th>...</th>\n",
       "      <th>HIWATER_INCMST_NETINC_TTM_DATE</th>\n",
       "      <th>HIWATER_INCMST_NETINC_TTM</th>\n",
       "      <th>HIWATER_INCMST_NETINC_FY_DATE</th>\n",
       "      <th>HIWATER_INCMST_NETINC_FY</th>\n",
       "      <th>NAME_CHANGE_DATE1</th>\n",
       "      <th>NAME_CHANGE_DATE2</th>\n",
       "      <th>NAME_CHANGE_DATE3</th>\n",
       "      <th>bankrupt_year</th>\n",
       "      <th>cik_ratio</th>\n",
       "      <th>bankrupted</th>\n",
       "    </tr>\n",
       "  </thead>\n",
       "  <tbody>\n",
       "    <tr>\n",
       "      <td>0</td>\n",
       "      <td>1177</td>\n",
       "      <td>P</td>\n",
       "      <td>01</td>\n",
       "      <td>LC</td>\n",
       "      <td>88845.0</td>\n",
       "      <td>41072.0</td>\n",
       "      <td>12/14/2000</td>\n",
       "      <td>11/30/2018</td>\n",
       "      <td>12/31/2000</td>\n",
       "      <td>2000.0</td>\n",
       "      <td>...</td>\n",
       "      <td>NaN</td>\n",
       "      <td>NaN</td>\n",
       "      <td>NaN</td>\n",
       "      <td>NaN</td>\n",
       "      <td>NaN</td>\n",
       "      <td>NaN</td>\n",
       "      <td>NaN</td>\n",
       "      <td>NaN</td>\n",
       "      <td>NaN</td>\n",
       "      <td>0</td>\n",
       "    </tr>\n",
       "    <tr>\n",
       "      <td>1</td>\n",
       "      <td>1177</td>\n",
       "      <td>P</td>\n",
       "      <td>01</td>\n",
       "      <td>LC</td>\n",
       "      <td>88845.0</td>\n",
       "      <td>41072.0</td>\n",
       "      <td>12/14/2000</td>\n",
       "      <td>11/30/2018</td>\n",
       "      <td>12/31/2001</td>\n",
       "      <td>2001.0</td>\n",
       "      <td>...</td>\n",
       "      <td>NaN</td>\n",
       "      <td>NaN</td>\n",
       "      <td>NaN</td>\n",
       "      <td>NaN</td>\n",
       "      <td>NaN</td>\n",
       "      <td>NaN</td>\n",
       "      <td>NaN</td>\n",
       "      <td>NaN</td>\n",
       "      <td>NaN</td>\n",
       "      <td>0</td>\n",
       "    </tr>\n",
       "    <tr>\n",
       "      <td>2</td>\n",
       "      <td>1177</td>\n",
       "      <td>J</td>\n",
       "      <td>03</td>\n",
       "      <td>NR</td>\n",
       "      <td>NaN</td>\n",
       "      <td>NaN</td>\n",
       "      <td>06/29/2001</td>\n",
       "      <td>01/31/2006</td>\n",
       "      <td>12/31/2002</td>\n",
       "      <td>2002.0</td>\n",
       "      <td>...</td>\n",
       "      <td>NaN</td>\n",
       "      <td>NaN</td>\n",
       "      <td>NaN</td>\n",
       "      <td>NaN</td>\n",
       "      <td>NaN</td>\n",
       "      <td>NaN</td>\n",
       "      <td>NaN</td>\n",
       "      <td>NaN</td>\n",
       "      <td>NaN</td>\n",
       "      <td>0</td>\n",
       "    </tr>\n",
       "    <tr>\n",
       "      <td>3</td>\n",
       "      <td>1177</td>\n",
       "      <td>P</td>\n",
       "      <td>01</td>\n",
       "      <td>LC</td>\n",
       "      <td>88845.0</td>\n",
       "      <td>41072.0</td>\n",
       "      <td>12/14/2000</td>\n",
       "      <td>11/30/2018</td>\n",
       "      <td>12/31/2003</td>\n",
       "      <td>2003.0</td>\n",
       "      <td>...</td>\n",
       "      <td>NaN</td>\n",
       "      <td>NaN</td>\n",
       "      <td>NaN</td>\n",
       "      <td>NaN</td>\n",
       "      <td>NaN</td>\n",
       "      <td>NaN</td>\n",
       "      <td>NaN</td>\n",
       "      <td>NaN</td>\n",
       "      <td>NaN</td>\n",
       "      <td>0</td>\n",
       "    </tr>\n",
       "    <tr>\n",
       "      <td>4</td>\n",
       "      <td>1177</td>\n",
       "      <td>P</td>\n",
       "      <td>01</td>\n",
       "      <td>LC</td>\n",
       "      <td>88845.0</td>\n",
       "      <td>41072.0</td>\n",
       "      <td>12/14/2000</td>\n",
       "      <td>11/30/2018</td>\n",
       "      <td>12/31/2004</td>\n",
       "      <td>2004.0</td>\n",
       "      <td>...</td>\n",
       "      <td>NaN</td>\n",
       "      <td>NaN</td>\n",
       "      <td>NaN</td>\n",
       "      <td>NaN</td>\n",
       "      <td>NaN</td>\n",
       "      <td>NaN</td>\n",
       "      <td>NaN</td>\n",
       "      <td>NaN</td>\n",
       "      <td>NaN</td>\n",
       "      <td>0</td>\n",
       "    </tr>\n",
       "  </tbody>\n",
       "</table>\n",
       "<p>5 rows × 1532 columns</p>\n",
       "</div>"
      ],
      "text/plain": [
       "   GVKEY LINKPRIM LIID LINKTYPE  LPERMNO  LPERMCO      LINKDT   LINKENDDT  \\\n",
       "0   1177        P   01       LC  88845.0  41072.0  12/14/2000  11/30/2018   \n",
       "1   1177        P   01       LC  88845.0  41072.0  12/14/2000  11/30/2018   \n",
       "2   1177        J   03       NR      NaN      NaN  06/29/2001  01/31/2006   \n",
       "3   1177        P   01       LC  88845.0  41072.0  12/14/2000  11/30/2018   \n",
       "4   1177        P   01       LC  88845.0  41072.0  12/14/2000  11/30/2018   \n",
       "\n",
       "     datadate   fyear  ... HIWATER_INCMST_NETINC_TTM_DATE  \\\n",
       "0  12/31/2000  2000.0  ...                            NaN   \n",
       "1  12/31/2001  2001.0  ...                            NaN   \n",
       "2  12/31/2002  2002.0  ...                            NaN   \n",
       "3  12/31/2003  2003.0  ...                            NaN   \n",
       "4  12/31/2004  2004.0  ...                            NaN   \n",
       "\n",
       "  HIWATER_INCMST_NETINC_TTM HIWATER_INCMST_NETINC_FY_DATE  \\\n",
       "0                       NaN                           NaN   \n",
       "1                       NaN                           NaN   \n",
       "2                       NaN                           NaN   \n",
       "3                       NaN                           NaN   \n",
       "4                       NaN                           NaN   \n",
       "\n",
       "  HIWATER_INCMST_NETINC_FY NAME_CHANGE_DATE1 NAME_CHANGE_DATE2  \\\n",
       "0                      NaN               NaN               NaN   \n",
       "1                      NaN               NaN               NaN   \n",
       "2                      NaN               NaN               NaN   \n",
       "3                      NaN               NaN               NaN   \n",
       "4                      NaN               NaN               NaN   \n",
       "\n",
       "  NAME_CHANGE_DATE3 bankrupt_year cik_ratio bankrupted  \n",
       "0               NaN           NaN       NaN          0  \n",
       "1               NaN           NaN       NaN          0  \n",
       "2               NaN           NaN       NaN          0  \n",
       "3               NaN           NaN       NaN          0  \n",
       "4               NaN           NaN       NaN          0  \n",
       "\n",
       "[5 rows x 1532 columns]"
      ]
     },
     "execution_count": 31,
     "metadata": {},
     "output_type": "execute_result"
    }
   ],
   "source": [
    "fund_ratio_bank.head()"
   ]
  },
  {
   "cell_type": "code",
   "execution_count": 32,
   "metadata": {},
   "outputs": [
    {
     "data": {
      "text/plain": [
       "747"
      ]
     },
     "execution_count": 32,
     "metadata": {},
     "output_type": "execute_result"
    }
   ],
   "source": [
    "#filter for market cap size (in MM)\n",
    "#recommend using this after creating bankruptcy dummy\n",
    "\n",
    "def market_cap_size(df, lower, upper):\n",
    "    \n",
    "    mask = ((df['mkvalt'] >=lower) & (df['mkvalt'] <=upper))\n",
    "    df =df[mask]\n",
    "    \n",
    "    return df\n",
    "\n",
    "\n",
    "#market cap 500M - 1B\n",
    "df500 = market_cap_size(fund_ratio_bank, 0,1000)\n",
    "\n",
    "df500['GVKEY'].nunique()"
   ]
  },
  {
   "cell_type": "code",
   "execution_count": 33,
   "metadata": {},
   "outputs": [
    {
     "data": {
      "text/plain": [
       "24"
      ]
     },
     "execution_count": 33,
     "metadata": {},
     "output_type": "execute_result"
    }
   ],
   "source": [
    "df500['bankrupted'].sum()"
   ]
  },
  {
   "cell_type": "code",
   "execution_count": 34,
   "metadata": {},
   "outputs": [
    {
     "data": {
      "text/html": [
       "<div>\n",
       "<style scoped>\n",
       "    .dataframe tbody tr th:only-of-type {\n",
       "        vertical-align: middle;\n",
       "    }\n",
       "\n",
       "    .dataframe tbody tr th {\n",
       "        vertical-align: top;\n",
       "    }\n",
       "\n",
       "    .dataframe thead th {\n",
       "        text-align: right;\n",
       "    }\n",
       "</style>\n",
       "<table border=\"1\" class=\"dataframe\">\n",
       "  <thead>\n",
       "    <tr style=\"text-align: right;\">\n",
       "      <th></th>\n",
       "      <th>bankrupted</th>\n",
       "    </tr>\n",
       "    <tr>\n",
       "      <th>year</th>\n",
       "      <th></th>\n",
       "    </tr>\n",
       "  </thead>\n",
       "  <tbody>\n",
       "    <tr>\n",
       "      <td>2000</td>\n",
       "      <td>2</td>\n",
       "    </tr>\n",
       "    <tr>\n",
       "      <td>2001</td>\n",
       "      <td>5</td>\n",
       "    </tr>\n",
       "    <tr>\n",
       "      <td>2002</td>\n",
       "      <td>4</td>\n",
       "    </tr>\n",
       "    <tr>\n",
       "      <td>2003</td>\n",
       "      <td>1</td>\n",
       "    </tr>\n",
       "    <tr>\n",
       "      <td>2004</td>\n",
       "      <td>2</td>\n",
       "    </tr>\n",
       "    <tr>\n",
       "      <td>2005</td>\n",
       "      <td>2</td>\n",
       "    </tr>\n",
       "    <tr>\n",
       "      <td>2006</td>\n",
       "      <td>0</td>\n",
       "    </tr>\n",
       "    <tr>\n",
       "      <td>2007</td>\n",
       "      <td>4</td>\n",
       "    </tr>\n",
       "    <tr>\n",
       "      <td>2008</td>\n",
       "      <td>2</td>\n",
       "    </tr>\n",
       "    <tr>\n",
       "      <td>2009</td>\n",
       "      <td>2</td>\n",
       "    </tr>\n",
       "  </tbody>\n",
       "</table>\n",
       "</div>"
      ],
      "text/plain": [
       "      bankrupted\n",
       "year            \n",
       "2000           2\n",
       "2001           5\n",
       "2002           4\n",
       "2003           1\n",
       "2004           2\n",
       "2005           2\n",
       "2006           0\n",
       "2007           4\n",
       "2008           2\n",
       "2009           2"
      ]
     },
     "execution_count": 34,
     "metadata": {},
     "output_type": "execute_result"
    }
   ],
   "source": [
    "df500.groupby('year')[['bankrupted']].sum()#.plot(kind = 'bar', figsize = (10,5), title = 'Number of Bankruptcies by Year, Companies with Market Cap Less than 1B', color = 'teal')"
   ]
  },
  {
   "cell_type": "code",
   "execution_count": 35,
   "metadata": {},
   "outputs": [
    {
     "data": {
      "text/html": [
       "<div>\n",
       "<style scoped>\n",
       "    .dataframe tbody tr th:only-of-type {\n",
       "        vertical-align: middle;\n",
       "    }\n",
       "\n",
       "    .dataframe tbody tr th {\n",
       "        vertical-align: top;\n",
       "    }\n",
       "\n",
       "    .dataframe thead th {\n",
       "        text-align: right;\n",
       "    }\n",
       "</style>\n",
       "<table border=\"1\" class=\"dataframe\">\n",
       "  <thead>\n",
       "    <tr style=\"text-align: right;\">\n",
       "      <th></th>\n",
       "      <th>GVKEY</th>\n",
       "    </tr>\n",
       "    <tr>\n",
       "      <th>year</th>\n",
       "      <th></th>\n",
       "    </tr>\n",
       "  </thead>\n",
       "  <tbody>\n",
       "    <tr>\n",
       "      <td>2000</td>\n",
       "      <td>480</td>\n",
       "    </tr>\n",
       "    <tr>\n",
       "      <td>2001</td>\n",
       "      <td>459</td>\n",
       "    </tr>\n",
       "    <tr>\n",
       "      <td>2002</td>\n",
       "      <td>441</td>\n",
       "    </tr>\n",
       "    <tr>\n",
       "      <td>2003</td>\n",
       "      <td>399</td>\n",
       "    </tr>\n",
       "    <tr>\n",
       "      <td>2004</td>\n",
       "      <td>405</td>\n",
       "    </tr>\n",
       "    <tr>\n",
       "      <td>2005</td>\n",
       "      <td>395</td>\n",
       "    </tr>\n",
       "    <tr>\n",
       "      <td>2006</td>\n",
       "      <td>387</td>\n",
       "    </tr>\n",
       "    <tr>\n",
       "      <td>2007</td>\n",
       "      <td>371</td>\n",
       "    </tr>\n",
       "    <tr>\n",
       "      <td>2008</td>\n",
       "      <td>364</td>\n",
       "    </tr>\n",
       "    <tr>\n",
       "      <td>2009</td>\n",
       "      <td>327</td>\n",
       "    </tr>\n",
       "  </tbody>\n",
       "</table>\n",
       "</div>"
      ],
      "text/plain": [
       "      GVKEY\n",
       "year       \n",
       "2000    480\n",
       "2001    459\n",
       "2002    441\n",
       "2003    399\n",
       "2004    405\n",
       "2005    395\n",
       "2006    387\n",
       "2007    371\n",
       "2008    364\n",
       "2009    327"
      ]
     },
     "execution_count": 35,
     "metadata": {},
     "output_type": "execute_result"
    }
   ],
   "source": [
    "df500.groupby('year')[['GVKEY']].count()#.plot(kind = 'bar', figsize = (10,5), title = 'Number of Bankruptcies by Year, Companies with Market Cap Less than 1B', color = 'teal')"
   ]
  },
  {
   "cell_type": "code",
   "execution_count": 36,
   "metadata": {},
   "outputs": [
    {
     "data": {
      "text/plain": [
       "<matplotlib.axes._subplots.AxesSubplot at 0x2077ab8b748>"
      ]
     },
     "execution_count": 36,
     "metadata": {},
     "output_type": "execute_result"
    },
    {
     "data": {
      "image/png": "[encoded data removed]",
      "text/plain": [
       "<Figure size 720x432 with 1 Axes>"
      ]
     },
     "metadata": {
      "needs_background": "light"
     },
     "output_type": "display_data"
    }
   ],
   "source": [
    "pd.DataFrame(df500.groupby('year')[['bankrupted']].sum()['bankrupted'] / df500.groupby('year')[['GVKEY']].count()['GVKEY']*100) .plot(kind = 'bar', color = 'teal', legend = False, title = '% Bankrupted Companies by Year', figsize = (10,6))"
   ]
  },
  {
   "cell_type": "code",
   "execution_count": null,
   "metadata": {},
   "outputs": [],
   "source": []
  },
  {
   "cell_type": "code",
   "execution_count": 37,
   "metadata": {},
   "outputs": [],
   "source": [
    "# get list of financial ratio that could be used as input\n",
    "listratio=[]\n",
    "for col in df_fin_ratio.columns: \n",
    "    listratio.append(col) \n"
   ]
  },
  {
   "cell_type": "code",
   "execution_count": 38,
   "metadata": {},
   "outputs": [],
   "source": [
    "#for i in listratio:\n",
    "    #print(i,\"NULL:\",df500[i].isnull().sum())"
   ]
  },
  {
   "cell_type": "code",
   "execution_count": 39,
   "metadata": {},
   "outputs": [
    {
     "data": {
      "text/plain": [
       "21      0.348\n",
       "22      0.314\n",
       "23      0.403\n",
       "24      0.432\n",
       "25      0.435\n",
       "        ...  \n",
       "4899    0.345\n",
       "4900    0.716\n",
       "4901    0.857\n",
       "4902    0.814\n",
       "4903    1.000\n",
       "Name: curr_debt, Length: 4028, dtype: float64"
      ]
     },
     "execution_count": 39,
     "metadata": {},
     "output_type": "execute_result"
    }
   ],
   "source": [
    "df500['curr_debt']"
   ]
  },
  {
   "cell_type": "code",
   "execution_count": 40,
   "metadata": {},
   "outputs": [
    {
     "data": {
      "text/plain": [
       "24"
      ]
     },
     "execution_count": 40,
     "metadata": {},
     "output_type": "execute_result"
    }
   ],
   "source": [
    "df500['bankrupted'].sum()"
   ]
  },
  {
   "cell_type": "code",
   "execution_count": 41,
   "metadata": {},
   "outputs": [],
   "source": [
    "#de_ratio, debt_ebitda, roa, cash_debt, quick_ratio, intcov_ratio"
   ]
  },
  {
   "cell_type": "code",
   "execution_count": 42,
   "metadata": {},
   "outputs": [],
   "source": [
    "df_dataset= df500[['de_ratio', 'debt_ebitda', 'roa', 'cash_debt', 'quick_ratio', 'intcov_ratio','bankrupted','adate']]"
   ]
  },
  {
   "cell_type": "code",
   "execution_count": 43,
   "metadata": {},
   "outputs": [],
   "source": [
    "df_dataset=df_dataset.dropna()"
   ]
  },
  {
   "cell_type": "code",
   "execution_count": 44,
   "metadata": {},
   "outputs": [
    {
     "data": {
      "text/plain": [
       "24"
      ]
     },
     "execution_count": 44,
     "metadata": {},
     "output_type": "execute_result"
    }
   ],
   "source": [
    "df_dataset['bankrupted'].sum()"
   ]
  },
  {
   "cell_type": "code",
   "execution_count": 45,
   "metadata": {},
   "outputs": [],
   "source": [
    "import pandas as pd\n",
    "import numpy as np\n",
    "from sklearn.metrics import accuracy_score\n",
    "\n",
    "from sklearn.model_selection import train_test_split\n",
    "from sklearn.metrics import roc_curve, roc_auc_score, f1_score\n",
    "from sklearn.ensemble import RandomForestClassifier\n",
    "from sklearn.ensemble import RandomForestRegressor\n",
    "from sklearn.linear_model import LogisticRegression, LinearRegression, Lasso\n",
    "from sklearn.model_selection import GridSearchCV\n",
    "\n",
    "import matplotlib.pyplot as plt\n",
    "from sklearn.metrics import classification_report\n",
    "from pandas import Series, DataFrame\n",
    "from sklearn.metrics import confusion_matrix\n",
    "from sklearn.metrics import f1_score,recall_score\n",
    "from sklearn.metrics import auc\n",
    "from sklearn.metrics import mean_squared_error\n",
    "import seaborn as sns\n",
    "\n",
    "#presentation: start w/ abstract"
   ]
  },
  {
   "cell_type": "code",
   "execution_count": 46,
   "metadata": {},
   "outputs": [
    {
     "data": {
      "text/html": [
       "<div>\n",
       "<style scoped>\n",
       "    .dataframe tbody tr th:only-of-type {\n",
       "        vertical-align: middle;\n",
       "    }\n",
       "\n",
       "    .dataframe tbody tr th {\n",
       "        vertical-align: top;\n",
       "    }\n",
       "\n",
       "    .dataframe thead th {\n",
       "        text-align: right;\n",
       "    }\n",
       "</style>\n",
       "<table border=\"1\" class=\"dataframe\">\n",
       "  <thead>\n",
       "    <tr style=\"text-align: right;\">\n",
       "      <th></th>\n",
       "      <th>de_ratio</th>\n",
       "      <th>debt_ebitda</th>\n",
       "      <th>roa</th>\n",
       "      <th>cash_debt</th>\n",
       "      <th>quick_ratio</th>\n",
       "      <th>intcov_ratio</th>\n",
       "      <th>bankrupted</th>\n",
       "      <th>adate</th>\n",
       "    </tr>\n",
       "  </thead>\n",
       "  <tbody>\n",
       "    <tr>\n",
       "      <td>21</td>\n",
       "      <td>0.338</td>\n",
       "      <td>1.333</td>\n",
       "      <td>0.079</td>\n",
       "      <td>0.309</td>\n",
       "      <td>8.660</td>\n",
       "      <td>87.403</td>\n",
       "      <td>0</td>\n",
       "      <td>12/31/2000</td>\n",
       "    </tr>\n",
       "    <tr>\n",
       "      <td>24</td>\n",
       "      <td>0.550</td>\n",
       "      <td>0.565</td>\n",
       "      <td>0.079</td>\n",
       "      <td>0.168</td>\n",
       "      <td>1.420</td>\n",
       "      <td>20.741</td>\n",
       "      <td>0</td>\n",
       "      <td>12/31/2003</td>\n",
       "    </tr>\n",
       "    <tr>\n",
       "      <td>34</td>\n",
       "      <td>0.052</td>\n",
       "      <td>-0.024</td>\n",
       "      <td>-0.910</td>\n",
       "      <td>-9.887</td>\n",
       "      <td>19.707</td>\n",
       "      <td>-4897.000</td>\n",
       "      <td>0</td>\n",
       "      <td>09/30/2000</td>\n",
       "    </tr>\n",
       "    <tr>\n",
       "      <td>39</td>\n",
       "      <td>3.645</td>\n",
       "      <td>-0.664</td>\n",
       "      <td>-0.548</td>\n",
       "      <td>-0.646</td>\n",
       "      <td>2.442</td>\n",
       "      <td>-51.844</td>\n",
       "      <td>0</td>\n",
       "      <td>12/31/2005</td>\n",
       "    </tr>\n",
       "    <tr>\n",
       "      <td>40</td>\n",
       "      <td>-6.914</td>\n",
       "      <td>-1.817</td>\n",
       "      <td>-0.474</td>\n",
       "      <td>-0.327</td>\n",
       "      <td>3.291</td>\n",
       "      <td>-7.686</td>\n",
       "      <td>0</td>\n",
       "      <td>12/31/2006</td>\n",
       "    </tr>\n",
       "    <tr>\n",
       "      <td>...</td>\n",
       "      <td>...</td>\n",
       "      <td>...</td>\n",
       "      <td>...</td>\n",
       "      <td>...</td>\n",
       "      <td>...</td>\n",
       "      <td>...</td>\n",
       "      <td>...</td>\n",
       "      <td>...</td>\n",
       "    </tr>\n",
       "    <tr>\n",
       "      <td>4899</td>\n",
       "      <td>1.558</td>\n",
       "      <td>-0.055</td>\n",
       "      <td>-0.592</td>\n",
       "      <td>-1.178</td>\n",
       "      <td>4.020</td>\n",
       "      <td>-123.510</td>\n",
       "      <td>0</td>\n",
       "      <td>12/31/2006</td>\n",
       "    </tr>\n",
       "    <tr>\n",
       "      <td>4900</td>\n",
       "      <td>0.521</td>\n",
       "      <td>-0.112</td>\n",
       "      <td>-0.305</td>\n",
       "      <td>-0.475</td>\n",
       "      <td>3.875</td>\n",
       "      <td>-75.458</td>\n",
       "      <td>0</td>\n",
       "      <td>12/31/2007</td>\n",
       "    </tr>\n",
       "    <tr>\n",
       "      <td>4901</td>\n",
       "      <td>0.347</td>\n",
       "      <td>-0.111</td>\n",
       "      <td>-0.349</td>\n",
       "      <td>-1.844</td>\n",
       "      <td>4.158</td>\n",
       "      <td>-82.089</td>\n",
       "      <td>0</td>\n",
       "      <td>12/31/2008</td>\n",
       "    </tr>\n",
       "    <tr>\n",
       "      <td>4902</td>\n",
       "      <td>0.263</td>\n",
       "      <td>-0.085</td>\n",
       "      <td>-0.387</td>\n",
       "      <td>-3.509</td>\n",
       "      <td>5.264</td>\n",
       "      <td>-70.815</td>\n",
       "      <td>0</td>\n",
       "      <td>12/31/2009</td>\n",
       "    </tr>\n",
       "    <tr>\n",
       "      <td>4903</td>\n",
       "      <td>0.098</td>\n",
       "      <td>0.000</td>\n",
       "      <td>-0.362</td>\n",
       "      <td>-4.238</td>\n",
       "      <td>9.165</td>\n",
       "      <td>-25.062</td>\n",
       "      <td>0</td>\n",
       "      <td>12/31/2009</td>\n",
       "    </tr>\n",
       "  </tbody>\n",
       "</table>\n",
       "<p>2856 rows × 8 columns</p>\n",
       "</div>"
      ],
      "text/plain": [
       "      de_ratio  debt_ebitda    roa  cash_debt  quick_ratio  intcov_ratio  \\\n",
       "21       0.338        1.333  0.079      0.309        8.660        87.403   \n",
       "24       0.550        0.565  0.079      0.168        1.420        20.741   \n",
       "34       0.052       -0.024 -0.910     -9.887       19.707     -4897.000   \n",
       "39       3.645       -0.664 -0.548     -0.646        2.442       -51.844   \n",
       "40      -6.914       -1.817 -0.474     -0.327        3.291        -7.686   \n",
       "...        ...          ...    ...        ...          ...           ...   \n",
       "4899     1.558       -0.055 -0.592     -1.178        4.020      -123.510   \n",
       "4900     0.521       -0.112 -0.305     -0.475        3.875       -75.458   \n",
       "4901     0.347       -0.111 -0.349     -1.844        4.158       -82.089   \n",
       "4902     0.263       -0.085 -0.387     -3.509        5.264       -70.815   \n",
       "4903     0.098        0.000 -0.362     -4.238        9.165       -25.062   \n",
       "\n",
       "      bankrupted       adate  \n",
       "21             0  12/31/2000  \n",
       "24             0  12/31/2003  \n",
       "34             0  09/30/2000  \n",
       "39             0  12/31/2005  \n",
       "40             0  12/31/2006  \n",
       "...          ...         ...  \n",
       "4899           0  12/31/2006  \n",
       "4900           0  12/31/2007  \n",
       "4901           0  12/31/2008  \n",
       "4902           0  12/31/2009  \n",
       "4903           0  12/31/2009  \n",
       "\n",
       "[2856 rows x 8 columns]"
      ]
     },
     "execution_count": 46,
     "metadata": {},
     "output_type": "execute_result"
    }
   ],
   "source": [
    "df_dataset"
   ]
  },
  {
   "cell_type": "code",
   "execution_count": 47,
   "metadata": {},
   "outputs": [],
   "source": [
    "mask_test = pd.to_datetime(df_dataset['adate']).dt.year >=2007\n",
    "train=df_dataset[~mask_test]\n",
    "test=df_dataset[mask_test]"
   ]
  },
  {
   "cell_type": "code",
   "execution_count": 48,
   "metadata": {},
   "outputs": [
    {
     "data": {
      "text/html": [
       "<div>\n",
       "<style scoped>\n",
       "    .dataframe tbody tr th:only-of-type {\n",
       "        vertical-align: middle;\n",
       "    }\n",
       "\n",
       "    .dataframe tbody tr th {\n",
       "        vertical-align: top;\n",
       "    }\n",
       "\n",
       "    .dataframe thead th {\n",
       "        text-align: right;\n",
       "    }\n",
       "</style>\n",
       "<table border=\"1\" class=\"dataframe\">\n",
       "  <thead>\n",
       "    <tr style=\"text-align: right;\">\n",
       "      <th></th>\n",
       "      <th>de_ratio</th>\n",
       "      <th>debt_ebitda</th>\n",
       "      <th>roa</th>\n",
       "      <th>cash_debt</th>\n",
       "      <th>quick_ratio</th>\n",
       "      <th>intcov_ratio</th>\n",
       "      <th>bankrupted</th>\n",
       "      <th>adate</th>\n",
       "    </tr>\n",
       "  </thead>\n",
       "  <tbody>\n",
       "    <tr>\n",
       "      <td>41</td>\n",
       "      <td>0.274</td>\n",
       "      <td>-0.068</td>\n",
       "      <td>-0.461</td>\n",
       "      <td>-1.142</td>\n",
       "      <td>2.639</td>\n",
       "      <td>-19.547</td>\n",
       "      <td>0</td>\n",
       "      <td>12/31/2007</td>\n",
       "    </tr>\n",
       "    <tr>\n",
       "      <td>42</td>\n",
       "      <td>0.201</td>\n",
       "      <td>-0.020</td>\n",
       "      <td>-0.366</td>\n",
       "      <td>0.576</td>\n",
       "      <td>5.801</td>\n",
       "      <td>-81.324</td>\n",
       "      <td>0</td>\n",
       "      <td>12/31/2008</td>\n",
       "    </tr>\n",
       "    <tr>\n",
       "      <td>43</td>\n",
       "      <td>0.475</td>\n",
       "      <td>-0.017</td>\n",
       "      <td>-0.878</td>\n",
       "      <td>-0.195</td>\n",
       "      <td>3.764</td>\n",
       "      <td>-179.030</td>\n",
       "      <td>0</td>\n",
       "      <td>12/31/2009</td>\n",
       "    </tr>\n",
       "    <tr>\n",
       "      <td>50</td>\n",
       "      <td>-10.548</td>\n",
       "      <td>-8.984</td>\n",
       "      <td>-0.102</td>\n",
       "      <td>-0.114</td>\n",
       "      <td>1.977</td>\n",
       "      <td>-1.347</td>\n",
       "      <td>0</td>\n",
       "      <td>12/31/2007</td>\n",
       "    </tr>\n",
       "    <tr>\n",
       "      <td>51</td>\n",
       "      <td>-3.144</td>\n",
       "      <td>-9.783</td>\n",
       "      <td>-0.090</td>\n",
       "      <td>-0.122</td>\n",
       "      <td>0.135</td>\n",
       "      <td>-0.959</td>\n",
       "      <td>1</td>\n",
       "      <td>12/31/2008</td>\n",
       "    </tr>\n",
       "    <tr>\n",
       "      <td>...</td>\n",
       "      <td>...</td>\n",
       "      <td>...</td>\n",
       "      <td>...</td>\n",
       "      <td>...</td>\n",
       "      <td>...</td>\n",
       "      <td>...</td>\n",
       "      <td>...</td>\n",
       "      <td>...</td>\n",
       "    </tr>\n",
       "    <tr>\n",
       "      <td>4888</td>\n",
       "      <td>0.258</td>\n",
       "      <td>-0.085</td>\n",
       "      <td>-0.474</td>\n",
       "      <td>-2.277</td>\n",
       "      <td>6.248</td>\n",
       "      <td>-112.570</td>\n",
       "      <td>0</td>\n",
       "      <td>12/31/2009</td>\n",
       "    </tr>\n",
       "    <tr>\n",
       "      <td>4900</td>\n",
       "      <td>0.521</td>\n",
       "      <td>-0.112</td>\n",
       "      <td>-0.305</td>\n",
       "      <td>-0.475</td>\n",
       "      <td>3.875</td>\n",
       "      <td>-75.458</td>\n",
       "      <td>0</td>\n",
       "      <td>12/31/2007</td>\n",
       "    </tr>\n",
       "    <tr>\n",
       "      <td>4901</td>\n",
       "      <td>0.347</td>\n",
       "      <td>-0.111</td>\n",
       "      <td>-0.349</td>\n",
       "      <td>-1.844</td>\n",
       "      <td>4.158</td>\n",
       "      <td>-82.089</td>\n",
       "      <td>0</td>\n",
       "      <td>12/31/2008</td>\n",
       "    </tr>\n",
       "    <tr>\n",
       "      <td>4902</td>\n",
       "      <td>0.263</td>\n",
       "      <td>-0.085</td>\n",
       "      <td>-0.387</td>\n",
       "      <td>-3.509</td>\n",
       "      <td>5.264</td>\n",
       "      <td>-70.815</td>\n",
       "      <td>0</td>\n",
       "      <td>12/31/2009</td>\n",
       "    </tr>\n",
       "    <tr>\n",
       "      <td>4903</td>\n",
       "      <td>0.098</td>\n",
       "      <td>0.000</td>\n",
       "      <td>-0.362</td>\n",
       "      <td>-4.238</td>\n",
       "      <td>9.165</td>\n",
       "      <td>-25.062</td>\n",
       "      <td>0</td>\n",
       "      <td>12/31/2009</td>\n",
       "    </tr>\n",
       "  </tbody>\n",
       "</table>\n",
       "<p>754 rows × 8 columns</p>\n",
       "</div>"
      ],
      "text/plain": [
       "      de_ratio  debt_ebitda    roa  cash_debt  quick_ratio  intcov_ratio  \\\n",
       "41       0.274       -0.068 -0.461     -1.142        2.639       -19.547   \n",
       "42       0.201       -0.020 -0.366      0.576        5.801       -81.324   \n",
       "43       0.475       -0.017 -0.878     -0.195        3.764      -179.030   \n",
       "50     -10.548       -8.984 -0.102     -0.114        1.977        -1.347   \n",
       "51      -3.144       -9.783 -0.090     -0.122        0.135        -0.959   \n",
       "...        ...          ...    ...        ...          ...           ...   \n",
       "4888     0.258       -0.085 -0.474     -2.277        6.248      -112.570   \n",
       "4900     0.521       -0.112 -0.305     -0.475        3.875       -75.458   \n",
       "4901     0.347       -0.111 -0.349     -1.844        4.158       -82.089   \n",
       "4902     0.263       -0.085 -0.387     -3.509        5.264       -70.815   \n",
       "4903     0.098        0.000 -0.362     -4.238        9.165       -25.062   \n",
       "\n",
       "      bankrupted       adate  \n",
       "41             0  12/31/2007  \n",
       "42             0  12/31/2008  \n",
       "43             0  12/31/2009  \n",
       "50             0  12/31/2007  \n",
       "51             1  12/31/2008  \n",
       "...          ...         ...  \n",
       "4888           0  12/31/2009  \n",
       "4900           0  12/31/2007  \n",
       "4901           0  12/31/2008  \n",
       "4902           0  12/31/2009  \n",
       "4903           0  12/31/2009  \n",
       "\n",
       "[754 rows x 8 columns]"
      ]
     },
     "execution_count": 48,
     "metadata": {},
     "output_type": "execute_result"
    }
   ],
   "source": [
    "test"
   ]
  },
  {
   "cell_type": "code",
   "execution_count": 49,
   "metadata": {},
   "outputs": [],
   "source": [
    "train= train.drop(columns='adate')\n",
    "test= test.drop(columns='adate')"
   ]
  },
  {
   "cell_type": "code",
   "execution_count": 50,
   "metadata": {},
   "outputs": [],
   "source": [
    "y_train= train['bankrupted']\n",
    "train= train.drop(columns=['bankrupted'])\n"
   ]
  },
  {
   "cell_type": "code",
   "execution_count": 51,
   "metadata": {},
   "outputs": [],
   "source": [
    "x_train= train"
   ]
  },
  {
   "cell_type": "markdown",
   "metadata": {},
   "source": [
    "## Random  Forest"
   ]
  },
  {
   "cell_type": "code",
   "execution_count": 52,
   "metadata": {},
   "outputs": [
    {
     "name": "stderr",
     "output_type": "stream",
     "text": [
      "C:\\Users\\Joseph\\Anaconda3\\lib\\site-packages\\sklearn\\ensemble\\forest.py:245: FutureWarning: The default value of n_estimators will change from 10 in version 0.20 to 100 in 0.22.\n",
      "  \"10 in version 0.20 to 100 in 0.22.\", FutureWarning)\n"
     ]
    }
   ],
   "source": [
    "#random forest\n",
    "from sklearn.ensemble import RandomForestClassifier\n",
    "from sklearn.datasets import make_classification\n",
    "clf = RandomForestClassifier(max_depth=2, random_state=0, class_weight='balanced')\n",
    "\n",
    "rgr=clf.fit(x_train, y_train)"
   ]
  },
  {
   "cell_type": "code",
   "execution_count": 53,
   "metadata": {},
   "outputs": [
    {
     "data": {
      "text/plain": [
       "0.8648905803996194"
      ]
     },
     "execution_count": 53,
     "metadata": {},
     "output_type": "execute_result"
    }
   ],
   "source": [
    "pred_train=rgr.predict(x_train)\n",
    "accuracy_score(pred_train, y_train)"
   ]
  },
  {
   "cell_type": "code",
   "execution_count": 54,
   "metadata": {},
   "outputs": [],
   "source": [
    "y_test= test['bankrupted']\n",
    "test= test.drop(columns=['bankrupted'])\n",
    "x_test= test"
   ]
  },
  {
   "cell_type": "code",
   "execution_count": 55,
   "metadata": {},
   "outputs": [
    {
     "data": {
      "text/plain": [
       "0.8249336870026526"
      ]
     },
     "execution_count": 55,
     "metadata": {},
     "output_type": "execute_result"
    }
   ],
   "source": [
    "pred_test=rgr.predict(x_test)\n",
    "accuracy_score(pred_test, y_test)"
   ]
  },
  {
   "cell_type": "code",
   "execution_count": 56,
   "metadata": {},
   "outputs": [
    {
     "data": {
      "text/plain": [
       "<matplotlib.axes._subplots.AxesSubplot at 0x20715e1c608>"
      ]
     },
     "execution_count": 56,
     "metadata": {},
     "output_type": "execute_result"
    },
    {
     "data": {
      "image/png": "[encoded data removed]",
      "text/plain": [
       "<Figure size 720x720 with 1 Axes>"
      ]
     },
     "metadata": {
      "needs_background": "light"
     },
     "output_type": "display_data"
    }
   ],
   "source": [
    "feat_importances = pd.Series(rgr.feature_importances_, index=x_train.columns)\n",
    "plt.figure(figsize=(10,10)) \n",
    "feat_importances.sort_values().plot(kind='barh',color='teal', title = 'Feature Importances')\n",
    "#feat_importances.sort_values(ascending=False)"
   ]
  },
  {
   "cell_type": "markdown",
   "metadata": {},
   "source": [
    "## Logistic Regression "
   ]
  },
  {
   "cell_type": "code",
   "execution_count": 57,
   "metadata": {},
   "outputs": [
    {
     "name": "stderr",
     "output_type": "stream",
     "text": [
      "C:\\Users\\Joseph\\Anaconda3\\lib\\site-packages\\sklearn\\linear_model\\logistic.py:432: FutureWarning: Default solver will be changed to 'lbfgs' in 0.22. Specify a solver to silence this warning.\n",
      "  FutureWarning)\n"
     ]
    },
    {
     "data": {
      "text/plain": [
       "LogisticRegression(C=100000.0, class_weight='balanced', dual=False,\n",
       "                   fit_intercept=True, intercept_scaling=1, l1_ratio=None,\n",
       "                   max_iter=100, multi_class='warn', n_jobs=None, penalty='l2',\n",
       "                   random_state=None, solver='warn', tol=0.0001, verbose=0,\n",
       "                   warm_start=False)"
      ]
     },
     "execution_count": 57,
     "metadata": {},
     "output_type": "execute_result"
    }
   ],
   "source": [
    "from sklearn.linear_model import LogisticRegression\n",
    "logreg = LogisticRegression(C=1e5,class_weight='balanced')\n",
    "\n",
    "# Create an instance of Logistic Regression Classifier and fit the data.\n",
    "logreg.fit(x_train, y_train)"
   ]
  },
  {
   "cell_type": "code",
   "execution_count": 58,
   "metadata": {},
   "outputs": [],
   "source": [
    "y_pred=logreg.predict(x_test)"
   ]
  },
  {
   "cell_type": "code",
   "execution_count": 59,
   "metadata": {},
   "outputs": [
    {
     "data": {
      "text/plain": [
       "0.5636604774535809"
      ]
     },
     "execution_count": 59,
     "metadata": {},
     "output_type": "execute_result"
    }
   ],
   "source": [
    "accuracy_score(y_pred, y_test)"
   ]
  },
  {
   "cell_type": "code",
   "execution_count": 60,
   "metadata": {},
   "outputs": [],
   "source": [
    "feature_importance = abs(logreg.coef_[0])\n",
    "feature_importance = 100.0 * (feature_importance / feature_importance.max())\n",
    "sorted_idx = np.argsort(feature_importance)\n",
    "pos = np.arange(sorted_idx.shape[0]) + .5"
   ]
  },
  {
   "cell_type": "code",
   "execution_count": 61,
   "metadata": {},
   "outputs": [
    {
     "data": {
      "image/png": "[encoded data removed]",
      "text/plain": [
       "<Figure size 432x288 with 1 Axes>"
      ]
     },
     "metadata": {
      "needs_background": "light"
     },
     "output_type": "display_data"
    }
   ],
   "source": [
    "featfig = plt.figure()\n",
    "featax = featfig.add_subplot(1, 1, 1)\n",
    "featax.barh(pos, feature_importance[sorted_idx], align='center', color= 'teal')\n",
    "featax.set_yticks(pos)\n",
    "featax.set_yticklabels(np.array(x_train.columns)[sorted_idx], fontsize=8)\n",
    "featax.set_xlabel('Relative Feature Importance')\n",
    "\n",
    "plt.tight_layout()   \n",
    "plt.show()"
   ]
  },
  {
   "cell_type": "markdown",
   "metadata": {},
   "source": [
    "## Confusion Matrix"
   ]
  },
  {
   "cell_type": "code",
   "execution_count": 62,
   "metadata": {},
   "outputs": [
    {
     "name": "stdout",
     "output_type": "stream",
     "text": [
      "[[418 328]\n",
      " [  1   7]]\n"
     ]
    }
   ],
   "source": [
    "from sklearn.metrics import confusion_matrix\n",
    "confusion_matrix = confusion_matrix(y_test, y_pred)\n",
    "print(confusion_matrix)"
   ]
  },
  {
   "cell_type": "markdown",
   "metadata": {},
   "source": [
    "## Precision Recall Report "
   ]
  },
  {
   "cell_type": "code",
   "execution_count": 63,
   "metadata": {},
   "outputs": [
    {
     "name": "stdout",
     "output_type": "stream",
     "text": [
      "              precision    recall  f1-score   support\n",
      "\n",
      "           0       1.00      0.56      0.72       746\n",
      "           1       0.02      0.88      0.04         8\n",
      "\n",
      "    accuracy                           0.56       754\n",
      "   macro avg       0.51      0.72      0.38       754\n",
      "weighted avg       0.99      0.56      0.71       754\n",
      "\n"
     ]
    }
   ],
   "source": [
    "from sklearn.metrics import classification_report\n",
    "print(classification_report(y_test, y_pred))"
   ]
  },
  {
   "cell_type": "code",
   "execution_count": 64,
   "metadata": {},
   "outputs": [
    {
     "data": {
      "image/png": "[encoded data removed]",
      "text/plain": [
       "<Figure size 432x288 with 1 Axes>"
      ]
     },
     "metadata": {
      "needs_background": "light"
     },
     "output_type": "display_data"
    }
   ],
   "source": [
    "from sklearn.metrics import roc_auc_score\n",
    "from sklearn.metrics import roc_curve\n",
    "logit_roc_auc = roc_auc_score(y_test, logreg.predict(x_test))\n",
    "fpr, tpr, thresholds = roc_curve(y_test, logreg.predict_proba(x_test)[:,1])\n",
    "plt.figure()\n",
    "plt.plot(fpr, tpr, label='Logistic Regression (area = %0.2f)' % logit_roc_auc)\n",
    "plt.plot([0, 1], [0, 1],'r--')\n",
    "plt.xlim([0.0, 1.0])\n",
    "plt.ylim([0.0, 1.05])\n",
    "plt.xlabel('False Positive Rate')\n",
    "plt.ylabel('True Positive Rate')\n",
    "plt.title('Receiver operating characteristic')\n",
    "plt.legend(loc=\"lower right\")\n",
    "plt.savefig('Log_ROC')\n",
    "plt.show()"
   ]
  },
  {
   "cell_type": "code",
   "execution_count": 65,
   "metadata": {},
   "outputs": [
    {
     "ename": "SyntaxError",
     "evalue": "invalid syntax (<ipython-input-65-828ec4a4fd72>, line 1)",
     "output_type": "error",
     "traceback": [
      "\u001b[1;36m  File \u001b[1;32m\"<ipython-input-65-828ec4a4fd72>\"\u001b[1;36m, line \u001b[1;32m1\u001b[0m\n\u001b[1;33m    a =\u001b[0m\n\u001b[1;37m        ^\u001b[0m\n\u001b[1;31mSyntaxError\u001b[0m\u001b[1;31m:\u001b[0m invalid syntax\n"
     ]
    }
   ],
   "source": [
    "a = "
   ]
  },
  {
   "cell_type": "code",
   "execution_count": null,
   "metadata": {},
   "outputs": [],
   "source": []
  },
  {
   "cell_type": "code",
   "execution_count": null,
   "metadata": {},
   "outputs": [],
   "source": []
  },
  {
   "cell_type": "code",
   "execution_count": null,
   "metadata": {},
   "outputs": [],
   "source": []
  },
  {
   "cell_type": "code",
   "execution_count": null,
   "metadata": {},
   "outputs": [],
   "source": []
  },
  {
   "cell_type": "code",
   "execution_count": null,
   "metadata": {},
   "outputs": [],
   "source": []
  },
  {
   "cell_type": "code",
   "execution_count": null,
   "metadata": {},
   "outputs": [],
   "source": [
    "df_bankrupt.drop_duplicates()"
   ]
  },
  {
   "cell_type": "code",
   "execution_count": null,
   "metadata": {},
   "outputs": [],
   "source": []
  },
  {
   "cell_type": "code",
   "execution_count": null,
   "metadata": {},
   "outputs": [],
   "source": [
    "relevant_columns = df_bankrupt[['COMPANY_FKEY','FILE_DATE']]\n",
    "#list(df_bankrupt.columns)\n",
    "df['cik'][:5]\n",
    "\n",
    "# COMPANY_FKEY is CIK\n",
    "df_bankrupt['COMPANY_FKEY'][:5]\n",
    "\n",
    "df_bankrupt['COMPANY_FKEY'].nunique()\n",
    "\n",
    "#filter for 2000-2010\n",
    "mask = (pd.to_datetime(df_bankrupt['BANK_BEGIN_DATE']).dt.year >1999) &  (pd.to_datetime(df_bankrupt['BANK_BEGIN_DATE']).dt.year < 2011)\n",
    "\n",
    "df_bankrupt_2000 = df_bankrupt[mask]\n",
    "\n",
    "df_bankrupt_2000.head()"
   ]
  },
  {
   "cell_type": "code",
   "execution_count": null,
   "metadata": {},
   "outputs": [],
   "source": [
    "df_merge = pd.merge(df, df_bankrupt_2000, left_on = 'cik', right_on = 'COMPANY_FKEY', suffixes = ('_fundam', '_bank'), how = 'left')\n",
    "df_merge['cik'].nunique()"
   ]
  },
  {
   "cell_type": "code",
   "execution_count": null,
   "metadata": {},
   "outputs": [],
   "source": [
    "# df_merge_11 = df_merge[df_merge['BANKRUPTCY_TYPE']==11]\n",
    "# df_merge_11"
   ]
  },
  {
   "cell_type": "code",
   "execution_count": null,
   "metadata": {},
   "outputs": [],
   "source": [
    "df_merge.head()"
   ]
  },
  {
   "cell_type": "code",
   "execution_count": null,
   "metadata": {},
   "outputs": [],
   "source": [
    "df_test = df_merge[df_merge['cik'] ==815508]"
   ]
  },
  {
   "cell_type": "code",
   "execution_count": null,
   "metadata": {
    "scrolled": true
   },
   "outputs": [],
   "source": [
    "df_test.head()"
   ]
  },
  {
   "cell_type": "code",
   "execution_count": null,
   "metadata": {},
   "outputs": [],
   "source": [
    "mask = pd.to_datetime(df_merge['datadate']).dt.year + 1 == pd.to_datetime(df_merge['BANK_BEGIN_DATE']).dt.year\n",
    "\n",
    "df_merge['bankrupted'] = np.where(mask, 1,0)"
   ]
  },
  {
   "cell_type": "code",
   "execution_count": null,
   "metadata": {},
   "outputs": [],
   "source": [
    "df_merge['bankrupted']"
   ]
  },
  {
   "cell_type": "code",
   "execution_count": null,
   "metadata": {},
   "outputs": [],
   "source": [
    "mask = pd.to_datetime(df_merge['datadate']).dt.year + 1 == pd.to_datetime(df_merge['BANK_BEGIN_DATE']).dt.year\n",
    "df_merge[mask]"
   ]
  },
  {
   "cell_type": "code",
   "execution_count": null,
   "metadata": {},
   "outputs": [],
   "source": [
    "df_merge['cik'].nunique()"
   ]
  },
  {
   "cell_type": "code",
   "execution_count": null,
   "metadata": {},
   "outputs": [],
   "source": [
    "pd.to_datetime(df_merge['datadate']).dt.year + 1"
   ]
  },
  {
   "cell_type": "code",
   "execution_count": null,
   "metadata": {},
   "outputs": [],
   "source": [
    "np.where()"
   ]
  },
  {
   "cell_type": "code",
   "execution_count": null,
   "metadata": {},
   "outputs": [],
   "source": [
    "pd.to_datetime(df_test['BANK_BEGIN_DATE']).dt.year"
   ]
  },
  {
   "cell_type": "code",
   "execution_count": null,
   "metadata": {},
   "outputs": [],
   "source": [
    "df_test['BANK_BEGIN_DATE']"
   ]
  },
  {
   "cell_type": "code",
   "execution_count": null,
   "metadata": {},
   "outputs": [],
   "source": [
    "df_merge.head()"
   ]
  },
  {
   "cell_type": "code",
   "execution_count": null,
   "metadata": {},
   "outputs": [],
   "source": []
  }
 ],
 "metadata": {
  "kernelspec": {
   "display_name": "Python 3",
   "language": "python",
   "name": "python3"
  },
  "language_info": {
   "codemirror_mode": {
    "name": "ipython",
    "version": 3
   },
   "file_extension": ".py",
   "mimetype": "text/x-python",
   "name": "python",
   "nbconvert_exporter": "python",
   "pygments_lexer": "ipython3",
   "version": "3.7.4"
  }
 },
 "nbformat": 4,
 "nbformat_minor": 4
}
